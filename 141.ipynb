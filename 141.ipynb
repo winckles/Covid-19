{
  "nbformat": 4,
  "nbformat_minor": 0,
  "metadata": {
    "kernelspec": {
      "display_name": "Python 3",
      "language": "python",
      "name": "python3"
    },
    "language_info": {
      "codemirror_mode": {
        "name": "ipython",
        "version": 3
      },
      "file_extension": ".py",
      "mimetype": "text/x-python",
      "name": "python",
      "nbconvert_exporter": "python",
      "pygments_lexer": "ipython3",
      "version": "3.8.5"
    },
    "colab": {
      "name": "141.ipynb",
      "provenance": []
    }
  },
  "cells": [
    {
      "cell_type": "markdown",
      "metadata": {
        "id": "a8bkqME5m9d_"
      },
      "source": [
        "# COVID-19 "
      ]
    },
    {
      "cell_type": "markdown",
      "metadata": {
        "id": "z5i82BdIm9d_"
      },
      "source": [
        "----"
      ]
    },
    {
      "cell_type": "markdown",
      "metadata": {
        "id": "_JFpricum9d_"
      },
      "source": [
        "The world is still struggling with one the most rapidly spreading pandemics. There are a lot of people who say that data is the best weapon we can use in this \"Corona Fight\". \n",
        "\n",
        "Imagine that you are one of the best data scientists in your country. The president of your country asked you to analyze the COVID-19 patient-level data of South Korea and prepare your homeland for the next wave of the pandemic. You, as the lead data scientist of your country **have to create and prove a plan of fighting the pandemics in your country** by analyzing the provided data. You must get most important insights using learned data science techniques and present them to the lead of your country."
      ]
    },
    {
      "cell_type": "markdown",
      "metadata": {
        "id": "Uvga-O0Bm9d_"
      },
      "source": [
        "https://www.kaggle.com/kimjihoo/coronavirusdataset/"
      ]
    },
    {
      "cell_type": "markdown",
      "metadata": {
        "id": "4iUabJgym9d_"
      },
      "source": [
        "### Requirements"
      ]
    },
    {
      "cell_type": "markdown",
      "metadata": {
        "id": "aJ64ciUzQL8o"
      },
      "source": [
        "#### Exploratory Data Analysis\n",
        "* [x] Describe the data with basic statistical parameters - mean, median, quantiles, etc. Use parameters that give you the most important statistical insights of the data.\n",
        "* [x] Grouping the data and analyzing the groups - using Pandas aggregate methods.\n",
        "* [x] Work with features - handle missing data if needed, use pandas date APIs.\n",
        "* [x] Manipulate datasets - use joins if needed.\n",
        "* [x] Visualize the data - you can use line, scatter, histogram plots, density plots, regplots, etc.\n",
        "\n",
        "#### Statistical hypothesis testing\n",
        "* [x] Use at least one statistical significance test.\n",
        "* [x] Report p-values.\n",
        "* [x] Use visualizations.\n",
        "\n",
        "#### Modeling\n",
        "* [x] Visualize data with dimensionality reduction algorithms.\n",
        "- [x] Perform cluster analysis.\n",
        "* [x] Use a linear model to explain relationships by correlation and predict new values.\n",
        "\n",
        "#### Presentation\n",
        "* Present the project - the data, methods and results.\n",
        "\n",
        "#### Evaluation Criteria\n",
        "- Code quality\n",
        "- Fulfillment of the idea\n",
        "- Adherence to the requirements\n",
        "- Delivery of the presentation\n",
        "\n",
        "#### Statistical hypothesis testing\n",
        "- Correct statistical test method is used, based on the situation.\n",
        "- Reasoning on chosen statistical significance level.\n",
        "\n",
        "#### Modeling\n",
        "- [x] Both PCA and T-SNE algorithms are used.\n",
        "\n",
        "\n",
        "<div><img width=\"400px\" height=\"auto\" src=\"https://images.unsplash.com/photo-1574515944794-d6dedc7150de?ixlib=rb-1.2.1&ixid=MXwxMjA3fDB8MHxwaG90by1wYWdlfHx8fGVufDB8fHw%3D&auto=format&fit=crop&w=1532&q=80\" /></div>"
      ]
    },
    {
      "cell_type": "markdown",
      "metadata": {
        "id": "1JEdfBPX9BzT"
      },
      "source": [
        "### Getting started"
      ]
    },
    {
      "cell_type": "code",
      "metadata": {
        "id": "FYNfJwgy3cKu"
      },
      "source": [
        "import pandas as pd\n",
        "import numpy as np\n",
        "import scipy.stats as stats\n",
        "import statsmodels.api as sm\n",
        "import math\n",
        "\n",
        "import seaborn as sns\n",
        "import matplotlib.pyplot as plt\n",
        "from matplotlib import pyplot\n",
        "\n",
        "from sklearn.decomposition import PCA\n",
        "from sklearn.manifold import TSNE\n",
        "from sklearn.preprocessing import StandardScaler\n",
        "\n",
        "from sklearn.linear_model import LinearRegression\n",
        "from sklearn.metrics import mean_squared_error, r2_score\n",
        "\n",
        "from sklearn.model_selection import train_test_split\n",
        "from sklearn.metrics import accuracy_score\n",
        "from sklearn.cluster import KMeans"
      ],
      "execution_count": null,
      "outputs": []
    },
    {
      "cell_type": "code",
      "metadata": {
        "id": "iAJDLW-ibiqc"
      },
      "source": [
        "patient = pd.read_csv(\"https://raw.githubusercontent.com/TuringCollegeSubmissions/lcramw-DS.1.4/master/PatientInfo.csv?token=AFU2SI3MJJRN7U6ASU47T4C72HE2G\")\n",
        "region = pd.read_csv(\"https://raw.githubusercontent.com/TuringCollegeSubmissions/lcramw-DS.1.4/master/Region.csv?token=AFU2SIYZDGW7DBUX7RYONTS72HGJU\")\n",
        "search_trend = pd.read_csv(\"https://raw.githubusercontent.com/TuringCollegeSubmissions/lcramw-DS.1.4/master/SearchTrend.csv?token=AFU2SI6XXFGO6I7ZNW6SAUK72HGHU\")\n",
        "weather = pd.read_csv(\"https://raw.githubusercontent.com/TuringCollegeSubmissions/lcramw-DS.1.4/master/Weather.csv?token=AFU2SI7TOYZRPM5GX6JMVOC72HGAU\")"
      ],
      "execution_count": null,
      "outputs": []
    },
    {
      "cell_type": "markdown",
      "metadata": {
        "id": "AxqzrPas9HPY"
      },
      "source": [
        "### EDA"
      ]
    },
    {
      "cell_type": "markdown",
      "metadata": {
        "id": "e3Xx3MeIT8pt"
      },
      "source": [
        "#### Exploring"
      ]
    },
    {
      "cell_type": "code",
      "metadata": {
        "id": "s1zQlF5Q-UfF",
        "colab": {
          "base_uri": "https://localhost:8080/"
        },
        "outputId": "adfbfc42-78fc-45b3-9aed-ebe4340e4b28"
      },
      "source": [
        "patient.shape\n",
        "patient.head(2)"
      ],
      "execution_count": null,
      "outputs": [
        {
          "output_type": "execute_result",
          "data": {
            "text/html": [
              "<div>\n",
              "<style scoped>\n",
              "    .dataframe tbody tr th:only-of-type {\n",
              "        vertical-align: middle;\n",
              "    }\n",
              "\n",
              "    .dataframe tbody tr th {\n",
              "        vertical-align: top;\n",
              "    }\n",
              "\n",
              "    .dataframe thead th {\n",
              "        text-align: right;\n",
              "    }\n",
              "</style>\n",
              "<table border=\"1\" class=\"dataframe\">\n",
              "  <thead>\n",
              "    <tr style=\"text-align: right;\">\n",
              "      <th></th>\n",
              "      <th>patient_id</th>\n",
              "      <th>sex</th>\n",
              "      <th>age</th>\n",
              "      <th>country</th>\n",
              "      <th>province</th>\n",
              "      <th>city</th>\n",
              "      <th>infection_case</th>\n",
              "      <th>infected_by</th>\n",
              "      <th>contact_number</th>\n",
              "      <th>symptom_onset_date</th>\n",
              "      <th>confirmed_date</th>\n",
              "      <th>released_date</th>\n",
              "      <th>deceased_date</th>\n",
              "      <th>state</th>\n",
              "    </tr>\n",
              "  </thead>\n",
              "  <tbody>\n",
              "    <tr>\n",
              "      <th>0</th>\n",
              "      <td>1000000001</td>\n",
              "      <td>male</td>\n",
              "      <td>50s</td>\n",
              "      <td>Korea</td>\n",
              "      <td>Seoul</td>\n",
              "      <td>Gangseo-gu</td>\n",
              "      <td>overseas inflow</td>\n",
              "      <td>NaN</td>\n",
              "      <td>75</td>\n",
              "      <td>2020-01-22</td>\n",
              "      <td>2020-01-23</td>\n",
              "      <td>2020-02-05</td>\n",
              "      <td>NaN</td>\n",
              "      <td>released</td>\n",
              "    </tr>\n",
              "    <tr>\n",
              "      <th>1</th>\n",
              "      <td>1000000002</td>\n",
              "      <td>male</td>\n",
              "      <td>30s</td>\n",
              "      <td>Korea</td>\n",
              "      <td>Seoul</td>\n",
              "      <td>Jungnang-gu</td>\n",
              "      <td>overseas inflow</td>\n",
              "      <td>NaN</td>\n",
              "      <td>31</td>\n",
              "      <td>NaN</td>\n",
              "      <td>2020-01-30</td>\n",
              "      <td>2020-03-02</td>\n",
              "      <td>NaN</td>\n",
              "      <td>released</td>\n",
              "    </tr>\n",
              "  </tbody>\n",
              "</table>\n",
              "</div>"
            ],
            "text/plain": [
              "   patient_id   sex  age  ... released_date deceased_date     state\n",
              "0  1000000001  male  50s  ...    2020-02-05           NaN  released\n",
              "1  1000000002  male  30s  ...    2020-03-02           NaN  released\n",
              "\n",
              "[2 rows x 14 columns]"
            ]
          },
          "metadata": {
            "tags": []
          },
          "execution_count": 207
        }
      ]
    },
    {
      "cell_type": "code",
      "metadata": {
        "colab": {
          "base_uri": "https://localhost:8080/"
        },
        "id": "m5CqE1g0ZGDS",
        "outputId": "232b286a-e332-4f2b-e89c-eae2c9d426dc"
      },
      "source": [
        "patient.info()"
      ],
      "execution_count": null,
      "outputs": [
        {
          "output_type": "stream",
          "text": [
            "<class 'pandas.core.frame.DataFrame'>\n",
            "RangeIndex: 5165 entries, 0 to 5164\n",
            "Data columns (total 14 columns):\n",
            " #   Column              Non-Null Count  Dtype \n",
            "---  ------              --------------  ----- \n",
            " 0   patient_id          5165 non-null   int64 \n",
            " 1   sex                 4043 non-null   object\n",
            " 2   age                 3785 non-null   object\n",
            " 3   country             5165 non-null   object\n",
            " 4   province            5165 non-null   object\n",
            " 5   city                5071 non-null   object\n",
            " 6   infection_case      4246 non-null   object\n",
            " 7   infected_by         1346 non-null   object\n",
            " 8   contact_number      791 non-null    object\n",
            " 9   symptom_onset_date  690 non-null    object\n",
            " 10  confirmed_date      5162 non-null   object\n",
            " 11  released_date       1587 non-null   object\n",
            " 12  deceased_date       66 non-null     object\n",
            " 13  state               5165 non-null   object\n",
            "dtypes: int64(1), object(13)\n",
            "memory usage: 565.0+ KB\n"
          ],
          "name": "stdout"
        }
      ]
    },
    {
      "cell_type": "code",
      "metadata": {
        "colab": {
          "base_uri": "https://localhost:8080/"
        },
        "id": "sVM6a33UeC7r",
        "outputId": "96de464e-8ecc-429f-cbe3-e751e8b7944b"
      },
      "source": [
        "print(\"first Infected date in korea: \", patient['confirmed_date'][0])"
      ],
      "execution_count": null,
      "outputs": [
        {
          "output_type": "stream",
          "text": [
            "first Infected date in korea:  2020-01-23\n"
          ],
          "name": "stdout"
        }
      ]
    },
    {
      "cell_type": "code",
      "metadata": {
        "colab": {
          "base_uri": "https://localhost:8080/"
        },
        "id": "yVATw2MccfKN",
        "outputId": "28909142-fda3-4dac-d406-9d5b2def4aae"
      },
      "source": [
        "region.shape\n",
        "region.head(2)"
      ],
      "execution_count": null,
      "outputs": [
        {
          "output_type": "execute_result",
          "data": {
            "text/html": [
              "<div>\n",
              "<style scoped>\n",
              "    .dataframe tbody tr th:only-of-type {\n",
              "        vertical-align: middle;\n",
              "    }\n",
              "\n",
              "    .dataframe tbody tr th {\n",
              "        vertical-align: top;\n",
              "    }\n",
              "\n",
              "    .dataframe thead th {\n",
              "        text-align: right;\n",
              "    }\n",
              "</style>\n",
              "<table border=\"1\" class=\"dataframe\">\n",
              "  <thead>\n",
              "    <tr style=\"text-align: right;\">\n",
              "      <th></th>\n",
              "      <th>code</th>\n",
              "      <th>province</th>\n",
              "      <th>city</th>\n",
              "      <th>latitude</th>\n",
              "      <th>longitude</th>\n",
              "      <th>elementary_school_count</th>\n",
              "      <th>kindergarten_count</th>\n",
              "      <th>university_count</th>\n",
              "      <th>academy_ratio</th>\n",
              "      <th>elderly_population_ratio</th>\n",
              "      <th>elderly_alone_ratio</th>\n",
              "      <th>nursing_home_count</th>\n",
              "    </tr>\n",
              "  </thead>\n",
              "  <tbody>\n",
              "    <tr>\n",
              "      <th>0</th>\n",
              "      <td>10000</td>\n",
              "      <td>Seoul</td>\n",
              "      <td>Seoul</td>\n",
              "      <td>37.566953</td>\n",
              "      <td>126.977977</td>\n",
              "      <td>607</td>\n",
              "      <td>830</td>\n",
              "      <td>48</td>\n",
              "      <td>1.44</td>\n",
              "      <td>15.38</td>\n",
              "      <td>5.8</td>\n",
              "      <td>22739</td>\n",
              "    </tr>\n",
              "    <tr>\n",
              "      <th>1</th>\n",
              "      <td>10010</td>\n",
              "      <td>Seoul</td>\n",
              "      <td>Gangnam-gu</td>\n",
              "      <td>37.518421</td>\n",
              "      <td>127.047222</td>\n",
              "      <td>33</td>\n",
              "      <td>38</td>\n",
              "      <td>0</td>\n",
              "      <td>4.18</td>\n",
              "      <td>13.17</td>\n",
              "      <td>4.3</td>\n",
              "      <td>3088</td>\n",
              "    </tr>\n",
              "  </tbody>\n",
              "</table>\n",
              "</div>"
            ],
            "text/plain": [
              "    code province  ... elderly_alone_ratio  nursing_home_count\n",
              "0  10000    Seoul  ...                 5.8               22739\n",
              "1  10010    Seoul  ...                 4.3                3088\n",
              "\n",
              "[2 rows x 12 columns]"
            ]
          },
          "metadata": {
            "tags": []
          },
          "execution_count": 211
        }
      ]
    },
    {
      "cell_type": "code",
      "metadata": {
        "colab": {
          "base_uri": "https://localhost:8080/"
        },
        "id": "VR119QXoUHXT",
        "outputId": "982729fc-2907-468f-f9fa-189b9fc8113d"
      },
      "source": [
        "region.info()"
      ],
      "execution_count": null,
      "outputs": [
        {
          "output_type": "stream",
          "text": [
            "<class 'pandas.core.frame.DataFrame'>\n",
            "RangeIndex: 244 entries, 0 to 243\n",
            "Data columns (total 12 columns):\n",
            " #   Column                    Non-Null Count  Dtype  \n",
            "---  ------                    --------------  -----  \n",
            " 0   code                      244 non-null    int64  \n",
            " 1   province                  244 non-null    object \n",
            " 2   city                      244 non-null    object \n",
            " 3   latitude                  244 non-null    float64\n",
            " 4   longitude                 244 non-null    float64\n",
            " 5   elementary_school_count   244 non-null    int64  \n",
            " 6   kindergarten_count        244 non-null    int64  \n",
            " 7   university_count          244 non-null    int64  \n",
            " 8   academy_ratio             244 non-null    float64\n",
            " 9   elderly_population_ratio  244 non-null    float64\n",
            " 10  elderly_alone_ratio       244 non-null    float64\n",
            " 11  nursing_home_count        244 non-null    int64  \n",
            "dtypes: float64(5), int64(5), object(2)\n",
            "memory usage: 23.0+ KB\n"
          ],
          "name": "stdout"
        }
      ]
    },
    {
      "cell_type": "code",
      "metadata": {
        "colab": {
          "base_uri": "https://localhost:8080/"
        },
        "id": "c6eE8y4hUbUZ",
        "outputId": "350810c1-a6da-4f98-b791-3b7fa7ec59af"
      },
      "source": [
        "weather.shape\n",
        "weather.head(2)"
      ],
      "execution_count": null,
      "outputs": [
        {
          "output_type": "execute_result",
          "data": {
            "text/html": [
              "<div>\n",
              "<style scoped>\n",
              "    .dataframe tbody tr th:only-of-type {\n",
              "        vertical-align: middle;\n",
              "    }\n",
              "\n",
              "    .dataframe tbody tr th {\n",
              "        vertical-align: top;\n",
              "    }\n",
              "\n",
              "    .dataframe thead th {\n",
              "        text-align: right;\n",
              "    }\n",
              "</style>\n",
              "<table border=\"1\" class=\"dataframe\">\n",
              "  <thead>\n",
              "    <tr style=\"text-align: right;\">\n",
              "      <th></th>\n",
              "      <th>code</th>\n",
              "      <th>province</th>\n",
              "      <th>date</th>\n",
              "      <th>avg_temp</th>\n",
              "      <th>min_temp</th>\n",
              "      <th>max_temp</th>\n",
              "      <th>precipitation</th>\n",
              "      <th>max_wind_speed</th>\n",
              "      <th>most_wind_direction</th>\n",
              "      <th>avg_relative_humidity</th>\n",
              "    </tr>\n",
              "  </thead>\n",
              "  <tbody>\n",
              "    <tr>\n",
              "      <th>0</th>\n",
              "      <td>10000</td>\n",
              "      <td>Seoul</td>\n",
              "      <td>2016-01-01</td>\n",
              "      <td>1.2</td>\n",
              "      <td>-3.3</td>\n",
              "      <td>4.0</td>\n",
              "      <td>0.0</td>\n",
              "      <td>3.5</td>\n",
              "      <td>90.0</td>\n",
              "      <td>73.0</td>\n",
              "    </tr>\n",
              "    <tr>\n",
              "      <th>1</th>\n",
              "      <td>11000</td>\n",
              "      <td>Busan</td>\n",
              "      <td>2016-01-01</td>\n",
              "      <td>5.3</td>\n",
              "      <td>1.1</td>\n",
              "      <td>10.9</td>\n",
              "      <td>0.0</td>\n",
              "      <td>7.4</td>\n",
              "      <td>340.0</td>\n",
              "      <td>52.1</td>\n",
              "    </tr>\n",
              "  </tbody>\n",
              "</table>\n",
              "</div>"
            ],
            "text/plain": [
              "    code province  ... most_wind_direction  avg_relative_humidity\n",
              "0  10000    Seoul  ...                90.0                   73.0\n",
              "1  11000    Busan  ...               340.0                   52.1\n",
              "\n",
              "[2 rows x 10 columns]"
            ]
          },
          "metadata": {
            "tags": []
          },
          "execution_count": 214
        }
      ]
    },
    {
      "cell_type": "code",
      "metadata": {
        "colab": {
          "base_uri": "https://localhost:8080/"
        },
        "id": "7y98aUPUUbUa",
        "outputId": "a04b8f06-4171-44a7-a56f-1647bbe82220"
      },
      "source": [
        "weather.info()"
      ],
      "execution_count": null,
      "outputs": [
        {
          "output_type": "stream",
          "text": [
            "<class 'pandas.core.frame.DataFrame'>\n",
            "RangeIndex: 26271 entries, 0 to 26270\n",
            "Data columns (total 10 columns):\n",
            " #   Column                 Non-Null Count  Dtype  \n",
            "---  ------                 --------------  -----  \n",
            " 0   code                   26271 non-null  int64  \n",
            " 1   province               26271 non-null  object \n",
            " 2   date                   26271 non-null  object \n",
            " 3   avg_temp               26256 non-null  float64\n",
            " 4   min_temp               26266 non-null  float64\n",
            " 5   max_temp               26268 non-null  float64\n",
            " 6   precipitation          26271 non-null  float64\n",
            " 7   max_wind_speed         26262 non-null  float64\n",
            " 8   most_wind_direction    26242 non-null  float64\n",
            " 9   avg_relative_humidity  26251 non-null  float64\n",
            "dtypes: float64(7), int64(1), object(2)\n",
            "memory usage: 2.0+ MB\n"
          ],
          "name": "stdout"
        }
      ]
    },
    {
      "cell_type": "code",
      "metadata": {
        "colab": {
          "base_uri": "https://localhost:8080/"
        },
        "id": "pXATBM0uYyz2",
        "outputId": "bd3813d7-d179-4a85-e8fc-13d9ec94f8d6"
      },
      "source": [
        "weather.province.value_counts()"
      ],
      "execution_count": null,
      "outputs": [
        {
          "output_type": "execute_result",
          "data": {
            "text/plain": [
              "Gangwon-do           1642\n",
              "Daejeon              1642\n",
              "Gyeongsangnam-do     1642\n",
              "Jeollabuk-do         1642\n",
              "Incheon              1642\n",
              "Jeollanam-do         1642\n",
              "Daegu                1642\n",
              "Busan                1642\n",
              "Ulsan                1642\n",
              "Gyeongsangbuk-do     1642\n",
              "Gwangju              1642\n",
              "Gyeonggi-do          1642\n",
              "Jeju-do              1642\n",
              "Seoul                1642\n",
              "Chungcheongnam-do    1641\n",
              "Chungcheongbuk-do    1613\n",
              "Chunghceongbuk-do      29\n",
              "Name: province, dtype: int64"
            ]
          },
          "metadata": {
            "tags": []
          },
          "execution_count": 217
        }
      ]
    },
    {
      "cell_type": "code",
      "metadata": {
        "colab": {
          "base_uri": "https://localhost:8080/"
        },
        "id": "jrDv8y7JU2Jk",
        "outputId": "0dcf68d7-77e9-4c30-b7ca-4150076fbebc"
      },
      "source": [
        "weather['province'] = weather['province'].str.replace('Chunghceongbuk', 'Chungcheongbuk')\n",
        "\n",
        "weather_grouped = weather.groupby(['province']).mean().round(1)\n",
        "weather_grouped"
      ],
      "execution_count": null,
      "outputs": [
        {
          "output_type": "execute_result",
          "data": {
            "text/html": [
              "<div>\n",
              "<style scoped>\n",
              "    .dataframe tbody tr th:only-of-type {\n",
              "        vertical-align: middle;\n",
              "    }\n",
              "\n",
              "    .dataframe tbody tr th {\n",
              "        vertical-align: top;\n",
              "    }\n",
              "\n",
              "    .dataframe thead th {\n",
              "        text-align: right;\n",
              "    }\n",
              "</style>\n",
              "<table border=\"1\" class=\"dataframe\">\n",
              "  <thead>\n",
              "    <tr style=\"text-align: right;\">\n",
              "      <th></th>\n",
              "      <th>code</th>\n",
              "      <th>avg_temp</th>\n",
              "      <th>min_temp</th>\n",
              "      <th>max_temp</th>\n",
              "      <th>precipitation</th>\n",
              "      <th>max_wind_speed</th>\n",
              "      <th>most_wind_direction</th>\n",
              "      <th>avg_relative_humidity</th>\n",
              "    </tr>\n",
              "    <tr>\n",
              "      <th>province</th>\n",
              "      <th></th>\n",
              "      <th></th>\n",
              "      <th></th>\n",
              "      <th></th>\n",
              "      <th></th>\n",
              "      <th></th>\n",
              "      <th></th>\n",
              "      <th></th>\n",
              "    </tr>\n",
              "  </thead>\n",
              "  <tbody>\n",
              "    <tr>\n",
              "      <th>Busan</th>\n",
              "      <td>11000</td>\n",
              "      <td>15.2</td>\n",
              "      <td>11.9</td>\n",
              "      <td>19.4</td>\n",
              "      <td>1.9</td>\n",
              "      <td>6.4</td>\n",
              "      <td>186.2</td>\n",
              "      <td>62.8</td>\n",
              "    </tr>\n",
              "    <tr>\n",
              "      <th>Chungcheongbuk-do</th>\n",
              "      <td>40000</td>\n",
              "      <td>12.1</td>\n",
              "      <td>6.5</td>\n",
              "      <td>18.4</td>\n",
              "      <td>1.3</td>\n",
              "      <td>3.9</td>\n",
              "      <td>149.3</td>\n",
              "      <td>65.0</td>\n",
              "    </tr>\n",
              "    <tr>\n",
              "      <th>Chungcheongnam-do</th>\n",
              "      <td>41000</td>\n",
              "      <td>12.3</td>\n",
              "      <td>7.3</td>\n",
              "      <td>17.8</td>\n",
              "      <td>1.2</td>\n",
              "      <td>4.8</td>\n",
              "      <td>192.7</td>\n",
              "      <td>75.3</td>\n",
              "    </tr>\n",
              "    <tr>\n",
              "      <th>Daegu</th>\n",
              "      <td>12000</td>\n",
              "      <td>14.3</td>\n",
              "      <td>9.4</td>\n",
              "      <td>19.8</td>\n",
              "      <td>1.3</td>\n",
              "      <td>5.0</td>\n",
              "      <td>208.8</td>\n",
              "      <td>60.3</td>\n",
              "    </tr>\n",
              "    <tr>\n",
              "      <th>Daejeon</th>\n",
              "      <td>15000</td>\n",
              "      <td>13.5</td>\n",
              "      <td>8.7</td>\n",
              "      <td>19.0</td>\n",
              "      <td>1.6</td>\n",
              "      <td>3.9</td>\n",
              "      <td>238.4</td>\n",
              "      <td>68.4</td>\n",
              "    </tr>\n",
              "    <tr>\n",
              "      <th>Gangwon-do</th>\n",
              "      <td>30000</td>\n",
              "      <td>13.9</td>\n",
              "      <td>9.9</td>\n",
              "      <td>18.3</td>\n",
              "      <td>1.5</td>\n",
              "      <td>5.0</td>\n",
              "      <td>234.8</td>\n",
              "      <td>55.6</td>\n",
              "    </tr>\n",
              "    <tr>\n",
              "      <th>Gwangju</th>\n",
              "      <td>13000</td>\n",
              "      <td>14.5</td>\n",
              "      <td>10.2</td>\n",
              "      <td>19.8</td>\n",
              "      <td>1.6</td>\n",
              "      <td>4.1</td>\n",
              "      <td>136.8</td>\n",
              "      <td>69.6</td>\n",
              "    </tr>\n",
              "    <tr>\n",
              "      <th>Gyeonggi-do</th>\n",
              "      <td>20000</td>\n",
              "      <td>12.8</td>\n",
              "      <td>8.0</td>\n",
              "      <td>18.4</td>\n",
              "      <td>1.5</td>\n",
              "      <td>4.5</td>\n",
              "      <td>221.8</td>\n",
              "      <td>68.9</td>\n",
              "    </tr>\n",
              "    <tr>\n",
              "      <th>Gyeongsangbuk-do</th>\n",
              "      <td>60000</td>\n",
              "      <td>13.5</td>\n",
              "      <td>8.8</td>\n",
              "      <td>19.1</td>\n",
              "      <td>1.3</td>\n",
              "      <td>6.1</td>\n",
              "      <td>180.5</td>\n",
              "      <td>62.5</td>\n",
              "    </tr>\n",
              "    <tr>\n",
              "      <th>Gyeongsangnam-do</th>\n",
              "      <td>61000</td>\n",
              "      <td>14.4</td>\n",
              "      <td>10.3</td>\n",
              "      <td>19.4</td>\n",
              "      <td>1.9</td>\n",
              "      <td>4.5</td>\n",
              "      <td>135.8</td>\n",
              "      <td>64.3</td>\n",
              "    </tr>\n",
              "    <tr>\n",
              "      <th>Incheon</th>\n",
              "      <td>14000</td>\n",
              "      <td>12.6</td>\n",
              "      <td>9.4</td>\n",
              "      <td>16.4</td>\n",
              "      <td>1.2</td>\n",
              "      <td>5.8</td>\n",
              "      <td>211.1</td>\n",
              "      <td>67.6</td>\n",
              "    </tr>\n",
              "    <tr>\n",
              "      <th>Jeju-do</th>\n",
              "      <td>70000</td>\n",
              "      <td>16.5</td>\n",
              "      <td>13.8</td>\n",
              "      <td>19.8</td>\n",
              "      <td>1.5</td>\n",
              "      <td>6.2</td>\n",
              "      <td>182.8</td>\n",
              "      <td>69.8</td>\n",
              "    </tr>\n",
              "    <tr>\n",
              "      <th>Jeollabuk-do</th>\n",
              "      <td>50000</td>\n",
              "      <td>13.8</td>\n",
              "      <td>9.4</td>\n",
              "      <td>19.1</td>\n",
              "      <td>1.4</td>\n",
              "      <td>4.3</td>\n",
              "      <td>205.5</td>\n",
              "      <td>71.8</td>\n",
              "    </tr>\n",
              "    <tr>\n",
              "      <th>Jeollanam-do</th>\n",
              "      <td>51000</td>\n",
              "      <td>14.9</td>\n",
              "      <td>11.9</td>\n",
              "      <td>18.5</td>\n",
              "      <td>1.8</td>\n",
              "      <td>8.0</td>\n",
              "      <td>182.5</td>\n",
              "      <td>65.3</td>\n",
              "    </tr>\n",
              "    <tr>\n",
              "      <th>Seoul</th>\n",
              "      <td>10000</td>\n",
              "      <td>13.0</td>\n",
              "      <td>8.8</td>\n",
              "      <td>18.0</td>\n",
              "      <td>1.4</td>\n",
              "      <td>4.5</td>\n",
              "      <td>210.3</td>\n",
              "      <td>57.7</td>\n",
              "    </tr>\n",
              "    <tr>\n",
              "      <th>Ulsan</th>\n",
              "      <td>16000</td>\n",
              "      <td>14.4</td>\n",
              "      <td>10.2</td>\n",
              "      <td>19.2</td>\n",
              "      <td>1.6</td>\n",
              "      <td>4.7</td>\n",
              "      <td>257.1</td>\n",
              "      <td>66.2</td>\n",
              "    </tr>\n",
              "  </tbody>\n",
              "</table>\n",
              "</div>"
            ],
            "text/plain": [
              "                    code  avg_temp  ...  most_wind_direction  avg_relative_humidity\n",
              "province                            ...                                            \n",
              "Busan              11000      15.2  ...                186.2                   62.8\n",
              "Chungcheongbuk-do  40000      12.1  ...                149.3                   65.0\n",
              "Chungcheongnam-do  41000      12.3  ...                192.7                   75.3\n",
              "Daegu              12000      14.3  ...                208.8                   60.3\n",
              "Daejeon            15000      13.5  ...                238.4                   68.4\n",
              "Gangwon-do         30000      13.9  ...                234.8                   55.6\n",
              "Gwangju            13000      14.5  ...                136.8                   69.6\n",
              "Gyeonggi-do        20000      12.8  ...                221.8                   68.9\n",
              "Gyeongsangbuk-do   60000      13.5  ...                180.5                   62.5\n",
              "Gyeongsangnam-do   61000      14.4  ...                135.8                   64.3\n",
              "Incheon            14000      12.6  ...                211.1                   67.6\n",
              "Jeju-do            70000      16.5  ...                182.8                   69.8\n",
              "Jeollabuk-do       50000      13.8  ...                205.5                   71.8\n",
              "Jeollanam-do       51000      14.9  ...                182.5                   65.3\n",
              "Seoul              10000      13.0  ...                210.3                   57.7\n",
              "Ulsan              16000      14.4  ...                257.1                   66.2\n",
              "\n",
              "[16 rows x 8 columns]"
            ]
          },
          "metadata": {
            "tags": []
          },
          "execution_count": 219
        }
      ]
    },
    {
      "cell_type": "code",
      "metadata": {
        "id": "FXKh9sCTxE_T",
        "colab": {
          "base_uri": "https://localhost:8080/"
        },
        "outputId": "0004a45c-311a-45a8-d96d-5dd6e90ad9c0"
      },
      "source": [
        "search_trend.shape\n",
        "search_trend.head(2)"
      ],
      "execution_count": null,
      "outputs": [
        {
          "output_type": "execute_result",
          "data": {
            "text/html": [
              "<div>\n",
              "<style scoped>\n",
              "    .dataframe tbody tr th:only-of-type {\n",
              "        vertical-align: middle;\n",
              "    }\n",
              "\n",
              "    .dataframe tbody tr th {\n",
              "        vertical-align: top;\n",
              "    }\n",
              "\n",
              "    .dataframe thead th {\n",
              "        text-align: right;\n",
              "    }\n",
              "</style>\n",
              "<table border=\"1\" class=\"dataframe\">\n",
              "  <thead>\n",
              "    <tr style=\"text-align: right;\">\n",
              "      <th></th>\n",
              "      <th>date</th>\n",
              "      <th>cold</th>\n",
              "      <th>flu</th>\n",
              "      <th>pneumonia</th>\n",
              "      <th>coronavirus</th>\n",
              "    </tr>\n",
              "  </thead>\n",
              "  <tbody>\n",
              "    <tr>\n",
              "      <th>0</th>\n",
              "      <td>2016-01-01</td>\n",
              "      <td>0.11663</td>\n",
              "      <td>0.05590</td>\n",
              "      <td>0.15726</td>\n",
              "      <td>0.00736</td>\n",
              "    </tr>\n",
              "    <tr>\n",
              "      <th>1</th>\n",
              "      <td>2016-01-02</td>\n",
              "      <td>0.13372</td>\n",
              "      <td>0.17135</td>\n",
              "      <td>0.20826</td>\n",
              "      <td>0.00890</td>\n",
              "    </tr>\n",
              "  </tbody>\n",
              "</table>\n",
              "</div>"
            ],
            "text/plain": [
              "         date     cold      flu  pneumonia  coronavirus\n",
              "0  2016-01-01  0.11663  0.05590    0.15726      0.00736\n",
              "1  2016-01-02  0.13372  0.17135    0.20826      0.00890"
            ]
          },
          "metadata": {
            "tags": []
          },
          "execution_count": 220
        }
      ]
    },
    {
      "cell_type": "code",
      "metadata": {
        "id": "I2rF8y4Dx07Q",
        "colab": {
          "base_uri": "https://localhost:8080/"
        },
        "outputId": "1a1a994f-4ab7-4706-8b4d-9de573a1b835"
      },
      "source": [
        "search_trend.info()"
      ],
      "execution_count": null,
      "outputs": [
        {
          "output_type": "stream",
          "text": [
            "<class 'pandas.core.frame.DataFrame'>\n",
            "RangeIndex: 1642 entries, 0 to 1641\n",
            "Data columns (total 5 columns):\n",
            " #   Column       Non-Null Count  Dtype  \n",
            "---  ------       --------------  -----  \n",
            " 0   date         1642 non-null   object \n",
            " 1   cold         1642 non-null   float64\n",
            " 2   flu          1642 non-null   float64\n",
            " 3   pneumonia    1642 non-null   float64\n",
            " 4   coronavirus  1642 non-null   float64\n",
            "dtypes: float64(4), object(1)\n",
            "memory usage: 64.3+ KB\n"
          ],
          "name": "stdout"
        }
      ]
    },
    {
      "cell_type": "markdown",
      "metadata": {
        "id": "ISz_efBFULum"
      },
      "source": [
        "#### Visualizing"
      ]
    },
    {
      "cell_type": "markdown",
      "metadata": {
        "id": "XN7YgbuFgX25"
      },
      "source": [
        "##### Search trends"
      ]
    },
    {
      "cell_type": "code",
      "metadata": {
        "id": "r6jiCDlIyIu3"
      },
      "source": [
        "# Set date as index\n",
        "search_trend.set_index('date', inplace=True)"
      ],
      "execution_count": null,
      "outputs": []
    },
    {
      "cell_type": "code",
      "metadata": {
        "id": "5QPhY1bV6swU"
      },
      "source": [
        "# Set as day for the plot\n",
        "search_trend = search_trend.asfreq('D', method='pad')"
      ],
      "execution_count": null,
      "outputs": []
    },
    {
      "cell_type": "code",
      "metadata": {
        "id": "kLAGI6BLxZfy",
        "colab": {
          "base_uri": "https://localhost:8080/"
        },
        "outputId": "46b795a7-66e4-4ae5-ddf5-ab778602a7bd"
      },
      "source": [
        "# Plot search_trend\n",
        "plt.figure(figsize=(22,10))\n",
        "plt.plot(search_trend)\n",
        "\n",
        "# Set axis settings and labels\n",
        "plt.ylabel('Relative search volume');\n",
        "plt.xlabel('Date');\n",
        "plt.title('Relative keyword searches in NAVER South-Korea')\n",
        "plt.xlim((pd.to_datetime(\"2020-01-01\"),pd.to_datetime(\"2020-07-01\")))\n",
        "\n",
        "\n",
        "# show a legend on the plot\n",
        "plt.legend(labels=['cold', 'flu', 'pneumonia', 'coronavirus'])"
      ],
      "execution_count": null,
      "outputs": [
        {
          "output_type": "execute_result",
          "data": {
            "text/plain": [
              "<matplotlib.legend.Legend at 0x7f3101c67da0>"
            ]
          },
          "metadata": {
            "tags": []
          },
          "execution_count": 225
        },
        {
          "output_type": "display_data",
          "data": {
            "image/png": "[encoded data removed]",
            "text/plain": [
              "<Figure size 1584x720 with 1 Axes>"
            ]
          },
          "metadata": {
            "tags": []
          }
        }
      ]
    },
    {
      "cell_type": "markdown",
      "metadata": {
        "id": "c9nq6_SSgbO4"
      },
      "source": [
        "##### Provinces"
      ]
    },
    {
      "cell_type": "code",
      "metadata": {
        "id": "HVkCEDTRhBBy"
      },
      "source": [
        "# Select columns from region df\n",
        "region_province = region[['province','city','elementary_school_count','kindergarten_count', 'university_count', 'academy_ratio', 'elderly_population_ratio', 'elderly_alone_ratio', 'nursing_home_count']]"
      ],
      "execution_count": null,
      "outputs": []
    },
    {
      "cell_type": "code",
      "metadata": {
        "id": "hVzaLtjDg6x4"
      },
      "source": [
        "# Merge with weather\n",
        "province = region_province.merge(weather_grouped, how='left', on=['province'])"
      ],
      "execution_count": null,
      "outputs": []
    },
    {
      "cell_type": "code",
      "metadata": {
        "colab": {
          "base_uri": "https://localhost:8080/"
        },
        "id": "rrtueL2qhbux",
        "outputId": "25cfe538-9041-44b5-fe81-e3720ddbe2da"
      },
      "source": [
        "# Check province df\n",
        "province.head()"
      ],
      "execution_count": null,
      "outputs": [
        {
          "output_type": "execute_result",
          "data": {
            "text/html": [
              "<div>\n",
              "<style scoped>\n",
              "    .dataframe tbody tr th:only-of-type {\n",
              "        vertical-align: middle;\n",
              "    }\n",
              "\n",
              "    .dataframe tbody tr th {\n",
              "        vertical-align: top;\n",
              "    }\n",
              "\n",
              "    .dataframe thead th {\n",
              "        text-align: right;\n",
              "    }\n",
              "</style>\n",
              "<table border=\"1\" class=\"dataframe\">\n",
              "  <thead>\n",
              "    <tr style=\"text-align: right;\">\n",
              "      <th></th>\n",
              "      <th>province</th>\n",
              "      <th>city</th>\n",
              "      <th>elementary_school_count</th>\n",
              "      <th>kindergarten_count</th>\n",
              "      <th>university_count</th>\n",
              "      <th>academy_ratio</th>\n",
              "      <th>elderly_population_ratio</th>\n",
              "      <th>elderly_alone_ratio</th>\n",
              "      <th>nursing_home_count</th>\n",
              "      <th>code</th>\n",
              "      <th>avg_temp</th>\n",
              "      <th>min_temp</th>\n",
              "      <th>max_temp</th>\n",
              "      <th>precipitation</th>\n",
              "      <th>max_wind_speed</th>\n",
              "      <th>most_wind_direction</th>\n",
              "      <th>avg_relative_humidity</th>\n",
              "    </tr>\n",
              "  </thead>\n",
              "  <tbody>\n",
              "    <tr>\n",
              "      <th>0</th>\n",
              "      <td>Seoul</td>\n",
              "      <td>Seoul</td>\n",
              "      <td>607</td>\n",
              "      <td>830</td>\n",
              "      <td>48</td>\n",
              "      <td>1.44</td>\n",
              "      <td>15.38</td>\n",
              "      <td>5.8</td>\n",
              "      <td>22739</td>\n",
              "      <td>10000.0</td>\n",
              "      <td>13.0</td>\n",
              "      <td>8.8</td>\n",
              "      <td>18.0</td>\n",
              "      <td>1.4</td>\n",
              "      <td>4.5</td>\n",
              "      <td>210.3</td>\n",
              "      <td>57.7</td>\n",
              "    </tr>\n",
              "    <tr>\n",
              "      <th>1</th>\n",
              "      <td>Seoul</td>\n",
              "      <td>Gangnam-gu</td>\n",
              "      <td>33</td>\n",
              "      <td>38</td>\n",
              "      <td>0</td>\n",
              "      <td>4.18</td>\n",
              "      <td>13.17</td>\n",
              "      <td>4.3</td>\n",
              "      <td>3088</td>\n",
              "      <td>10000.0</td>\n",
              "      <td>13.0</td>\n",
              "      <td>8.8</td>\n",
              "      <td>18.0</td>\n",
              "      <td>1.4</td>\n",
              "      <td>4.5</td>\n",
              "      <td>210.3</td>\n",
              "      <td>57.7</td>\n",
              "    </tr>\n",
              "    <tr>\n",
              "      <th>2</th>\n",
              "      <td>Seoul</td>\n",
              "      <td>Gangdong-gu</td>\n",
              "      <td>27</td>\n",
              "      <td>32</td>\n",
              "      <td>0</td>\n",
              "      <td>1.54</td>\n",
              "      <td>14.55</td>\n",
              "      <td>5.4</td>\n",
              "      <td>1023</td>\n",
              "      <td>10000.0</td>\n",
              "      <td>13.0</td>\n",
              "      <td>8.8</td>\n",
              "      <td>18.0</td>\n",
              "      <td>1.4</td>\n",
              "      <td>4.5</td>\n",
              "      <td>210.3</td>\n",
              "      <td>57.7</td>\n",
              "    </tr>\n",
              "    <tr>\n",
              "      <th>3</th>\n",
              "      <td>Seoul</td>\n",
              "      <td>Gangbuk-gu</td>\n",
              "      <td>14</td>\n",
              "      <td>21</td>\n",
              "      <td>0</td>\n",
              "      <td>0.67</td>\n",
              "      <td>19.49</td>\n",
              "      <td>8.5</td>\n",
              "      <td>628</td>\n",
              "      <td>10000.0</td>\n",
              "      <td>13.0</td>\n",
              "      <td>8.8</td>\n",
              "      <td>18.0</td>\n",
              "      <td>1.4</td>\n",
              "      <td>4.5</td>\n",
              "      <td>210.3</td>\n",
              "      <td>57.7</td>\n",
              "    </tr>\n",
              "    <tr>\n",
              "      <th>4</th>\n",
              "      <td>Seoul</td>\n",
              "      <td>Gangseo-gu</td>\n",
              "      <td>36</td>\n",
              "      <td>56</td>\n",
              "      <td>1</td>\n",
              "      <td>1.17</td>\n",
              "      <td>14.39</td>\n",
              "      <td>5.7</td>\n",
              "      <td>1080</td>\n",
              "      <td>10000.0</td>\n",
              "      <td>13.0</td>\n",
              "      <td>8.8</td>\n",
              "      <td>18.0</td>\n",
              "      <td>1.4</td>\n",
              "      <td>4.5</td>\n",
              "      <td>210.3</td>\n",
              "      <td>57.7</td>\n",
              "    </tr>\n",
              "  </tbody>\n",
              "</table>\n",
              "</div>"
            ],
            "text/plain": [
              "  province         city  ...  most_wind_direction  avg_relative_humidity\n",
              "0    Seoul        Seoul  ...                210.3                   57.7\n",
              "1    Seoul   Gangnam-gu  ...                210.3                   57.7\n",
              "2    Seoul  Gangdong-gu  ...                210.3                   57.7\n",
              "3    Seoul   Gangbuk-gu  ...                210.3                   57.7\n",
              "4    Seoul   Gangseo-gu  ...                210.3                   57.7\n",
              "\n",
              "[5 rows x 17 columns]"
            ]
          },
          "metadata": {
            "tags": []
          },
          "execution_count": 228
        }
      ]
    },
    {
      "cell_type": "code",
      "metadata": {
        "id": "Baj-ziEkjIuA"
      },
      "source": [
        "# Drop korea because it's the total\n",
        "province = province[province.province != 'Korea']"
      ],
      "execution_count": null,
      "outputs": []
    },
    {
      "cell_type": "code",
      "metadata": {
        "colab": {
          "base_uri": "https://localhost:8080/"
        },
        "id": "aeKixJF2v88r",
        "outputId": "8dbaf5cb-b987-4d13-c436-09c79158c222"
      },
      "source": [
        "# Plot the elderly population ratio per province\n",
        "plt.figure(figsize=(10,10))\n",
        "\n",
        "province_sorted = province[['province', 'elderly_population_ratio']].sort_values(by='elderly_population_ratio', ascending=False)\n",
        "sns.set(style=\"whitegrid\")\n",
        "\n",
        "sns.boxplot(data=province_sorted, x='province', y='elderly_population_ratio')\n",
        "plt.xticks(rotation=90)\n",
        "plt.title('Elderly population ratio per province in South-Korea')\n",
        "\n",
        "plt.show()"
      ],
      "execution_count": null,
      "outputs": [
        {
          "output_type": "display_data",
          "data": {
            "image/png": "[encoded data removed]",
            "text/plain": [
              "<Figure size 720x720 with 1 Axes>"
            ]
          },
          "metadata": {
            "tags": []
          }
        }
      ]
    },
    {
      "cell_type": "code",
      "metadata": {
        "colab": {
          "base_uri": "https://localhost:8080/"
        },
        "id": "Ru2CStL5im2y",
        "outputId": "35ed78bd-7ac1-4ed1-f4fe-fe162f2dc162"
      },
      "source": [
        "# Plot the avg temp per province\n",
        "plt.figure(figsize=(10,10))\n",
        "\n",
        "province_sorted_temp = province[['province', 'avg_temp']].sort_values(by='avg_temp', ascending=False)\n",
        "sns.set(style=\"whitegrid\")\n",
        "\n",
        "sns.pointplot(data=province_sorted_temp, x='province', y='avg_temp')\n",
        "plt.xticks(rotation=90)\n",
        "plt.title('Avg temperature per province in South-Korea')\n",
        "\n",
        "plt.show()"
      ],
      "execution_count": null,
      "outputs": [
        {
          "output_type": "display_data",
          "data": {
            "image/png": "[encoded data removed]",
            "text/plain": [
              "<Figure size 720x720 with 1 Axes>"
            ]
          },
          "metadata": {
            "tags": []
          }
        }
      ]
    },
    {
      "cell_type": "code",
      "metadata": {
        "id": "CVZao6xvuKvL"
      },
      "source": [
        "# Groupby province\n",
        "province_df = province.groupby(['province']).mean().round(1)"
      ],
      "execution_count": null,
      "outputs": []
    },
    {
      "cell_type": "code",
      "metadata": {
        "colab": {
          "base_uri": "https://localhost:8080/"
        },
        "id": "gP8MNBSvm8RA",
        "outputId": "f3fa3fd3-df9b-4a52-eff3-f3a3ce7b32a4"
      },
      "source": [
        "# Get the mean, median and standard deviation for the variables\n",
        "province_df.agg(['mean', 'std', 'median']).T"
      ],
      "execution_count": null,
      "outputs": [
        {
          "output_type": "execute_result",
          "data": {
            "text/html": [
              "<div>\n",
              "<style scoped>\n",
              "    .dataframe tbody tr th:only-of-type {\n",
              "        vertical-align: middle;\n",
              "    }\n",
              "\n",
              "    .dataframe tbody tr th {\n",
              "        vertical-align: top;\n",
              "    }\n",
              "\n",
              "    .dataframe thead th {\n",
              "        text-align: right;\n",
              "    }\n",
              "</style>\n",
              "<table border=\"1\" class=\"dataframe\">\n",
              "  <thead>\n",
              "    <tr style=\"text-align: right;\">\n",
              "      <th></th>\n",
              "      <th>mean</th>\n",
              "      <th>std</th>\n",
              "      <th>median</th>\n",
              "    </tr>\n",
              "  </thead>\n",
              "  <tbody>\n",
              "    <tr>\n",
              "      <th>elementary_school_count</th>\n",
              "      <td>51.558824</td>\n",
              "      <td>18.886439</td>\n",
              "      <td>48.00</td>\n",
              "    </tr>\n",
              "    <tr>\n",
              "      <th>kindergarten_count</th>\n",
              "      <td>73.376471</td>\n",
              "      <td>26.891205</td>\n",
              "      <td>66.70</td>\n",
              "    </tr>\n",
              "    <tr>\n",
              "      <th>university_count</th>\n",
              "      <td>2.900000</td>\n",
              "      <td>1.213981</td>\n",
              "      <td>2.60</td>\n",
              "    </tr>\n",
              "    <tr>\n",
              "      <th>academy_ratio</th>\n",
              "      <td>1.417647</td>\n",
              "      <td>0.414179</td>\n",
              "      <td>1.40</td>\n",
              "    </tr>\n",
              "    <tr>\n",
              "      <th>elderly_population_ratio</th>\n",
              "      <td>19.194118</td>\n",
              "      <td>5.894009</td>\n",
              "      <td>17.00</td>\n",
              "    </tr>\n",
              "    <tr>\n",
              "      <th>elderly_alone_ratio</th>\n",
              "      <td>9.529412</td>\n",
              "      <td>4.158690</td>\n",
              "      <td>8.00</td>\n",
              "    </tr>\n",
              "    <tr>\n",
              "      <th>nursing_home_count</th>\n",
              "      <td>762.958824</td>\n",
              "      <td>411.748625</td>\n",
              "      <td>600.30</td>\n",
              "    </tr>\n",
              "    <tr>\n",
              "      <th>code</th>\n",
              "      <td>32125.000000</td>\n",
              "      <td>20978.957712</td>\n",
              "      <td>25000.00</td>\n",
              "    </tr>\n",
              "    <tr>\n",
              "      <th>avg_temp</th>\n",
              "      <td>13.856250</td>\n",
              "      <td>1.162737</td>\n",
              "      <td>13.85</td>\n",
              "    </tr>\n",
              "    <tr>\n",
              "      <th>min_temp</th>\n",
              "      <td>9.656250</td>\n",
              "      <td>1.809961</td>\n",
              "      <td>9.40</td>\n",
              "    </tr>\n",
              "    <tr>\n",
              "      <th>max_temp</th>\n",
              "      <td>18.775000</td>\n",
              "      <td>0.900000</td>\n",
              "      <td>19.05</td>\n",
              "    </tr>\n",
              "    <tr>\n",
              "      <th>precipitation</th>\n",
              "      <td>1.500000</td>\n",
              "      <td>0.225093</td>\n",
              "      <td>1.50</td>\n",
              "    </tr>\n",
              "    <tr>\n",
              "      <th>max_wind_speed</th>\n",
              "      <td>5.106250</td>\n",
              "      <td>1.115628</td>\n",
              "      <td>4.75</td>\n",
              "    </tr>\n",
              "    <tr>\n",
              "      <th>most_wind_direction</th>\n",
              "      <td>195.900000</td>\n",
              "      <td>35.025438</td>\n",
              "      <td>199.10</td>\n",
              "    </tr>\n",
              "    <tr>\n",
              "      <th>avg_relative_humidity</th>\n",
              "      <td>65.693750</td>\n",
              "      <td>5.158872</td>\n",
              "      <td>65.75</td>\n",
              "    </tr>\n",
              "  </tbody>\n",
              "</table>\n",
              "</div>"
            ],
            "text/plain": [
              "                                  mean           std    median\n",
              "elementary_school_count      51.558824     18.886439     48.00\n",
              "kindergarten_count           73.376471     26.891205     66.70\n",
              "university_count              2.900000      1.213981      2.60\n",
              "academy_ratio                 1.417647      0.414179      1.40\n",
              "elderly_population_ratio     19.194118      5.894009     17.00\n",
              "elderly_alone_ratio           9.529412      4.158690      8.00\n",
              "nursing_home_count          762.958824    411.748625    600.30\n",
              "code                      32125.000000  20978.957712  25000.00\n",
              "avg_temp                     13.856250      1.162737     13.85\n",
              "min_temp                      9.656250      1.809961      9.40\n",
              "max_temp                     18.775000      0.900000     19.05\n",
              "precipitation                 1.500000      0.225093      1.50\n",
              "max_wind_speed                5.106250      1.115628      4.75\n",
              "most_wind_direction         195.900000     35.025438    199.10\n",
              "avg_relative_humidity        65.693750      5.158872     65.75"
            ]
          },
          "metadata": {
            "tags": []
          },
          "execution_count": 233
        }
      ]
    },
    {
      "cell_type": "code",
      "metadata": {
        "colab": {
          "base_uri": "https://localhost:8080/"
        },
        "id": "Qrlk_fHVox4H",
        "outputId": "38ce0468-6bae-40ec-8ce2-f692465d7fb3"
      },
      "source": [
        "# Plot provinces with most/least elementary schools\n",
        "fig, ax = plt.subplots(1, 2, sharey=True)\n",
        "\n",
        "province_df.elementary_school_count.nlargest(3).plot(kind='bar', ax=ax[0])\n",
        "province_df.elementary_school_count.nsmallest(3).plot(kind='bar', ax=ax[1])\n",
        "\n",
        "ax[0].set_title('Most elementary schools')\n",
        "ax[1].set_title('Least elementary schools')\n",
        "plt.show()"
      ],
      "execution_count": null,
      "outputs": [
        {
          "output_type": "display_data",
          "data": {
            "image/png": "[encoded data removed]",
            "text/plain": [
              "<Figure size 432x288 with 2 Axes>"
            ]
          },
          "metadata": {
            "tags": []
          }
        }
      ]
    },
    {
      "cell_type": "code",
      "metadata": {
        "colab": {
          "base_uri": "https://localhost:8080/"
        },
        "id": "rIiOpGXdtd6F",
        "outputId": "0dfdd507-592f-454a-d613-6af0c1bfa7f6"
      },
      "source": [
        "# Plot provinces with most/least nursing homes\n",
        "fig, ax = plt.subplots(1, 2, sharey=True)\n",
        "\n",
        "province_df.nursing_home_count.nlargest(3).plot(kind='bar', ax=ax[0])\n",
        "province_df.nursing_home_count.nsmallest(3).plot(kind='bar', ax=ax[1])\n",
        "\n",
        "ax[0].set_title('Most nursing homes')\n",
        "ax[1].set_title('Least nursing homes')\n",
        "plt.show()"
      ],
      "execution_count": null,
      "outputs": [
        {
          "output_type": "display_data",
          "data": {
            "image/png": "[encoded data removed]",
            "text/plain": [
              "<Figure size 432x288 with 2 Axes>"
            ]
          },
          "metadata": {
            "tags": []
          }
        }
      ]
    },
    {
      "cell_type": "code",
      "metadata": {
        "colab": {
          "base_uri": "https://localhost:8080/"
        },
        "id": "G6RSGQxKtsI4",
        "outputId": "60a707cd-7fd4-4ecb-df2a-cdff6671a256"
      },
      "source": [
        "# Plot provinces with most/least universities\n",
        "fig, ax = plt.subplots(1, 2, sharey=True)\n",
        "\n",
        "province_df.university_count.nlargest(3).plot(kind='bar', ax=ax[0])\n",
        "province_df.university_count.nsmallest(3).plot(kind='bar', ax=ax[1])\n",
        "\n",
        "ax[0].set_title('Most universities')\n",
        "ax[1].set_title('Least universities')\n",
        "plt.show()"
      ],
      "execution_count": null,
      "outputs": [
        {
          "output_type": "display_data",
          "data": {
            "image/png": "[encoded data removed]",
            "text/plain": [
              "<Figure size 432x288 with 2 Axes>"
            ]
          },
          "metadata": {
            "tags": []
          }
        }
      ]
    },
    {
      "cell_type": "markdown",
      "metadata": {
        "id": "pynfKya8gwVz"
      },
      "source": [
        "##### Patients"
      ]
    },
    {
      "cell_type": "code",
      "metadata": {
        "id": "5ku7BbOCdRMp"
      },
      "source": [
        "# Get aggregated states\n",
        "agg = patient[['state','patient_id']].groupby('state').count().reset_index().sort_values(by = 'patient_id')"
      ],
      "execution_count": null,
      "outputs": []
    },
    {
      "cell_type": "code",
      "metadata": {
        "colab": {
          "base_uri": "https://localhost:8080/"
        },
        "id": "zEYYykPCc1qH",
        "outputId": "317f52a6-ef62-4c8a-9eb0-06cc4ed15f95"
      },
      "source": [
        "# Plot the aggregated states\n",
        "plt.bar(x=list(agg['state']), height=list(agg['patient_id']))\n",
        "plt.show()"
      ],
      "execution_count": null,
      "outputs": [
        {
          "output_type": "display_data",
          "data": {
            "image/png": "[encoded data removed]",
            "text/plain": [
              "<Figure size 432x288 with 1 Axes>"
            ]
          },
          "metadata": {
            "tags": []
          }
        }
      ]
    },
    {
      "cell_type": "code",
      "metadata": {
        "id": "ivhkZo8dvDy9"
      },
      "source": [
        "# Drop NaN\n",
        "patient.dropna(subset=['infection_case'], inplace=True)"
      ],
      "execution_count": null,
      "outputs": []
    },
    {
      "cell_type": "code",
      "metadata": {
        "id": "kqV_Lrrau2v6"
      },
      "source": [
        "# Aggregate/group some infection cases\n",
        "patient.loc[patient['infection_case'].str.contains('church', case=False), 'infection_case'] = 'church'\n",
        "patient.loc[patient['infection_case'].str.contains('nursing home', case=False), 'infection_case'] = 'nursing home'\n",
        "patient.loc[patient['infection_case'].str.contains('hospital', case=False), 'infection_case'] = 'hospital'\n",
        "patient.loc[patient['infection_case'].str.contains('gym', case=False), 'infection_case'] = 'gym'\n",
        "patient.loc[patient['infection_case'].str.contains('town', case=False), 'infection_case'] = 'town'\n",
        "patient.loc[patient['infection_case'].str.contains('center', case=False), 'infection_case'] = 'center'\n",
        "patient.loc[patient['infection_case'].str.contains('club', case=False), 'infection_case'] = 'club'"
      ],
      "execution_count": null,
      "outputs": []
    },
    {
      "cell_type": "code",
      "metadata": {
        "colab": {
          "base_uri": "https://localhost:8080/"
        },
        "id": "FR6Ls_HMwvYE",
        "outputId": "c45822be-0d85-4d62-a0de-3fe7ae9185b4"
      },
      "source": [
        "# Plot infection cases\n",
        "patient.infection_case.value_counts().nlargest(5).plot(kind='bar')\n",
        "plt.title('Most infection cases')\n",
        "plt.show()"
      ],
      "execution_count": null,
      "outputs": [
        {
          "output_type": "display_data",
          "data": {
            "image/png": "[encoded data removed]",
            "text/plain": [
              "<Figure size 432x288 with 1 Axes>"
            ]
          },
          "metadata": {
            "tags": []
          }
        }
      ]
    },
    {
      "cell_type": "code",
      "metadata": {
        "colab": {
          "base_uri": "https://localhost:8080/"
        },
        "id": "UAZN0cdnghl-",
        "outputId": "ca74ccaf-1eff-44b7-cef4-561a15ce8c94"
      },
      "source": [
        "# Get % of gender\n",
        "sizes = patient.sex.value_counts(normalize=True).tolist()\n",
        "\n",
        "# Pie chart\n",
        "labels = 'Female', 'Male'\n",
        "\n",
        "plt.pie(sizes, labels=labels, autopct='%1.1f%%', startangle=90, colors=['lightcoral', 'lightskyblue'])\n",
        "plt.axis('equal') \n",
        "plt.title('% of men/women in the patient data', loc='center')\n",
        "\n",
        "plt.show()"
      ],
      "execution_count": null,
      "outputs": [
        {
          "output_type": "display_data",
          "data": {
            "image/png": "[encoded data removed]",
            "text/plain": [
              "<Figure size 432x288 with 1 Axes>"
            ]
          },
          "metadata": {
            "tags": []
          }
        }
      ]
    },
    {
      "cell_type": "code",
      "metadata": {
        "colab": {
          "base_uri": "https://localhost:8080/"
        },
        "id": "AXE5ex08g-cs",
        "outputId": "abfafaa7-ad0f-410c-e4ec-f1cfd9ae3ad8"
      },
      "source": [
        "# Get gender counts per state\n",
        "gender = patient.groupby('sex')\n",
        "gender.state.value_counts()"
      ],
      "execution_count": null,
      "outputs": [
        {
          "output_type": "execute_result",
          "data": {
            "text/plain": [
              "sex     state   \n",
              "female  released    997\n",
              "        isolated    704\n",
              "        deceased     12\n",
              "male    released    875\n",
              "        isolated    600\n",
              "        deceased     23\n",
              "Name: state, dtype: int64"
            ]
          },
          "metadata": {
            "tags": []
          },
          "execution_count": 243
        }
      ]
    },
    {
      "cell_type": "code",
      "metadata": {
        "colab": {
          "base_uri": "https://localhost:8080/"
        },
        "id": "dfT_H1yzl_Y3",
        "outputId": "ec5e600d-1d23-433b-944d-0ceb82ed18d1"
      },
      "source": [
        "# Set counts per state in list\n",
        "states_list = gender.state.value_counts(normalize=True).tolist()\n",
        "\n",
        "# Pie chart\n",
        "labels = 'released', 'isolated', 'deceased'\n",
        "colors = ['lightcoral', 'moccasin', 'plum']\n",
        "colors_male = ['lightskyblue', 'yellowgreen', 'seagreen']\n",
        "\n",
        "fig, ax = plt.subplots(1, 2)\n",
        "ax[0].pie(states_list[0:3], labels=labels, autopct='%1.1f%%', startangle=90, colors=colors)\n",
        "ax[0].axis('equal') \n",
        "ax[0].set_title('Female state %')\n",
        "\n",
        "ax[1].pie(states_list[3:6], labels=labels, autopct='%1.1f%%', startangle=90, colors=colors_male)\n",
        "ax[1].axis('equal') \n",
        "ax[1].set_title('Male state %')\n",
        "\n",
        "plt.show()"
      ],
      "execution_count": null,
      "outputs": [
        {
          "output_type": "display_data",
          "data": {
            "image/png": "[encoded data removed]",
            "text/plain": [
              "<Figure size 432x288 with 2 Axes>"
            ]
          },
          "metadata": {
            "tags": []
          }
        }
      ]
    },
    {
      "cell_type": "markdown",
      "metadata": {
        "id": "aIW8TW-dWZDT"
      },
      "source": [
        "#### Merging"
      ]
    },
    {
      "cell_type": "code",
      "metadata": {
        "id": "vt_1wskRcrGY"
      },
      "source": [
        "# Create full features DF\n",
        "full_features_df = patient.merge(region, how='left', on=['province', 'city'])"
      ],
      "execution_count": null,
      "outputs": []
    },
    {
      "cell_type": "code",
      "metadata": {
        "id": "xS6u1PPsfLyl"
      },
      "source": [
        "# Drop unneccesary columns\n",
        "full_features_df.drop(columns=['patient_id', 'confirmed_date', 'contact_number', 'infected_by', 'latitude', 'longitude', 'code', 'deceased_date', 'symptom_onset_date', 'released_date'], inplace=True)"
      ],
      "execution_count": null,
      "outputs": []
    },
    {
      "cell_type": "code",
      "metadata": {
        "colab": {
          "base_uri": "https://localhost:8080/"
        },
        "id": "nUjl9N3pfLMD",
        "outputId": "3e5a139e-3ed5-4064-b661-1cf21ca4605f"
      },
      "source": [
        "# Reset index and view the head of full_features_df\n",
        "full_features_df = full_features_df.reset_index(drop=True)\n",
        "full_features_df.head()"
      ],
      "execution_count": null,
      "outputs": [
        {
          "output_type": "execute_result",
          "data": {
            "text/html": [
              "<div>\n",
              "<style scoped>\n",
              "    .dataframe tbody tr th:only-of-type {\n",
              "        vertical-align: middle;\n",
              "    }\n",
              "\n",
              "    .dataframe tbody tr th {\n",
              "        vertical-align: top;\n",
              "    }\n",
              "\n",
              "    .dataframe thead th {\n",
              "        text-align: right;\n",
              "    }\n",
              "</style>\n",
              "<table border=\"1\" class=\"dataframe\">\n",
              "  <thead>\n",
              "    <tr style=\"text-align: right;\">\n",
              "      <th></th>\n",
              "      <th>sex</th>\n",
              "      <th>age</th>\n",
              "      <th>country</th>\n",
              "      <th>province</th>\n",
              "      <th>city</th>\n",
              "      <th>infection_case</th>\n",
              "      <th>state</th>\n",
              "      <th>elementary_school_count</th>\n",
              "      <th>kindergarten_count</th>\n",
              "      <th>university_count</th>\n",
              "      <th>academy_ratio</th>\n",
              "      <th>elderly_population_ratio</th>\n",
              "      <th>elderly_alone_ratio</th>\n",
              "      <th>nursing_home_count</th>\n",
              "    </tr>\n",
              "  </thead>\n",
              "  <tbody>\n",
              "    <tr>\n",
              "      <th>0</th>\n",
              "      <td>male</td>\n",
              "      <td>50s</td>\n",
              "      <td>Korea</td>\n",
              "      <td>Seoul</td>\n",
              "      <td>Gangseo-gu</td>\n",
              "      <td>overseas inflow</td>\n",
              "      <td>released</td>\n",
              "      <td>36.0</td>\n",
              "      <td>56.0</td>\n",
              "      <td>1.0</td>\n",
              "      <td>1.17</td>\n",
              "      <td>14.39</td>\n",
              "      <td>5.7</td>\n",
              "      <td>1080.0</td>\n",
              "    </tr>\n",
              "    <tr>\n",
              "      <th>1</th>\n",
              "      <td>male</td>\n",
              "      <td>30s</td>\n",
              "      <td>Korea</td>\n",
              "      <td>Seoul</td>\n",
              "      <td>Jungnang-gu</td>\n",
              "      <td>overseas inflow</td>\n",
              "      <td>released</td>\n",
              "      <td>23.0</td>\n",
              "      <td>31.0</td>\n",
              "      <td>1.0</td>\n",
              "      <td>0.70</td>\n",
              "      <td>16.65</td>\n",
              "      <td>6.9</td>\n",
              "      <td>689.0</td>\n",
              "    </tr>\n",
              "    <tr>\n",
              "      <th>2</th>\n",
              "      <td>male</td>\n",
              "      <td>50s</td>\n",
              "      <td>Korea</td>\n",
              "      <td>Seoul</td>\n",
              "      <td>Jongno-gu</td>\n",
              "      <td>contact with patient</td>\n",
              "      <td>released</td>\n",
              "      <td>13.0</td>\n",
              "      <td>17.0</td>\n",
              "      <td>3.0</td>\n",
              "      <td>1.71</td>\n",
              "      <td>18.27</td>\n",
              "      <td>6.8</td>\n",
              "      <td>668.0</td>\n",
              "    </tr>\n",
              "    <tr>\n",
              "      <th>3</th>\n",
              "      <td>male</td>\n",
              "      <td>20s</td>\n",
              "      <td>Korea</td>\n",
              "      <td>Seoul</td>\n",
              "      <td>Mapo-gu</td>\n",
              "      <td>overseas inflow</td>\n",
              "      <td>released</td>\n",
              "      <td>22.0</td>\n",
              "      <td>24.0</td>\n",
              "      <td>2.0</td>\n",
              "      <td>1.83</td>\n",
              "      <td>14.05</td>\n",
              "      <td>4.9</td>\n",
              "      <td>929.0</td>\n",
              "    </tr>\n",
              "    <tr>\n",
              "      <th>4</th>\n",
              "      <td>female</td>\n",
              "      <td>20s</td>\n",
              "      <td>Korea</td>\n",
              "      <td>Seoul</td>\n",
              "      <td>Seongbuk-gu</td>\n",
              "      <td>contact with patient</td>\n",
              "      <td>released</td>\n",
              "      <td>29.0</td>\n",
              "      <td>49.0</td>\n",
              "      <td>6.0</td>\n",
              "      <td>1.02</td>\n",
              "      <td>16.15</td>\n",
              "      <td>6.0</td>\n",
              "      <td>729.0</td>\n",
              "    </tr>\n",
              "  </tbody>\n",
              "</table>\n",
              "</div>"
            ],
            "text/plain": [
              "      sex  age  ... elderly_alone_ratio nursing_home_count\n",
              "0    male  50s  ...                 5.7             1080.0\n",
              "1    male  30s  ...                 6.9              689.0\n",
              "2    male  50s  ...                 6.8              668.0\n",
              "3    male  20s  ...                 4.9              929.0\n",
              "4  female  20s  ...                 6.0              729.0\n",
              "\n",
              "[5 rows x 14 columns]"
            ]
          },
          "metadata": {
            "tags": []
          },
          "execution_count": 247
        }
      ]
    },
    {
      "cell_type": "code",
      "metadata": {
        "id": "vO8mE7YJOVXQ"
      },
      "source": [
        "# Remove s' from age \n",
        "full_features_df['age'] = full_features_df['age'].str.replace('s', '')\n",
        "\n",
        "# Set as float to handle NaN\n",
        "full_features_df['age'] = full_features_df['age'].astype(float)"
      ],
      "execution_count": null,
      "outputs": []
    },
    {
      "cell_type": "code",
      "metadata": {
        "colab": {
          "base_uri": "https://localhost:8080/"
        },
        "id": "Z4n-r0JdSeRC",
        "outputId": "158eaffc-2ec0-4cbd-a08d-b261538ccb91"
      },
      "source": [
        "# Check the info\n",
        "full_features_df.info()"
      ],
      "execution_count": null,
      "outputs": [
        {
          "output_type": "stream",
          "text": [
            "<class 'pandas.core.frame.DataFrame'>\n",
            "RangeIndex: 4246 entries, 0 to 4245\n",
            "Data columns (total 14 columns):\n",
            " #   Column                    Non-Null Count  Dtype  \n",
            "---  ------                    --------------  -----  \n",
            " 0   sex                       3211 non-null   object \n",
            " 1   age                       2958 non-null   float64\n",
            " 2   country                   4246 non-null   object \n",
            " 3   province                  4246 non-null   object \n",
            " 4   city                      4190 non-null   object \n",
            " 5   infection_case            4246 non-null   object \n",
            " 6   state                     4246 non-null   object \n",
            " 7   elementary_school_count   4085 non-null   float64\n",
            " 8   kindergarten_count        4085 non-null   float64\n",
            " 9   university_count          4085 non-null   float64\n",
            " 10  academy_ratio             4085 non-null   float64\n",
            " 11  elderly_population_ratio  4085 non-null   float64\n",
            " 12  elderly_alone_ratio       4085 non-null   float64\n",
            " 13  nursing_home_count        4085 non-null   float64\n",
            "dtypes: float64(8), object(6)\n",
            "memory usage: 464.5+ KB\n"
          ],
          "name": "stdout"
        }
      ]
    },
    {
      "cell_type": "code",
      "metadata": {
        "colab": {
          "base_uri": "https://localhost:8080/"
        },
        "id": "iyXak1T5o8MU",
        "outputId": "87e6410a-4fa2-4801-8967-29862628110b"
      },
      "source": [
        "# Get the mean age per state\n",
        "grouped_age = full_features_df.groupby('state').mean()\n",
        "grouped_age.age"
      ],
      "execution_count": null,
      "outputs": [
        {
          "output_type": "execute_result",
          "data": {
            "text/plain": [
              "state\n",
              "deceased    67.714286\n",
              "isolated    40.740394\n",
              "released    38.545259\n",
              "Name: age, dtype: float64"
            ]
          },
          "metadata": {
            "tags": []
          },
          "execution_count": 250
        }
      ]
    },
    {
      "cell_type": "code",
      "metadata": {
        "colab": {
          "base_uri": "https://localhost:8080/"
        },
        "id": "WY6g2DIB52rD",
        "outputId": "7f488aca-ac41-455d-a7ee-b55b37cb2bb3"
      },
      "source": [
        "# Get the mean age per state\n",
        "grouped_age"
      ],
      "execution_count": null,
      "outputs": [
        {
          "output_type": "execute_result",
          "data": {
            "text/html": [
              "<div>\n",
              "<style scoped>\n",
              "    .dataframe tbody tr th:only-of-type {\n",
              "        vertical-align: middle;\n",
              "    }\n",
              "\n",
              "    .dataframe tbody tr th {\n",
              "        vertical-align: top;\n",
              "    }\n",
              "\n",
              "    .dataframe thead th {\n",
              "        text-align: right;\n",
              "    }\n",
              "</style>\n",
              "<table border=\"1\" class=\"dataframe\">\n",
              "  <thead>\n",
              "    <tr style=\"text-align: right;\">\n",
              "      <th></th>\n",
              "      <th>age</th>\n",
              "      <th>elementary_school_count</th>\n",
              "      <th>kindergarten_count</th>\n",
              "      <th>university_count</th>\n",
              "      <th>academy_ratio</th>\n",
              "      <th>elderly_population_ratio</th>\n",
              "      <th>elderly_alone_ratio</th>\n",
              "      <th>nursing_home_count</th>\n",
              "    </tr>\n",
              "    <tr>\n",
              "      <th>state</th>\n",
              "      <th></th>\n",
              "      <th></th>\n",
              "      <th></th>\n",
              "      <th></th>\n",
              "      <th></th>\n",
              "      <th></th>\n",
              "      <th></th>\n",
              "      <th></th>\n",
              "    </tr>\n",
              "  </thead>\n",
              "  <tbody>\n",
              "    <tr>\n",
              "      <th>deceased</th>\n",
              "      <td>67.714286</td>\n",
              "      <td>23.393939</td>\n",
              "      <td>37.030303</td>\n",
              "      <td>3.484848</td>\n",
              "      <td>1.185152</td>\n",
              "      <td>23.222121</td>\n",
              "      <td>11.875758</td>\n",
              "      <td>379.242424</td>\n",
              "    </tr>\n",
              "    <tr>\n",
              "      <th>isolated</th>\n",
              "      <td>40.740394</td>\n",
              "      <td>48.324510</td>\n",
              "      <td>84.629963</td>\n",
              "      <td>2.470619</td>\n",
              "      <td>1.500392</td>\n",
              "      <td>14.152594</td>\n",
              "      <td>6.028163</td>\n",
              "      <td>991.268925</td>\n",
              "    </tr>\n",
              "    <tr>\n",
              "      <th>released</th>\n",
              "      <td>38.545259</td>\n",
              "      <td>34.539991</td>\n",
              "      <td>51.870550</td>\n",
              "      <td>2.598243</td>\n",
              "      <td>1.523967</td>\n",
              "      <td>16.398978</td>\n",
              "      <td>7.257097</td>\n",
              "      <td>771.482663</td>\n",
              "    </tr>\n",
              "  </tbody>\n",
              "</table>\n",
              "</div>"
            ],
            "text/plain": [
              "                age  ...  nursing_home_count\n",
              "state                ...                    \n",
              "deceased  67.714286  ...          379.242424\n",
              "isolated  40.740394  ...          991.268925\n",
              "released  38.545259  ...          771.482663\n",
              "\n",
              "[3 rows x 8 columns]"
            ]
          },
          "metadata": {
            "tags": []
          },
          "execution_count": 251
        }
      ]
    },
    {
      "cell_type": "code",
      "metadata": {
        "colab": {
          "base_uri": "https://localhost:8080/"
        },
        "id": "XvwxbTdgpnQY",
        "outputId": "8e2be276-c252-4890-a865-720fe8e92ab2"
      },
      "source": [
        "# Create dataframes for each state\n",
        "deceased = full_features_df.query('state == \"deceased\"')\n",
        "isolated = full_features_df.query('state == \"isolated\"')\n",
        "released = full_features_df.query('state == \"released\"')\n",
        "\n",
        "print(f'{deceased.shape}, {isolated.shape}, {released.shape}')"
      ],
      "execution_count": null,
      "outputs": [
        {
          "output_type": "stream",
          "text": [
            "(36, 14), (1958, 14), (2252, 14)\n"
          ],
          "name": "stdout"
        }
      ]
    },
    {
      "cell_type": "code",
      "metadata": {
        "colab": {
          "base_uri": "https://localhost:8080/"
        },
        "id": "1rTAcoAfuPTX",
        "outputId": "522fbf12-7920-436d-8e4c-10e763fb6595"
      },
      "source": [
        "# Impute age based on age state mean\n",
        "deceased.age = deceased.loc[:, 'age'].transform(lambda x: x.fillna(x.mean()))\n",
        "isolated.age = isolated.loc[:, 'age'].transform(lambda x: x.fillna(x.mean()))\n",
        "released.age = released.loc[:, 'age'].transform(lambda x: x.fillna(x.mean()))"
      ],
      "execution_count": null,
      "outputs": [
        {
          "output_type": "stream",
          "text": [
            "/usr/local/lib/python3.6/dist-packages/pandas/core/generic.py:5168: SettingWithCopyWarning: \n",
            "A value is trying to be set on a copy of a slice from a DataFrame.\n",
            "Try using .loc[row_indexer,col_indexer] = value instead\n",
            "\n",
            "See the caveats in the documentation: https://pandas.pydata.org/pandas-docs/stable/user_guide/indexing.html#returning-a-view-versus-a-copy\n",
            "  self[name] = value\n"
          ],
          "name": "stderr"
        }
      ]
    },
    {
      "cell_type": "code",
      "metadata": {
        "colab": {
          "base_uri": "https://localhost:8080/"
        },
        "id": "9N4cehAkxeEU",
        "outputId": "1266cf05-450e-460e-b214-c8c63bab4ce2"
      },
      "source": [
        "# Create full_df dataframe again with imputed values\n",
        "full_df = pd.concat([deceased, isolated, released])\n",
        "full_df.info()"
      ],
      "execution_count": null,
      "outputs": [
        {
          "output_type": "stream",
          "text": [
            "<class 'pandas.core.frame.DataFrame'>\n",
            "Int64Index: 4246 entries, 12 to 4242\n",
            "Data columns (total 14 columns):\n",
            " #   Column                    Non-Null Count  Dtype  \n",
            "---  ------                    --------------  -----  \n",
            " 0   sex                       3211 non-null   object \n",
            " 1   age                       4246 non-null   float64\n",
            " 2   country                   4246 non-null   object \n",
            " 3   province                  4246 non-null   object \n",
            " 4   city                      4190 non-null   object \n",
            " 5   infection_case            4246 non-null   object \n",
            " 6   state                     4246 non-null   object \n",
            " 7   elementary_school_count   4085 non-null   float64\n",
            " 8   kindergarten_count        4085 non-null   float64\n",
            " 9   university_count          4085 non-null   float64\n",
            " 10  academy_ratio             4085 non-null   float64\n",
            " 11  elderly_population_ratio  4085 non-null   float64\n",
            " 12  elderly_alone_ratio       4085 non-null   float64\n",
            " 13  nursing_home_count        4085 non-null   float64\n",
            "dtypes: float64(8), object(6)\n",
            "memory usage: 497.6+ KB\n"
          ],
          "name": "stdout"
        }
      ]
    },
    {
      "cell_type": "code",
      "metadata": {
        "id": "U-M8DpDpgxxT",
        "colab": {
          "base_uri": "https://localhost:8080/"
        },
        "outputId": "9d9f4443-abf5-4294-afd6-f383aceda436"
      },
      "source": [
        "# Drop NaN values\n",
        "full_df.dropna(subset=['sex', 'age', 'country', 'province', 'city', 'infection_case', 'elementary_school_count', 'kindergarten_count', 'university_count', 'academy_ratio', 'elderly_population_ratio', 'elderly_alone_ratio', 'nursing_home_count'], inplace=True)\n",
        "full_df = full_df.reset_index(drop=True)\n",
        "\n",
        "# Check info\n",
        "full_df.info()"
      ],
      "execution_count": null,
      "outputs": [
        {
          "output_type": "stream",
          "text": [
            "<class 'pandas.core.frame.DataFrame'>\n",
            "RangeIndex: 3080 entries, 0 to 3079\n",
            "Data columns (total 14 columns):\n",
            " #   Column                    Non-Null Count  Dtype  \n",
            "---  ------                    --------------  -----  \n",
            " 0   sex                       3080 non-null   object \n",
            " 1   age                       3080 non-null   float64\n",
            " 2   country                   3080 non-null   object \n",
            " 3   province                  3080 non-null   object \n",
            " 4   city                      3080 non-null   object \n",
            " 5   infection_case            3080 non-null   object \n",
            " 6   state                     3080 non-null   object \n",
            " 7   elementary_school_count   3080 non-null   float64\n",
            " 8   kindergarten_count        3080 non-null   float64\n",
            " 9   university_count          3080 non-null   float64\n",
            " 10  academy_ratio             3080 non-null   float64\n",
            " 11  elderly_population_ratio  3080 non-null   float64\n",
            " 12  elderly_alone_ratio       3080 non-null   float64\n",
            " 13  nursing_home_count        3080 non-null   float64\n",
            "dtypes: float64(8), object(6)\n",
            "memory usage: 337.0+ KB\n"
          ],
          "name": "stdout"
        }
      ]
    },
    {
      "cell_type": "code",
      "metadata": {
        "colab": {
          "base_uri": "https://localhost:8080/"
        },
        "id": "h9D4Mj0t6sSp",
        "outputId": "4fa9c72a-521b-428f-bf5e-40e6b094b60a"
      },
      "source": [
        "# Check distribution states\n",
        "full_df.state.value_counts()"
      ],
      "execution_count": null,
      "outputs": [
        {
          "output_type": "execute_result",
          "data": {
            "text/plain": [
              "released    1792\n",
              "isolated    1256\n",
              "deceased      32\n",
              "Name: state, dtype: int64"
            ]
          },
          "metadata": {
            "tags": []
          },
          "execution_count": 256
        }
      ]
    },
    {
      "cell_type": "code",
      "metadata": {
        "colab": {
          "base_uri": "https://localhost:8080/"
        },
        "id": "1raAPkm59Eyn",
        "outputId": "491bce1e-778e-47d0-daed-c46825af1af8"
      },
      "source": [
        "# Check distribution gender\n",
        "full_df.sex.value_counts()"
      ],
      "execution_count": null,
      "outputs": [
        {
          "output_type": "execute_result",
          "data": {
            "text/plain": [
              "female    1653\n",
              "male      1427\n",
              "Name: sex, dtype: int64"
            ]
          },
          "metadata": {
            "tags": []
          },
          "execution_count": 257
        }
      ]
    },
    {
      "cell_type": "code",
      "metadata": {
        "colab": {
          "base_uri": "https://localhost:8080/"
        },
        "id": "M_i2BAnT9KEP",
        "outputId": "6104075f-76df-4efc-b707-6f095d931ba6"
      },
      "source": [
        "# Check distribution provinces\n",
        "full_df.province.value_counts()"
      ],
      "execution_count": null,
      "outputs": [
        {
          "output_type": "execute_result",
          "data": {
            "text/plain": [
              "Gyeonggi-do          828\n",
              "Seoul                542\n",
              "Gyeongsangbuk-do     539\n",
              "Incheon              333\n",
              "Chungcheongnam-do    167\n",
              "Busan                139\n",
              "Gyeongsangnam-do     129\n",
              "Daejeon              118\n",
              "Gangwon-do            63\n",
              "Chungcheongbuk-do     56\n",
              "Ulsan                 53\n",
              "Sejong                50\n",
              "Jeollabuk-do          18\n",
              "Daegu                 17\n",
              "Jeollanam-do          14\n",
              "Jeju-do               14\n",
              "Name: province, dtype: int64"
            ]
          },
          "metadata": {
            "tags": []
          },
          "execution_count": 258
        }
      ]
    },
    {
      "cell_type": "code",
      "metadata": {
        "colab": {
          "base_uri": "https://localhost:8080/"
        },
        "id": "KF2wpSWKzs_R",
        "outputId": "2a4d21c1-d16c-47a0-d084-b9f9a31560de"
      },
      "source": [
        "# Function for rounding to nearest 10th\n",
        "def roundup(num):\n",
        "    return int(math.ceil(num / 10.0)) * 10\n",
        "\n",
        "\n",
        "# Round all ages in full_df.age\n",
        "empty_list = []\n",
        "for number in full_df.age:\n",
        "  empty_list.append(roundup(number))\n",
        "\n",
        "\n",
        "# df with rounded age\n",
        "df_rounded = pd.DataFrame(data=empty_list, columns=['age'])\n",
        "\n",
        "# Plot age distribution\n",
        "df_rounded.age.value_counts().sort_index().plot(kind='bar')\n",
        "\n",
        "plt.title('Age distribution')\n",
        "plt.show()"
      ],
      "execution_count": null,
      "outputs": [
        {
          "output_type": "display_data",
          "data": {
            "image/png": "[encoded data removed]",
            "text/plain": [
              "<Figure size 432x288 with 1 Axes>"
            ]
          },
          "metadata": {
            "tags": []
          }
        }
      ]
    },
    {
      "cell_type": "markdown",
      "metadata": {
        "id": "AA5Fs5HKi7yD"
      },
      "source": [
        "### Statistical testing"
      ]
    },
    {
      "cell_type": "markdown",
      "metadata": {
        "id": "QUMcZhRHYBu_"
      },
      "source": [
        "I am interested to know if there is a difference in the number of deceased men vs. the number of deceased women. In order to do this I will be using an **independent samples t-test**, which basically compares the means of two independent groups in order to determine whether there is statistical evidence that the associated population means are significantly different.\n",
        "\n",
        "I could also use a **z-test** because the sample size satisfies `n>30`, but the t-test is in my opinion the more correct one to use, since you can never really know the population standard deviation. "
      ]
    },
    {
      "cell_type": "markdown",
      "metadata": {
        "id": "1E2IncItJD93"
      },
      "source": [
        "Before we test the significance, let's specify our hypotheses:\n",
        "\n",
        "\n",
        "*   H0: There is no difference between the female mean deceased sample and the male mean deceased sample.\n",
        "*   HA: There is a difference between the female mean deceased sample and the male mean deceased sample.\n",
        "\n",
        "Let's set `α=95%` confidence level, this suggests that we can reject the H0 hypothesis when our P-value is less than or equal to `0.05`. I chose 95% instead of 99% because eventhough you have more chance of being wrong, it is good enough to inferences and this also ensures stability in the results when one would repeat this experiment.\n"
      ]
    },
    {
      "cell_type": "code",
      "metadata": {
        "id": "ECLCCsdaLbe0",
        "colab": {
          "base_uri": "https://localhost:8080/"
        },
        "outputId": "412aa032-5917-47e8-9ff6-13243f33bc45"
      },
      "source": [
        "# pip install researchpy"
      ],
      "execution_count": null,
      "outputs": [
        {
          "output_type": "stream",
          "text": [
            "Requirement already satisfied: researchpy in /usr/local/lib/python3.6/dist-packages (0.2.3)\n",
            "Requirement already satisfied: pandas in /usr/local/lib/python3.6/dist-packages (from researchpy) (1.1.4)\n",
            "Requirement already satisfied: statsmodels in /usr/local/lib/python3.6/dist-packages (from researchpy) (0.10.2)\n",
            "Requirement already satisfied: numpy in /usr/local/lib/python3.6/dist-packages (from researchpy) (1.18.5)\n",
            "Requirement already satisfied: scipy in /usr/local/lib/python3.6/dist-packages (from researchpy) (1.4.1)\n",
            "Requirement already satisfied: python-dateutil>=2.7.3 in /usr/local/lib/python3.6/dist-packages (from pandas->researchpy) (2.8.1)\n",
            "Requirement already satisfied: pytz>=2017.2 in /usr/local/lib/python3.6/dist-packages (from pandas->researchpy) (2018.9)\n",
            "Requirement already satisfied: patsy>=0.4.0 in /usr/local/lib/python3.6/dist-packages (from statsmodels->researchpy) (0.5.1)\n",
            "Requirement already satisfied: six>=1.5 in /usr/local/lib/python3.6/dist-packages (from python-dateutil>=2.7.3->pandas->researchpy) (1.15.0)\n"
          ],
          "name": "stdout"
        }
      ]
    },
    {
      "cell_type": "code",
      "metadata": {
        "id": "JWnSxN2LS6ZH"
      },
      "source": [
        "# Set gender_patients as df and dorp any NaN values\n",
        "gender_patient = patient.dropna(subset=['state'])"
      ],
      "execution_count": null,
      "outputs": []
    },
    {
      "cell_type": "code",
      "metadata": {
        "id": "fGBCC7bYH6pf",
        "colab": {
          "base_uri": "https://localhost:8080/"
        },
        "outputId": "9fd7474e-36e6-4080-f88f-bf57ee138d1c"
      },
      "source": [
        "# Get the totals\n",
        "totals_gender = gender_patient.sex.value_counts()\n",
        "totals_gender"
      ],
      "execution_count": null,
      "outputs": [
        {
          "output_type": "execute_result",
          "data": {
            "text/plain": [
              "female    1713\n",
              "male      1498\n",
              "Name: sex, dtype: int64"
            ]
          },
          "metadata": {
            "tags": []
          },
          "execution_count": 262
        }
      ]
    },
    {
      "cell_type": "code",
      "metadata": {
        "id": "e0kf7PykKSu2",
        "colab": {
          "base_uri": "https://localhost:8080/"
        },
        "outputId": "9d1bee6b-5b1b-472c-a54f-cb1fd79525ab"
      },
      "source": [
        "# Groupby sex and count state values\n",
        "gender = gender_patient.groupby('sex')\n",
        "totals_gender_state = gender.state.value_counts()\n",
        "totals_gender_state"
      ],
      "execution_count": null,
      "outputs": [
        {
          "output_type": "execute_result",
          "data": {
            "text/plain": [
              "sex     state   \n",
              "female  released    997\n",
              "        isolated    704\n",
              "        deceased     12\n",
              "male    released    875\n",
              "        isolated    600\n",
              "        deceased     23\n",
              "Name: state, dtype: int64"
            ]
          },
          "metadata": {
            "tags": []
          },
          "execution_count": 263
        }
      ]
    },
    {
      "cell_type": "code",
      "metadata": {
        "colab": {
          "base_uri": "https://localhost:8080/"
        },
        "id": "LNttUwsQf43B",
        "outputId": "7d98a583-fcc3-4be4-bd04-126fee0db082"
      },
      "source": [
        "# Pie chart\n",
        "labels = 'released', 'isolated', 'deceased'\n",
        "colors = ['lightcoral', 'moccasin', 'plum']\n",
        "colors_male = ['lightskyblue', 'yellowgreen', 'seagreen']\n",
        "\n",
        "fig, ax = plt.subplots(1, 2)\n",
        "ax[0].pie(totals_gender_state[0:3], labels=labels, autopct='%1.1f%%', startangle=90, colors=colors)\n",
        "ax[0].axis('equal') \n",
        "ax[0].set_title('Female state %')\n",
        "\n",
        "ax[1].pie(totals_gender_state[3:6], labels=labels, autopct='%1.1f%%', startangle=90, colors=colors_male)\n",
        "ax[1].axis('equal') \n",
        "ax[1].set_title('Male state %')\n",
        "\n",
        "plt.show()"
      ],
      "execution_count": null,
      "outputs": [
        {
          "output_type": "display_data",
          "data": {
            "image/png": "[encoded data removed]",
            "text/plain": [
              "<Figure size 432x288 with 2 Axes>"
            ]
          },
          "metadata": {
            "tags": []
          }
        }
      ]
    },
    {
      "cell_type": "code",
      "metadata": {
        "colab": {
          "base_uri": "https://localhost:8080/"
        },
        "id": "pm7cV_HXK3dC",
        "outputId": "5cf4620f-d604-4672-d8ad-5c5233b1963f"
      },
      "source": [
        "# Create dataframe\n",
        "data_gender = {'sex': ['female', 'male'], 'released': [1402, 1112], 'isolated': [788, 666], 'deceased': [28, 47], 'n': [2218, 1825]}\n",
        "gender_df = pd.DataFrame(data=data_gender)\n",
        "\n",
        "# Add proportion deceased\n",
        "gender_df['mean_deceased'] = gender_df['deceased'] /gender_df['n']\n",
        "\n",
        "# View\n",
        "gender_df"
      ],
      "execution_count": null,
      "outputs": [
        {
          "output_type": "execute_result",
          "data": {
            "text/html": [
              "<div>\n",
              "<style scoped>\n",
              "    .dataframe tbody tr th:only-of-type {\n",
              "        vertical-align: middle;\n",
              "    }\n",
              "\n",
              "    .dataframe tbody tr th {\n",
              "        vertical-align: top;\n",
              "    }\n",
              "\n",
              "    .dataframe thead th {\n",
              "        text-align: right;\n",
              "    }\n",
              "</style>\n",
              "<table border=\"1\" class=\"dataframe\">\n",
              "  <thead>\n",
              "    <tr style=\"text-align: right;\">\n",
              "      <th></th>\n",
              "      <th>sex</th>\n",
              "      <th>released</th>\n",
              "      <th>isolated</th>\n",
              "      <th>deceased</th>\n",
              "      <th>n</th>\n",
              "      <th>mean_deceased</th>\n",
              "    </tr>\n",
              "  </thead>\n",
              "  <tbody>\n",
              "    <tr>\n",
              "      <th>0</th>\n",
              "      <td>female</td>\n",
              "      <td>1402</td>\n",
              "      <td>788</td>\n",
              "      <td>28</td>\n",
              "      <td>2218</td>\n",
              "      <td>0.012624</td>\n",
              "    </tr>\n",
              "    <tr>\n",
              "      <th>1</th>\n",
              "      <td>male</td>\n",
              "      <td>1112</td>\n",
              "      <td>666</td>\n",
              "      <td>47</td>\n",
              "      <td>1825</td>\n",
              "      <td>0.025753</td>\n",
              "    </tr>\n",
              "  </tbody>\n",
              "</table>\n",
              "</div>"
            ],
            "text/plain": [
              "      sex  released  isolated  deceased     n  mean_deceased\n",
              "0  female      1402       788        28  2218       0.012624\n",
              "1    male      1112       666        47  1825       0.025753"
            ]
          },
          "metadata": {
            "tags": []
          },
          "execution_count": 265
        }
      ]
    },
    {
      "cell_type": "code",
      "metadata": {
        "colab": {
          "base_uri": "https://localhost:8080/"
        },
        "id": "16PQ6OBGKyYF",
        "outputId": "1cc196ba-1a83-4ff1-ff48-489fc2b36268"
      },
      "source": [
        "# Boxplot\n",
        "sns.barplot(data=gender_df, x='sex', y='deceased')"
      ],
      "execution_count": null,
      "outputs": [
        {
          "output_type": "execute_result",
          "data": {
            "text/plain": [
              "<matplotlib.axes._subplots.AxesSubplot at 0x7f3101c292e8>"
            ]
          },
          "metadata": {
            "tags": []
          },
          "execution_count": 266
        },
        {
          "output_type": "display_data",
          "data": {
            "image/png": "[encoded data removed]",
            "text/plain": [
              "<Figure size 432x288 with 1 Axes>"
            ]
          },
          "metadata": {
            "tags": []
          }
        }
      ]
    },
    {
      "cell_type": "markdown",
      "metadata": {
        "id": "mshVUhp1XFyd"
      },
      "source": [
        "We can verify the `mean_deceased` with the researchpy library. In order to do that we first have to change the value of state to numeric. "
      ]
    },
    {
      "cell_type": "code",
      "metadata": {
        "id": "G9FvkdHHRlUN"
      },
      "source": [
        "# Change state deceased to 1, rest to 0\n",
        "gender_patient.loc[gender_patient['state'].str.contains('deceased', case=False), 'state'] = '1'\n",
        "gender_patient.loc[gender_patient['state'].str.contains('isolated', case=False), 'state'] = '0'\n",
        "gender_patient.loc[gender_patient['state'].str.contains('released', case=False), 'state'] = '0'"
      ],
      "execution_count": null,
      "outputs": []
    },
    {
      "cell_type": "code",
      "metadata": {
        "id": "NL5QdOfgTp7O"
      },
      "source": [
        "# Set as int so it is now numeric\n",
        "gender_patient.state = gender_patient.state.astype(int)"
      ],
      "execution_count": null,
      "outputs": []
    },
    {
      "cell_type": "code",
      "metadata": {
        "colab": {
          "base_uri": "https://localhost:8080/"
        },
        "id": "cWjx1YI-KpoD",
        "outputId": "9d5c1194-e8b8-4aad-b378-370b0165b564"
      },
      "source": [
        "import researchpy as rp\n",
        "\n",
        "# Check mean, sd, n and ci\n",
        "rp.summary_cont(gender_patient['state'].groupby(gender_patient['sex']))"
      ],
      "execution_count": null,
      "outputs": [
        {
          "output_type": "stream",
          "text": [
            "\n",
            "\n"
          ],
          "name": "stdout"
        },
        {
          "output_type": "execute_result",
          "data": {
            "text/html": [
              "<div>\n",
              "<style scoped>\n",
              "    .dataframe tbody tr th:only-of-type {\n",
              "        vertical-align: middle;\n",
              "    }\n",
              "\n",
              "    .dataframe tbody tr th {\n",
              "        vertical-align: top;\n",
              "    }\n",
              "\n",
              "    .dataframe thead th {\n",
              "        text-align: right;\n",
              "    }\n",
              "</style>\n",
              "<table border=\"1\" class=\"dataframe\">\n",
              "  <thead>\n",
              "    <tr style=\"text-align: right;\">\n",
              "      <th></th>\n",
              "      <th>N</th>\n",
              "      <th>Mean</th>\n",
              "      <th>SD</th>\n",
              "      <th>SE</th>\n",
              "      <th>95% Conf.</th>\n",
              "      <th>Interval</th>\n",
              "    </tr>\n",
              "    <tr>\n",
              "      <th>sex</th>\n",
              "      <th></th>\n",
              "      <th></th>\n",
              "      <th></th>\n",
              "      <th></th>\n",
              "      <th></th>\n",
              "      <th></th>\n",
              "    </tr>\n",
              "  </thead>\n",
              "  <tbody>\n",
              "    <tr>\n",
              "      <th>female</th>\n",
              "      <td>1713</td>\n",
              "      <td>0.0070</td>\n",
              "      <td>0.0834</td>\n",
              "      <td>0.0020</td>\n",
              "      <td>0.0031</td>\n",
              "      <td>0.0110</td>\n",
              "    </tr>\n",
              "    <tr>\n",
              "      <th>male</th>\n",
              "      <td>1498</td>\n",
              "      <td>0.0154</td>\n",
              "      <td>0.1230</td>\n",
              "      <td>0.0032</td>\n",
              "      <td>0.0091</td>\n",
              "      <td>0.0216</td>\n",
              "    </tr>\n",
              "  </tbody>\n",
              "</table>\n",
              "</div>"
            ],
            "text/plain": [
              "           N    Mean      SD      SE  95% Conf.  Interval\n",
              "sex                                                      \n",
              "female  1713  0.0070  0.0834  0.0020     0.0031    0.0110\n",
              "male    1498  0.0154  0.1230  0.0032     0.0091    0.0216"
            ]
          },
          "metadata": {
            "tags": []
          },
          "execution_count": 269
        }
      ]
    },
    {
      "cell_type": "markdown",
      "metadata": {
        "id": "rHRDfqe3XY0v"
      },
      "source": [
        "Here we have the same outcome as when we calculate it ourselves! Now we can run the independent samples t-test for the result:"
      ]
    },
    {
      "cell_type": "code",
      "metadata": {
        "colab": {
          "base_uri": "https://localhost:8080/"
        },
        "id": "pkVWiZZjVRZE",
        "outputId": "beb2faaa-5fc3-4ab8-9a49-ccac1cef7288"
      },
      "source": [
        "# Run t-test and prints test statistic, p-value and df\n",
        "ttest = sm.stats.ttest_ind(gender_patient[gender_patient['sex'] == 'female'].state, gender_patient[gender_patient['sex'] == 'male'].state)\n",
        "print(ttest) "
      ],
      "execution_count": null,
      "outputs": [
        {
          "output_type": "stream",
          "text": [
            "(-2.274081105409179, 0.023026864131165434, 3209.0)\n"
          ],
          "name": "stdout"
        }
      ]
    },
    {
      "cell_type": "markdown",
      "metadata": {
        "id": "7gUOpOPOafuv"
      },
      "source": [
        "As we can see, with a p-value of `0.002` we can reject `H0` since `0.002 < 0.05`. This means that there is evidence at the 95% confidence level to assume that the proportion of female/male deceased patients is statistically different."
      ]
    },
    {
      "cell_type": "code",
      "metadata": {
        "colab": {
          "base_uri": "https://localhost:8080/"
        },
        "id": "wylJ04XHdiMp",
        "outputId": "e7b8c93c-0bf8-4ce5-845f-76a4c561eca7"
      },
      "source": [
        "# As a means of comparison, let's run the ztest\n",
        "ztest = sm.stats.ztest(gender_patient[gender_patient['sex'] == 'female'].state, gender_patient[gender_patient['sex'] == 'male'].state)\n",
        "print(ztest) "
      ],
      "execution_count": null,
      "outputs": [
        {
          "output_type": "stream",
          "text": [
            "(-2.27408110540918, 0.022961110509754416)\n"
          ],
          "name": "stdout"
        }
      ]
    },
    {
      "cell_type": "code",
      "metadata": {
        "colab": {
          "base_uri": "https://localhost:8080/"
        },
        "id": "KqdyDOZtdyrr",
        "outputId": "f9143f7a-c3ec-4ec3-b19e-23b19d39d400"
      },
      "source": [
        "# Create dataframe\n",
        "data_tests = {'test': ['t-test', 'z-test'], 'p-value': [ttest[1], ztest[1]], 'test-statistic': [ttest[0], ztest[0]], 'population': ['sd not known', 'sd known']}\n",
        "tests_df = pd.DataFrame(data=data_tests)\n",
        "\n",
        "# View\n",
        "tests_df"
      ],
      "execution_count": null,
      "outputs": [
        {
          "output_type": "execute_result",
          "data": {
            "text/html": [
              "<div>\n",
              "<style scoped>\n",
              "    .dataframe tbody tr th:only-of-type {\n",
              "        vertical-align: middle;\n",
              "    }\n",
              "\n",
              "    .dataframe tbody tr th {\n",
              "        vertical-align: top;\n",
              "    }\n",
              "\n",
              "    .dataframe thead th {\n",
              "        text-align: right;\n",
              "    }\n",
              "</style>\n",
              "<table border=\"1\" class=\"dataframe\">\n",
              "  <thead>\n",
              "    <tr style=\"text-align: right;\">\n",
              "      <th></th>\n",
              "      <th>test</th>\n",
              "      <th>p-value</th>\n",
              "      <th>test-statistic</th>\n",
              "      <th>population</th>\n",
              "    </tr>\n",
              "  </thead>\n",
              "  <tbody>\n",
              "    <tr>\n",
              "      <th>0</th>\n",
              "      <td>t-test</td>\n",
              "      <td>0.023027</td>\n",
              "      <td>-2.274081</td>\n",
              "      <td>sd not known</td>\n",
              "    </tr>\n",
              "    <tr>\n",
              "      <th>1</th>\n",
              "      <td>z-test</td>\n",
              "      <td>0.022961</td>\n",
              "      <td>-2.274081</td>\n",
              "      <td>sd known</td>\n",
              "    </tr>\n",
              "  </tbody>\n",
              "</table>\n",
              "</div>"
            ],
            "text/plain": [
              "     test   p-value  test-statistic    population\n",
              "0  t-test  0.023027       -2.274081  sd not known\n",
              "1  z-test  0.022961       -2.274081      sd known"
            ]
          },
          "metadata": {
            "tags": []
          },
          "execution_count": 272
        }
      ]
    },
    {
      "cell_type": "markdown",
      "metadata": {
        "id": "1MZjMAIQiuHh"
      },
      "source": [
        "### Modeling"
      ]
    },
    {
      "cell_type": "markdown",
      "metadata": {
        "id": "uQtIiyWgiwed"
      },
      "source": [
        "#### PCA"
      ]
    },
    {
      "cell_type": "code",
      "metadata": {
        "id": "p5PpDU1Q4PA-"
      },
      "source": [
        "# Leave out state\n",
        "features = ['elementary_school_count', 'kindergarten_count', 'university_count',\n",
        "       'academy_ratio', 'elderly_population_ratio', 'elderly_alone_ratio',\n",
        "       'nursing_home_count']\n",
        "       \n",
        "# Separating out the features\n",
        "x = full_df.loc[:, features].values\n",
        "\n",
        "# Separating out the target\n",
        "y = full_df.loc[:,['state']].values\n",
        "\n",
        "# Standardizing the features\n",
        "x = StandardScaler().fit_transform(x)"
      ],
      "execution_count": null,
      "outputs": []
    },
    {
      "cell_type": "code",
      "metadata": {
        "colab": {
          "base_uri": "https://localhost:8080/"
        },
        "id": "6nGZuS1h4Prj",
        "outputId": "6f995f57-277f-48d3-f437-adf5375c5146"
      },
      "source": [
        "# Visualise the standardised data (Just for simplicity)\n",
        "see_x = pd.DataFrame(data=x, columns=features)\n",
        "see_x.head()"
      ],
      "execution_count": null,
      "outputs": [
        {
          "output_type": "execute_result",
          "data": {
            "text/html": [
              "<div>\n",
              "<style scoped>\n",
              "    .dataframe tbody tr th:only-of-type {\n",
              "        vertical-align: middle;\n",
              "    }\n",
              "\n",
              "    .dataframe tbody tr th {\n",
              "        vertical-align: top;\n",
              "    }\n",
              "\n",
              "    .dataframe thead th {\n",
              "        text-align: right;\n",
              "    }\n",
              "</style>\n",
              "<table border=\"1\" class=\"dataframe\">\n",
              "  <thead>\n",
              "    <tr style=\"text-align: right;\">\n",
              "      <th></th>\n",
              "      <th>elementary_school_count</th>\n",
              "      <th>kindergarten_count</th>\n",
              "      <th>university_count</th>\n",
              "      <th>academy_ratio</th>\n",
              "      <th>elderly_population_ratio</th>\n",
              "      <th>elderly_alone_ratio</th>\n",
              "      <th>nursing_home_count</th>\n",
              "    </tr>\n",
              "  </thead>\n",
              "  <tbody>\n",
              "    <tr>\n",
              "      <th>0</th>\n",
              "      <td>-1.153909</td>\n",
              "      <td>-1.105194</td>\n",
              "      <td>0.134567</td>\n",
              "      <td>0.332186</td>\n",
              "      <td>0.417772</td>\n",
              "      <td>-0.079591</td>\n",
              "      <td>-0.254035</td>\n",
              "    </tr>\n",
              "    <tr>\n",
              "      <th>1</th>\n",
              "      <td>-0.789633</td>\n",
              "      <td>-0.953647</td>\n",
              "      <td>-0.282401</td>\n",
              "      <td>0.542250</td>\n",
              "      <td>-0.286058</td>\n",
              "      <td>-0.558577</td>\n",
              "      <td>0.182914</td>\n",
              "    </tr>\n",
              "    <tr>\n",
              "      <th>2</th>\n",
              "      <td>-0.384882</td>\n",
              "      <td>-0.542306</td>\n",
              "      <td>0.134567</td>\n",
              "      <td>0.174638</td>\n",
              "      <td>0.541192</td>\n",
              "      <td>0.399395</td>\n",
              "      <td>0.278339</td>\n",
              "    </tr>\n",
              "    <tr>\n",
              "      <th>3</th>\n",
              "      <td>-0.384882</td>\n",
              "      <td>-0.542306</td>\n",
              "      <td>0.134567</td>\n",
              "      <td>0.174638</td>\n",
              "      <td>0.541192</td>\n",
              "      <td>0.399395</td>\n",
              "      <td>0.278339</td>\n",
              "    </tr>\n",
              "    <tr>\n",
              "      <th>4</th>\n",
              "      <td>-0.101556</td>\n",
              "      <td>0.215427</td>\n",
              "      <td>0.134567</td>\n",
              "      <td>0.507239</td>\n",
              "      <td>-0.619626</td>\n",
              "      <td>-0.558577</td>\n",
              "      <td>0.507695</td>\n",
              "    </tr>\n",
              "  </tbody>\n",
              "</table>\n",
              "</div>"
            ],
            "text/plain": [
              "   elementary_school_count  ...  nursing_home_count\n",
              "0                -1.153909  ...           -0.254035\n",
              "1                -0.789633  ...            0.182914\n",
              "2                -0.384882  ...            0.278339\n",
              "3                -0.384882  ...            0.278339\n",
              "4                -0.101556  ...            0.507695\n",
              "\n",
              "[5 rows x 7 columns]"
            ]
          },
          "metadata": {
            "tags": []
          },
          "execution_count": 274
        }
      ]
    },
    {
      "cell_type": "code",
      "metadata": {
        "colab": {
          "base_uri": "https://localhost:8080/"
        },
        "id": "c7AHLCraiz9b",
        "outputId": "722a8af7-1ba5-4e01-e12f-f8804853faa7"
      },
      "source": [
        "# While applying StandardScaler, each feature of your data should be normally \n",
        "# distributed such that it will scale the distribution to a mean of zero\n",
        "# and a standard deviation of one.\n",
        "np.mean(x),np.std(x)"
      ],
      "execution_count": null,
      "outputs": [
        {
          "output_type": "execute_result",
          "data": {
            "text/plain": [
              "(2.372869989551355e-17, 1.0)"
            ]
          },
          "metadata": {
            "tags": []
          },
          "execution_count": 275
        }
      ]
    },
    {
      "cell_type": "code",
      "metadata": {
        "colab": {
          "base_uri": "https://localhost:8080/"
        },
        "id": "iP1Qkcop4Rl7",
        "outputId": "dee62b13-564c-48d6-9bad-ea459d95d545"
      },
      "source": [
        "# Plot the explained variance per component added\n",
        "pca = PCA().fit(x)\n",
        "plt.plot(np.cumsum(pca.explained_variance_ratio_))\n",
        "plt.xlabel('Number of components')\n",
        "plt.ylabel('Cumulative explained variance');"
      ],
      "execution_count": null,
      "outputs": [
        {
          "output_type": "display_data",
          "data": {
            "image/png": "[encoded data removed]",
            "text/plain": [
              "<Figure size 432x288 with 1 Axes>"
            ]
          },
          "metadata": {
            "tags": []
          }
        }
      ]
    },
    {
      "cell_type": "code",
      "metadata": {
        "id": "-CrVeF3y4Tqp"
      },
      "source": [
        "# 2 PCA components\n",
        "pca = PCA(n_components=2)\n",
        "principal_components = pca.fit_transform(x)\n",
        "principal_df = pd.DataFrame(data = principal_components\n",
        "             , columns = ['principal component 1', 'principal component 2'])"
      ],
      "execution_count": null,
      "outputs": []
    },
    {
      "cell_type": "code",
      "metadata": {
        "colab": {
          "base_uri": "https://localhost:8080/"
        },
        "id": "WM5jN1m04XLG",
        "outputId": "fbf677cc-9a33-4f80-dc06-8a33028ddb61"
      },
      "source": [
        "# Check the head()\n",
        "principal_df.head()"
      ],
      "execution_count": null,
      "outputs": [
        {
          "output_type": "execute_result",
          "data": {
            "text/html": [
              "<div>\n",
              "<style scoped>\n",
              "    .dataframe tbody tr th:only-of-type {\n",
              "        vertical-align: middle;\n",
              "    }\n",
              "\n",
              "    .dataframe tbody tr th {\n",
              "        vertical-align: top;\n",
              "    }\n",
              "\n",
              "    .dataframe thead th {\n",
              "        text-align: right;\n",
              "    }\n",
              "</style>\n",
              "<table border=\"1\" class=\"dataframe\">\n",
              "  <thead>\n",
              "    <tr style=\"text-align: right;\">\n",
              "      <th></th>\n",
              "      <th>principal component 1</th>\n",
              "      <th>principal component 2</th>\n",
              "    </tr>\n",
              "  </thead>\n",
              "  <tbody>\n",
              "    <tr>\n",
              "      <th>0</th>\n",
              "      <td>1.055859</td>\n",
              "      <td>0.781914</td>\n",
              "    </tr>\n",
              "    <tr>\n",
              "      <th>1</th>\n",
              "      <td>0.220503</td>\n",
              "      <td>1.352708</td>\n",
              "    </tr>\n",
              "    <tr>\n",
              "      <th>2</th>\n",
              "      <td>0.572342</td>\n",
              "      <td>0.045917</td>\n",
              "    </tr>\n",
              "    <tr>\n",
              "      <th>3</th>\n",
              "      <td>0.572342</td>\n",
              "      <td>0.045917</td>\n",
              "    </tr>\n",
              "    <tr>\n",
              "      <th>4</th>\n",
              "      <td>-0.919429</td>\n",
              "      <td>0.554400</td>\n",
              "    </tr>\n",
              "  </tbody>\n",
              "</table>\n",
              "</div>"
            ],
            "text/plain": [
              "   principal component 1  principal component 2\n",
              "0               1.055859               0.781914\n",
              "1               0.220503               1.352708\n",
              "2               0.572342               0.045917\n",
              "3               0.572342               0.045917\n",
              "4              -0.919429               0.554400"
            ]
          },
          "metadata": {
            "tags": []
          },
          "execution_count": 278
        }
      ]
    },
    {
      "cell_type": "code",
      "metadata": {
        "colab": {
          "base_uri": "https://localhost:8080/"
        },
        "id": "-geZzMCU4bAM",
        "outputId": "ed8362d4-05d8-46d1-c427-2c98d989dd60"
      },
      "source": [
        "# Concatenate and view head()\n",
        "final_df_pca = pd.concat([principal_df[['principal component 1', 'principal component 2']], full_df[['state']]], axis = 1)\n",
        "final_df_pca.head()"
      ],
      "execution_count": null,
      "outputs": [
        {
          "output_type": "execute_result",
          "data": {
            "text/html": [
              "<div>\n",
              "<style scoped>\n",
              "    .dataframe tbody tr th:only-of-type {\n",
              "        vertical-align: middle;\n",
              "    }\n",
              "\n",
              "    .dataframe tbody tr th {\n",
              "        vertical-align: top;\n",
              "    }\n",
              "\n",
              "    .dataframe thead th {\n",
              "        text-align: right;\n",
              "    }\n",
              "</style>\n",
              "<table border=\"1\" class=\"dataframe\">\n",
              "  <thead>\n",
              "    <tr style=\"text-align: right;\">\n",
              "      <th></th>\n",
              "      <th>principal component 1</th>\n",
              "      <th>principal component 2</th>\n",
              "      <th>state</th>\n",
              "    </tr>\n",
              "  </thead>\n",
              "  <tbody>\n",
              "    <tr>\n",
              "      <th>0</th>\n",
              "      <td>1.055859</td>\n",
              "      <td>0.781914</td>\n",
              "      <td>deceased</td>\n",
              "    </tr>\n",
              "    <tr>\n",
              "      <th>1</th>\n",
              "      <td>0.220503</td>\n",
              "      <td>1.352708</td>\n",
              "      <td>deceased</td>\n",
              "    </tr>\n",
              "    <tr>\n",
              "      <th>2</th>\n",
              "      <td>0.572342</td>\n",
              "      <td>0.045917</td>\n",
              "      <td>deceased</td>\n",
              "    </tr>\n",
              "    <tr>\n",
              "      <th>3</th>\n",
              "      <td>0.572342</td>\n",
              "      <td>0.045917</td>\n",
              "      <td>deceased</td>\n",
              "    </tr>\n",
              "    <tr>\n",
              "      <th>4</th>\n",
              "      <td>-0.919429</td>\n",
              "      <td>0.554400</td>\n",
              "      <td>deceased</td>\n",
              "    </tr>\n",
              "  </tbody>\n",
              "</table>\n",
              "</div>"
            ],
            "text/plain": [
              "   principal component 1  principal component 2     state\n",
              "0               1.055859               0.781914  deceased\n",
              "1               0.220503               1.352708  deceased\n",
              "2               0.572342               0.045917  deceased\n",
              "3               0.572342               0.045917  deceased\n",
              "4              -0.919429               0.554400  deceased"
            ]
          },
          "metadata": {
            "tags": []
          },
          "execution_count": 279
        }
      ]
    },
    {
      "cell_type": "code",
      "metadata": {
        "colab": {
          "base_uri": "https://localhost:8080/"
        },
        "id": "MKCdim9I4dlo",
        "outputId": "919b2740-094c-41f0-c9b3-2be84566378d"
      },
      "source": [
        "# Scatterplot \n",
        "fig = plt.figure(figsize = (10,10))\n",
        "\n",
        "fig, ax = plt.subplots()\n",
        "\n",
        "ax.set_xlabel('Principal Component 1', fontsize = 15)\n",
        "ax.set_ylabel('Principal Component 2', fontsize = 15)\n",
        "ax.set_title('2 component PCA', fontsize = 20)\n",
        "\n",
        "sns.scatterplot(x=final_df_pca['principal component 1'], y=final_df_pca['principal component 2'], hue=final_df_pca.state)\n",
        "\n",
        "ax.grid()"
      ],
      "execution_count": null,
      "outputs": [
        {
          "output_type": "display_data",
          "data": {
            "text/plain": [
              "<Figure size 720x720 with 0 Axes>"
            ]
          },
          "metadata": {
            "tags": []
          }
        },
        {
          "output_type": "display_data",
          "data": {
            "image/png": "[encoded data removed]",
            "text/plain": [
              "<Figure size 432x288 with 1 Axes>"
            ]
          },
          "metadata": {
            "tags": []
          }
        }
      ]
    },
    {
      "cell_type": "code",
      "metadata": {
        "colab": {
          "base_uri": "https://localhost:8080/"
        },
        "id": "qYvyRoZv4f6i",
        "outputId": "2771f725-c6ca-4d47-a165-62efc5ff3a0b"
      },
      "source": [
        "# Explained variance of the components\n",
        "pca.explained_variance_ratio_"
      ],
      "execution_count": null,
      "outputs": [
        {
          "output_type": "execute_result",
          "data": {
            "text/plain": [
              "array([0.57229201, 0.17748348])"
            ]
          },
          "metadata": {
            "tags": []
          },
          "execution_count": 281
        }
      ]
    },
    {
      "cell_type": "markdown",
      "metadata": {
        "id": "0ys-K73nix7h"
      },
      "source": [
        "#### T-SNE"
      ]
    },
    {
      "cell_type": "code",
      "metadata": {
        "id": "_wo7qEGPMdpO"
      },
      "source": [
        "# Initialise T-SNE and set 2 components\n",
        "tsne = TSNE(n_components=2, random_state=0)"
      ],
      "execution_count": null,
      "outputs": []
    },
    {
      "cell_type": "code",
      "metadata": {
        "id": "SXRqsk0jMjGX"
      },
      "source": [
        "# Feed the features dataset \n",
        "tsne_obj= tsne.fit_transform(x)"
      ],
      "execution_count": null,
      "outputs": []
    },
    {
      "cell_type": "code",
      "metadata": {
        "colab": {
          "base_uri": "https://localhost:8080/"
        },
        "id": "HbLIZyICMjXv",
        "outputId": "99d6b04e-c7c4-46fc-fd92-fd8af72b1269"
      },
      "source": [
        "# View the head()\n",
        "tsne_df = pd.DataFrame(data = tsne_obj\n",
        "             , columns = ['X', 'Y'])\n",
        "\n",
        "tsne_df.head()"
      ],
      "execution_count": null,
      "outputs": [
        {
          "output_type": "execute_result",
          "data": {
            "text/html": [
              "<div>\n",
              "<style scoped>\n",
              "    .dataframe tbody tr th:only-of-type {\n",
              "        vertical-align: middle;\n",
              "    }\n",
              "\n",
              "    .dataframe tbody tr th {\n",
              "        vertical-align: top;\n",
              "    }\n",
              "\n",
              "    .dataframe thead th {\n",
              "        text-align: right;\n",
              "    }\n",
              "</style>\n",
              "<table border=\"1\" class=\"dataframe\">\n",
              "  <thead>\n",
              "    <tr style=\"text-align: right;\">\n",
              "      <th></th>\n",
              "      <th>X</th>\n",
              "      <th>Y</th>\n",
              "    </tr>\n",
              "  </thead>\n",
              "  <tbody>\n",
              "    <tr>\n",
              "      <th>0</th>\n",
              "      <td>7.317872</td>\n",
              "      <td>16.073278</td>\n",
              "    </tr>\n",
              "    <tr>\n",
              "      <th>1</th>\n",
              "      <td>12.674182</td>\n",
              "      <td>27.831255</td>\n",
              "    </tr>\n",
              "    <tr>\n",
              "      <th>2</th>\n",
              "      <td>13.054370</td>\n",
              "      <td>18.431116</td>\n",
              "    </tr>\n",
              "    <tr>\n",
              "      <th>3</th>\n",
              "      <td>13.054367</td>\n",
              "      <td>18.431164</td>\n",
              "    </tr>\n",
              "    <tr>\n",
              "      <th>4</th>\n",
              "      <td>-54.552574</td>\n",
              "      <td>-11.377718</td>\n",
              "    </tr>\n",
              "  </tbody>\n",
              "</table>\n",
              "</div>"
            ],
            "text/plain": [
              "           X          Y\n",
              "0   7.317872  16.073278\n",
              "1  12.674182  27.831255\n",
              "2  13.054370  18.431116\n",
              "3  13.054367  18.431164\n",
              "4 -54.552574 -11.377718"
            ]
          },
          "metadata": {
            "tags": []
          },
          "execution_count": 284
        }
      ]
    },
    {
      "cell_type": "code",
      "metadata": {
        "colab": {
          "base_uri": "https://localhost:8080/"
        },
        "id": "zOdKoP-SMrYe",
        "outputId": "114402ea-1eba-4455-d763-4a8f9dcde859"
      },
      "source": [
        "# Concatenate and view again\n",
        "final_tsne_df = pd.concat([tsne_df, full_df[['state']]], axis = 1)\n",
        "final_tsne_df.head()"
      ],
      "execution_count": null,
      "outputs": [
        {
          "output_type": "execute_result",
          "data": {
            "text/html": [
              "<div>\n",
              "<style scoped>\n",
              "    .dataframe tbody tr th:only-of-type {\n",
              "        vertical-align: middle;\n",
              "    }\n",
              "\n",
              "    .dataframe tbody tr th {\n",
              "        vertical-align: top;\n",
              "    }\n",
              "\n",
              "    .dataframe thead th {\n",
              "        text-align: right;\n",
              "    }\n",
              "</style>\n",
              "<table border=\"1\" class=\"dataframe\">\n",
              "  <thead>\n",
              "    <tr style=\"text-align: right;\">\n",
              "      <th></th>\n",
              "      <th>X</th>\n",
              "      <th>Y</th>\n",
              "      <th>state</th>\n",
              "    </tr>\n",
              "  </thead>\n",
              "  <tbody>\n",
              "    <tr>\n",
              "      <th>0</th>\n",
              "      <td>7.317872</td>\n",
              "      <td>16.073278</td>\n",
              "      <td>deceased</td>\n",
              "    </tr>\n",
              "    <tr>\n",
              "      <th>1</th>\n",
              "      <td>12.674182</td>\n",
              "      <td>27.831255</td>\n",
              "      <td>deceased</td>\n",
              "    </tr>\n",
              "    <tr>\n",
              "      <th>2</th>\n",
              "      <td>13.054370</td>\n",
              "      <td>18.431116</td>\n",
              "      <td>deceased</td>\n",
              "    </tr>\n",
              "    <tr>\n",
              "      <th>3</th>\n",
              "      <td>13.054367</td>\n",
              "      <td>18.431164</td>\n",
              "      <td>deceased</td>\n",
              "    </tr>\n",
              "    <tr>\n",
              "      <th>4</th>\n",
              "      <td>-54.552574</td>\n",
              "      <td>-11.377718</td>\n",
              "      <td>deceased</td>\n",
              "    </tr>\n",
              "  </tbody>\n",
              "</table>\n",
              "</div>"
            ],
            "text/plain": [
              "           X          Y     state\n",
              "0   7.317872  16.073278  deceased\n",
              "1  12.674182  27.831255  deceased\n",
              "2  13.054370  18.431116  deceased\n",
              "3  13.054367  18.431164  deceased\n",
              "4 -54.552574 -11.377718  deceased"
            ]
          },
          "metadata": {
            "tags": []
          },
          "execution_count": 285
        }
      ]
    },
    {
      "cell_type": "code",
      "metadata": {
        "colab": {
          "base_uri": "https://localhost:8080/"
        },
        "id": "Ws3R5YVbM317",
        "outputId": "a0786180-e0b8-4365-92f1-5ab6643c6482"
      },
      "source": [
        "# T-SNE scatterplot\n",
        "fig = plt.figure(figsize = (8,8))\n",
        "\n",
        "fig, ax = plt.subplots()\n",
        "\n",
        "ax.set_xlabel('X', fontsize = 15)\n",
        "ax.set_ylabel('Y', fontsize = 15)\n",
        "ax.set_title('T-SNE scatterplot', fontsize = 20)\n",
        "\n",
        "sns.scatterplot(x=\"X\", y=\"Y\", hue=\"state\", data=final_tsne_df);\n",
        "ax.grid()"
      ],
      "execution_count": null,
      "outputs": [
        {
          "output_type": "display_data",
          "data": {
            "text/plain": [
              "<Figure size 576x576 with 0 Axes>"
            ]
          },
          "metadata": {
            "tags": []
          }
        },
        {
          "output_type": "display_data",
          "data": {
            "image/png": "[encoded data removed]",
            "text/plain": [
              "<Figure size 432x288 with 1 Axes>"
            ]
          },
          "metadata": {
            "tags": []
          }
        }
      ]
    },
    {
      "cell_type": "markdown",
      "metadata": {
        "id": "oCzO6v40NAe_"
      },
      "source": [
        "#### Kmeans clustering"
      ]
    },
    {
      "cell_type": "code",
      "metadata": {
        "id": "-DUADsegNysH"
      },
      "source": [
        "# Calculate the within cluster SSE (distortion)\n",
        "distortions = []\n",
        "K = range(1,10)\n",
        "for k in K:\n",
        "    kmeanModel = KMeans(n_clusters=k)\n",
        "    kmeanModel.fit(principal_df)\n",
        "    distortions.append(kmeanModel.inertia_)"
      ],
      "execution_count": null,
      "outputs": []
    },
    {
      "cell_type": "code",
      "metadata": {
        "colab": {
          "base_uri": "https://localhost:8080/"
        },
        "id": "28PuCzPKN00r",
        "outputId": "c9d75824-eb3d-4e34-f242-a6f202bb990a"
      },
      "source": [
        "# Plot the elbow figure\n",
        "plt.figure(figsize=(16,8))\n",
        "plt.plot(K, distortions, 'bx-')\n",
        "plt.xlabel('Number of clusters')\n",
        "plt.ylabel('Within cluster SSE (Distortion)')\n",
        "plt.title('The Elbow Method showing the optimal k')\n",
        "plt.show()"
      ],
      "execution_count": null,
      "outputs": [
        {
          "output_type": "display_data",
          "data": {
            "image/png": "[encoded data removed]",
            "text/plain": [
              "<Figure size 1152x576 with 1 Axes>"
            ]
          },
          "metadata": {
            "tags": []
          }
        }
      ]
    },
    {
      "cell_type": "code",
      "metadata": {
        "colab": {
          "base_uri": "https://localhost:8080/"
        },
        "id": "O_OXzG7GLPA-",
        "outputId": "2914f067-4a76-4457-af2e-765b4d4e1e4c"
      },
      "source": [
        "pip install kneed"
      ],
      "execution_count": null,
      "outputs": [
        {
          "output_type": "stream",
          "text": [
            "Collecting kneed\n",
            "  Downloading https://files.pythonhosted.org/packages/c3/6b/e130913aaaad1373060e259ab222ca2330672db696b297b082c3f3089fcc/kneed-0.7.0-py2.py3-none-any.whl\n",
            "Requirement already satisfied: scipy in /usr/local/lib/python3.6/dist-packages (from kneed) (1.4.1)\n",
            "Requirement already satisfied: matplotlib in /usr/local/lib/python3.6/dist-packages (from kneed) (3.2.2)\n",
            "Requirement already satisfied: numpy>=1.14.2 in /usr/local/lib/python3.6/dist-packages (from kneed) (1.18.5)\n",
            "Requirement already satisfied: python-dateutil>=2.1 in /usr/local/lib/python3.6/dist-packages (from matplotlib->kneed) (2.8.1)\n",
            "Requirement already satisfied: cycler>=0.10 in /usr/local/lib/python3.6/dist-packages (from matplotlib->kneed) (0.10.0)\n",
            "Requirement already satisfied: pyparsing!=2.0.4,!=2.1.2,!=2.1.6,>=2.0.1 in /usr/local/lib/python3.6/dist-packages (from matplotlib->kneed) (2.4.7)\n",
            "Requirement already satisfied: kiwisolver>=1.0.1 in /usr/local/lib/python3.6/dist-packages (from matplotlib->kneed) (1.3.1)\n",
            "Requirement already satisfied: six>=1.5 in /usr/local/lib/python3.6/dist-packages (from python-dateutil>=2.1->matplotlib->kneed) (1.15.0)\n",
            "Installing collected packages: kneed\n",
            "Successfully installed kneed-0.7.0\n"
          ],
          "name": "stdout"
        }
      ]
    },
    {
      "cell_type": "code",
      "metadata": {
        "id": "hhCA1ero8Rca"
      },
      "source": [
        "# Installing kneed\n",
        "from kneed import DataGenerator, KneeLocator"
      ],
      "execution_count": null,
      "outputs": []
    },
    {
      "cell_type": "code",
      "metadata": {
        "colab": {
          "base_uri": "https://localhost:8080/"
        },
        "id": "w0_BIxVI8Ajb",
        "outputId": "25da2327-7652-4fc2-8c8d-a3275ac999ea"
      },
      "source": [
        "# Using kneed to programmatically check elbow point\n",
        "kl = KneeLocator(range(1, 10), distortions, curve=\"convex\", direction=\"decreasing\")\n",
        "kl.elbow"
      ],
      "execution_count": null,
      "outputs": [
        {
          "output_type": "execute_result",
          "data": {
            "text/plain": [
              "3"
            ]
          },
          "metadata": {
            "tags": []
          },
          "execution_count": 291
        }
      ]
    },
    {
      "cell_type": "code",
      "metadata": {
        "id": "wiMEYOpGN3Gt"
      },
      "source": [
        "# Fit and predict the Kmeans model\n",
        "kmeanModel = KMeans(n_clusters=3)\n",
        "kmeanModel.fit(principal_df)\n",
        "y_kmeans = kmeanModel.predict(principal_df)"
      ],
      "execution_count": null,
      "outputs": []
    },
    {
      "cell_type": "code",
      "metadata": {
        "colab": {
          "base_uri": "https://localhost:8080/"
        },
        "id": "H6B6YDCKN5Yr",
        "outputId": "47c10824-802a-437f-cc8f-fd6099ed9be7"
      },
      "source": [
        "# plot points\n",
        "plt.figure(figsize=(16,8))\n",
        "plt.title('K-means clusters')\n",
        "\n",
        "sns.scatterplot(data=principal_df, x='principal component 1', y='principal component 2', hue=y_kmeans)\n",
        "\n",
        "\n",
        "# plot cluster centers\n",
        "centers = kmeanModel.cluster_centers_\n",
        "plt.scatter(centers[:, 0], centers[:, 1], c='black', s=500, alpha=0.5);"
      ],
      "execution_count": null,
      "outputs": [
        {
          "output_type": "display_data",
          "data": {
            "image/png": "[encoded data removed]",
            "text/plain": [
              "<Figure size 1152x576 with 1 Axes>"
            ]
          },
          "metadata": {
            "tags": []
          }
        }
      ]
    },
    {
      "cell_type": "code",
      "metadata": {
        "id": "P5mD6IUgCawJ"
      },
      "source": [
        "# Add column for cluster labels\n",
        "full_df['cluster'] = kmeanModel.labels_"
      ],
      "execution_count": null,
      "outputs": []
    },
    {
      "cell_type": "code",
      "metadata": {
        "id": "GNQQyimBDGlZ"
      },
      "source": [
        "# change clusters to 1 - 3 instead of 0 - 2\n",
        "full_df['cluster'] = full_df['cluster'].map({0:1, 1:2, 2:3}) "
      ],
      "execution_count": null,
      "outputs": []
    },
    {
      "cell_type": "code",
      "metadata": {
        "id": "bKGgbjBtC1nt"
      },
      "source": [
        "# Group by cluster\n",
        "grouped_by_cluster = full_df.groupby('cluster')"
      ],
      "execution_count": null,
      "outputs": []
    },
    {
      "cell_type": "code",
      "metadata": {
        "colab": {
          "base_uri": "https://localhost:8080/"
        },
        "id": "7jp4bCxtDqyT",
        "outputId": "03232ca7-1236-4484-c847-7f4554290aa0"
      },
      "source": [
        "# Get the percentages of states in each cluster\n",
        "df = pd.concat([grouped_by_cluster.state.value_counts(), \n",
        "                grouped_by_cluster.state.value_counts(normalize=True).mul(100)],axis=1, keys=('counts','percentage'))\n",
        "\n",
        "df.round(2)"
      ],
      "execution_count": null,
      "outputs": [
        {
          "output_type": "execute_result",
          "data": {
            "text/html": [
              "<div>\n",
              "<style scoped>\n",
              "    .dataframe tbody tr th:only-of-type {\n",
              "        vertical-align: middle;\n",
              "    }\n",
              "\n",
              "    .dataframe tbody tr th {\n",
              "        vertical-align: top;\n",
              "    }\n",
              "\n",
              "    .dataframe thead th {\n",
              "        text-align: right;\n",
              "    }\n",
              "</style>\n",
              "<table border=\"1\" class=\"dataframe\">\n",
              "  <thead>\n",
              "    <tr style=\"text-align: right;\">\n",
              "      <th></th>\n",
              "      <th></th>\n",
              "      <th>counts</th>\n",
              "      <th>percentage</th>\n",
              "    </tr>\n",
              "    <tr>\n",
              "      <th>cluster</th>\n",
              "      <th>state</th>\n",
              "      <th></th>\n",
              "      <th></th>\n",
              "    </tr>\n",
              "  </thead>\n",
              "  <tbody>\n",
              "    <tr>\n",
              "      <th rowspan=\"3\" valign=\"top\">1</th>\n",
              "      <th>released</th>\n",
              "      <td>1258</td>\n",
              "      <td>63.25</td>\n",
              "    </tr>\n",
              "    <tr>\n",
              "      <th>isolated</th>\n",
              "      <td>714</td>\n",
              "      <td>35.90</td>\n",
              "    </tr>\n",
              "    <tr>\n",
              "      <th>deceased</th>\n",
              "      <td>17</td>\n",
              "      <td>0.85</td>\n",
              "    </tr>\n",
              "    <tr>\n",
              "      <th rowspan=\"3\" valign=\"top\">2</th>\n",
              "      <th>released</th>\n",
              "      <td>302</td>\n",
              "      <td>72.60</td>\n",
              "    </tr>\n",
              "    <tr>\n",
              "      <th>isolated</th>\n",
              "      <td>99</td>\n",
              "      <td>23.80</td>\n",
              "    </tr>\n",
              "    <tr>\n",
              "      <th>deceased</th>\n",
              "      <td>15</td>\n",
              "      <td>3.61</td>\n",
              "    </tr>\n",
              "    <tr>\n",
              "      <th rowspan=\"2\" valign=\"top\">3</th>\n",
              "      <th>isolated</th>\n",
              "      <td>443</td>\n",
              "      <td>65.63</td>\n",
              "    </tr>\n",
              "    <tr>\n",
              "      <th>released</th>\n",
              "      <td>232</td>\n",
              "      <td>34.37</td>\n",
              "    </tr>\n",
              "  </tbody>\n",
              "</table>\n",
              "</div>"
            ],
            "text/plain": [
              "                  counts  percentage\n",
              "cluster state                       \n",
              "1       released    1258       63.25\n",
              "        isolated     714       35.90\n",
              "        deceased      17        0.85\n",
              "2       released     302       72.60\n",
              "        isolated      99       23.80\n",
              "        deceased      15        3.61\n",
              "3       isolated     443       65.63\n",
              "        released     232       34.37"
            ]
          },
          "metadata": {
            "tags": []
          },
          "execution_count": 297
        }
      ]
    },
    {
      "cell_type": "markdown",
      "metadata": {
        "id": "Z6kggFNJDDow"
      },
      "source": [
        "Seems like the highest percentage of deceased patients are in cluster 1, but the highest absolute number of deceased patients is in cluster 2. Let's have a closer look at the data"
      ]
    },
    {
      "cell_type": "code",
      "metadata": {
        "colab": {
          "base_uri": "https://localhost:8080/"
        },
        "id": "VW4hPAvqCkvw",
        "outputId": "d6364f70-18fc-40e2-b547-cdd4963218ab"
      },
      "source": [
        "# See means\n",
        "grouped_by_cluster.mean()"
      ],
      "execution_count": null,
      "outputs": [
        {
          "output_type": "execute_result",
          "data": {
            "text/html": [
              "<div>\n",
              "<style scoped>\n",
              "    .dataframe tbody tr th:only-of-type {\n",
              "        vertical-align: middle;\n",
              "    }\n",
              "\n",
              "    .dataframe tbody tr th {\n",
              "        vertical-align: top;\n",
              "    }\n",
              "\n",
              "    .dataframe thead th {\n",
              "        text-align: right;\n",
              "    }\n",
              "</style>\n",
              "<table border=\"1\" class=\"dataframe\">\n",
              "  <thead>\n",
              "    <tr style=\"text-align: right;\">\n",
              "      <th></th>\n",
              "      <th>age</th>\n",
              "      <th>elementary_school_count</th>\n",
              "      <th>kindergarten_count</th>\n",
              "      <th>university_count</th>\n",
              "      <th>academy_ratio</th>\n",
              "      <th>elderly_population_ratio</th>\n",
              "      <th>elderly_alone_ratio</th>\n",
              "      <th>nursing_home_count</th>\n",
              "    </tr>\n",
              "    <tr>\n",
              "      <th>cluster</th>\n",
              "      <th></th>\n",
              "      <th></th>\n",
              "      <th></th>\n",
              "      <th></th>\n",
              "      <th></th>\n",
              "      <th></th>\n",
              "      <th></th>\n",
              "      <th></th>\n",
              "    </tr>\n",
              "  </thead>\n",
              "  <tbody>\n",
              "    <tr>\n",
              "      <th>1</th>\n",
              "      <td>40.462996</td>\n",
              "      <td>32.991453</td>\n",
              "      <td>53.124183</td>\n",
              "      <td>2.360483</td>\n",
              "      <td>1.541368</td>\n",
              "      <td>14.276461</td>\n",
              "      <td>5.961287</td>\n",
              "      <td>720.495726</td>\n",
              "    </tr>\n",
              "    <tr>\n",
              "      <th>2</th>\n",
              "      <td>44.398661</td>\n",
              "      <td>18.278846</td>\n",
              "      <td>22.528846</td>\n",
              "      <td>1.014423</td>\n",
              "      <td>0.934231</td>\n",
              "      <td>28.547428</td>\n",
              "      <td>15.876442</td>\n",
              "      <td>154.507212</td>\n",
              "    </tr>\n",
              "    <tr>\n",
              "      <th>3</th>\n",
              "      <td>35.007407</td>\n",
              "      <td>80.924444</td>\n",
              "      <td>140.082963</td>\n",
              "      <td>4.635556</td>\n",
              "      <td>1.819126</td>\n",
              "      <td>12.274089</td>\n",
              "      <td>5.118222</td>\n",
              "      <td>1522.165926</td>\n",
              "    </tr>\n",
              "  </tbody>\n",
              "</table>\n",
              "</div>"
            ],
            "text/plain": [
              "               age  ...  nursing_home_count\n",
              "cluster             ...                    \n",
              "1        40.462996  ...          720.495726\n",
              "2        44.398661  ...          154.507212\n",
              "3        35.007407  ...         1522.165926\n",
              "\n",
              "[3 rows x 8 columns]"
            ]
          },
          "metadata": {
            "tags": []
          },
          "execution_count": 298
        }
      ]
    },
    {
      "cell_type": "markdown",
      "metadata": {
        "id": "YxLZvQQ2Ie-r"
      },
      "source": [
        "It seems that cluster 1 has a higher percentage of `elderly_population_ratio` and `elderly_alone_ratio` compared to the other 2 clusters. The cluster also has the lowest number of nursing homes compared to the other 2 clusters and the highest average age."
      ]
    },
    {
      "cell_type": "markdown",
      "metadata": {
        "id": "aNtsizcQjJMw"
      },
      "source": [
        "#### linear regression"
      ]
    },
    {
      "cell_type": "code",
      "metadata": {
        "id": "ftAoE-EzjtJn"
      },
      "source": [
        "# Add categorised values\n",
        "full_df['state_cat'] = full_df['state'].astype('category').cat.codes"
      ],
      "execution_count": null,
      "outputs": []
    },
    {
      "cell_type": "code",
      "metadata": {
        "id": "Zda0Ahx0CHnY"
      },
      "source": [
        "# Get all interesting features for linear regression\n",
        "features_lin = ['age','sex', 'infection_case', 'country', 'province', 'city', 'elementary_school_count', 'kindergarten_count', 'university_count',\n",
        "       'academy_ratio', 'elderly_population_ratio', 'elderly_alone_ratio',\n",
        "       'nursing_home_count']"
      ],
      "execution_count": null,
      "outputs": []
    },
    {
      "cell_type": "code",
      "metadata": {
        "id": "Y2zE7ssCAdhu"
      },
      "source": [
        "# Set X as df\n",
        "X = full_df[features_lin]"
      ],
      "execution_count": null,
      "outputs": []
    },
    {
      "cell_type": "code",
      "metadata": {
        "colab": {
          "base_uri": "https://localhost:8080/"
        },
        "id": "exPwiTz2AarZ",
        "outputId": "771352a3-f2d9-4e29-d3f3-dd27fa42d223"
      },
      "source": [
        "# Set dummy variables\n",
        "X = pd.get_dummies(data=X, drop_first=True)\n",
        "X.head()"
      ],
      "execution_count": null,
      "outputs": [
        {
          "output_type": "execute_result",
          "data": {
            "text/html": [
              "<div>\n",
              "<style scoped>\n",
              "    .dataframe tbody tr th:only-of-type {\n",
              "        vertical-align: middle;\n",
              "    }\n",
              "\n",
              "    .dataframe tbody tr th {\n",
              "        vertical-align: top;\n",
              "    }\n",
              "\n",
              "    .dataframe thead th {\n",
              "        text-align: right;\n",
              "    }\n",
              "</style>\n",
              "<table border=\"1\" class=\"dataframe\">\n",
              "  <thead>\n",
              "    <tr style=\"text-align: right;\">\n",
              "      <th></th>\n",
              "      <th>age</th>\n",
              "      <th>elementary_school_count</th>\n",
              "      <th>kindergarten_count</th>\n",
              "      <th>university_count</th>\n",
              "      <th>academy_ratio</th>\n",
              "      <th>elderly_population_ratio</th>\n",
              "      <th>elderly_alone_ratio</th>\n",
              "      <th>nursing_home_count</th>\n",
              "      <th>sex_male</th>\n",
              "      <th>infection_case_Changnyeong Coin Karaoke</th>\n",
              "      <th>infection_case_KB Life Insurance</th>\n",
              "      <th>infection_case_Milal Shelter</th>\n",
              "      <th>infection_case_Ministry of Oceans and Fisheries</th>\n",
              "      <th>infection_case_Pilgrimage to Israel</th>\n",
              "      <th>infection_case_Richway</th>\n",
              "      <th>infection_case_Samsung Fire &amp; Marine Insurance</th>\n",
              "      <th>infection_case_Seongdong-gu APT</th>\n",
              "      <th>infection_case_Seoul City Hall Station safety worker</th>\n",
              "      <th>infection_case_Suyeong-gu Kindergarten</th>\n",
              "      <th>infection_case_center</th>\n",
              "      <th>infection_case_church</th>\n",
              "      <th>infection_case_club</th>\n",
              "      <th>infection_case_contact with patient</th>\n",
              "      <th>infection_case_etc</th>\n",
              "      <th>infection_case_gym</th>\n",
              "      <th>infection_case_hospital</th>\n",
              "      <th>infection_case_nursing home</th>\n",
              "      <th>infection_case_overseas inflow</th>\n",
              "      <th>infection_case_town</th>\n",
              "      <th>country_Canada</th>\n",
              "      <th>country_China</th>\n",
              "      <th>country_Foreign</th>\n",
              "      <th>country_France</th>\n",
              "      <th>country_Germany</th>\n",
              "      <th>country_Indonesia</th>\n",
              "      <th>country_Korea</th>\n",
              "      <th>country_Mongolia</th>\n",
              "      <th>country_Spain</th>\n",
              "      <th>country_Switzerland</th>\n",
              "      <th>country_Thailand</th>\n",
              "      <th>...</th>\n",
              "      <th>city_Sejong</th>\n",
              "      <th>city_Seo-gu</th>\n",
              "      <th>city_Seocheon-gun</th>\n",
              "      <th>city_Seocho-gu</th>\n",
              "      <th>city_Seodaemun-gu</th>\n",
              "      <th>city_Seongbuk-gu</th>\n",
              "      <th>city_Seongdong-gu</th>\n",
              "      <th>city_Seongju-gun</th>\n",
              "      <th>city_Seongnam-si</th>\n",
              "      <th>city_Seosan-si</th>\n",
              "      <th>city_Siheung-si</th>\n",
              "      <th>city_Sokcho-si</th>\n",
              "      <th>city_Songpa-gu</th>\n",
              "      <th>city_Suncheon-si</th>\n",
              "      <th>city_Suseong-gu</th>\n",
              "      <th>city_Suwon-si</th>\n",
              "      <th>city_Suyeong-gu</th>\n",
              "      <th>city_Taean-gun</th>\n",
              "      <th>city_Taebaek-si</th>\n",
              "      <th>city_Uijeongbu-si</th>\n",
              "      <th>city_Uiseong-gun</th>\n",
              "      <th>city_Uiwang-si</th>\n",
              "      <th>city_Ulju-gun</th>\n",
              "      <th>city_Wonju-si</th>\n",
              "      <th>city_Yangcheon-gu</th>\n",
              "      <th>city_Yangju-si</th>\n",
              "      <th>city_Yangsan-si</th>\n",
              "      <th>city_Yecheon-gun</th>\n",
              "      <th>city_Yeongcheon-si</th>\n",
              "      <th>city_Yeongdeok-gun</th>\n",
              "      <th>city_Yeongdeungpo-gu</th>\n",
              "      <th>city_Yeongju-si</th>\n",
              "      <th>city_Yeongwol-gun</th>\n",
              "      <th>city_Yeongyang-gun</th>\n",
              "      <th>city_Yeonje-gu</th>\n",
              "      <th>city_Yeonsu-gu</th>\n",
              "      <th>city_Yeosu-si</th>\n",
              "      <th>city_Yongin-si</th>\n",
              "      <th>city_Yongsan-gu</th>\n",
              "      <th>city_Yuseong-gu</th>\n",
              "    </tr>\n",
              "  </thead>\n",
              "  <tbody>\n",
              "    <tr>\n",
              "      <th>0</th>\n",
              "      <td>80.0</td>\n",
              "      <td>13.0</td>\n",
              "      <td>17.0</td>\n",
              "      <td>3.0</td>\n",
              "      <td>1.71</td>\n",
              "      <td>18.27</td>\n",
              "      <td>6.8</td>\n",
              "      <td>668.0</td>\n",
              "      <td>1</td>\n",
              "      <td>0</td>\n",
              "      <td>0</td>\n",
              "      <td>0</td>\n",
              "      <td>0</td>\n",
              "      <td>0</td>\n",
              "      <td>0</td>\n",
              "      <td>0</td>\n",
              "      <td>0</td>\n",
              "      <td>0</td>\n",
              "      <td>0</td>\n",
              "      <td>0</td>\n",
              "      <td>0</td>\n",
              "      <td>0</td>\n",
              "      <td>1</td>\n",
              "      <td>0</td>\n",
              "      <td>0</td>\n",
              "      <td>0</td>\n",
              "      <td>0</td>\n",
              "      <td>0</td>\n",
              "      <td>0</td>\n",
              "      <td>0</td>\n",
              "      <td>0</td>\n",
              "      <td>0</td>\n",
              "      <td>0</td>\n",
              "      <td>0</td>\n",
              "      <td>0</td>\n",
              "      <td>1</td>\n",
              "      <td>0</td>\n",
              "      <td>0</td>\n",
              "      <td>0</td>\n",
              "      <td>0</td>\n",
              "      <td>...</td>\n",
              "      <td>0</td>\n",
              "      <td>0</td>\n",
              "      <td>0</td>\n",
              "      <td>0</td>\n",
              "      <td>0</td>\n",
              "      <td>0</td>\n",
              "      <td>0</td>\n",
              "      <td>0</td>\n",
              "      <td>0</td>\n",
              "      <td>0</td>\n",
              "      <td>0</td>\n",
              "      <td>0</td>\n",
              "      <td>0</td>\n",
              "      <td>0</td>\n",
              "      <td>0</td>\n",
              "      <td>0</td>\n",
              "      <td>0</td>\n",
              "      <td>0</td>\n",
              "      <td>0</td>\n",
              "      <td>0</td>\n",
              "      <td>0</td>\n",
              "      <td>0</td>\n",
              "      <td>0</td>\n",
              "      <td>0</td>\n",
              "      <td>0</td>\n",
              "      <td>0</td>\n",
              "      <td>0</td>\n",
              "      <td>0</td>\n",
              "      <td>0</td>\n",
              "      <td>0</td>\n",
              "      <td>0</td>\n",
              "      <td>0</td>\n",
              "      <td>0</td>\n",
              "      <td>0</td>\n",
              "      <td>0</td>\n",
              "      <td>0</td>\n",
              "      <td>0</td>\n",
              "      <td>0</td>\n",
              "      <td>0</td>\n",
              "      <td>0</td>\n",
              "    </tr>\n",
              "    <tr>\n",
              "      <th>1</th>\n",
              "      <td>40.0</td>\n",
              "      <td>22.0</td>\n",
              "      <td>24.0</td>\n",
              "      <td>2.0</td>\n",
              "      <td>1.83</td>\n",
              "      <td>14.05</td>\n",
              "      <td>4.9</td>\n",
              "      <td>929.0</td>\n",
              "      <td>1</td>\n",
              "      <td>0</td>\n",
              "      <td>0</td>\n",
              "      <td>0</td>\n",
              "      <td>0</td>\n",
              "      <td>0</td>\n",
              "      <td>0</td>\n",
              "      <td>0</td>\n",
              "      <td>0</td>\n",
              "      <td>0</td>\n",
              "      <td>0</td>\n",
              "      <td>1</td>\n",
              "      <td>0</td>\n",
              "      <td>0</td>\n",
              "      <td>0</td>\n",
              "      <td>0</td>\n",
              "      <td>0</td>\n",
              "      <td>0</td>\n",
              "      <td>0</td>\n",
              "      <td>0</td>\n",
              "      <td>0</td>\n",
              "      <td>0</td>\n",
              "      <td>0</td>\n",
              "      <td>0</td>\n",
              "      <td>0</td>\n",
              "      <td>0</td>\n",
              "      <td>0</td>\n",
              "      <td>1</td>\n",
              "      <td>0</td>\n",
              "      <td>0</td>\n",
              "      <td>0</td>\n",
              "      <td>0</td>\n",
              "      <td>...</td>\n",
              "      <td>0</td>\n",
              "      <td>0</td>\n",
              "      <td>0</td>\n",
              "      <td>0</td>\n",
              "      <td>0</td>\n",
              "      <td>0</td>\n",
              "      <td>0</td>\n",
              "      <td>0</td>\n",
              "      <td>0</td>\n",
              "      <td>0</td>\n",
              "      <td>0</td>\n",
              "      <td>0</td>\n",
              "      <td>0</td>\n",
              "      <td>0</td>\n",
              "      <td>0</td>\n",
              "      <td>0</td>\n",
              "      <td>0</td>\n",
              "      <td>0</td>\n",
              "      <td>0</td>\n",
              "      <td>0</td>\n",
              "      <td>0</td>\n",
              "      <td>0</td>\n",
              "      <td>0</td>\n",
              "      <td>0</td>\n",
              "      <td>0</td>\n",
              "      <td>0</td>\n",
              "      <td>0</td>\n",
              "      <td>0</td>\n",
              "      <td>0</td>\n",
              "      <td>0</td>\n",
              "      <td>0</td>\n",
              "      <td>0</td>\n",
              "      <td>0</td>\n",
              "      <td>0</td>\n",
              "      <td>0</td>\n",
              "      <td>0</td>\n",
              "      <td>0</td>\n",
              "      <td>0</td>\n",
              "      <td>0</td>\n",
              "      <td>0</td>\n",
              "    </tr>\n",
              "    <tr>\n",
              "      <th>2</th>\n",
              "      <td>70.0</td>\n",
              "      <td>32.0</td>\n",
              "      <td>43.0</td>\n",
              "      <td>3.0</td>\n",
              "      <td>1.62</td>\n",
              "      <td>19.01</td>\n",
              "      <td>8.7</td>\n",
              "      <td>986.0</td>\n",
              "      <td>1</td>\n",
              "      <td>0</td>\n",
              "      <td>0</td>\n",
              "      <td>0</td>\n",
              "      <td>0</td>\n",
              "      <td>0</td>\n",
              "      <td>0</td>\n",
              "      <td>0</td>\n",
              "      <td>0</td>\n",
              "      <td>0</td>\n",
              "      <td>0</td>\n",
              "      <td>0</td>\n",
              "      <td>0</td>\n",
              "      <td>0</td>\n",
              "      <td>0</td>\n",
              "      <td>1</td>\n",
              "      <td>0</td>\n",
              "      <td>0</td>\n",
              "      <td>0</td>\n",
              "      <td>0</td>\n",
              "      <td>0</td>\n",
              "      <td>0</td>\n",
              "      <td>0</td>\n",
              "      <td>0</td>\n",
              "      <td>0</td>\n",
              "      <td>0</td>\n",
              "      <td>0</td>\n",
              "      <td>1</td>\n",
              "      <td>0</td>\n",
              "      <td>0</td>\n",
              "      <td>0</td>\n",
              "      <td>0</td>\n",
              "      <td>...</td>\n",
              "      <td>0</td>\n",
              "      <td>0</td>\n",
              "      <td>0</td>\n",
              "      <td>0</td>\n",
              "      <td>0</td>\n",
              "      <td>0</td>\n",
              "      <td>0</td>\n",
              "      <td>0</td>\n",
              "      <td>0</td>\n",
              "      <td>0</td>\n",
              "      <td>0</td>\n",
              "      <td>0</td>\n",
              "      <td>0</td>\n",
              "      <td>0</td>\n",
              "      <td>0</td>\n",
              "      <td>0</td>\n",
              "      <td>0</td>\n",
              "      <td>0</td>\n",
              "      <td>0</td>\n",
              "      <td>0</td>\n",
              "      <td>0</td>\n",
              "      <td>0</td>\n",
              "      <td>0</td>\n",
              "      <td>0</td>\n",
              "      <td>0</td>\n",
              "      <td>0</td>\n",
              "      <td>0</td>\n",
              "      <td>0</td>\n",
              "      <td>0</td>\n",
              "      <td>0</td>\n",
              "      <td>0</td>\n",
              "      <td>0</td>\n",
              "      <td>0</td>\n",
              "      <td>0</td>\n",
              "      <td>0</td>\n",
              "      <td>0</td>\n",
              "      <td>0</td>\n",
              "      <td>0</td>\n",
              "      <td>0</td>\n",
              "      <td>0</td>\n",
              "    </tr>\n",
              "    <tr>\n",
              "      <th>3</th>\n",
              "      <td>70.0</td>\n",
              "      <td>32.0</td>\n",
              "      <td>43.0</td>\n",
              "      <td>3.0</td>\n",
              "      <td>1.62</td>\n",
              "      <td>19.01</td>\n",
              "      <td>8.7</td>\n",
              "      <td>986.0</td>\n",
              "      <td>1</td>\n",
              "      <td>0</td>\n",
              "      <td>0</td>\n",
              "      <td>0</td>\n",
              "      <td>0</td>\n",
              "      <td>0</td>\n",
              "      <td>0</td>\n",
              "      <td>0</td>\n",
              "      <td>0</td>\n",
              "      <td>0</td>\n",
              "      <td>0</td>\n",
              "      <td>0</td>\n",
              "      <td>0</td>\n",
              "      <td>0</td>\n",
              "      <td>0</td>\n",
              "      <td>1</td>\n",
              "      <td>0</td>\n",
              "      <td>0</td>\n",
              "      <td>0</td>\n",
              "      <td>0</td>\n",
              "      <td>0</td>\n",
              "      <td>0</td>\n",
              "      <td>0</td>\n",
              "      <td>0</td>\n",
              "      <td>0</td>\n",
              "      <td>0</td>\n",
              "      <td>0</td>\n",
              "      <td>1</td>\n",
              "      <td>0</td>\n",
              "      <td>0</td>\n",
              "      <td>0</td>\n",
              "      <td>0</td>\n",
              "      <td>...</td>\n",
              "      <td>0</td>\n",
              "      <td>0</td>\n",
              "      <td>0</td>\n",
              "      <td>0</td>\n",
              "      <td>0</td>\n",
              "      <td>0</td>\n",
              "      <td>0</td>\n",
              "      <td>0</td>\n",
              "      <td>0</td>\n",
              "      <td>0</td>\n",
              "      <td>0</td>\n",
              "      <td>0</td>\n",
              "      <td>0</td>\n",
              "      <td>0</td>\n",
              "      <td>0</td>\n",
              "      <td>0</td>\n",
              "      <td>0</td>\n",
              "      <td>0</td>\n",
              "      <td>0</td>\n",
              "      <td>0</td>\n",
              "      <td>0</td>\n",
              "      <td>0</td>\n",
              "      <td>0</td>\n",
              "      <td>0</td>\n",
              "      <td>0</td>\n",
              "      <td>0</td>\n",
              "      <td>0</td>\n",
              "      <td>0</td>\n",
              "      <td>0</td>\n",
              "      <td>0</td>\n",
              "      <td>0</td>\n",
              "      <td>0</td>\n",
              "      <td>0</td>\n",
              "      <td>0</td>\n",
              "      <td>0</td>\n",
              "      <td>0</td>\n",
              "      <td>0</td>\n",
              "      <td>0</td>\n",
              "      <td>0</td>\n",
              "      <td>0</td>\n",
              "    </tr>\n",
              "    <tr>\n",
              "      <th>4</th>\n",
              "      <td>70.0</td>\n",
              "      <td>39.0</td>\n",
              "      <td>78.0</td>\n",
              "      <td>3.0</td>\n",
              "      <td>1.81</td>\n",
              "      <td>12.05</td>\n",
              "      <td>4.9</td>\n",
              "      <td>1123.0</td>\n",
              "      <td>0</td>\n",
              "      <td>0</td>\n",
              "      <td>0</td>\n",
              "      <td>0</td>\n",
              "      <td>0</td>\n",
              "      <td>0</td>\n",
              "      <td>0</td>\n",
              "      <td>0</td>\n",
              "      <td>0</td>\n",
              "      <td>0</td>\n",
              "      <td>0</td>\n",
              "      <td>0</td>\n",
              "      <td>0</td>\n",
              "      <td>0</td>\n",
              "      <td>0</td>\n",
              "      <td>1</td>\n",
              "      <td>0</td>\n",
              "      <td>0</td>\n",
              "      <td>0</td>\n",
              "      <td>0</td>\n",
              "      <td>0</td>\n",
              "      <td>0</td>\n",
              "      <td>0</td>\n",
              "      <td>0</td>\n",
              "      <td>0</td>\n",
              "      <td>0</td>\n",
              "      <td>0</td>\n",
              "      <td>1</td>\n",
              "      <td>0</td>\n",
              "      <td>0</td>\n",
              "      <td>0</td>\n",
              "      <td>0</td>\n",
              "      <td>...</td>\n",
              "      <td>0</td>\n",
              "      <td>1</td>\n",
              "      <td>0</td>\n",
              "      <td>0</td>\n",
              "      <td>0</td>\n",
              "      <td>0</td>\n",
              "      <td>0</td>\n",
              "      <td>0</td>\n",
              "      <td>0</td>\n",
              "      <td>0</td>\n",
              "      <td>0</td>\n",
              "      <td>0</td>\n",
              "      <td>0</td>\n",
              "      <td>0</td>\n",
              "      <td>0</td>\n",
              "      <td>0</td>\n",
              "      <td>0</td>\n",
              "      <td>0</td>\n",
              "      <td>0</td>\n",
              "      <td>0</td>\n",
              "      <td>0</td>\n",
              "      <td>0</td>\n",
              "      <td>0</td>\n",
              "      <td>0</td>\n",
              "      <td>0</td>\n",
              "      <td>0</td>\n",
              "      <td>0</td>\n",
              "      <td>0</td>\n",
              "      <td>0</td>\n",
              "      <td>0</td>\n",
              "      <td>0</td>\n",
              "      <td>0</td>\n",
              "      <td>0</td>\n",
              "      <td>0</td>\n",
              "      <td>0</td>\n",
              "      <td>0</td>\n",
              "      <td>0</td>\n",
              "      <td>0</td>\n",
              "      <td>0</td>\n",
              "      <td>0</td>\n",
              "    </tr>\n",
              "  </tbody>\n",
              "</table>\n",
              "<p>5 rows × 210 columns</p>\n",
              "</div>"
            ],
            "text/plain": [
              "    age  elementary_school_count  ...  city_Yongsan-gu  city_Yuseong-gu\n",
              "0  80.0                     13.0  ...                0                0\n",
              "1  40.0                     22.0  ...                0                0\n",
              "2  70.0                     32.0  ...                0                0\n",
              "3  70.0                     32.0  ...                0                0\n",
              "4  70.0                     39.0  ...                0                0\n",
              "\n",
              "[5 rows x 210 columns]"
            ]
          },
          "metadata": {
            "tags": []
          },
          "execution_count": 302
        }
      ]
    },
    {
      "cell_type": "code",
      "metadata": {
        "id": "chPd9gEj2Lf6"
      },
      "source": [
        "# Set all columns incl dummy variables as features_x\n",
        "features_x = X.columns"
      ],
      "execution_count": null,
      "outputs": []
    },
    {
      "cell_type": "code",
      "metadata": {
        "id": "YvbNHPS28K5O"
      },
      "source": [
        "# X = StandardScaler().fit_transform(X)\n",
        "\n",
        "y = full_df[['state_cat']]"
      ],
      "execution_count": null,
      "outputs": []
    },
    {
      "cell_type": "code",
      "metadata": {
        "id": "PJLMu-Gp77PW"
      },
      "source": [
        "# Set train and test data\n",
        "X_train, X_test, y_train, y_test = train_test_split(X, y, test_size=0.2, random_state=1)\n",
        "\n",
        "# Fit linear regression\n",
        "model_lin = LinearRegression().fit(X_train,y_train)"
      ],
      "execution_count": null,
      "outputs": []
    },
    {
      "cell_type": "code",
      "metadata": {
        "id": "-te9PW5J8gff"
      },
      "source": [
        "# Predictions\n",
        "predictions = model_lin.predict(X_test)"
      ],
      "execution_count": null,
      "outputs": []
    },
    {
      "cell_type": "code",
      "metadata": {
        "colab": {
          "base_uri": "https://localhost:8080/"
        },
        "id": "QRJXTTQz85bD",
        "outputId": "a77e0d57-b3a4-49ff-9d34-a3afa7821d07"
      },
      "source": [
        "# Get summary\n",
        "X_train_Sm= sm.add_constant(X_train)\n",
        "X_test_Sm= sm.add_constant(X_test)\n",
        "ls=sm.OLS(y_test,X_test_Sm).fit()\n",
        "print(ls.summary())"
      ],
      "execution_count": null,
      "outputs": [
        {
          "output_type": "stream",
          "text": [
            "                            OLS Regression Results                            \n",
            "==============================================================================\n",
            "Dep. Variable:              state_cat   R-squared:                       0.753\n",
            "Model:                            OLS   Adj. R-squared:                  0.674\n",
            "Method:                 Least Squares   F-statistic:                     9.531\n",
            "Date:                Wed, 09 Dec 2020   Prob (F-statistic):           3.71e-79\n",
            "Time:                        22:06:28   Log-Likelihood:                -32.747\n",
            "No. Observations:                 616   AIC:                             365.5\n",
            "Df Residuals:                     466   BIC:                             1029.\n",
            "Df Model:                         149                                         \n",
            "Covariance Type:            nonrobust                                         \n",
            "========================================================================================================================\n",
            "                                                           coef    std err          t      P>|t|      [0.025      0.975]\n",
            "------------------------------------------------------------------------------------------------------------------------\n",
            "const                                                   -0.1866      0.686     -0.272      0.786      -1.535       1.162\n",
            "age                                                     -0.0017      0.001     -2.080      0.038      -0.003   -9.46e-05\n",
            "elementary_school_count                                 -0.0033      0.011     -0.292      0.770      -0.025       0.019\n",
            "kindergarten_count                                       0.0147      0.011      1.375      0.170      -0.006       0.036\n",
            "university_count                                         0.0605      0.115      0.527      0.598      -0.165       0.286\n",
            "academy_ratio                                            0.3770      0.171      2.209      0.028       0.042       0.712\n",
            "elderly_population_ratio                                 0.0405      0.083      0.487      0.626      -0.123       0.204\n",
            "elderly_alone_ratio                                      0.0181      0.192      0.094      0.925      -0.359       0.395\n",
            "nursing_home_count                                      -0.0010      0.000     -2.271      0.024      -0.002      -0.000\n",
            "sex_male                                                -0.0403      0.027     -1.465      0.144      -0.094       0.014\n",
            "infection_case_Changnyeong Coin Karaoke                  0.0532      0.589      0.090      0.928      -1.104       1.210\n",
            "infection_case_KB Life Insurance                         0.0988      0.521      0.190      0.850      -0.925       1.123\n",
            "infection_case_Milal Shelter                             0.2978      0.359      0.830      0.407      -0.408       1.003\n",
            "infection_case_Ministry of Oceans and Fisheries          0.1529      0.438      0.349      0.727      -0.708       1.014\n",
            "infection_case_Pilgrimage to Israel                      0.0535      0.536      0.100      0.921      -1.000       1.107\n",
            "infection_case_Richway                                2.413e-13   1.07e-13      2.259      0.024    3.13e-14    4.51e-13\n",
            "infection_case_Samsung Fire & Marine Insurance       -8.725e-13   3.96e-13     -2.205      0.028   -1.65e-12   -9.49e-14\n",
            "infection_case_Seongdong-gu APT                          0.0996      0.524      0.190      0.849      -0.929       1.129\n",
            "infection_case_Seoul City Hall Station safety worker  3.072e-13   1.36e-13      2.265      0.024    4.07e-14    5.74e-13\n",
            "infection_case_Suyeong-gu Kindergarten                5.491e-13    2.5e-13      2.197      0.029    5.79e-14    1.04e-12\n",
            "infection_case_center                                    0.1119      0.421      0.266      0.790      -0.715       0.938\n",
            "infection_case_church                                    0.2169      0.421      0.515      0.607      -0.611       1.045\n",
            "infection_case_club                                      0.0480      0.451      0.106      0.915      -0.838       0.934\n",
            "infection_case_contact with patient                      0.0343      0.415      0.083      0.934      -0.782       0.850\n",
            "infection_case_etc                                       0.0532      0.418      0.127      0.899      -0.768       0.874\n",
            "infection_case_gym                                       0.0602      0.446      0.135      0.893      -0.815       0.936\n",
            "infection_case_hospital                                  0.0424      0.523      0.081      0.935      -0.985       1.070\n",
            "infection_case_nursing home                              0.4075      0.471      0.866      0.387      -0.517       1.332\n",
            "infection_case_overseas inflow                           0.0506      0.417      0.121      0.904      -0.769       0.870\n",
            "infection_case_town                                      0.2098      0.453      0.463      0.643      -0.680       1.100\n",
            "country_Canada                                       -8.376e-14   3.98e-14     -2.102      0.036   -1.62e-13   -5.47e-15\n",
            "country_China                                            0.3698      0.243      1.519      0.129      -0.108       0.848\n",
            "country_Foreign                                         -0.0609      0.173     -0.352      0.725      -0.401       0.279\n",
            "country_France                                           0.3016      0.294      1.026      0.305      -0.276       0.879\n",
            "country_Germany                                       4.417e-14   1.84e-14      2.395      0.017    7.93e-15    8.04e-14\n",
            "country_Indonesia                                     -5.28e-14   2.64e-14     -2.002      0.046   -1.05e-13   -9.71e-16\n",
            "country_Korea                                            0.3288      0.138      2.389      0.017       0.058       0.599\n",
            "country_Mongolia                                        -0.8532      0.307     -2.775      0.006      -1.457      -0.249\n",
            "country_Spain                                        -2.387e-13   1.08e-13     -2.211      0.028   -4.51e-13   -2.66e-14\n",
            "country_Switzerland                                  -3.952e-14   1.74e-14     -2.275      0.023   -7.37e-14   -5.39e-15\n",
            "country_Thailand                                     -2.082e-13   9.64e-14     -2.161      0.031   -3.98e-13   -1.89e-14\n",
            "country_United Kingdom                                  -0.5814      0.308     -1.885      0.060      -1.188       0.025\n",
            "country_United States                                    0.3087      0.218      1.418      0.157      -0.119       0.736\n",
            "country_Vietnam                                       1.424e-13   6.58e-14      2.164      0.031    1.31e-14    2.72e-13\n",
            "province_Chungcheongbuk-do                               0.0927      0.199      0.467      0.641      -0.298       0.483\n",
            "province_Chungcheongnam-do                              -0.0585      0.241     -0.243      0.808      -0.532       0.415\n",
            "province_Daegu                                          -0.5766      0.345     -1.672      0.095      -1.254       0.101\n",
            "province_Daejeon                                        -0.3030      0.276     -1.097      0.273      -0.846       0.240\n",
            "province_Gangwon-do                                     -0.2134      0.166     -1.286      0.199      -0.539       0.113\n",
            "province_Gyeonggi-do                                    -0.5379      0.144     -3.735      0.000      -0.821      -0.255\n",
            "province_Gyeongsangbuk-do                               -0.3275      0.520     -0.630      0.529      -1.349       0.694\n",
            "province_Gyeongsangnam-do                               -0.1520      0.549     -0.277      0.782      -1.230       0.926\n",
            "province_Incheon                                         0.1697      0.351      0.483      0.629      -0.520       0.859\n",
            "province_Jeju-do                                         0.0916      0.207      0.442      0.659      -0.316       0.499\n",
            "province_Jeollabuk-do                                   -0.2691      0.413     -0.651      0.515      -1.081       0.543\n",
            "province_Jeollanam-do                                   -0.0046      0.313     -0.015      0.988      -0.619       0.610\n",
            "province_Sejong                                          0.1658      0.105      1.584      0.114      -0.040       0.371\n",
            "province_Seoul                                           1.0007      0.480      2.084      0.038       0.057       1.944\n",
            "province_Ulsan                                           0.5485      0.324      1.691      0.092      -0.089       1.186\n",
            "city_Ansan-si                                            0.0149      0.283      0.053      0.958      -0.540       0.570\n",
            "city_Anseong-si                                         -0.3924      0.302     -1.301      0.194      -0.985       0.200\n",
            "city_Anyang-si                                           0.0113      0.342      0.033      0.974      -0.661       0.684\n",
            "city_Asan-si                                             0.3680      0.219      1.677      0.094      -0.063       0.799\n",
            "city_Bonghwa-gun                                        -1.1918      0.291     -4.099      0.000      -1.763      -0.620\n",
            "city_Bucheon-si                                         -0.1167      0.261     -0.448      0.654      -0.629       0.395\n",
            "city_Buk-gu                                             -0.1459      0.141     -1.032      0.303      -0.424       0.132\n",
            "city_Bupyeong-gu                                        -0.1648      0.194     -0.849      0.396      -0.546       0.217\n",
            "city_Busanjin-gu                                        -0.2724      0.275     -0.990      0.323      -0.813       0.269\n",
            "city_Buyeo-gun                                          -0.2173      0.322     -0.675      0.500      -0.850       0.415\n",
            "city_Changnyeong-gun                                     0.1135      0.351      0.323      0.747      -0.577       0.804\n",
            "city_Changwon-si                                        -0.4453      0.338     -1.317      0.189      -1.110       0.219\n",
            "city_Cheonan-si                                          0.0735      0.209      0.352      0.725      -0.336       0.483\n",
            "city_Cheongdo-gun                                       -0.5914      0.433     -1.366      0.173      -1.442       0.259\n",
            "city_Cheongju-si                                        -0.0971      0.422     -0.230      0.818      -0.927       0.733\n",
            "city_Cheorwon-gun                                       -0.4082      0.291     -1.402      0.161      -0.980       0.164\n",
            "city_Chilgok-gun                                         0.2978      0.359      0.830      0.407      -0.408       1.003\n",
            "city_Chuncheon-si                                       -0.6540      0.210     -3.107      0.002      -1.068      -0.240\n",
            "city_Chungju-si                                          0.0614      0.200      0.306      0.759      -0.332       0.455\n",
            "city_Daedeok-gu                                          0.7812      0.299      2.610      0.009       0.193       1.370\n",
            "city_Dalseo-gu                                          -0.0482      0.452     -0.107      0.915      -0.937       0.841\n",
            "city_Danyang-gun                                      1.143e-14    5.4e-15      2.115      0.035    8.13e-16    2.21e-14\n",
            "city_Dobong-gu                                          -0.2568      0.243     -1.058      0.291      -0.734       0.220\n",
            "city_Dong-gu                                             0.0696      0.227      0.307      0.759      -0.376       0.515\n",
            "city_Dongdaemun-gu                                      -0.1277      0.296     -0.431      0.667      -0.710       0.455\n",
            "city_Dongducheon-si                                   4.881e-14   2.23e-14      2.193      0.029    5.07e-15    9.26e-14\n",
            "city_Dongjak-gu                                         -0.1086      0.161     -0.677      0.499      -0.424       0.207\n",
            "city_Dongnae-gu                                          0.0684      0.385      0.178      0.859      -0.688       0.824\n",
            "city_Eumseong-gun                                        0.2300      0.319      0.721      0.471      -0.397       0.857\n",
            "city_Eunpyeong-gu                                       -0.0273      0.176     -0.155      0.877      -0.373       0.319\n",
            "city_Gangbuk-gu                                          0.0171      0.296      0.058      0.954      -0.564       0.599\n",
            "city_Gangdong-gu                                         0.3476      0.414      0.840      0.402      -0.466       1.161\n",
            "city_Ganghwa-gun                                        -0.2541      0.410     -0.620      0.535      -1.059       0.551\n",
            "city_Gangnam-gu                                          1.4689      1.028      1.428      0.154      -0.552       3.490\n",
            "city_Gangneung-si                                        0.0291      0.228      0.128      0.898      -0.418       0.477\n",
            "city_Gangseo-gu                                          0.0848      0.127      0.666      0.506      -0.165       0.335\n",
            "city_Gapyeong-gun                                     2.407e-14   1.08e-14      2.226      0.026    2.82e-15    4.53e-14\n",
            "city_Geochang-gun                                       -0.0348      0.503     -0.069      0.945      -1.022       0.953\n",
            "city_Geoje-si                                            0.3920      0.686      0.571      0.568      -0.957       1.741\n",
            "city_Geumcheon-gu                                        0.0079      0.210      0.038      0.970      -0.404       0.420\n",
            "city_Geumjeong-gu                                    -4.638e-14   2.11e-14     -2.197      0.028   -8.79e-14    -4.9e-15\n",
            "city_Gijang-gun                                       4.252e-15   1.98e-15      2.152      0.032    3.69e-16    8.13e-15\n",
            "city_Gimcheon-si                                         0.4132      0.182      2.264      0.024       0.055       0.772\n",
            "city_Gimhae-si                                           0.0616      0.264      0.233      0.816      -0.458       0.581\n",
            "city_Gimje-si                                        -4.471e-14   2.04e-14     -2.188      0.029   -8.49e-14   -4.56e-15\n",
            "city_Gimpo-si                                           -0.5037      0.216     -2.329      0.020      -0.929      -0.079\n",
            "city_Goesan-gun                                         -0.1017      0.222     -0.458      0.647      -0.538       0.335\n",
            "city_Gongju-si                                        4.098e-14   1.87e-14      2.196      0.029    4.31e-15    7.76e-14\n",
            "city_Goryeong-gun                                       -0.5305      0.387     -1.372      0.171      -1.290       0.230\n",
            "city_Goseong-gun                                     -3.673e-14   1.67e-14     -2.203      0.028   -6.95e-14   -3.97e-15\n",
            "city_Goyang-si                                          -0.5871      0.316     -1.858      0.064      -1.208       0.034\n",
            "city_Gumi-si                                             0.1384      0.195      0.709      0.479      -0.245       0.522\n",
            "city_Gunpo-si                                            0.0237      0.144      0.164      0.870      -0.259       0.307\n",
            "city_Gunsan-si                                          -0.0681      0.236     -0.289      0.773      -0.532       0.396\n",
            "city_Gunwi-gun                                          -0.0382      0.344     -0.111      0.912      -0.714       0.638\n",
            "city_Guri-si                                             0.0991      0.396      0.250      0.802      -0.679       0.877\n",
            "city_Guro-gu                                            -0.1283      0.167     -0.768      0.443      -0.457       0.200\n",
            "city_Gwacheon-si                                         0.5912      0.410      1.442      0.150      -0.214       1.397\n",
            "city_Gwanak-gu                                           0.3234      0.308      1.051      0.294      -0.281       0.928\n",
            "city_Gwangjin-gu                                        -0.0804      0.305     -0.263      0.792      -0.680       0.519\n",
            "city_Gwangju-si                                          0.7690      0.380      2.024      0.044       0.022       1.516\n",
            "city_Gwangmyeong-si                                      0.0621      0.267      0.233      0.816      -0.462       0.586\n",
            "city_Gwangyang-si                                        0.2762      0.270      1.021      0.308      -0.255       0.808\n",
            "city_Gyeongju-si                                         0.0756      0.163      0.465      0.642      -0.244       0.396\n",
            "city_Gyeongsan-si                                       -0.3140      0.556     -0.564      0.573      -1.407       0.779\n",
            "city_Gyeryong-si                                      -2.98e-15   1.38e-15     -2.158      0.031   -5.69e-15   -2.67e-16\n",
            "city_Gyeyang-gu                                         -0.3712      0.246     -1.511      0.132      -0.854       0.112\n",
            "city_Haeundae-gu                                         0.7545      0.412      1.832      0.068      -0.055       1.564\n",
            "city_Haman-gun                                       -4.448e-15   2.04e-15     -2.180      0.030   -8.46e-15   -4.39e-16\n",
            "city_Hamyang-gun                                     -9.316e-15   4.27e-15     -2.180      0.030   -1.77e-14   -9.18e-16\n",
            "city_Hanam-si                                            0.3833      0.497      0.771      0.441      -0.594       1.361\n",
            "city_Hapcheon-gun                                    -1.259e-14   5.65e-15     -2.228      0.026   -2.37e-14   -1.48e-15\n",
            "city_Hoengseong-gun                                   4.959e-14   2.26e-14      2.198      0.028    5.26e-15    9.39e-14\n",
            "city_Hongseong-gun                                   -1.707e-14   7.69e-15     -2.219      0.027   -3.22e-14   -1.96e-15\n",
            "city_Hwaseong-si                                        -1.0934      0.691     -1.582      0.114      -2.452       0.265\n",
            "city_Hwasun-gun                                       3.991e-15   1.84e-15      2.174      0.030    3.84e-16     7.6e-15\n",
            "city_Icheon-si                                           0.7393      0.211      3.498      0.001       0.324       1.155\n",
            "city_Iksan-si                                         1.332e-14   6.07e-15      2.195      0.029    1.39e-15    2.52e-14\n",
            "city_Inje-gun                                        -3.491e-15   1.62e-15     -2.152      0.032   -6.68e-15   -3.04e-16\n",
            "city_Jangsu-gun                                      -1.275e-15   5.77e-16     -2.211      0.027   -2.41e-15   -1.42e-16\n",
            "city_Jeju-do                                             0.0916      0.207      0.442      0.659      -0.316       0.499\n",
            "city_Jeonju-si                                          -0.2010      0.385     -0.522      0.602      -0.957       0.555\n",
            "city_Jeungpyeong-gun                                 -4.749e-14   2.15e-14     -2.209      0.028   -8.97e-14   -5.24e-15\n",
            "city_Jincheon-gun                                     1.473e-14   6.65e-15      2.214      0.027    1.65e-15    2.78e-14\n",
            "city_Jinju-si                                           -0.1867      0.257     -0.726      0.468      -0.692       0.318\n",
            "city_Jongno-gu                                          -0.2731      0.236     -1.158      0.247      -0.736       0.190\n",
            "city_Jung-gu                                            -0.2833      0.170     -1.662      0.097      -0.618       0.052\n",
            "city_Jungnang-gu                                         0.1035      0.168      0.616      0.538      -0.227       0.434\n",
            "city_Mapo-gu                                             0.0847      0.180      0.472      0.637      -0.268       0.437\n",
            "city_Michuhol-gu                                        -0.1458      0.215     -0.677      0.498      -0.569       0.277\n",
            "city_Miryang-si                                         -0.0829      0.222     -0.374      0.709      -0.519       0.353\n",
            "city_Mokpo-si                                        -4.911e-18   9.78e-17     -0.050      0.960   -1.97e-16    1.87e-16\n",
            "city_Muan-gun                                           -0.1593      0.353     -0.452      0.652      -0.852       0.533\n",
            "city_Mungyeong-si                                        0.0335      0.389      0.086      0.931      -0.731       0.798\n",
            "city_Nam-gu                                             -0.2680      0.149     -1.799      0.073      -0.561       0.025\n",
            "city_Namdong-gu                                          0.0718      0.198      0.363      0.717      -0.317       0.460\n",
            "city_Namhae-gun                                         -0.3129      0.758     -0.413      0.680      -1.802       1.176\n",
            "city_Namyangju-si                                       -0.0519      0.293     -0.177      0.859      -0.627       0.523\n",
            "city_Nonsan-si                                          -0.3875      0.235     -1.650      0.100      -0.849       0.074\n",
            "city_Nowon-gu                                           -0.6166      0.849     -0.726      0.468      -2.286       1.053\n",
            "city_Okcheon-gun                                              0          0        nan        nan           0           0\n",
            "city_Osan-si                                             0.0909      0.303      0.300      0.764      -0.504       0.686\n",
            "city_Paju-si                                                  0          0        nan        nan           0           0\n",
            "city_Pocheon-si                                         -0.0739      0.180     -0.412      0.681      -0.427       0.279\n",
            "city_Pohang-si                                           0.0496      0.249      0.200      0.842      -0.439       0.538\n",
            "city_Pyeongtaek-si                                      -0.4443      0.328     -1.353      0.177      -1.090       0.201\n",
            "city_Sacheon-si                                               0          0        nan        nan           0           0\n",
            "city_Saha-gu                                             0.3787      0.227      1.668      0.096      -0.068       0.825\n",
            "city_Samcheok-si                                              0          0        nan        nan           0           0\n",
            "city_Sancheong-gun                                      -0.0211      0.334     -0.063      0.950      -0.677       0.635\n",
            "city_Sangju-si                                           0.1260      0.209      0.602      0.547      -0.285       0.537\n",
            "city_Sasang-gu                                          -0.0609      0.173     -0.352      0.725      -0.401       0.279\n",
            "city_Sejong                                              0.1658      0.105      1.584      0.114      -0.040       0.371\n",
            "city_Seo-gu                                              0.1118      0.200      0.558      0.577      -0.282       0.506\n",
            "city_Seocheon-gun                                       -0.2324      0.432     -0.538      0.591      -1.081       0.617\n",
            "city_Seocho-gu                                           0.4403      0.499      0.883      0.378      -0.539       1.420\n",
            "city_Seodaemun-gu                                       -0.4099      0.494     -0.829      0.408      -1.382       0.562\n",
            "city_Seongbuk-gu                                        -0.5247      0.581     -0.903      0.367      -1.667       0.617\n",
            "city_Seongdong-gu                                        0.0357      0.343      0.104      0.917      -0.638       0.709\n",
            "city_Seongju-gun                                         0.3095      0.343      0.902      0.368      -0.365       0.984\n",
            "city_Seongnam-si                                         0.3903      0.226      1.728      0.085      -0.054       0.834\n",
            "city_Seosan-si                                           0.3152      0.316      0.998      0.319      -0.305       0.936\n",
            "city_Siheung-si                                          0.0684      0.295      0.232      0.817      -0.511       0.648\n",
            "city_Sokcho-si                                           0.6348      0.286      2.219      0.027       0.073       1.197\n",
            "city_Songpa-gu                                           0.5628      0.441      1.276      0.202      -0.304       1.429\n",
            "city_Suncheon-si                                        -0.1214      0.283     -0.430      0.668      -0.677       0.434\n",
            "city_Suseong-gu                                               0          0        nan        nan           0           0\n",
            "city_Suwon-si                                            0.0033      0.362      0.009      0.993      -0.707       0.714\n",
            "city_Suyeong-gu                                          0.4565      0.496      0.919      0.358      -0.519       1.432\n",
            "city_Taean-gun                                           0.0221      0.421      0.053      0.958      -0.804       0.849\n",
            "city_Taebaek-si                                               0          0        nan        nan           0           0\n",
            "city_Uijeongbu-si                                        0.0696      0.158      0.440      0.660      -0.241       0.380\n",
            "city_Uiseong-gun                                         0.0177      0.514      0.034      0.973      -0.992       1.027\n",
            "city_Uiwang-si                                           0.2727      0.358      0.761      0.447      -0.431       0.977\n",
            "city_Ulju-gun                                           -0.5113      0.414     -1.234      0.218      -1.325       0.303\n",
            "city_Wonju-si                                            0.1849      0.189      0.978      0.329      -0.187       0.557\n",
            "city_Yangcheon-gu                                       -0.2335      0.342     -0.683      0.495      -0.905       0.438\n",
            "city_Yangju-si                                          -0.0914      0.275     -0.333      0.739      -0.631       0.448\n",
            "city_Yangsan-si                                          0.3646      0.494      0.737      0.461      -0.607       1.336\n",
            "city_Yecheon-gun                                        -0.8594      0.458     -1.877      0.061      -1.759       0.040\n",
            "city_Yeongcheon-si                                       0.3238      0.154      2.109      0.036       0.022       0.625\n",
            "city_Yeongdeok-gun                                            0          0        nan        nan           0           0\n",
            "city_Yeongdeungpo-gu                                     0.2458      0.255      0.963      0.336      -0.256       0.747\n",
            "city_Yeongju-si                                          0.0882      0.260      0.339      0.735      -0.424       0.600\n",
            "city_Yeongwol-gun                                             0          0        nan        nan           0           0\n",
            "city_Yeongyang-gun                                            0          0        nan        nan           0           0\n",
            "city_Yeonje-gu                                                0          0        nan        nan           0           0\n",
            "city_Yeonsu-gu                                          -0.3832      0.217     -1.769      0.078      -0.809       0.043\n",
            "city_Yeosu-si                                                 0          0        nan        nan           0           0\n",
            "city_Yongin-si                                          -0.7721      0.465     -1.661      0.097      -1.685       0.141\n",
            "city_Yongsan-gu                                          0.0649      0.218      0.298      0.766      -0.363       0.493\n",
            "city_Yuseong-gu                                          0.2422      0.310      0.782      0.435      -0.367       0.851\n",
            "==============================================================================\n",
            "Omnibus:                      206.391   Durbin-Watson:                   1.970\n",
            "Prob(Omnibus):                  0.000   Jarque-Bera (JB):             3875.275\n",
            "Skew:                          -0.985   Prob(JB):                         0.00\n",
            "Kurtosis:                      15.129   Cond. No.                     1.31e+19\n",
            "==============================================================================\n",
            "\n",
            "Warnings:\n",
            "[1] Standard Errors assume that the covariance matrix of the errors is correctly specified.\n",
            "[2] The smallest eigenvalue is 3.78e-30. This might indicate that there are\n",
            "strong multicollinearity problems or that the design matrix is singular.\n"
          ],
          "name": "stdout"
        },
        {
          "output_type": "stream",
          "text": [
            "/usr/local/lib/python3.6/dist-packages/statsmodels/base/model.py:1294: RuntimeWarning: invalid value encountered in true_divide\n",
            "  return self.params / self.bse\n",
            "/usr/local/lib/python3.6/dist-packages/scipy/stats/_distn_infrastructure.py:903: RuntimeWarning: invalid value encountered in greater\n",
            "  return (a < x) & (x < b)\n",
            "/usr/local/lib/python3.6/dist-packages/scipy/stats/_distn_infrastructure.py:903: RuntimeWarning: invalid value encountered in less\n",
            "  return (a < x) & (x < b)\n",
            "/usr/local/lib/python3.6/dist-packages/scipy/stats/_distn_infrastructure.py:1912: RuntimeWarning: invalid value encountered in less_equal\n",
            "  cond2 = cond0 & (x <= _a)\n"
          ],
          "name": "stderr"
        }
      ]
    },
    {
      "cell_type": "code",
      "metadata": {
        "id": "BP2q33f4-p50"
      },
      "source": [
        "# Map the states\n",
        "mapped_states = dict( enumerate(full_df['state'].astype('category').cat.categories))"
      ],
      "execution_count": null,
      "outputs": []
    },
    {
      "cell_type": "code",
      "metadata": {
        "id": "mJjryeL_-p50"
      },
      "source": [
        "# Set prediction as dataframe\n",
        "predicted_df = pd.DataFrame(predictions.astype('int'), columns=['predicted'])"
      ],
      "execution_count": null,
      "outputs": []
    },
    {
      "cell_type": "code",
      "metadata": {
        "colab": {
          "base_uri": "https://localhost:8080/"
        },
        "id": "Cd_xxZWD-p50",
        "outputId": "4408fe92-83e4-4926-90be-24297dcb8de9"
      },
      "source": [
        "# Add the predicted state\n",
        "predicted_df['predicted_state'] = predicted_df['predicted'].map(mapped_states)\n",
        "predicted_df.head()"
      ],
      "execution_count": null,
      "outputs": [
        {
          "output_type": "execute_result",
          "data": {
            "text/html": [
              "<div>\n",
              "<style scoped>\n",
              "    .dataframe tbody tr th:only-of-type {\n",
              "        vertical-align: middle;\n",
              "    }\n",
              "\n",
              "    .dataframe tbody tr th {\n",
              "        vertical-align: top;\n",
              "    }\n",
              "\n",
              "    .dataframe thead th {\n",
              "        text-align: right;\n",
              "    }\n",
              "</style>\n",
              "<table border=\"1\" class=\"dataframe\">\n",
              "  <thead>\n",
              "    <tr style=\"text-align: right;\">\n",
              "      <th></th>\n",
              "      <th>predicted</th>\n",
              "      <th>predicted_state</th>\n",
              "    </tr>\n",
              "  </thead>\n",
              "  <tbody>\n",
              "    <tr>\n",
              "      <th>0</th>\n",
              "      <td>2</td>\n",
              "      <td>released</td>\n",
              "    </tr>\n",
              "    <tr>\n",
              "      <th>1</th>\n",
              "      <td>1</td>\n",
              "      <td>isolated</td>\n",
              "    </tr>\n",
              "    <tr>\n",
              "      <th>2</th>\n",
              "      <td>1</td>\n",
              "      <td>isolated</td>\n",
              "    </tr>\n",
              "    <tr>\n",
              "      <th>3</th>\n",
              "      <td>2</td>\n",
              "      <td>released</td>\n",
              "    </tr>\n",
              "    <tr>\n",
              "      <th>4</th>\n",
              "      <td>1</td>\n",
              "      <td>isolated</td>\n",
              "    </tr>\n",
              "  </tbody>\n",
              "</table>\n",
              "</div>"
            ],
            "text/plain": [
              "   predicted predicted_state\n",
              "0          2        released\n",
              "1          1        isolated\n",
              "2          1        isolated\n",
              "3          2        released\n",
              "4          1        isolated"
            ]
          },
          "metadata": {
            "tags": []
          },
          "execution_count": 310
        }
      ]
    },
    {
      "cell_type": "code",
      "metadata": {
        "colab": {
          "base_uri": "https://localhost:8080/"
        },
        "id": "J5QR6fvDDtzA",
        "outputId": "d3b9a89d-5d02-4f2d-ced3-434a3bb332bc"
      },
      "source": [
        "# Reset the index for y_test\n",
        "y_test = y_test.reset_index(drop=True)\n",
        "y_test.head()"
      ],
      "execution_count": null,
      "outputs": [
        {
          "output_type": "execute_result",
          "data": {
            "text/html": [
              "<div>\n",
              "<style scoped>\n",
              "    .dataframe tbody tr th:only-of-type {\n",
              "        vertical-align: middle;\n",
              "    }\n",
              "\n",
              "    .dataframe tbody tr th {\n",
              "        vertical-align: top;\n",
              "    }\n",
              "\n",
              "    .dataframe thead th {\n",
              "        text-align: right;\n",
              "    }\n",
              "</style>\n",
              "<table border=\"1\" class=\"dataframe\">\n",
              "  <thead>\n",
              "    <tr style=\"text-align: right;\">\n",
              "      <th></th>\n",
              "      <th>state_cat</th>\n",
              "    </tr>\n",
              "  </thead>\n",
              "  <tbody>\n",
              "    <tr>\n",
              "      <th>0</th>\n",
              "      <td>2</td>\n",
              "    </tr>\n",
              "    <tr>\n",
              "      <th>1</th>\n",
              "      <td>2</td>\n",
              "    </tr>\n",
              "    <tr>\n",
              "      <th>2</th>\n",
              "      <td>2</td>\n",
              "    </tr>\n",
              "    <tr>\n",
              "      <th>3</th>\n",
              "      <td>2</td>\n",
              "    </tr>\n",
              "    <tr>\n",
              "      <th>4</th>\n",
              "      <td>2</td>\n",
              "    </tr>\n",
              "  </tbody>\n",
              "</table>\n",
              "</div>"
            ],
            "text/plain": [
              "   state_cat\n",
              "0          2\n",
              "1          2\n",
              "2          2\n",
              "3          2\n",
              "4          2"
            ]
          },
          "metadata": {
            "tags": []
          },
          "execution_count": 311
        }
      ]
    },
    {
      "cell_type": "code",
      "metadata": {
        "colab": {
          "base_uri": "https://localhost:8080/"
        },
        "id": "ysQExK07-p50",
        "outputId": "54f4bf12-cc6a-4d9b-8774-901a3a36ead0"
      },
      "source": [
        "# Check with actual state\n",
        "predicted_final_df = pd.concat([predicted_df, y_test[['state_cat']]], axis=1)\n",
        "predicted_final_df.tail()"
      ],
      "execution_count": null,
      "outputs": [
        {
          "output_type": "execute_result",
          "data": {
            "text/html": [
              "<div>\n",
              "<style scoped>\n",
              "    .dataframe tbody tr th:only-of-type {\n",
              "        vertical-align: middle;\n",
              "    }\n",
              "\n",
              "    .dataframe tbody tr th {\n",
              "        vertical-align: top;\n",
              "    }\n",
              "\n",
              "    .dataframe thead th {\n",
              "        text-align: right;\n",
              "    }\n",
              "</style>\n",
              "<table border=\"1\" class=\"dataframe\">\n",
              "  <thead>\n",
              "    <tr style=\"text-align: right;\">\n",
              "      <th></th>\n",
              "      <th>predicted</th>\n",
              "      <th>predicted_state</th>\n",
              "      <th>state_cat</th>\n",
              "    </tr>\n",
              "  </thead>\n",
              "  <tbody>\n",
              "    <tr>\n",
              "      <th>611</th>\n",
              "      <td>1</td>\n",
              "      <td>isolated</td>\n",
              "      <td>2</td>\n",
              "    </tr>\n",
              "    <tr>\n",
              "      <th>612</th>\n",
              "      <td>0</td>\n",
              "      <td>deceased</td>\n",
              "      <td>1</td>\n",
              "    </tr>\n",
              "    <tr>\n",
              "      <th>613</th>\n",
              "      <td>2</td>\n",
              "      <td>released</td>\n",
              "      <td>2</td>\n",
              "    </tr>\n",
              "    <tr>\n",
              "      <th>614</th>\n",
              "      <td>1</td>\n",
              "      <td>isolated</td>\n",
              "      <td>1</td>\n",
              "    </tr>\n",
              "    <tr>\n",
              "      <th>615</th>\n",
              "      <td>1</td>\n",
              "      <td>isolated</td>\n",
              "      <td>1</td>\n",
              "    </tr>\n",
              "  </tbody>\n",
              "</table>\n",
              "</div>"
            ],
            "text/plain": [
              "     predicted predicted_state  state_cat\n",
              "611          1        isolated          2\n",
              "612          0        deceased          1\n",
              "613          2        released          2\n",
              "614          1        isolated          1\n",
              "615          1        isolated          1"
            ]
          },
          "metadata": {
            "tags": []
          },
          "execution_count": 312
        }
      ]
    },
    {
      "cell_type": "code",
      "metadata": {
        "id": "1u9ycwF9Eh6O"
      },
      "source": [
        "# Add the mapped states\n",
        "predicted_final_df['state'] = predicted_final_df['state_cat'].map(mapped_states)"
      ],
      "execution_count": null,
      "outputs": []
    },
    {
      "cell_type": "code",
      "metadata": {
        "colab": {
          "base_uri": "https://localhost:8080/"
        },
        "id": "gG0G_KmgEu0A",
        "outputId": "f4b3c930-ced8-42c0-ce71-4146f4d7d186"
      },
      "source": [
        "# Check predicted_final_df\n",
        "predicted_final_df.tail()"
      ],
      "execution_count": null,
      "outputs": [
        {
          "output_type": "execute_result",
          "data": {
            "text/html": [
              "<div>\n",
              "<style scoped>\n",
              "    .dataframe tbody tr th:only-of-type {\n",
              "        vertical-align: middle;\n",
              "    }\n",
              "\n",
              "    .dataframe tbody tr th {\n",
              "        vertical-align: top;\n",
              "    }\n",
              "\n",
              "    .dataframe thead th {\n",
              "        text-align: right;\n",
              "    }\n",
              "</style>\n",
              "<table border=\"1\" class=\"dataframe\">\n",
              "  <thead>\n",
              "    <tr style=\"text-align: right;\">\n",
              "      <th></th>\n",
              "      <th>predicted</th>\n",
              "      <th>predicted_state</th>\n",
              "      <th>state_cat</th>\n",
              "      <th>state</th>\n",
              "    </tr>\n",
              "  </thead>\n",
              "  <tbody>\n",
              "    <tr>\n",
              "      <th>611</th>\n",
              "      <td>1</td>\n",
              "      <td>isolated</td>\n",
              "      <td>2</td>\n",
              "      <td>released</td>\n",
              "    </tr>\n",
              "    <tr>\n",
              "      <th>612</th>\n",
              "      <td>0</td>\n",
              "      <td>deceased</td>\n",
              "      <td>1</td>\n",
              "      <td>isolated</td>\n",
              "    </tr>\n",
              "    <tr>\n",
              "      <th>613</th>\n",
              "      <td>2</td>\n",
              "      <td>released</td>\n",
              "      <td>2</td>\n",
              "      <td>released</td>\n",
              "    </tr>\n",
              "    <tr>\n",
              "      <th>614</th>\n",
              "      <td>1</td>\n",
              "      <td>isolated</td>\n",
              "      <td>1</td>\n",
              "      <td>isolated</td>\n",
              "    </tr>\n",
              "    <tr>\n",
              "      <th>615</th>\n",
              "      <td>1</td>\n",
              "      <td>isolated</td>\n",
              "      <td>1</td>\n",
              "      <td>isolated</td>\n",
              "    </tr>\n",
              "  </tbody>\n",
              "</table>\n",
              "</div>"
            ],
            "text/plain": [
              "     predicted predicted_state  state_cat     state\n",
              "611          1        isolated          2  released\n",
              "612          0        deceased          1  isolated\n",
              "613          2        released          2  released\n",
              "614          1        isolated          1  isolated\n",
              "615          1        isolated          1  isolated"
            ]
          },
          "metadata": {
            "tags": []
          },
          "execution_count": 314
        }
      ]
    },
    {
      "cell_type": "code",
      "metadata": {
        "colab": {
          "base_uri": "https://localhost:8080/"
        },
        "id": "dI0XfKsL-p51",
        "outputId": "38bdb76a-db07-49a4-f362-ff6ae5f085a4"
      },
      "source": [
        "# Count values\n",
        "predicted_counts = pd.DataFrame(predicted_final_df.state.value_counts())\n",
        "predicted_counts['predicted'] = predicted_final_df.predicted_state.value_counts()\n",
        "\n",
        "predicted_counts"
      ],
      "execution_count": null,
      "outputs": [
        {
          "output_type": "execute_result",
          "data": {
            "text/html": [
              "<div>\n",
              "<style scoped>\n",
              "    .dataframe tbody tr th:only-of-type {\n",
              "        vertical-align: middle;\n",
              "    }\n",
              "\n",
              "    .dataframe tbody tr th {\n",
              "        vertical-align: top;\n",
              "    }\n",
              "\n",
              "    .dataframe thead th {\n",
              "        text-align: right;\n",
              "    }\n",
              "</style>\n",
              "<table border=\"1\" class=\"dataframe\">\n",
              "  <thead>\n",
              "    <tr style=\"text-align: right;\">\n",
              "      <th></th>\n",
              "      <th>state</th>\n",
              "      <th>predicted</th>\n",
              "    </tr>\n",
              "  </thead>\n",
              "  <tbody>\n",
              "    <tr>\n",
              "      <th>released</th>\n",
              "      <td>374</td>\n",
              "      <td>112</td>\n",
              "    </tr>\n",
              "    <tr>\n",
              "      <th>isolated</th>\n",
              "      <td>235</td>\n",
              "      <td>440</td>\n",
              "    </tr>\n",
              "    <tr>\n",
              "      <th>deceased</th>\n",
              "      <td>7</td>\n",
              "      <td>64</td>\n",
              "    </tr>\n",
              "  </tbody>\n",
              "</table>\n",
              "</div>"
            ],
            "text/plain": [
              "          state  predicted\n",
              "released    374        112\n",
              "isolated    235        440\n",
              "deceased      7         64"
            ]
          },
          "metadata": {
            "tags": []
          },
          "execution_count": 315
        }
      ]
    },
    {
      "cell_type": "code",
      "metadata": {
        "colab": {
          "base_uri": "https://localhost:8080/"
        },
        "id": "lIcX3zQT-jFp",
        "outputId": "3a7a2ac8-7359-4fd4-ee73-4da0391612c2"
      },
      "source": [
        "# Plot the actual situation\n",
        "states = ['released', 'isolated', 'deceased']\n",
        "\n",
        "actual = [374, 235, 7]\n",
        "predicted = [108, 443, 65]\n",
        "\n",
        "plt.bar(states, actual)\n",
        "plt.show()"
      ],
      "execution_count": null,
      "outputs": [
        {
          "output_type": "display_data",
          "data": {
            "image/png": "[encoded data removed]",
            "text/plain": [
              "<Figure size 432x288 with 1 Axes>"
            ]
          },
          "metadata": {
            "tags": []
          }
        }
      ]
    },
    {
      "cell_type": "code",
      "metadata": {
        "colab": {
          "base_uri": "https://localhost:8080/"
        },
        "id": "wodLXr1JH9ow",
        "outputId": "36b8f708-3f6e-4887-e3ef-4553e8619471"
      },
      "source": [
        "# Plot the difference between actual and predicted\n",
        "plt.figure(figsize=[15, 10])\n",
        "\n",
        "X = np.arange(len(actual))\n",
        "plt.bar(X, actual, color = 'pink', width = 0.25)\n",
        "plt.bar(X + 0.25, predicted, color = 'orange', width = 0.25)\n",
        "\n",
        "\n",
        "plt.legend(['Total actual', 'Total predicted'])\n",
        "plt.xticks([i + 0.25 for i in range(3)], states)\n",
        "plt.title(\"Bar plot representing the total predicted and total actual cases state wise\")\n",
        "\n",
        "plt.xlabel('States')\n",
        "plt.ylabel('Cases')\n",
        "plt.show()"
      ],
      "execution_count": null,
      "outputs": [
        {
          "output_type": "display_data",
          "data": {
            "image/png": "[encoded data removed]",
            "text/plain": [
              "<Figure size 1080x720 with 1 Axes>"
            ]
          },
          "metadata": {
            "tags": []
          }
        }
      ]
    }
  ]
}