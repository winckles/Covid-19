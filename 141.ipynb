{
  "nbformat": 4,
  "nbformat_minor": 0,
  "metadata": {
    "kernelspec": {
      "display_name": "Python 3",
      "language": "python",
      "name": "python3"
    },
    "language_info": {
      "codemirror_mode": {
        "name": "ipython",
        "version": 3
      },
      "file_extension": ".py",
      "mimetype": "text/x-python",
      "name": "python",
      "nbconvert_exporter": "python",
      "pygments_lexer": "ipython3",
      "version": "3.8.5"
    },
    "colab": {
      "name": "141.ipynb",
      "provenance": []
    }
  },
  "cells": [
    {
      "cell_type": "markdown",
      "metadata": {
        "id": "a8bkqME5m9d_"
      },
      "source": [
        "# COVID-19 "
      ]
    },
    {
      "cell_type": "markdown",
      "metadata": {
        "id": "z5i82BdIm9d_"
      },
      "source": [
        "----"
      ]
    },
    {
      "cell_type": "markdown",
      "metadata": {
        "id": "_JFpricum9d_"
      },
      "source": [
        "The world is still struggling with one the most rapidly spreading pandemics. There are a lot of people who say that data is the best weapon we can use in this \"Corona Fight\". \n",
        "\n",
        "Imagine that you are one of the best data scientists in your country. The president of your country asked you to analyze the COVID-19 patient-level data of South Korea and prepare your homeland for the next wave of the pandemic. You, as the lead data scientist of your country **have to create and prove a plan of fighting the pandemics in your country** by analyzing the provided data. You must get most important insights using learned data science techniques and present them to the lead of your country."
      ]
    },
    {
      "cell_type": "markdown",
      "metadata": {
        "id": "Uvga-O0Bm9d_"
      },
      "source": [
        "https://www.kaggle.com/kimjihoo/coronavirusdataset/"
      ]
    },
    {
      "cell_type": "markdown",
      "metadata": {
        "id": "4iUabJgym9d_"
      },
      "source": [
        "### Requirements"
      ]
    },
    {
      "cell_type": "markdown",
      "metadata": {
        "id": "aJ64ciUzQL8o"
      },
      "source": [
        "#### Exploratory Data Analysis\n",
        "* Describe the data with basic statistical parameters - mean, median, quantiles, etc. Use parameters that give you the most important statistical insights of the data.\n",
        "* Grouping the data and analyzing the groups - using Pandas aggregate methods.\n",
        "* Work with features - handle missing data if needed, use pandas date APIs.\n",
        "* Manipulate datasets - use joins in needed.\n",
        "* Visualize the data - you can use line, scatter, histogram plots, density plots, regplots, etc.\n",
        "\n",
        "#### Statistical hypothesis testing\n",
        "* Use at least one statistical significance test.\n",
        "* Report p-values.\n",
        "* Use visualizations.\n",
        "\n",
        "#### Modeling\n",
        "* [x] Visualize data with dimensionality reduction algorithms.\n",
        "- [x] Perform cluster analysis.\n",
        "* Use a linear model to explain relationships by correlation and predict new values.\n",
        "\n",
        "#### Presentation\n",
        "* Present the project - the data, methods and results.\n",
        "\n",
        "#### Evaluation Criteria\n",
        "- Code quality\n",
        "- Fulfillment of the idea\n",
        "- Adherence to the requirements\n",
        "- Delivery of the presentation\n",
        "\n",
        "#### Statistical hypothesis testing\n",
        "- Correct statistical test method is used, based on the situation.\n",
        "- Reasoning on chosen statistical significance level.\n",
        "\n",
        "#### Modeling\n",
        "- [x] Both PCA and T-SNE algorithms are used.\n",
        "\n",
        "\n",
        "<div><img width=\"400px\" height=\"auto\" src=\"https://images.unsplash.com/photo-1574515944794-d6dedc7150de?ixlib=rb-1.2.1&ixid=MXwxMjA3fDB8MHxwaG90by1wYWdlfHx8fGVufDB8fHw%3D&auto=format&fit=crop&w=1532&q=80\" /></div>"
      ]
    },
    {
      "cell_type": "markdown",
      "metadata": {
        "id": "1JEdfBPX9BzT"
      },
      "source": [
        "### Getting started"
      ]
    },
    {
      "cell_type": "code",
      "metadata": {
        "id": "FYNfJwgy3cKu"
      },
      "source": [
        "# importing the necessary modules\n",
        "import pandas as pd\n",
        "import numpy as np\n",
        "import scipy.stats as stats\n",
        "\n",
        "import seaborn as sns\n",
        "import matplotlib.pyplot as plt\n",
        "from matplotlib import pyplot\n",
        "\n",
        "from sklearn.decomposition import PCA\n",
        "from sklearn.manifold import TSNE\n",
        "from sklearn.preprocessing import StandardScaler\n",
        "\n",
        "from sklearn.linear_model import LinearRegression\n",
        "from sklearn.metrics import mean_squared_error, r2_score\n",
        "from sklearn.tree import DecisionTreeClassifier\n",
        "from sklearn.model_selection import train_test_split\n",
        "from sklearn.metrics import accuracy_score\n",
        "from sklearn.cluster import KMeans"
      ],
      "execution_count": 4,
      "outputs": []
    },
    {
      "cell_type": "code",
      "metadata": {
        "id": "iAJDLW-ibiqc"
      },
      "source": [
        "# Load the data\n",
        "case = pd.read_csv(\"https://raw.githubusercontent.com/TuringCollegeSubmissions/lcramw-DS.1.4/master/Case.csv?token=AFU2SI6VUUPBE5YQYZMOLXC72HE3S\")\n",
        "patient = pd.read_csv(\"https://raw.githubusercontent.com/TuringCollegeSubmissions/lcramw-DS.1.4/master/PatientInfo.csv?token=AFU2SI3MJJRN7U6ASU47T4C72HE2G\")\n",
        "policy = pd.read_csv(\"https://raw.githubusercontent.com/TuringCollegeSubmissions/lcramw-DS.1.4/master/Policy.csv?token=AFU2SIY2DTJJUOJKVJ6FRHK72HGLI\")\n",
        "region = pd.read_csv(\"https://raw.githubusercontent.com/TuringCollegeSubmissions/lcramw-DS.1.4/master/Region.csv?token=AFU2SIYZDGW7DBUX7RYONTS72HGJU\")\n",
        "search_trend = pd.read_csv(\"https://raw.githubusercontent.com/TuringCollegeSubmissions/lcramw-DS.1.4/master/SearchTrend.csv?token=AFU2SI6XXFGO6I7ZNW6SAUK72HGHU\")\n",
        "# seoul = pd.read_csv(\"https://github.com/TuringCollegeSubmissions/lcramw-DS.1.4/blob/master/SeoulFloating.csv.zip?raw=true\")\n",
        "time = pd.read_csv(\"https://raw.githubusercontent.com/TuringCollegeSubmissions/lcramw-DS.1.4/master/Time.csv?token=AFU2SI3BAPSZX6HQDT4SZZ272HGFS\")\n",
        "time_age = pd.read_csv(\"https://raw.githubusercontent.com/TuringCollegeSubmissions/lcramw-DS.1.4/master/TimeAge.csv?token=AFU2SI7BED77ELOCPDVT2YC72HGEU\")\n",
        "time_gender = pd.read_csv(\"https://raw.githubusercontent.com/TuringCollegeSubmissions/lcramw-DS.1.4/master/TimeGender.csv?token=AFU2SIZMN7GXCQHJ5IHQIMK72HGC2\")\n",
        "time_province = pd.read_csv(\"https://raw.githubusercontent.com/TuringCollegeSubmissions/lcramw-DS.1.4/master/TimeProvince.csv?token=AFU2SI2GS5CZLMYM2GSQP3272HGBS\")\n",
        "weather = pd.read_csv(\"https://raw.githubusercontent.com/TuringCollegeSubmissions/lcramw-DS.1.4/master/Weather.csv?token=AFU2SI7TOYZRPM5GX6JMVOC72HGAU\")"
      ],
      "execution_count": 84,
      "outputs": []
    },
    {
      "cell_type": "code",
      "metadata": {
        "id": "UUxIBj1tivAL"
      },
      "source": [
        "# Loading extra data\n",
        "confirmed_df = pd.read_csv('https://raw.githubusercontent.com/CSSEGISandData/COVID-19/master/csse_covid_19_data/csse_covid_19_time_series/time_series_covid19_confirmed_global.csv')\n",
        "deaths_df = pd.read_csv('https://raw.githubusercontent.com/CSSEGISandData/COVID-19/master/csse_covid_19_data/csse_covid_19_time_series/time_series_covid19_deaths_global.csv')\n",
        "recoveries_df = pd.read_csv('https://raw.githubusercontent.com/CSSEGISandData/COVID-19/master/csse_covid_19_data/csse_covid_19_time_series/time_series_covid19_recovered_global.csv')\n",
        "latest_data = pd.read_csv('https://raw.githubusercontent.com/CSSEGISandData/COVID-19/master/csse_covid_19_data/csse_covid_19_daily_reports/08-22-2020.csv')\n",
        "us_medical_data = pd.read_csv('https://raw.githubusercontent.com/CSSEGISandData/COVID-19/master/csse_covid_19_data/csse_covid_19_daily_reports_us/08-22-2020.csv')"
      ],
      "execution_count": null,
      "outputs": []
    },
    {
      "cell_type": "markdown",
      "metadata": {
        "id": "AxqzrPas9HPY"
      },
      "source": [
        "### EDA"
      ]
    },
    {
      "cell_type": "code",
      "metadata": {
        "id": "s1zQlF5Q-UfF",
        "colab": {
          "base_uri": "https://localhost:8080/",
          "height": 292
        },
        "outputId": "1e46c4e9-4ca5-48e4-8af3-86fe91847275"
      },
      "source": [
        "patient.head()"
      ],
      "execution_count": 6,
      "outputs": [
        {
          "output_type": "execute_result",
          "data": {
            "text/html": [
              "<div>\n",
              "<style scoped>\n",
              "    .dataframe tbody tr th:only-of-type {\n",
              "        vertical-align: middle;\n",
              "    }\n",
              "\n",
              "    .dataframe tbody tr th {\n",
              "        vertical-align: top;\n",
              "    }\n",
              "\n",
              "    .dataframe thead th {\n",
              "        text-align: right;\n",
              "    }\n",
              "</style>\n",
              "<table border=\"1\" class=\"dataframe\">\n",
              "  <thead>\n",
              "    <tr style=\"text-align: right;\">\n",
              "      <th></th>\n",
              "      <th>patient_id</th>\n",
              "      <th>sex</th>\n",
              "      <th>age</th>\n",
              "      <th>country</th>\n",
              "      <th>province</th>\n",
              "      <th>city</th>\n",
              "      <th>infection_case</th>\n",
              "      <th>infected_by</th>\n",
              "      <th>contact_number</th>\n",
              "      <th>symptom_onset_date</th>\n",
              "      <th>confirmed_date</th>\n",
              "      <th>released_date</th>\n",
              "      <th>deceased_date</th>\n",
              "      <th>state</th>\n",
              "    </tr>\n",
              "  </thead>\n",
              "  <tbody>\n",
              "    <tr>\n",
              "      <th>0</th>\n",
              "      <td>1000000001</td>\n",
              "      <td>male</td>\n",
              "      <td>50s</td>\n",
              "      <td>Korea</td>\n",
              "      <td>Seoul</td>\n",
              "      <td>Gangseo-gu</td>\n",
              "      <td>overseas inflow</td>\n",
              "      <td>NaN</td>\n",
              "      <td>75</td>\n",
              "      <td>2020-01-22</td>\n",
              "      <td>2020-01-23</td>\n",
              "      <td>2020-02-05</td>\n",
              "      <td>NaN</td>\n",
              "      <td>released</td>\n",
              "    </tr>\n",
              "    <tr>\n",
              "      <th>1</th>\n",
              "      <td>1000000002</td>\n",
              "      <td>male</td>\n",
              "      <td>30s</td>\n",
              "      <td>Korea</td>\n",
              "      <td>Seoul</td>\n",
              "      <td>Jungnang-gu</td>\n",
              "      <td>overseas inflow</td>\n",
              "      <td>NaN</td>\n",
              "      <td>31</td>\n",
              "      <td>NaN</td>\n",
              "      <td>2020-01-30</td>\n",
              "      <td>2020-03-02</td>\n",
              "      <td>NaN</td>\n",
              "      <td>released</td>\n",
              "    </tr>\n",
              "    <tr>\n",
              "      <th>2</th>\n",
              "      <td>1000000003</td>\n",
              "      <td>male</td>\n",
              "      <td>50s</td>\n",
              "      <td>Korea</td>\n",
              "      <td>Seoul</td>\n",
              "      <td>Jongno-gu</td>\n",
              "      <td>contact with patient</td>\n",
              "      <td>2002000001</td>\n",
              "      <td>17</td>\n",
              "      <td>NaN</td>\n",
              "      <td>2020-01-30</td>\n",
              "      <td>2020-02-19</td>\n",
              "      <td>NaN</td>\n",
              "      <td>released</td>\n",
              "    </tr>\n",
              "    <tr>\n",
              "      <th>3</th>\n",
              "      <td>1000000004</td>\n",
              "      <td>male</td>\n",
              "      <td>20s</td>\n",
              "      <td>Korea</td>\n",
              "      <td>Seoul</td>\n",
              "      <td>Mapo-gu</td>\n",
              "      <td>overseas inflow</td>\n",
              "      <td>NaN</td>\n",
              "      <td>9</td>\n",
              "      <td>2020-01-26</td>\n",
              "      <td>2020-01-30</td>\n",
              "      <td>2020-02-15</td>\n",
              "      <td>NaN</td>\n",
              "      <td>released</td>\n",
              "    </tr>\n",
              "    <tr>\n",
              "      <th>4</th>\n",
              "      <td>1000000005</td>\n",
              "      <td>female</td>\n",
              "      <td>20s</td>\n",
              "      <td>Korea</td>\n",
              "      <td>Seoul</td>\n",
              "      <td>Seongbuk-gu</td>\n",
              "      <td>contact with patient</td>\n",
              "      <td>1000000002</td>\n",
              "      <td>2</td>\n",
              "      <td>NaN</td>\n",
              "      <td>2020-01-31</td>\n",
              "      <td>2020-02-24</td>\n",
              "      <td>NaN</td>\n",
              "      <td>released</td>\n",
              "    </tr>\n",
              "  </tbody>\n",
              "</table>\n",
              "</div>"
            ],
            "text/plain": [
              "   patient_id     sex  age  ... released_date deceased_date     state\n",
              "0  1000000001    male  50s  ...    2020-02-05           NaN  released\n",
              "1  1000000002    male  30s  ...    2020-03-02           NaN  released\n",
              "2  1000000003    male  50s  ...    2020-02-19           NaN  released\n",
              "3  1000000004    male  20s  ...    2020-02-15           NaN  released\n",
              "4  1000000005  female  20s  ...    2020-02-24           NaN  released\n",
              "\n",
              "[5 rows x 14 columns]"
            ]
          },
          "metadata": {
            "tags": []
          },
          "execution_count": 6
        }
      ]
    },
    {
      "cell_type": "code",
      "metadata": {
        "colab": {
          "base_uri": "https://localhost:8080/"
        },
        "id": "1uqG758rYS9j",
        "outputId": "c0530ba7-4fa3-4c8a-970f-2ab891a875ff"
      },
      "source": [
        "patient.shape"
      ],
      "execution_count": 11,
      "outputs": [
        {
          "output_type": "execute_result",
          "data": {
            "text/plain": [
              "(5165, 14)"
            ]
          },
          "metadata": {
            "tags": []
          },
          "execution_count": 11
        }
      ]
    },
    {
      "cell_type": "code",
      "metadata": {
        "colab": {
          "base_uri": "https://localhost:8080/"
        },
        "id": "m5CqE1g0ZGDS",
        "outputId": "6bc02254-1b7b-4628-fcf3-70f6f72c4b12"
      },
      "source": [
        "patient.info()"
      ],
      "execution_count": 12,
      "outputs": [
        {
          "output_type": "stream",
          "text": [
            "<class 'pandas.core.frame.DataFrame'>\n",
            "RangeIndex: 5165 entries, 0 to 5164\n",
            "Data columns (total 14 columns):\n",
            " #   Column              Non-Null Count  Dtype \n",
            "---  ------              --------------  ----- \n",
            " 0   patient_id          5165 non-null   int64 \n",
            " 1   sex                 4043 non-null   object\n",
            " 2   age                 3785 non-null   object\n",
            " 3   country             5165 non-null   object\n",
            " 4   province            5165 non-null   object\n",
            " 5   city                5071 non-null   object\n",
            " 6   infection_case      4246 non-null   object\n",
            " 7   infected_by         1346 non-null   object\n",
            " 8   contact_number      791 non-null    object\n",
            " 9   symptom_onset_date  690 non-null    object\n",
            " 10  confirmed_date      5162 non-null   object\n",
            " 11  released_date       1587 non-null   object\n",
            " 12  deceased_date       66 non-null     object\n",
            " 13  state               5165 non-null   object\n",
            "dtypes: int64(1), object(13)\n",
            "memory usage: 565.0+ KB\n"
          ],
          "name": "stdout"
        }
      ]
    },
    {
      "cell_type": "code",
      "metadata": {
        "colab": {
          "base_uri": "https://localhost:8080/"
        },
        "id": "sVM6a33UeC7r",
        "outputId": "cacc24f1-be55-4277-93ae-7fcee19142b9"
      },
      "source": [
        "print(\"first Infected date in korea: \", patient['confirmed_date'][0])"
      ],
      "execution_count": 4,
      "outputs": [
        {
          "output_type": "stream",
          "text": [
            "first Infected date in korea:  2020-01-23\n"
          ],
          "name": "stdout"
        }
      ]
    },
    {
      "cell_type": "code",
      "metadata": {
        "colab": {
          "base_uri": "https://localhost:8080/",
          "height": 292
        },
        "id": "yVATw2MccfKN",
        "outputId": "4a7ddc1b-2697-47cb-d2e5-b8a38a5f7761"
      },
      "source": [
        "region.head()"
      ],
      "execution_count": null,
      "outputs": [
        {
          "output_type": "execute_result",
          "data": {
            "text/html": [
              "<div>\n",
              "<style scoped>\n",
              "    .dataframe tbody tr th:only-of-type {\n",
              "        vertical-align: middle;\n",
              "    }\n",
              "\n",
              "    .dataframe tbody tr th {\n",
              "        vertical-align: top;\n",
              "    }\n",
              "\n",
              "    .dataframe thead th {\n",
              "        text-align: right;\n",
              "    }\n",
              "</style>\n",
              "<table border=\"1\" class=\"dataframe\">\n",
              "  <thead>\n",
              "    <tr style=\"text-align: right;\">\n",
              "      <th></th>\n",
              "      <th>code</th>\n",
              "      <th>province</th>\n",
              "      <th>city</th>\n",
              "      <th>latitude</th>\n",
              "      <th>longitude</th>\n",
              "      <th>elementary_school_count</th>\n",
              "      <th>kindergarten_count</th>\n",
              "      <th>university_count</th>\n",
              "      <th>academy_ratio</th>\n",
              "      <th>elderly_population_ratio</th>\n",
              "      <th>elderly_alone_ratio</th>\n",
              "      <th>nursing_home_count</th>\n",
              "    </tr>\n",
              "  </thead>\n",
              "  <tbody>\n",
              "    <tr>\n",
              "      <th>0</th>\n",
              "      <td>10000</td>\n",
              "      <td>Seoul</td>\n",
              "      <td>Seoul</td>\n",
              "      <td>37.566953</td>\n",
              "      <td>126.977977</td>\n",
              "      <td>607</td>\n",
              "      <td>830</td>\n",
              "      <td>48</td>\n",
              "      <td>1.44</td>\n",
              "      <td>15.38</td>\n",
              "      <td>5.8</td>\n",
              "      <td>22739</td>\n",
              "    </tr>\n",
              "    <tr>\n",
              "      <th>1</th>\n",
              "      <td>10010</td>\n",
              "      <td>Seoul</td>\n",
              "      <td>Gangnam-gu</td>\n",
              "      <td>37.518421</td>\n",
              "      <td>127.047222</td>\n",
              "      <td>33</td>\n",
              "      <td>38</td>\n",
              "      <td>0</td>\n",
              "      <td>4.18</td>\n",
              "      <td>13.17</td>\n",
              "      <td>4.3</td>\n",
              "      <td>3088</td>\n",
              "    </tr>\n",
              "    <tr>\n",
              "      <th>2</th>\n",
              "      <td>10020</td>\n",
              "      <td>Seoul</td>\n",
              "      <td>Gangdong-gu</td>\n",
              "      <td>37.530492</td>\n",
              "      <td>127.123837</td>\n",
              "      <td>27</td>\n",
              "      <td>32</td>\n",
              "      <td>0</td>\n",
              "      <td>1.54</td>\n",
              "      <td>14.55</td>\n",
              "      <td>5.4</td>\n",
              "      <td>1023</td>\n",
              "    </tr>\n",
              "    <tr>\n",
              "      <th>3</th>\n",
              "      <td>10030</td>\n",
              "      <td>Seoul</td>\n",
              "      <td>Gangbuk-gu</td>\n",
              "      <td>37.639938</td>\n",
              "      <td>127.025508</td>\n",
              "      <td>14</td>\n",
              "      <td>21</td>\n",
              "      <td>0</td>\n",
              "      <td>0.67</td>\n",
              "      <td>19.49</td>\n",
              "      <td>8.5</td>\n",
              "      <td>628</td>\n",
              "    </tr>\n",
              "    <tr>\n",
              "      <th>4</th>\n",
              "      <td>10040</td>\n",
              "      <td>Seoul</td>\n",
              "      <td>Gangseo-gu</td>\n",
              "      <td>37.551166</td>\n",
              "      <td>126.849506</td>\n",
              "      <td>36</td>\n",
              "      <td>56</td>\n",
              "      <td>1</td>\n",
              "      <td>1.17</td>\n",
              "      <td>14.39</td>\n",
              "      <td>5.7</td>\n",
              "      <td>1080</td>\n",
              "    </tr>\n",
              "  </tbody>\n",
              "</table>\n",
              "</div>"
            ],
            "text/plain": [
              "    code province  ... elderly_alone_ratio  nursing_home_count\n",
              "0  10000    Seoul  ...                 5.8               22739\n",
              "1  10010    Seoul  ...                 4.3                3088\n",
              "2  10020    Seoul  ...                 5.4                1023\n",
              "3  10030    Seoul  ...                 8.5                 628\n",
              "4  10040    Seoul  ...                 5.7                1080\n",
              "\n",
              "[5 rows x 12 columns]"
            ]
          },
          "metadata": {
            "tags": []
          },
          "execution_count": 98
        }
      ]
    },
    {
      "cell_type": "code",
      "metadata": {
        "colab": {
          "base_uri": "https://localhost:8080/"
        },
        "id": "4BvGKHS7hzfo",
        "outputId": "02228b56-b2f0-43d7-c3da-7f356f412506"
      },
      "source": [
        "region.shape"
      ],
      "execution_count": null,
      "outputs": [
        {
          "output_type": "execute_result",
          "data": {
            "text/plain": [
              "(244, 12)"
            ]
          },
          "metadata": {
            "tags": []
          },
          "execution_count": 124
        }
      ]
    },
    {
      "cell_type": "code",
      "metadata": {
        "id": "9N-Kdf3zqjIa"
      },
      "source": [
        "province = region[['province','elementary_school_count','kindergarten_count', 'university_count', 'academy_ratio', 'elderly_population_ratio', 'elderly_alone_ratio', 'nursing_home_count']]"
      ],
      "execution_count": 153,
      "outputs": []
    },
    {
      "cell_type": "code",
      "metadata": {
        "colab": {
          "base_uri": "https://localhost:8080/",
          "height": 297
        },
        "id": "LlVomRQlvbyr",
        "outputId": "049f8eb1-4f63-4270-b6e1-987d950d3207"
      },
      "source": [
        "province.describe().round(2)"
      ],
      "execution_count": 164,
      "outputs": [
        {
          "output_type": "execute_result",
          "data": {
            "text/html": [
              "<div>\n",
              "<style scoped>\n",
              "    .dataframe tbody tr th:only-of-type {\n",
              "        vertical-align: middle;\n",
              "    }\n",
              "\n",
              "    .dataframe tbody tr th {\n",
              "        vertical-align: top;\n",
              "    }\n",
              "\n",
              "    .dataframe thead th {\n",
              "        text-align: right;\n",
              "    }\n",
              "</style>\n",
              "<table border=\"1\" class=\"dataframe\">\n",
              "  <thead>\n",
              "    <tr style=\"text-align: right;\">\n",
              "      <th></th>\n",
              "      <th>elementary_school_count</th>\n",
              "      <th>kindergarten_count</th>\n",
              "      <th>university_count</th>\n",
              "      <th>academy_ratio</th>\n",
              "      <th>elderly_population_ratio</th>\n",
              "      <th>elderly_alone_ratio</th>\n",
              "      <th>nursing_home_count</th>\n",
              "    </tr>\n",
              "  </thead>\n",
              "  <tbody>\n",
              "    <tr>\n",
              "      <th>count</th>\n",
              "      <td>244.00</td>\n",
              "      <td>244.00</td>\n",
              "      <td>244.00</td>\n",
              "      <td>244.00</td>\n",
              "      <td>244.00</td>\n",
              "      <td>244.00</td>\n",
              "      <td>244.00</td>\n",
              "    </tr>\n",
              "    <tr>\n",
              "      <th>mean</th>\n",
              "      <td>74.18</td>\n",
              "      <td>107.90</td>\n",
              "      <td>4.15</td>\n",
              "      <td>1.29</td>\n",
              "      <td>20.92</td>\n",
              "      <td>10.64</td>\n",
              "      <td>1159.26</td>\n",
              "    </tr>\n",
              "    <tr>\n",
              "      <th>std</th>\n",
              "      <td>402.71</td>\n",
              "      <td>588.79</td>\n",
              "      <td>22.51</td>\n",
              "      <td>0.59</td>\n",
              "      <td>8.09</td>\n",
              "      <td>5.60</td>\n",
              "      <td>6384.19</td>\n",
              "    </tr>\n",
              "    <tr>\n",
              "      <th>min</th>\n",
              "      <td>4.00</td>\n",
              "      <td>4.00</td>\n",
              "      <td>0.00</td>\n",
              "      <td>0.19</td>\n",
              "      <td>7.69</td>\n",
              "      <td>3.30</td>\n",
              "      <td>11.00</td>\n",
              "    </tr>\n",
              "    <tr>\n",
              "      <th>25%</th>\n",
              "      <td>14.75</td>\n",
              "      <td>16.00</td>\n",
              "      <td>0.00</td>\n",
              "      <td>0.87</td>\n",
              "      <td>14.12</td>\n",
              "      <td>6.10</td>\n",
              "      <td>111.00</td>\n",
              "    </tr>\n",
              "    <tr>\n",
              "      <th>50%</th>\n",
              "      <td>22.00</td>\n",
              "      <td>31.00</td>\n",
              "      <td>1.00</td>\n",
              "      <td>1.27</td>\n",
              "      <td>18.53</td>\n",
              "      <td>8.75</td>\n",
              "      <td>300.00</td>\n",
              "    </tr>\n",
              "    <tr>\n",
              "      <th>75%</th>\n",
              "      <td>36.25</td>\n",
              "      <td>55.25</td>\n",
              "      <td>3.00</td>\n",
              "      <td>1.61</td>\n",
              "      <td>27.26</td>\n",
              "      <td>14.62</td>\n",
              "      <td>694.50</td>\n",
              "    </tr>\n",
              "    <tr>\n",
              "      <th>max</th>\n",
              "      <td>6087.00</td>\n",
              "      <td>8837.00</td>\n",
              "      <td>340.00</td>\n",
              "      <td>4.18</td>\n",
              "      <td>40.26</td>\n",
              "      <td>24.70</td>\n",
              "      <td>94865.00</td>\n",
              "    </tr>\n",
              "  </tbody>\n",
              "</table>\n",
              "</div>"
            ],
            "text/plain": [
              "       elementary_school_count  ...  nursing_home_count\n",
              "count                   244.00  ...              244.00\n",
              "mean                     74.18  ...             1159.26\n",
              "std                     402.71  ...             6384.19\n",
              "min                       4.00  ...               11.00\n",
              "25%                      14.75  ...              111.00\n",
              "50%                      22.00  ...              300.00\n",
              "75%                      36.25  ...              694.50\n",
              "max                    6087.00  ...            94865.00\n",
              "\n",
              "[8 rows x 7 columns]"
            ]
          },
          "metadata": {
            "tags": []
          },
          "execution_count": 164
        }
      ]
    },
    {
      "cell_type": "code",
      "metadata": {
        "colab": {
          "base_uri": "https://localhost:8080/",
          "height": 289
        },
        "id": "CVZao6xvuKvL",
        "outputId": "5b46c0dc-71ac-4c4e-d751-144df22cec67"
      },
      "source": [
        "province_df = province.groupby(['province']).mean().round(1)\n",
        "province_df.head()"
      ],
      "execution_count": 154,
      "outputs": [
        {
          "output_type": "execute_result",
          "data": {
            "text/html": [
              "<div>\n",
              "<style scoped>\n",
              "    .dataframe tbody tr th:only-of-type {\n",
              "        vertical-align: middle;\n",
              "    }\n",
              "\n",
              "    .dataframe tbody tr th {\n",
              "        vertical-align: top;\n",
              "    }\n",
              "\n",
              "    .dataframe thead th {\n",
              "        text-align: right;\n",
              "    }\n",
              "</style>\n",
              "<table border=\"1\" class=\"dataframe\">\n",
              "  <thead>\n",
              "    <tr style=\"text-align: right;\">\n",
              "      <th></th>\n",
              "      <th>elementary_school_count</th>\n",
              "      <th>kindergarten_count</th>\n",
              "      <th>university_count</th>\n",
              "      <th>academy_ratio</th>\n",
              "      <th>elderly_population_ratio</th>\n",
              "      <th>elderly_alone_ratio</th>\n",
              "      <th>nursing_home_count</th>\n",
              "    </tr>\n",
              "    <tr>\n",
              "      <th>province</th>\n",
              "      <th></th>\n",
              "      <th></th>\n",
              "      <th></th>\n",
              "      <th></th>\n",
              "      <th></th>\n",
              "      <th></th>\n",
              "      <th></th>\n",
              "    </tr>\n",
              "  </thead>\n",
              "  <tbody>\n",
              "    <tr>\n",
              "      <th>Busan</th>\n",
              "      <td>35.8</td>\n",
              "      <td>48.0</td>\n",
              "      <td>2.6</td>\n",
              "      <td>1.3</td>\n",
              "      <td>19.4</td>\n",
              "      <td>9.1</td>\n",
              "      <td>794.4</td>\n",
              "    </tr>\n",
              "    <tr>\n",
              "      <th>Chungcheongbuk-do</th>\n",
              "      <td>43.2</td>\n",
              "      <td>54.7</td>\n",
              "      <td>2.8</td>\n",
              "      <td>1.0</td>\n",
              "      <td>23.2</td>\n",
              "      <td>11.8</td>\n",
              "      <td>461.5</td>\n",
              "    </tr>\n",
              "    <tr>\n",
              "      <th>Chungcheongnam-do</th>\n",
              "      <td>51.1</td>\n",
              "      <td>62.4</td>\n",
              "      <td>2.6</td>\n",
              "      <td>1.1</td>\n",
              "      <td>23.8</td>\n",
              "      <td>11.7</td>\n",
              "      <td>455.1</td>\n",
              "    </tr>\n",
              "    <tr>\n",
              "      <th>Daegu</th>\n",
              "      <td>50.9</td>\n",
              "      <td>78.9</td>\n",
              "      <td>2.4</td>\n",
              "      <td>1.7</td>\n",
              "      <td>17.0</td>\n",
              "      <td>8.0</td>\n",
              "      <td>1129.6</td>\n",
              "    </tr>\n",
              "    <tr>\n",
              "      <th>Daejeon</th>\n",
              "      <td>49.3</td>\n",
              "      <td>86.7</td>\n",
              "      <td>5.0</td>\n",
              "      <td>1.4</td>\n",
              "      <td>14.4</td>\n",
              "      <td>6.2</td>\n",
              "      <td>994.7</td>\n",
              "    </tr>\n",
              "  </tbody>\n",
              "</table>\n",
              "</div>"
            ],
            "text/plain": [
              "                   elementary_school_count  ...  nursing_home_count\n",
              "province                                    ...                    \n",
              "Busan                                 35.8  ...               794.4\n",
              "Chungcheongbuk-do                     43.2  ...               461.5\n",
              "Chungcheongnam-do                     51.1  ...               455.1\n",
              "Daegu                                 50.9  ...              1129.6\n",
              "Daejeon                               49.3  ...               994.7\n",
              "\n",
              "[5 rows x 7 columns]"
            ]
          },
          "metadata": {
            "tags": []
          },
          "execution_count": 154
        }
      ]
    },
    {
      "cell_type": "code",
      "metadata": {
        "colab": {
          "base_uri": "https://localhost:8080/"
        },
        "id": "9QonQXa0vCom",
        "outputId": "bfce3d85-3b3a-428f-f2db-7ec09612fb33"
      },
      "source": [
        "province_df.shape"
      ],
      "execution_count": 157,
      "outputs": [
        {
          "output_type": "execute_result",
          "data": {
            "text/plain": [
              "(17, 7)"
            ]
          },
          "metadata": {
            "tags": []
          },
          "execution_count": 157
        }
      ]
    },
    {
      "cell_type": "code",
      "metadata": {
        "id": "3DFc5wbguhlJ"
      },
      "source": [
        "# Drop korea because it's the total\n",
        "province_df.drop(index='Korea', inplace=True)"
      ],
      "execution_count": 156,
      "outputs": []
    },
    {
      "cell_type": "code",
      "metadata": {
        "colab": {
          "base_uri": "https://localhost:8080/",
          "height": 720
        },
        "id": "aeKixJF2v88r",
        "outputId": "4705d708-307f-46f8-b688-3b9e260377c9"
      },
      "source": [
        "plt.figure(figsize=(10,10))\n",
        "\n",
        "province_sorted = province[['province', 'elderly_population_ratio']].sort_values(by='elderly_population_ratio', ascending=False)\n",
        "sns.set(style=\"darkgrid\")\n",
        "\n",
        "sns.boxplot(data=province_sorted, x='province', y='elderly_population_ratio')\n",
        "\n",
        "plt.xticks(rotation=90)\n",
        "\n",
        "plt.show()"
      ],
      "execution_count": 173,
      "outputs": [
        {
          "output_type": "display_data",
          "data": {
            "image/png": "[encoded data removed]",
            "text/plain": [
              "<Figure size 720x720 with 1 Axes>"
            ]
          },
          "metadata": {
            "tags": []
          }
        }
      ]
    },
    {
      "cell_type": "code",
      "metadata": {
        "colab": {
          "base_uri": "https://localhost:8080/"
        },
        "id": "end_IbbysujA",
        "outputId": "b3d55d63-7d7b-478b-9fa5-118b908c08e0"
      },
      "source": [
        "province_df.elementary_school_count.nlargest(3)"
      ],
      "execution_count": 158,
      "outputs": [
        {
          "output_type": "execute_result",
          "data": {
            "text/plain": [
              "province\n",
              "Jeju-do         113.0\n",
              "Gyeonggi-do      79.8\n",
              "Jeollabuk-do     55.9\n",
              "Name: elementary_school_count, dtype: float64"
            ]
          },
          "metadata": {
            "tags": []
          },
          "execution_count": 158
        }
      ]
    },
    {
      "cell_type": "code",
      "metadata": {
        "colab": {
          "base_uri": "https://localhost:8080/"
        },
        "id": "zhkwlw_iuA41",
        "outputId": "401bba1c-99b0-48b3-f00f-7bf659303690"
      },
      "source": [
        "province_df.elementary_school_count.nsmallest(3)"
      ],
      "execution_count": 159,
      "outputs": [
        {
          "output_type": "execute_result",
          "data": {
            "text/plain": [
              "province\n",
              "Busan           35.8\n",
              "Gangwon-do      36.7\n",
              "Jeollanam-do    37.3\n",
              "Name: elementary_school_count, dtype: float64"
            ]
          },
          "metadata": {
            "tags": []
          },
          "execution_count": 159
        }
      ]
    },
    {
      "cell_type": "code",
      "metadata": {
        "colab": {
          "base_uri": "https://localhost:8080/"
        },
        "id": "wptHMF2ut926",
        "outputId": "de9bafd9-6094-4f9b-9427-21cfd825810d"
      },
      "source": [
        "province_df.nursing_home_count.nlargest(3)"
      ],
      "execution_count": 160,
      "outputs": [
        {
          "output_type": "execute_result",
          "data": {
            "text/plain": [
              "province\n",
              "Seoul          1749.2\n",
              "Gyeonggi-do    1280.7\n",
              "Jeju-do        1245.0\n",
              "Name: nursing_home_count, dtype: float64"
            ]
          },
          "metadata": {
            "tags": []
          },
          "execution_count": 160
        }
      ]
    },
    {
      "cell_type": "code",
      "metadata": {
        "colab": {
          "base_uri": "https://localhost:8080/"
        },
        "id": "rvwgXMEKuGai",
        "outputId": "0b691da4-d9d1-49b3-fa46-c74ee31f942a"
      },
      "source": [
        "province_df.nursing_home_count.nsmallest(3)"
      ],
      "execution_count": 161,
      "outputs": [
        {
          "output_type": "execute_result",
          "data": {
            "text/plain": [
              "province\n",
              "Gangwon-do          265.2\n",
              "Jeollanam-do        294.7\n",
              "Gyeongsangbuk-do    372.8\n",
              "Name: nursing_home_count, dtype: float64"
            ]
          },
          "metadata": {
            "tags": []
          },
          "execution_count": 161
        }
      ]
    },
    {
      "cell_type": "code",
      "metadata": {
        "id": "5ku7BbOCdRMp"
      },
      "source": [
        "agg = patient[['state','patient_id']].groupby('state').count().reset_index().sort_values(by =  'patient_id')"
      ],
      "execution_count": 16,
      "outputs": []
    },
    {
      "cell_type": "code",
      "metadata": {
        "colab": {
          "base_uri": "https://localhost:8080/",
          "height": 265
        },
        "id": "zEYYykPCc1qH",
        "outputId": "fc5f3d1c-f5c9-44d0-a73d-9fe6508c19eb"
      },
      "source": [
        "plt.bar(x=list(agg['state']), \n",
        "            height=list(agg['patient_id']))\n",
        "plt.show()"
      ],
      "execution_count": 29,
      "outputs": [
        {
          "output_type": "display_data",
          "data": {
            "image/png": "[encoded data removed]",
            "text/plain": [
              "<Figure size 432x288 with 1 Axes>"
            ]
          },
          "metadata": {
            "tags": [],
            "needs_background": "light"
          }
        }
      ]
    },
    {
      "cell_type": "code",
      "metadata": {
        "id": "anrI_P7mbfZZ"
      },
      "source": [
        "infection_agg = patient[['infection_case','patient_id']].groupby('infection_case').count().reset_index().sort_values(by =  'patient_id')"
      ],
      "execution_count": 26,
      "outputs": []
    },
    {
      "cell_type": "code",
      "metadata": {
        "colab": {
          "base_uri": "https://localhost:8080/",
          "height": 667
        },
        "id": "wfZbaMieehE9",
        "outputId": "c274645b-bc4b-4254-8fa0-9f4dbd6418af"
      },
      "source": [
        "plt.figure(figsize=(15,7))\n",
        "\n",
        "plt.bar(x=list(infection_agg['infection_case']), \n",
        "            height=list(infection_agg['patient_id']))\n",
        "\n",
        "plt.xticks(rotation=90)\n",
        "plt.show()"
      ],
      "execution_count": 38,
      "outputs": [
        {
          "output_type": "display_data",
          "data": {
            "image/png": "[encoded data removed]",
            "text/plain": [
              "<Figure size 1080x504 with 1 Axes>"
            ]
          },
          "metadata": {
            "tags": [],
            "needs_background": "light"
          }
        }
      ]
    },
    {
      "cell_type": "code",
      "metadata": {
        "id": "Ad9jqfETlusy"
      },
      "source": [
        "sizes = patient.sex.value_counts(normalize=True).tolist()"
      ],
      "execution_count": 90,
      "outputs": []
    },
    {
      "cell_type": "code",
      "metadata": {
        "colab": {
          "base_uri": "https://localhost:8080/",
          "height": 264
        },
        "id": "UAZN0cdnghl-",
        "outputId": "01799791-e7a6-4dc5-c712-945784ed1a86"
      },
      "source": [
        "# Pie chart\n",
        "labels = 'Female', 'Male'\n",
        "\n",
        "plt.pie(sizes, labels=labels, autopct='%1.1f%%', startangle=90, colors=['lightcoral', 'lightskyblue'])\n",
        "plt.axis('equal') \n",
        "plt.title('% of men/women in the data')\n",
        "\n",
        "plt.show()"
      ],
      "execution_count": 93,
      "outputs": [
        {
          "output_type": "display_data",
          "data": {
            "image/png": "[encoded data removed]",
            "text/plain": [
              "<Figure size 432x288 with 1 Axes>"
            ]
          },
          "metadata": {
            "tags": []
          }
        }
      ]
    },
    {
      "cell_type": "code",
      "metadata": {
        "colab": {
          "base_uri": "https://localhost:8080/"
        },
        "id": "AXE5ex08g-cs",
        "outputId": "a5b84961-2eef-414f-93c9-3179c95e7721"
      },
      "source": [
        "gender = patient.groupby('sex')\n",
        "gender.state.value_counts()"
      ],
      "execution_count": 85,
      "outputs": [
        {
          "output_type": "execute_result",
          "data": {
            "text/plain": [
              "sex     state   \n",
              "female  released    1402\n",
              "        isolated     788\n",
              "        deceased      28\n",
              "male    released    1112\n",
              "        isolated     666\n",
              "        deceased      47\n",
              "Name: state, dtype: int64"
            ]
          },
          "metadata": {
            "tags": []
          },
          "execution_count": 85
        }
      ]
    },
    {
      "cell_type": "code",
      "metadata": {
        "id": "v3GBvDc8l9vK"
      },
      "source": [
        "sizes2 = gender.state.value_counts(normalize=True).tolist()"
      ],
      "execution_count": 123,
      "outputs": []
    },
    {
      "cell_type": "code",
      "metadata": {
        "colab": {
          "base_uri": "https://localhost:8080/",
          "height": 264
        },
        "id": "dfT_H1yzl_Y3",
        "outputId": "240a86cd-77da-42f5-a71f-7c8a72c74a4e"
      },
      "source": [
        "# Pie chart\n",
        "labels = 'released', 'isolated', 'deceased'\n",
        "colors = ['lightcoral', 'moccasin', 'plum']\n",
        "colors_male = ['lightskyblue', 'yellowgreen', 'seagreen']\n",
        "\n",
        "fig, ax = plt.subplots(1, 2)\n",
        "ax[0].pie(sizes2[0:3], labels=labels, autopct='%1.1f%%', startangle=90, colors=colors)\n",
        "ax[0].axis('equal') \n",
        "\n",
        "ax[1].pie(sizes2[3:6], labels=labels, autopct='%1.1f%%', startangle=90, colors=colors_male)\n",
        "ax[1].axis('equal') \n",
        "plt.title('Female & Male % of patient states')\n",
        "\n",
        "plt.show()"
      ],
      "execution_count": 122,
      "outputs": [
        {
          "output_type": "display_data",
          "data": {
            "image/png": "[encoded data removed]",
            "text/plain": [
              "<Figure size 432x288 with 2 Axes>"
            ]
          },
          "metadata": {
            "tags": []
          }
        }
      ]
    },
    {
      "cell_type": "code",
      "metadata": {
        "id": "vt_1wskRcrGY"
      },
      "source": [
        "full_features_df = patient.merge(region, how='left', on=['province', 'city'])"
      ],
      "execution_count": 174,
      "outputs": []
    },
    {
      "cell_type": "code",
      "metadata": {
        "id": "xS6u1PPsfLyl"
      },
      "source": [
        "full_features_df.drop(columns=['age', 'sex' ,'patient_id', 'confirmed_date', 'contact_number', 'infected_by', 'infection_case', 'latitude', 'longitude', 'code', 'deceased_date', 'symptom_onset_date', 'released_date'], inplace=True)"
      ],
      "execution_count": 175,
      "outputs": []
    },
    {
      "cell_type": "code",
      "metadata": {
        "colab": {
          "base_uri": "https://localhost:8080/",
          "height": 275
        },
        "id": "nUjl9N3pfLMD",
        "outputId": "b684a89a-4956-4351-bea8-61de244045ac"
      },
      "source": [
        "full_features_df = full_features_df.reset_index(drop=True)\n",
        "full_features_df.head()"
      ],
      "execution_count": 176,
      "outputs": [
        {
          "output_type": "execute_result",
          "data": {
            "text/html": [
              "<div>\n",
              "<style scoped>\n",
              "    .dataframe tbody tr th:only-of-type {\n",
              "        vertical-align: middle;\n",
              "    }\n",
              "\n",
              "    .dataframe tbody tr th {\n",
              "        vertical-align: top;\n",
              "    }\n",
              "\n",
              "    .dataframe thead th {\n",
              "        text-align: right;\n",
              "    }\n",
              "</style>\n",
              "<table border=\"1\" class=\"dataframe\">\n",
              "  <thead>\n",
              "    <tr style=\"text-align: right;\">\n",
              "      <th></th>\n",
              "      <th>country</th>\n",
              "      <th>province</th>\n",
              "      <th>city</th>\n",
              "      <th>state</th>\n",
              "      <th>elementary_school_count</th>\n",
              "      <th>kindergarten_count</th>\n",
              "      <th>university_count</th>\n",
              "      <th>academy_ratio</th>\n",
              "      <th>elderly_population_ratio</th>\n",
              "      <th>elderly_alone_ratio</th>\n",
              "      <th>nursing_home_count</th>\n",
              "    </tr>\n",
              "  </thead>\n",
              "  <tbody>\n",
              "    <tr>\n",
              "      <th>0</th>\n",
              "      <td>Korea</td>\n",
              "      <td>Seoul</td>\n",
              "      <td>Gangseo-gu</td>\n",
              "      <td>released</td>\n",
              "      <td>36.0</td>\n",
              "      <td>56.0</td>\n",
              "      <td>1.0</td>\n",
              "      <td>1.17</td>\n",
              "      <td>14.39</td>\n",
              "      <td>5.7</td>\n",
              "      <td>1080.0</td>\n",
              "    </tr>\n",
              "    <tr>\n",
              "      <th>1</th>\n",
              "      <td>Korea</td>\n",
              "      <td>Seoul</td>\n",
              "      <td>Jungnang-gu</td>\n",
              "      <td>released</td>\n",
              "      <td>23.0</td>\n",
              "      <td>31.0</td>\n",
              "      <td>1.0</td>\n",
              "      <td>0.70</td>\n",
              "      <td>16.65</td>\n",
              "      <td>6.9</td>\n",
              "      <td>689.0</td>\n",
              "    </tr>\n",
              "    <tr>\n",
              "      <th>2</th>\n",
              "      <td>Korea</td>\n",
              "      <td>Seoul</td>\n",
              "      <td>Jongno-gu</td>\n",
              "      <td>released</td>\n",
              "      <td>13.0</td>\n",
              "      <td>17.0</td>\n",
              "      <td>3.0</td>\n",
              "      <td>1.71</td>\n",
              "      <td>18.27</td>\n",
              "      <td>6.8</td>\n",
              "      <td>668.0</td>\n",
              "    </tr>\n",
              "    <tr>\n",
              "      <th>3</th>\n",
              "      <td>Korea</td>\n",
              "      <td>Seoul</td>\n",
              "      <td>Mapo-gu</td>\n",
              "      <td>released</td>\n",
              "      <td>22.0</td>\n",
              "      <td>24.0</td>\n",
              "      <td>2.0</td>\n",
              "      <td>1.83</td>\n",
              "      <td>14.05</td>\n",
              "      <td>4.9</td>\n",
              "      <td>929.0</td>\n",
              "    </tr>\n",
              "    <tr>\n",
              "      <th>4</th>\n",
              "      <td>Korea</td>\n",
              "      <td>Seoul</td>\n",
              "      <td>Seongbuk-gu</td>\n",
              "      <td>released</td>\n",
              "      <td>29.0</td>\n",
              "      <td>49.0</td>\n",
              "      <td>6.0</td>\n",
              "      <td>1.02</td>\n",
              "      <td>16.15</td>\n",
              "      <td>6.0</td>\n",
              "      <td>729.0</td>\n",
              "    </tr>\n",
              "  </tbody>\n",
              "</table>\n",
              "</div>"
            ],
            "text/plain": [
              "  country province  ... elderly_alone_ratio nursing_home_count\n",
              "0   Korea    Seoul  ...                 5.7             1080.0\n",
              "1   Korea    Seoul  ...                 6.9              689.0\n",
              "2   Korea    Seoul  ...                 6.8              668.0\n",
              "3   Korea    Seoul  ...                 4.9              929.0\n",
              "4   Korea    Seoul  ...                 6.0              729.0\n",
              "\n",
              "[5 rows x 11 columns]"
            ]
          },
          "metadata": {
            "tags": []
          },
          "execution_count": 176
        }
      ]
    },
    {
      "cell_type": "code",
      "metadata": {
        "colab": {
          "base_uri": "https://localhost:8080/"
        },
        "id": "buFyj1Cbe9gZ",
        "outputId": "29430faf-c77e-4b8e-c7ba-7f326dfe5d28"
      },
      "source": [
        "full_features_df.shape"
      ],
      "execution_count": 177,
      "outputs": [
        {
          "output_type": "execute_result",
          "data": {
            "text/plain": [
              "(5165, 11)"
            ]
          },
          "metadata": {
            "tags": []
          },
          "execution_count": 177
        }
      ]
    },
    {
      "cell_type": "code",
      "metadata": {
        "colab": {
          "base_uri": "https://localhost:8080/"
        },
        "id": "Z4n-r0JdSeRC",
        "outputId": "02739d1c-e3cb-44d6-d3b7-302ae9349536"
      },
      "source": [
        "full_features_df.info()"
      ],
      "execution_count": null,
      "outputs": [
        {
          "output_type": "stream",
          "text": [
            "<class 'pandas.core.frame.DataFrame'>\n",
            "RangeIndex: 5165 entries, 0 to 5164\n",
            "Data columns (total 11 columns):\n",
            " #   Column                    Non-Null Count  Dtype  \n",
            "---  ------                    --------------  -----  \n",
            " 0   country                   5165 non-null   object \n",
            " 1   province                  5165 non-null   object \n",
            " 2   city                      5071 non-null   object \n",
            " 3   state                     5165 non-null   object \n",
            " 4   elementary_school_count   4946 non-null   float64\n",
            " 5   kindergarten_count        4946 non-null   float64\n",
            " 6   university_count          4946 non-null   float64\n",
            " 7   academy_ratio             4946 non-null   float64\n",
            " 8   elderly_population_ratio  4946 non-null   float64\n",
            " 9   elderly_alone_ratio       4946 non-null   float64\n",
            " 10  nursing_home_count        4946 non-null   float64\n",
            "dtypes: float64(7), object(4)\n",
            "memory usage: 444.0+ KB\n"
          ],
          "name": "stdout"
        }
      ]
    },
    {
      "cell_type": "code",
      "metadata": {
        "id": "U-M8DpDpgxxT"
      },
      "source": [
        "full_features_df.dropna(subset=['elementary_school_count', 'kindergarten_count', 'university_count', 'academy_ratio', 'elderly_population_ratio', 'elderly_alone_ratio', 'nursing_home_count'], inplace=True)"
      ],
      "execution_count": 178,
      "outputs": []
    },
    {
      "cell_type": "code",
      "metadata": {
        "colab": {
          "base_uri": "https://localhost:8080/"
        },
        "id": "bXh4rXGVSrmK",
        "outputId": "cdcf5296-d0b9-43b5-9352-d86633c3cbb6"
      },
      "source": [
        "full_features_df = full_features_df.reset_index(drop=True)\n",
        "full_features_df.info()"
      ],
      "execution_count": 179,
      "outputs": [
        {
          "output_type": "stream",
          "text": [
            "<class 'pandas.core.frame.DataFrame'>\n",
            "RangeIndex: 4946 entries, 0 to 4945\n",
            "Data columns (total 11 columns):\n",
            " #   Column                    Non-Null Count  Dtype  \n",
            "---  ------                    --------------  -----  \n",
            " 0   country                   4946 non-null   object \n",
            " 1   province                  4946 non-null   object \n",
            " 2   city                      4946 non-null   object \n",
            " 3   state                     4946 non-null   object \n",
            " 4   elementary_school_count   4946 non-null   float64\n",
            " 5   kindergarten_count        4946 non-null   float64\n",
            " 6   university_count          4946 non-null   float64\n",
            " 7   academy_ratio             4946 non-null   float64\n",
            " 8   elderly_population_ratio  4946 non-null   float64\n",
            " 9   elderly_alone_ratio       4946 non-null   float64\n",
            " 10  nursing_home_count        4946 non-null   float64\n",
            "dtypes: float64(7), object(4)\n",
            "memory usage: 425.2+ KB\n"
          ],
          "name": "stdout"
        }
      ]
    },
    {
      "cell_type": "code",
      "metadata": {
        "colab": {
          "base_uri": "https://localhost:8080/"
        },
        "id": "3KIFPSh2SxR1",
        "outputId": "b20fb6be-fb4b-48cb-a292-01729f7d6b1a"
      },
      "source": [
        "full_features_df.shape"
      ],
      "execution_count": null,
      "outputs": [
        {
          "output_type": "execute_result",
          "data": {
            "text/plain": [
              "(4946, 11)"
            ]
          },
          "metadata": {
            "tags": []
          },
          "execution_count": 221
        }
      ]
    },
    {
      "cell_type": "code",
      "metadata": {
        "colab": {
          "base_uri": "https://localhost:8080/"
        },
        "id": "JZOSw_9lhLIt",
        "outputId": "b7489847-72af-45af-e5f9-53f249faa549"
      },
      "source": [
        "full_features_df.isnull().sum()"
      ],
      "execution_count": null,
      "outputs": [
        {
          "output_type": "execute_result",
          "data": {
            "text/plain": [
              "country                     0\n",
              "province                    0\n",
              "city                        0\n",
              "state                       0\n",
              "elementary_school_count     0\n",
              "kindergarten_count          0\n",
              "university_count            0\n",
              "academy_ratio               0\n",
              "elderly_population_ratio    0\n",
              "elderly_alone_ratio         0\n",
              "nursing_home_count          0\n",
              "dtype: int64"
            ]
          },
          "metadata": {
            "tags": []
          },
          "execution_count": 222
        }
      ]
    },
    {
      "cell_type": "code",
      "metadata": {
        "colab": {
          "base_uri": "https://localhost:8080/"
        },
        "id": "h9D4Mj0t6sSp",
        "outputId": "586fb6c1-cbc1-4a45-dc74-1683b575e22e"
      },
      "source": [
        "full_features_df.state.value_counts()"
      ],
      "execution_count": null,
      "outputs": [
        {
          "output_type": "execute_result",
          "data": {
            "text/plain": [
              "released    2835\n",
              "isolated    2056\n",
              "deceased      55\n",
              "Name: state, dtype: int64"
            ]
          },
          "metadata": {
            "tags": []
          },
          "execution_count": 223
        }
      ]
    },
    {
      "cell_type": "code",
      "metadata": {
        "colab": {
          "base_uri": "https://localhost:8080/"
        },
        "id": "TiZzX4AggKjD",
        "outputId": "cdf966c1-8361-422f-885f-b0daaf462e47"
      },
      "source": [
        "full_features_df.country.unique()"
      ],
      "execution_count": null,
      "outputs": [
        {
          "output_type": "execute_result",
          "data": {
            "text/plain": [
              "array(['Korea', 'China', 'United States', 'France', 'Thailand', 'Canada',\n",
              "       'India', 'Switzerland', 'Germany', 'Vietnam', 'Foreign',\n",
              "       'Indonesia', 'Mongolia', 'United Kingdom', 'Spain', 'Bangladesh'],\n",
              "      dtype=object)"
            ]
          },
          "metadata": {
            "tags": []
          },
          "execution_count": 158
        }
      ]
    },
    {
      "cell_type": "code",
      "metadata": {
        "id": "FXKh9sCTxE_T"
      },
      "source": [
        "search_trend.head()"
      ],
      "execution_count": null,
      "outputs": []
    },
    {
      "cell_type": "code",
      "metadata": {
        "id": "I2rF8y4Dx07Q"
      },
      "source": [
        "search_trend.info()"
      ],
      "execution_count": null,
      "outputs": []
    },
    {
      "cell_type": "code",
      "metadata": {
        "id": "r6jiCDlIyIu3"
      },
      "source": [
        "search_trend.set_index('date', inplace=True)"
      ],
      "execution_count": 180,
      "outputs": []
    },
    {
      "cell_type": "code",
      "metadata": {
        "id": "5QPhY1bV6swU"
      },
      "source": [
        "# Set as day for the plot\n",
        "search_trend = search_trend.asfreq('D', method='pad')"
      ],
      "execution_count": 181,
      "outputs": []
    },
    {
      "cell_type": "code",
      "metadata": {
        "id": "kLAGI6BLxZfy",
        "colab": {
          "base_uri": "https://localhost:8080/",
          "height": 644
        },
        "outputId": "2e29832f-9d19-4f58-e72a-dac6d833a129"
      },
      "source": [
        "# Plot search_trend\n",
        "plt.figure(figsize=(22,10))\n",
        "plt.plot(search_trend)\n",
        "\n",
        "# Set axis settings and labels\n",
        "plt.ylabel('Relative search volume');\n",
        "plt.xlabel('Date');\n",
        "plt.title('Relative keyword searches in NAVER South-Korea')\n",
        "plt.xlim((pd.to_datetime(\"2020-01-01\"),pd.to_datetime(\"2020-07-01\")))\n",
        "\n",
        "\n",
        "# show a legend on the plot\n",
        "plt.legend(labels=['cold', 'flu', 'pneumonia', 'coronavirus'])"
      ],
      "execution_count": 183,
      "outputs": [
        {
          "output_type": "execute_result",
          "data": {
            "text/plain": [
              "<matplotlib.legend.Legend at 0x7f715c929278>"
            ]
          },
          "metadata": {
            "tags": []
          },
          "execution_count": 183
        },
        {
          "output_type": "display_data",
          "data": {
            "image/png": "[encoded data removed]",
            "text/plain": [
              "<Figure size 1584x720 with 1 Axes>"
            ]
          },
          "metadata": {
            "tags": []
          }
        }
      ]
    },
    {
      "cell_type": "code",
      "metadata": {
        "colab": {
          "base_uri": "https://localhost:8080/",
          "height": 253
        },
        "id": "iu3p6ybXphvo",
        "outputId": "d669087f-0107-4669-dd8f-c193d6520d2d"
      },
      "source": [
        "deaths_df.head()"
      ],
      "execution_count": null,
      "outputs": [
        {
          "output_type": "execute_result",
          "data": {
            "text/html": [
              "<div>\n",
              "<style scoped>\n",
              "    .dataframe tbody tr th:only-of-type {\n",
              "        vertical-align: middle;\n",
              "    }\n",
              "\n",
              "    .dataframe tbody tr th {\n",
              "        vertical-align: top;\n",
              "    }\n",
              "\n",
              "    .dataframe thead th {\n",
              "        text-align: right;\n",
              "    }\n",
              "</style>\n",
              "<table border=\"1\" class=\"dataframe\">\n",
              "  <thead>\n",
              "    <tr style=\"text-align: right;\">\n",
              "      <th></th>\n",
              "      <th>Province/State</th>\n",
              "      <th>Country/Region</th>\n",
              "      <th>Lat</th>\n",
              "      <th>Long</th>\n",
              "      <th>1/22/20</th>\n",
              "      <th>1/23/20</th>\n",
              "      <th>1/24/20</th>\n",
              "      <th>1/25/20</th>\n",
              "      <th>1/26/20</th>\n",
              "      <th>1/27/20</th>\n",
              "      <th>1/28/20</th>\n",
              "      <th>1/29/20</th>\n",
              "      <th>1/30/20</th>\n",
              "      <th>1/31/20</th>\n",
              "      <th>2/1/20</th>\n",
              "      <th>2/2/20</th>\n",
              "      <th>2/3/20</th>\n",
              "      <th>2/4/20</th>\n",
              "      <th>2/5/20</th>\n",
              "      <th>2/6/20</th>\n",
              "      <th>2/7/20</th>\n",
              "      <th>2/8/20</th>\n",
              "      <th>2/9/20</th>\n",
              "      <th>2/10/20</th>\n",
              "      <th>2/11/20</th>\n",
              "      <th>2/12/20</th>\n",
              "      <th>2/13/20</th>\n",
              "      <th>2/14/20</th>\n",
              "      <th>2/15/20</th>\n",
              "      <th>2/16/20</th>\n",
              "      <th>2/17/20</th>\n",
              "      <th>2/18/20</th>\n",
              "      <th>2/19/20</th>\n",
              "      <th>2/20/20</th>\n",
              "      <th>2/21/20</th>\n",
              "      <th>2/22/20</th>\n",
              "      <th>2/23/20</th>\n",
              "      <th>2/24/20</th>\n",
              "      <th>2/25/20</th>\n",
              "      <th>2/26/20</th>\n",
              "      <th>...</th>\n",
              "      <th>10/26/20</th>\n",
              "      <th>10/27/20</th>\n",
              "      <th>10/28/20</th>\n",
              "      <th>10/29/20</th>\n",
              "      <th>10/30/20</th>\n",
              "      <th>10/31/20</th>\n",
              "      <th>11/1/20</th>\n",
              "      <th>11/2/20</th>\n",
              "      <th>11/3/20</th>\n",
              "      <th>11/4/20</th>\n",
              "      <th>11/5/20</th>\n",
              "      <th>11/6/20</th>\n",
              "      <th>11/7/20</th>\n",
              "      <th>11/8/20</th>\n",
              "      <th>11/9/20</th>\n",
              "      <th>11/10/20</th>\n",
              "      <th>11/11/20</th>\n",
              "      <th>11/12/20</th>\n",
              "      <th>11/13/20</th>\n",
              "      <th>11/14/20</th>\n",
              "      <th>11/15/20</th>\n",
              "      <th>11/16/20</th>\n",
              "      <th>11/17/20</th>\n",
              "      <th>11/18/20</th>\n",
              "      <th>11/19/20</th>\n",
              "      <th>11/20/20</th>\n",
              "      <th>11/21/20</th>\n",
              "      <th>11/22/20</th>\n",
              "      <th>11/23/20</th>\n",
              "      <th>11/24/20</th>\n",
              "      <th>11/25/20</th>\n",
              "      <th>11/26/20</th>\n",
              "      <th>11/27/20</th>\n",
              "      <th>11/28/20</th>\n",
              "      <th>11/29/20</th>\n",
              "      <th>11/30/20</th>\n",
              "      <th>12/1/20</th>\n",
              "      <th>12/2/20</th>\n",
              "      <th>12/3/20</th>\n",
              "      <th>12/4/20</th>\n",
              "    </tr>\n",
              "  </thead>\n",
              "  <tbody>\n",
              "    <tr>\n",
              "      <th>0</th>\n",
              "      <td>NaN</td>\n",
              "      <td>Afghanistan</td>\n",
              "      <td>33.93911</td>\n",
              "      <td>67.709953</td>\n",
              "      <td>0</td>\n",
              "      <td>0</td>\n",
              "      <td>0</td>\n",
              "      <td>0</td>\n",
              "      <td>0</td>\n",
              "      <td>0</td>\n",
              "      <td>0</td>\n",
              "      <td>0</td>\n",
              "      <td>0</td>\n",
              "      <td>0</td>\n",
              "      <td>0</td>\n",
              "      <td>0</td>\n",
              "      <td>0</td>\n",
              "      <td>0</td>\n",
              "      <td>0</td>\n",
              "      <td>0</td>\n",
              "      <td>0</td>\n",
              "      <td>0</td>\n",
              "      <td>0</td>\n",
              "      <td>0</td>\n",
              "      <td>0</td>\n",
              "      <td>0</td>\n",
              "      <td>0</td>\n",
              "      <td>0</td>\n",
              "      <td>0</td>\n",
              "      <td>0</td>\n",
              "      <td>0</td>\n",
              "      <td>0</td>\n",
              "      <td>0</td>\n",
              "      <td>0</td>\n",
              "      <td>0</td>\n",
              "      <td>0</td>\n",
              "      <td>0</td>\n",
              "      <td>0</td>\n",
              "      <td>0</td>\n",
              "      <td>0</td>\n",
              "      <td>...</td>\n",
              "      <td>1520</td>\n",
              "      <td>1525</td>\n",
              "      <td>1531</td>\n",
              "      <td>1534</td>\n",
              "      <td>1535</td>\n",
              "      <td>1538</td>\n",
              "      <td>1538</td>\n",
              "      <td>1544</td>\n",
              "      <td>1547</td>\n",
              "      <td>1551</td>\n",
              "      <td>1557</td>\n",
              "      <td>1557</td>\n",
              "      <td>1559</td>\n",
              "      <td>1565</td>\n",
              "      <td>1577</td>\n",
              "      <td>1580</td>\n",
              "      <td>1584</td>\n",
              "      <td>1594</td>\n",
              "      <td>1598</td>\n",
              "      <td>1608</td>\n",
              "      <td>1620</td>\n",
              "      <td>1635</td>\n",
              "      <td>1641</td>\n",
              "      <td>1648</td>\n",
              "      <td>1653</td>\n",
              "      <td>1666</td>\n",
              "      <td>1678</td>\n",
              "      <td>1690</td>\n",
              "      <td>1702</td>\n",
              "      <td>1715</td>\n",
              "      <td>1728</td>\n",
              "      <td>1737</td>\n",
              "      <td>1740</td>\n",
              "      <td>1752</td>\n",
              "      <td>1774</td>\n",
              "      <td>1795</td>\n",
              "      <td>1822</td>\n",
              "      <td>1841</td>\n",
              "      <td>1846</td>\n",
              "      <td>1846</td>\n",
              "    </tr>\n",
              "    <tr>\n",
              "      <th>1</th>\n",
              "      <td>NaN</td>\n",
              "      <td>Albania</td>\n",
              "      <td>41.15330</td>\n",
              "      <td>20.168300</td>\n",
              "      <td>0</td>\n",
              "      <td>0</td>\n",
              "      <td>0</td>\n",
              "      <td>0</td>\n",
              "      <td>0</td>\n",
              "      <td>0</td>\n",
              "      <td>0</td>\n",
              "      <td>0</td>\n",
              "      <td>0</td>\n",
              "      <td>0</td>\n",
              "      <td>0</td>\n",
              "      <td>0</td>\n",
              "      <td>0</td>\n",
              "      <td>0</td>\n",
              "      <td>0</td>\n",
              "      <td>0</td>\n",
              "      <td>0</td>\n",
              "      <td>0</td>\n",
              "      <td>0</td>\n",
              "      <td>0</td>\n",
              "      <td>0</td>\n",
              "      <td>0</td>\n",
              "      <td>0</td>\n",
              "      <td>0</td>\n",
              "      <td>0</td>\n",
              "      <td>0</td>\n",
              "      <td>0</td>\n",
              "      <td>0</td>\n",
              "      <td>0</td>\n",
              "      <td>0</td>\n",
              "      <td>0</td>\n",
              "      <td>0</td>\n",
              "      <td>0</td>\n",
              "      <td>0</td>\n",
              "      <td>0</td>\n",
              "      <td>0</td>\n",
              "      <td>...</td>\n",
              "      <td>480</td>\n",
              "      <td>487</td>\n",
              "      <td>493</td>\n",
              "      <td>499</td>\n",
              "      <td>502</td>\n",
              "      <td>509</td>\n",
              "      <td>518</td>\n",
              "      <td>527</td>\n",
              "      <td>532</td>\n",
              "      <td>536</td>\n",
              "      <td>543</td>\n",
              "      <td>549</td>\n",
              "      <td>557</td>\n",
              "      <td>559</td>\n",
              "      <td>571</td>\n",
              "      <td>579</td>\n",
              "      <td>590</td>\n",
              "      <td>598</td>\n",
              "      <td>605</td>\n",
              "      <td>612</td>\n",
              "      <td>623</td>\n",
              "      <td>631</td>\n",
              "      <td>637</td>\n",
              "      <td>646</td>\n",
              "      <td>657</td>\n",
              "      <td>672</td>\n",
              "      <td>685</td>\n",
              "      <td>699</td>\n",
              "      <td>716</td>\n",
              "      <td>735</td>\n",
              "      <td>743</td>\n",
              "      <td>753</td>\n",
              "      <td>771</td>\n",
              "      <td>787</td>\n",
              "      <td>798</td>\n",
              "      <td>810</td>\n",
              "      <td>822</td>\n",
              "      <td>839</td>\n",
              "      <td>852</td>\n",
              "      <td>870</td>\n",
              "    </tr>\n",
              "    <tr>\n",
              "      <th>2</th>\n",
              "      <td>NaN</td>\n",
              "      <td>Algeria</td>\n",
              "      <td>28.03390</td>\n",
              "      <td>1.659600</td>\n",
              "      <td>0</td>\n",
              "      <td>0</td>\n",
              "      <td>0</td>\n",
              "      <td>0</td>\n",
              "      <td>0</td>\n",
              "      <td>0</td>\n",
              "      <td>0</td>\n",
              "      <td>0</td>\n",
              "      <td>0</td>\n",
              "      <td>0</td>\n",
              "      <td>0</td>\n",
              "      <td>0</td>\n",
              "      <td>0</td>\n",
              "      <td>0</td>\n",
              "      <td>0</td>\n",
              "      <td>0</td>\n",
              "      <td>0</td>\n",
              "      <td>0</td>\n",
              "      <td>0</td>\n",
              "      <td>0</td>\n",
              "      <td>0</td>\n",
              "      <td>0</td>\n",
              "      <td>0</td>\n",
              "      <td>0</td>\n",
              "      <td>0</td>\n",
              "      <td>0</td>\n",
              "      <td>0</td>\n",
              "      <td>0</td>\n",
              "      <td>0</td>\n",
              "      <td>0</td>\n",
              "      <td>0</td>\n",
              "      <td>0</td>\n",
              "      <td>0</td>\n",
              "      <td>0</td>\n",
              "      <td>0</td>\n",
              "      <td>0</td>\n",
              "      <td>...</td>\n",
              "      <td>1922</td>\n",
              "      <td>1931</td>\n",
              "      <td>1941</td>\n",
              "      <td>1949</td>\n",
              "      <td>1956</td>\n",
              "      <td>1964</td>\n",
              "      <td>1973</td>\n",
              "      <td>1980</td>\n",
              "      <td>1980</td>\n",
              "      <td>1999</td>\n",
              "      <td>2011</td>\n",
              "      <td>2024</td>\n",
              "      <td>2036</td>\n",
              "      <td>2048</td>\n",
              "      <td>2062</td>\n",
              "      <td>2077</td>\n",
              "      <td>2093</td>\n",
              "      <td>2111</td>\n",
              "      <td>2124</td>\n",
              "      <td>2139</td>\n",
              "      <td>2154</td>\n",
              "      <td>2168</td>\n",
              "      <td>2186</td>\n",
              "      <td>2206</td>\n",
              "      <td>2224</td>\n",
              "      <td>2236</td>\n",
              "      <td>2255</td>\n",
              "      <td>2272</td>\n",
              "      <td>2294</td>\n",
              "      <td>2309</td>\n",
              "      <td>2329</td>\n",
              "      <td>2352</td>\n",
              "      <td>2372</td>\n",
              "      <td>2393</td>\n",
              "      <td>2410</td>\n",
              "      <td>2431</td>\n",
              "      <td>2447</td>\n",
              "      <td>2464</td>\n",
              "      <td>2480</td>\n",
              "      <td>2492</td>\n",
              "    </tr>\n",
              "    <tr>\n",
              "      <th>3</th>\n",
              "      <td>NaN</td>\n",
              "      <td>Andorra</td>\n",
              "      <td>42.50630</td>\n",
              "      <td>1.521800</td>\n",
              "      <td>0</td>\n",
              "      <td>0</td>\n",
              "      <td>0</td>\n",
              "      <td>0</td>\n",
              "      <td>0</td>\n",
              "      <td>0</td>\n",
              "      <td>0</td>\n",
              "      <td>0</td>\n",
              "      <td>0</td>\n",
              "      <td>0</td>\n",
              "      <td>0</td>\n",
              "      <td>0</td>\n",
              "      <td>0</td>\n",
              "      <td>0</td>\n",
              "      <td>0</td>\n",
              "      <td>0</td>\n",
              "      <td>0</td>\n",
              "      <td>0</td>\n",
              "      <td>0</td>\n",
              "      <td>0</td>\n",
              "      <td>0</td>\n",
              "      <td>0</td>\n",
              "      <td>0</td>\n",
              "      <td>0</td>\n",
              "      <td>0</td>\n",
              "      <td>0</td>\n",
              "      <td>0</td>\n",
              "      <td>0</td>\n",
              "      <td>0</td>\n",
              "      <td>0</td>\n",
              "      <td>0</td>\n",
              "      <td>0</td>\n",
              "      <td>0</td>\n",
              "      <td>0</td>\n",
              "      <td>0</td>\n",
              "      <td>0</td>\n",
              "      <td>...</td>\n",
              "      <td>72</td>\n",
              "      <td>72</td>\n",
              "      <td>72</td>\n",
              "      <td>73</td>\n",
              "      <td>75</td>\n",
              "      <td>75</td>\n",
              "      <td>75</td>\n",
              "      <td>75</td>\n",
              "      <td>75</td>\n",
              "      <td>75</td>\n",
              "      <td>75</td>\n",
              "      <td>75</td>\n",
              "      <td>75</td>\n",
              "      <td>75</td>\n",
              "      <td>75</td>\n",
              "      <td>75</td>\n",
              "      <td>75</td>\n",
              "      <td>75</td>\n",
              "      <td>75</td>\n",
              "      <td>75</td>\n",
              "      <td>76</td>\n",
              "      <td>76</td>\n",
              "      <td>76</td>\n",
              "      <td>76</td>\n",
              "      <td>76</td>\n",
              "      <td>76</td>\n",
              "      <td>76</td>\n",
              "      <td>76</td>\n",
              "      <td>76</td>\n",
              "      <td>76</td>\n",
              "      <td>76</td>\n",
              "      <td>76</td>\n",
              "      <td>76</td>\n",
              "      <td>76</td>\n",
              "      <td>76</td>\n",
              "      <td>76</td>\n",
              "      <td>76</td>\n",
              "      <td>76</td>\n",
              "      <td>77</td>\n",
              "      <td>77</td>\n",
              "    </tr>\n",
              "    <tr>\n",
              "      <th>4</th>\n",
              "      <td>NaN</td>\n",
              "      <td>Angola</td>\n",
              "      <td>-11.20270</td>\n",
              "      <td>17.873900</td>\n",
              "      <td>0</td>\n",
              "      <td>0</td>\n",
              "      <td>0</td>\n",
              "      <td>0</td>\n",
              "      <td>0</td>\n",
              "      <td>0</td>\n",
              "      <td>0</td>\n",
              "      <td>0</td>\n",
              "      <td>0</td>\n",
              "      <td>0</td>\n",
              "      <td>0</td>\n",
              "      <td>0</td>\n",
              "      <td>0</td>\n",
              "      <td>0</td>\n",
              "      <td>0</td>\n",
              "      <td>0</td>\n",
              "      <td>0</td>\n",
              "      <td>0</td>\n",
              "      <td>0</td>\n",
              "      <td>0</td>\n",
              "      <td>0</td>\n",
              "      <td>0</td>\n",
              "      <td>0</td>\n",
              "      <td>0</td>\n",
              "      <td>0</td>\n",
              "      <td>0</td>\n",
              "      <td>0</td>\n",
              "      <td>0</td>\n",
              "      <td>0</td>\n",
              "      <td>0</td>\n",
              "      <td>0</td>\n",
              "      <td>0</td>\n",
              "      <td>0</td>\n",
              "      <td>0</td>\n",
              "      <td>0</td>\n",
              "      <td>0</td>\n",
              "      <td>...</td>\n",
              "      <td>270</td>\n",
              "      <td>271</td>\n",
              "      <td>275</td>\n",
              "      <td>275</td>\n",
              "      <td>279</td>\n",
              "      <td>284</td>\n",
              "      <td>286</td>\n",
              "      <td>289</td>\n",
              "      <td>291</td>\n",
              "      <td>296</td>\n",
              "      <td>299</td>\n",
              "      <td>300</td>\n",
              "      <td>303</td>\n",
              "      <td>307</td>\n",
              "      <td>308</td>\n",
              "      <td>308</td>\n",
              "      <td>312</td>\n",
              "      <td>315</td>\n",
              "      <td>317</td>\n",
              "      <td>322</td>\n",
              "      <td>322</td>\n",
              "      <td>324</td>\n",
              "      <td>328</td>\n",
              "      <td>332</td>\n",
              "      <td>333</td>\n",
              "      <td>334</td>\n",
              "      <td>336</td>\n",
              "      <td>337</td>\n",
              "      <td>337</td>\n",
              "      <td>338</td>\n",
              "      <td>340</td>\n",
              "      <td>341</td>\n",
              "      <td>342</td>\n",
              "      <td>345</td>\n",
              "      <td>346</td>\n",
              "      <td>348</td>\n",
              "      <td>350</td>\n",
              "      <td>351</td>\n",
              "      <td>352</td>\n",
              "      <td>353</td>\n",
              "    </tr>\n",
              "  </tbody>\n",
              "</table>\n",
              "<p>5 rows × 322 columns</p>\n",
              "</div>"
            ],
            "text/plain": [
              "  Province/State Country/Region       Lat  ...  12/2/20  12/3/20  12/4/20\n",
              "0            NaN    Afghanistan  33.93911  ...     1841     1846     1846\n",
              "1            NaN        Albania  41.15330  ...      839      852      870\n",
              "2            NaN        Algeria  28.03390  ...     2464     2480     2492\n",
              "3            NaN        Andorra  42.50630  ...       76       77       77\n",
              "4            NaN         Angola -11.20270  ...      351      352      353\n",
              "\n",
              "[5 rows x 322 columns]"
            ]
          },
          "metadata": {
            "tags": []
          },
          "execution_count": 25
        }
      ]
    },
    {
      "cell_type": "code",
      "metadata": {
        "id": "DB4ISxntqV3P"
      },
      "source": [
        "deaths_df.dropna(subset=['Lat', \"Long\"], inplace=True)"
      ],
      "execution_count": null,
      "outputs": []
    },
    {
      "cell_type": "code",
      "metadata": {
        "id": "LcNfavcts8WR"
      },
      "source": [
        "column_list = list(deaths_df)\n",
        "column_list.remove(\"Lat\")\n",
        "column_list.remove(\"Long\")\n",
        "column_list.remove(\"Country/Region\")\n",
        "column_list.remove('Province/State')"
      ],
      "execution_count": null,
      "outputs": []
    },
    {
      "cell_type": "code",
      "metadata": {
        "id": "cB1NFhuUtq5b"
      },
      "source": [
        "deaths_df[\"Sum\"] = deaths_df[column_list].sum(axis=1)"
      ],
      "execution_count": null,
      "outputs": []
    },
    {
      "cell_type": "markdown",
      "metadata": {
        "id": "AA5Fs5HKi7yD"
      },
      "source": [
        "### Statistical testing"
      ]
    },
    {
      "cell_type": "code",
      "metadata": {
        "id": "fGBCC7bYH6pf",
        "colab": {
          "base_uri": "https://localhost:8080/"
        },
        "outputId": "43b633db-23f3-4507-f891-054e2a80fb68"
      },
      "source": [
        "patient.sex.value_counts()"
      ],
      "execution_count": null,
      "outputs": [
        {
          "output_type": "execute_result",
          "data": {
            "text/plain": [
              "female    2218\n",
              "male      1825\n",
              "Name: sex, dtype: int64"
            ]
          },
          "metadata": {
            "tags": []
          },
          "execution_count": 7
        }
      ]
    },
    {
      "cell_type": "code",
      "metadata": {
        "id": "e0kf7PykKSu2",
        "colab": {
          "base_uri": "https://localhost:8080/"
        },
        "outputId": "2a4190f2-8d7b-4b21-8dfc-060812d37107"
      },
      "source": [
        "gender = patient.groupby('sex')\n",
        "gender.state.value_counts()"
      ],
      "execution_count": null,
      "outputs": [
        {
          "output_type": "execute_result",
          "data": {
            "text/plain": [
              "sex     state   \n",
              "female  released    1402\n",
              "        isolated     788\n",
              "        deceased      28\n",
              "male    released    1112\n",
              "        isolated     666\n",
              "        deceased      47\n",
              "Name: state, dtype: int64"
            ]
          },
          "metadata": {
            "tags": []
          },
          "execution_count": 9
        }
      ]
    },
    {
      "cell_type": "markdown",
      "metadata": {
        "id": "N7XYbHQ6KxNY"
      },
      "source": [
        "Parametric test assumptions\n",
        "\n",
        "*   Independence: Meaning that each observation is independent of another; if there are 2 or more groups being compared, then it refers to that fact that groups are mutually exclusive, i.e. each individual belongs to only 1 group; and that the data is not repeated over time.\n",
        "*   Population distributions are normal: The normality assumption is applied differently depending on the statistical method being used. For example, it applies to the shape of the sampling distribution for the dependent variable (outcome variable).\n",
        "*   Samples have equal variances"
      ]
    },
    {
      "cell_type": "markdown",
      "metadata": {
        "id": "3549egkrQ7HD"
      },
      "source": [
        "Since clusters are already different (point of clustering), let's see if one variable is different form the population"
      ]
    },
    {
      "cell_type": "code",
      "metadata": {
        "id": "H3Kxr2f1P9kR"
      },
      "source": [
        "# Create dataframes for each cluster\n",
        "cluster_1 = full_features_df.query('cluster == 1')\n",
        "cluster_2 = full_features_df.query('cluster == 2')\n",
        "cluster_3 = full_features_df.query('cluster == 3')"
      ],
      "execution_count": 33,
      "outputs": []
    },
    {
      "cell_type": "code",
      "metadata": {
        "colab": {
          "base_uri": "https://localhost:8080/"
        },
        "id": "H4_W7H0ZLjc6",
        "outputId": "ca9b99ef-0d17-4821-ca73-8d84ca6077ea"
      },
      "source": [
        "np.var(cluster_1.elderly_population_ratio)"
      ],
      "execution_count": 44,
      "outputs": [
        {
          "output_type": "execute_result",
          "data": {
            "text/plain": [
              "3.236025959153197"
            ]
          },
          "metadata": {
            "tags": []
          },
          "execution_count": 44
        }
      ]
    },
    {
      "cell_type": "code",
      "metadata": {
        "colab": {
          "base_uri": "https://localhost:8080/"
        },
        "id": "xVkvRHFRLrH-",
        "outputId": "849a2d74-0134-4e20-f198-518ab8d3d85f"
      },
      "source": [
        "np.var(cluster_2.elderly_population_ratio)"
      ],
      "execution_count": 45,
      "outputs": [
        {
          "output_type": "execute_result",
          "data": {
            "text/plain": [
              "28.89441501781002"
            ]
          },
          "metadata": {
            "tags": []
          },
          "execution_count": 45
        }
      ]
    },
    {
      "cell_type": "code",
      "metadata": {
        "colab": {
          "base_uri": "https://localhost:8080/"
        },
        "id": "6XpKwPbwMCj0",
        "outputId": "c81c0a97-ec19-495d-d055-0d08ea9d0ab1"
      },
      "source": [
        "np.var(cluster_3.elderly_population_ratio)"
      ],
      "execution_count": 46,
      "outputs": [
        {
          "output_type": "execute_result",
          "data": {
            "text/plain": [
              "7.553226950501664"
            ]
          },
          "metadata": {
            "tags": []
          },
          "execution_count": 46
        }
      ]
    },
    {
      "cell_type": "code",
      "metadata": {
        "colab": {
          "base_uri": "https://localhost:8080/"
        },
        "id": "x7VATgGVM0tY",
        "outputId": "c8aa99f2-462f-4799-9932-d661d04fb58f"
      },
      "source": [
        "# Check bartlett's equality of variance test\n",
        "stats.bartlett(cluster_1['elderly_population_ratio'],\n",
        "               cluster_2['elderly_population_ratio'],\n",
        "               cluster_3['elderly_population_ratio'])"
      ],
      "execution_count": 34,
      "outputs": [
        {
          "output_type": "execute_result",
          "data": {
            "text/plain": [
              "BartlettResult(statistic=975.6649699176323, pvalue=1.3710196813142527e-212)"
            ]
          },
          "metadata": {
            "tags": []
          },
          "execution_count": 34
        }
      ]
    },
    {
      "cell_type": "markdown",
      "metadata": {
        "id": "sG5vmCHeOCQ9"
      },
      "source": [
        "Heteroskedasticity!"
      ]
    },
    {
      "cell_type": "code",
      "metadata": {
        "id": "v0tyBaPxZsnQ",
        "colab": {
          "base_uri": "https://localhost:8080/",
          "height": 265
        },
        "outputId": "087bd1d7-e7d3-4ead-d5a2-f01d0f57c54c"
      },
      "source": [
        "# Check overall population for normality\n",
        "pyplot.hist(full_features_df.elderly_population_ratio)\n",
        "pyplot.show()"
      ],
      "execution_count": 35,
      "outputs": [
        {
          "output_type": "display_data",
          "data": {
            "image/png": "[encoded data removed]",
            "text/plain": [
              "<Figure size 432x288 with 1 Axes>"
            ]
          },
          "metadata": {
            "tags": [],
            "needs_background": "light"
          }
        }
      ]
    },
    {
      "cell_type": "code",
      "metadata": {
        "id": "i76KF8cyREbb"
      },
      "source": [
        ""
      ],
      "execution_count": null,
      "outputs": []
    },
    {
      "cell_type": "code",
      "metadata": {
        "id": "q16Xb21gaGGq",
        "colab": {
          "base_uri": "https://localhost:8080/",
          "height": 461
        },
        "outputId": "6a02ef64-1ff8-40c8-f1ab-51cfe7c1bfea"
      },
      "source": [
        "# Plot clusters to check for normality\n",
        "fig, axes = plt.subplots(1, 3, figsize=(20,7))\n",
        "\n",
        "cluster_1.hist('elderly_population_ratio', ax=axes[0])\n",
        "cluster_2.hist('elderly_population_ratio', ax=axes[1])\n",
        "cluster_3.hist('elderly_population_ratio', ax=axes[2])\n",
        "axes[0].set_title('Cluster 1')\n",
        "axes[1].set_title('Cluster 2')\n",
        "axes[2].set_title('Cluster 3')"
      ],
      "execution_count": 36,
      "outputs": [
        {
          "output_type": "execute_result",
          "data": {
            "text/plain": [
              "Text(0.5, 1.0, 'Cluster 3')"
            ]
          },
          "metadata": {
            "tags": []
          },
          "execution_count": 36
        },
        {
          "output_type": "display_data",
          "data": {
            "image/png": "[encoded data removed]",
            "text/plain": [
              "<Figure size 1440x504 with 3 Axes>"
            ]
          },
          "metadata": {
            "tags": [],
            "needs_background": "light"
          }
        }
      ]
    },
    {
      "cell_type": "code",
      "metadata": {
        "id": "ECLCCsdaLbe0",
        "colab": {
          "base_uri": "https://localhost:8080/"
        },
        "outputId": "23d27959-13d6-489f-9d7d-292760875083"
      },
      "source": [
        "pip install researchpy"
      ],
      "execution_count": 37,
      "outputs": [
        {
          "output_type": "stream",
          "text": [
            "Collecting researchpy\n",
            "  Downloading https://files.pythonhosted.org/packages/4b/a3/b16ea25a5416f7c35824b2fc3ee1cdc9f9d8ab6d9fc4119679504d43b8a8/researchpy-0.2.3-py3-none-any.whl\n",
            "Requirement already satisfied: numpy in /usr/local/lib/python3.6/dist-packages (from researchpy) (1.18.5)\n",
            "Requirement already satisfied: scipy in /usr/local/lib/python3.6/dist-packages (from researchpy) (1.4.1)\n",
            "Requirement already satisfied: statsmodels in /usr/local/lib/python3.6/dist-packages (from researchpy) (0.10.2)\n",
            "Requirement already satisfied: pandas in /usr/local/lib/python3.6/dist-packages (from researchpy) (1.1.4)\n",
            "Requirement already satisfied: patsy>=0.4.0 in /usr/local/lib/python3.6/dist-packages (from statsmodels->researchpy) (0.5.1)\n",
            "Requirement already satisfied: python-dateutil>=2.7.3 in /usr/local/lib/python3.6/dist-packages (from pandas->researchpy) (2.8.1)\n",
            "Requirement already satisfied: pytz>=2017.2 in /usr/local/lib/python3.6/dist-packages (from pandas->researchpy) (2018.9)\n",
            "Requirement already satisfied: six in /usr/local/lib/python3.6/dist-packages (from patsy>=0.4.0->statsmodels->researchpy) (1.15.0)\n",
            "Installing collected packages: researchpy\n",
            "Successfully installed researchpy-0.2.3\n"
          ],
          "name": "stdout"
        }
      ]
    },
    {
      "cell_type": "code",
      "metadata": {
        "colab": {
          "base_uri": "https://localhost:8080/",
          "height": 168
        },
        "id": "cWjx1YI-KpoD",
        "outputId": "f0a3f145-a4e0-4f61-b2ea-5a110eaf30bf"
      },
      "source": [
        "import researchpy as rp\n",
        "rp.summary_cont(full_features_df['elderly_population_ratio'])"
      ],
      "execution_count": 38,
      "outputs": [
        {
          "output_type": "stream",
          "text": [
            "\n",
            "\n"
          ],
          "name": "stdout"
        },
        {
          "output_type": "stream",
          "text": [
            "/usr/local/lib/python3.6/dist-packages/statsmodels/tools/_testing.py:19: FutureWarning: pandas.util.testing is deprecated. Use the functions in the public API at pandas.testing instead.\n",
            "  import pandas.util.testing as tm\n"
          ],
          "name": "stderr"
        },
        {
          "output_type": "execute_result",
          "data": {
            "text/html": [
              "<div>\n",
              "<style scoped>\n",
              "    .dataframe tbody tr th:only-of-type {\n",
              "        vertical-align: middle;\n",
              "    }\n",
              "\n",
              "    .dataframe tbody tr th {\n",
              "        vertical-align: top;\n",
              "    }\n",
              "\n",
              "    .dataframe thead th {\n",
              "        text-align: right;\n",
              "    }\n",
              "</style>\n",
              "<table border=\"1\" class=\"dataframe\">\n",
              "  <thead>\n",
              "    <tr style=\"text-align: right;\">\n",
              "      <th></th>\n",
              "      <th>Variable</th>\n",
              "      <th>N</th>\n",
              "      <th>Mean</th>\n",
              "      <th>SD</th>\n",
              "      <th>SE</th>\n",
              "      <th>95% Conf.</th>\n",
              "      <th>Interval</th>\n",
              "    </tr>\n",
              "  </thead>\n",
              "  <tbody>\n",
              "    <tr>\n",
              "      <th>0</th>\n",
              "      <td>elderly_population_ratio</td>\n",
              "      <td>4946.0</td>\n",
              "      <td>15.992</td>\n",
              "      <td>5.8746</td>\n",
              "      <td>0.0835</td>\n",
              "      <td>15.8282</td>\n",
              "      <td>16.1557</td>\n",
              "    </tr>\n",
              "  </tbody>\n",
              "</table>\n",
              "</div>"
            ],
            "text/plain": [
              "                   Variable       N    Mean  ...      SE  95% Conf.  Interval\n",
              "0  elderly_population_ratio  4946.0  15.992  ...  0.0835    15.8282   16.1557\n",
              "\n",
              "[1 rows x 7 columns]"
            ]
          },
          "metadata": {
            "tags": []
          },
          "execution_count": 38
        }
      ]
    },
    {
      "cell_type": "code",
      "metadata": {
        "id": "honAtHTofcy-",
        "colab": {
          "base_uri": "https://localhost:8080/",
          "height": 207
        },
        "outputId": "01f66c30-19cb-41f6-ce0b-0d5e64fb5ba4"
      },
      "source": [
        "rp.summary_cont(full_features_df['elderly_population_ratio'].groupby(full_features_df['cluster']))"
      ],
      "execution_count": 39,
      "outputs": [
        {
          "output_type": "stream",
          "text": [
            "\n",
            "\n"
          ],
          "name": "stdout"
        },
        {
          "output_type": "execute_result",
          "data": {
            "text/html": [
              "<div>\n",
              "<style scoped>\n",
              "    .dataframe tbody tr th:only-of-type {\n",
              "        vertical-align: middle;\n",
              "    }\n",
              "\n",
              "    .dataframe tbody tr th {\n",
              "        vertical-align: top;\n",
              "    }\n",
              "\n",
              "    .dataframe thead th {\n",
              "        text-align: right;\n",
              "    }\n",
              "</style>\n",
              "<table border=\"1\" class=\"dataframe\">\n",
              "  <thead>\n",
              "    <tr style=\"text-align: right;\">\n",
              "      <th></th>\n",
              "      <th>N</th>\n",
              "      <th>Mean</th>\n",
              "      <th>SD</th>\n",
              "      <th>SE</th>\n",
              "      <th>95% Conf.</th>\n",
              "      <th>Interval</th>\n",
              "    </tr>\n",
              "    <tr>\n",
              "      <th>cluster</th>\n",
              "      <th></th>\n",
              "      <th></th>\n",
              "      <th></th>\n",
              "      <th></th>\n",
              "      <th></th>\n",
              "      <th></th>\n",
              "    </tr>\n",
              "  </thead>\n",
              "  <tbody>\n",
              "    <tr>\n",
              "      <th>1</th>\n",
              "      <td>1189</td>\n",
              "      <td>12.2503</td>\n",
              "      <td>1.7997</td>\n",
              "      <td>0.0522</td>\n",
              "      <td>12.1479</td>\n",
              "      <td>12.3527</td>\n",
              "    </tr>\n",
              "    <tr>\n",
              "      <th>2</th>\n",
              "      <td>461</td>\n",
              "      <td>31.4243</td>\n",
              "      <td>5.3812</td>\n",
              "      <td>0.2506</td>\n",
              "      <td>30.9318</td>\n",
              "      <td>31.9169</td>\n",
              "    </tr>\n",
              "    <tr>\n",
              "      <th>3</th>\n",
              "      <td>3296</td>\n",
              "      <td>15.1832</td>\n",
              "      <td>2.7487</td>\n",
              "      <td>0.0479</td>\n",
              "      <td>15.0894</td>\n",
              "      <td>15.2771</td>\n",
              "    </tr>\n",
              "  </tbody>\n",
              "</table>\n",
              "</div>"
            ],
            "text/plain": [
              "            N     Mean      SD      SE  95% Conf.  Interval\n",
              "cluster                                                    \n",
              "1        1189  12.2503  1.7997  0.0522    12.1479   12.3527\n",
              "2         461  31.4243  5.3812  0.2506    30.9318   31.9169\n",
              "3        3296  15.1832  2.7487  0.0479    15.0894   15.2771"
            ]
          },
          "metadata": {
            "tags": []
          },
          "execution_count": 39
        }
      ]
    },
    {
      "cell_type": "code",
      "metadata": {
        "id": "k1hm2T2ifXfj",
        "colab": {
          "base_uri": "https://localhost:8080/"
        },
        "outputId": "18ce35cc-8d75-4bbc-8b2a-8e3842fcfb58"
      },
      "source": [
        "stats.f_oneway(full_features_df['elderly_population_ratio'][full_features_df['cluster'] == 1],\n",
        "               full_features_df['elderly_population_ratio'][full_features_df['cluster'] == 2],\n",
        "               full_features_df['elderly_population_ratio'][full_features_df['cluster'] == 3],)"
      ],
      "execution_count": 40,
      "outputs": [
        {
          "output_type": "execute_result",
          "data": {
            "text/plain": [
              "F_onewayResult(statistic=7555.641862365667, pvalue=0.0)"
            ]
          },
          "metadata": {
            "tags": []
          },
          "execution_count": 40
        }
      ]
    },
    {
      "cell_type": "code",
      "metadata": {
        "id": "N35YIVNugPUo",
        "colab": {
          "base_uri": "https://localhost:8080/",
          "height": 111
        },
        "outputId": "d9fd070a-2b47-4795-e6cb-4d8d88914209"
      },
      "source": [
        "import statsmodels.api as sm\n",
        "from statsmodels.formula.api import ols\n",
        "\n",
        "model = ols('elderly_population_ratio ~ C(cluster)', data=full_features_df).fit()\n",
        "aov_table = sm.stats.anova_lm(model, typ=2)\n",
        "aov_table"
      ],
      "execution_count": 41,
      "outputs": [
        {
          "output_type": "execute_result",
          "data": {
            "text/html": [
              "<div>\n",
              "<style scoped>\n",
              "    .dataframe tbody tr th:only-of-type {\n",
              "        vertical-align: middle;\n",
              "    }\n",
              "\n",
              "    .dataframe tbody tr th {\n",
              "        vertical-align: top;\n",
              "    }\n",
              "\n",
              "    .dataframe thead th {\n",
              "        text-align: right;\n",
              "    }\n",
              "</style>\n",
              "<table border=\"1\" class=\"dataframe\">\n",
              "  <thead>\n",
              "    <tr style=\"text-align: right;\">\n",
              "      <th></th>\n",
              "      <th>sum_sq</th>\n",
              "      <th>df</th>\n",
              "      <th>F</th>\n",
              "      <th>PR(&gt;F)</th>\n",
              "    </tr>\n",
              "  </thead>\n",
              "  <tbody>\n",
              "    <tr>\n",
              "      <th>C(cluster)</th>\n",
              "      <td>128592.335559</td>\n",
              "      <td>2.0</td>\n",
              "      <td>7555.641862</td>\n",
              "      <td>0.0</td>\n",
              "    </tr>\n",
              "    <tr>\n",
              "      <th>Residual</th>\n",
              "      <td>42063.396217</td>\n",
              "      <td>4943.0</td>\n",
              "      <td>NaN</td>\n",
              "      <td>NaN</td>\n",
              "    </tr>\n",
              "  </tbody>\n",
              "</table>\n",
              "</div>"
            ],
            "text/plain": [
              "                   sum_sq      df            F  PR(>F)\n",
              "C(cluster)  128592.335559     2.0  7555.641862     0.0\n",
              "Residual     42063.396217  4943.0          NaN     NaN"
            ]
          },
          "metadata": {
            "tags": []
          },
          "execution_count": 41
        }
      ]
    },
    {
      "cell_type": "code",
      "metadata": {
        "id": "8DY18XwugjLN",
        "colab": {
          "base_uri": "https://localhost:8080/",
          "height": 111
        },
        "outputId": "6ed235d5-c3af-463d-9b9a-1b3d13e682a7"
      },
      "source": [
        "\"\"\"\n",
        "The function below was created specifically for the one-way ANOVA table results returned for Type II sum of squares\n",
        "\"\"\"\n",
        "\n",
        "def anova_table(aov):\n",
        "    aov['mean_sq'] = aov[:]['sum_sq']/aov[:]['df']\n",
        "\n",
        "    aov['eta_sq'] = aov[:-1]['sum_sq']/sum(aov['sum_sq'])\n",
        "\n",
        "    aov['omega_sq'] = (aov[:-1]['sum_sq']-(aov[:-1]['df']*aov['mean_sq'][-1]))/(sum(aov['sum_sq'])+aov['mean_sq'][-1])\n",
        "\n",
        "    cols = ['sum_sq', 'df', 'mean_sq', 'F', 'PR(>F)', 'eta_sq', 'omega_sq']\n",
        "    aov = aov[cols]\n",
        "    return aov\n",
        "\n",
        "anova_table(aov_table)"
      ],
      "execution_count": 42,
      "outputs": [
        {
          "output_type": "execute_result",
          "data": {
            "text/html": [
              "<div>\n",
              "<style scoped>\n",
              "    .dataframe tbody tr th:only-of-type {\n",
              "        vertical-align: middle;\n",
              "    }\n",
              "\n",
              "    .dataframe tbody tr th {\n",
              "        vertical-align: top;\n",
              "    }\n",
              "\n",
              "    .dataframe thead th {\n",
              "        text-align: right;\n",
              "    }\n",
              "</style>\n",
              "<table border=\"1\" class=\"dataframe\">\n",
              "  <thead>\n",
              "    <tr style=\"text-align: right;\">\n",
              "      <th></th>\n",
              "      <th>sum_sq</th>\n",
              "      <th>df</th>\n",
              "      <th>mean_sq</th>\n",
              "      <th>F</th>\n",
              "      <th>PR(&gt;F)</th>\n",
              "      <th>eta_sq</th>\n",
              "      <th>omega_sq</th>\n",
              "    </tr>\n",
              "  </thead>\n",
              "  <tbody>\n",
              "    <tr>\n",
              "      <th>C(cluster)</th>\n",
              "      <td>128592.335559</td>\n",
              "      <td>2.0</td>\n",
              "      <td>64296.16778</td>\n",
              "      <td>7555.641862</td>\n",
              "      <td>0.0</td>\n",
              "      <td>0.753519</td>\n",
              "      <td>0.753382</td>\n",
              "    </tr>\n",
              "    <tr>\n",
              "      <th>Residual</th>\n",
              "      <td>42063.396217</td>\n",
              "      <td>4943.0</td>\n",
              "      <td>8.50969</td>\n",
              "      <td>NaN</td>\n",
              "      <td>NaN</td>\n",
              "      <td>NaN</td>\n",
              "      <td>NaN</td>\n",
              "    </tr>\n",
              "  </tbody>\n",
              "</table>\n",
              "</div>"
            ],
            "text/plain": [
              "                   sum_sq      df      mean_sq  ...  PR(>F)    eta_sq  omega_sq\n",
              "C(cluster)  128592.335559     2.0  64296.16778  ...     0.0  0.753519  0.753382\n",
              "Residual     42063.396217  4943.0      8.50969  ...     NaN       NaN       NaN\n",
              "\n",
              "[2 rows x 7 columns]"
            ]
          },
          "metadata": {
            "tags": []
          },
          "execution_count": 42
        }
      ]
    },
    {
      "cell_type": "code",
      "metadata": {
        "id": "1lJqPK-Kg9ox",
        "colab": {
          "base_uri": "https://localhost:8080/",
          "height": 627
        },
        "outputId": "d3c27925-d11e-4a80-a550-633abc525b01"
      },
      "source": [
        "fig = plt.figure(figsize= (10, 10))\n",
        "ax = fig.add_subplot(111)\n",
        "\n",
        "normality_plot, stat = stats.probplot(model.resid, plot= plt, rvalue= True)\n",
        "ax.set_title(\"Probability plot of model residual's\", fontsize= 20)\n",
        "ax.set\n",
        "\n",
        "plt.show()"
      ],
      "execution_count": 43,
      "outputs": [
        {
          "output_type": "display_data",
          "data": {
            "image/png": "[encoded data removed]",
            "text/plain": [
              "<Figure size 720x720 with 1 Axes>"
            ]
          },
          "metadata": {
            "tags": [],
            "needs_background": "light"
          }
        }
      ]
    },
    {
      "cell_type": "markdown",
      "metadata": {
        "id": "1MZjMAIQiuHh"
      },
      "source": [
        "### Modeling"
      ]
    },
    {
      "cell_type": "markdown",
      "metadata": {
        "id": "uQtIiyWgiwed"
      },
      "source": [
        "#### PCA"
      ]
    },
    {
      "cell_type": "code",
      "metadata": {
        "id": "p5PpDU1Q4PA-"
      },
      "source": [
        "# Leave out state\n",
        "features = ['elementary_school_count', 'kindergarten_count', 'university_count',\n",
        "       'academy_ratio', 'elderly_population_ratio', 'elderly_alone_ratio',\n",
        "       'nursing_home_count']\n",
        "       \n",
        "# Separating out the features\n",
        "x = full_features_df.loc[:, features].values\n",
        "\n",
        "# Separating out the target\n",
        "y = full_features_df.loc[:,['state']].values\n",
        "\n",
        "# Standardizing the features\n",
        "x = StandardScaler().fit_transform(x)"
      ],
      "execution_count": 10,
      "outputs": []
    },
    {
      "cell_type": "code",
      "metadata": {
        "colab": {
          "base_uri": "https://localhost:8080/",
          "height": 204
        },
        "id": "6nGZuS1h4Prj",
        "outputId": "fb422801-5f11-4171-c1a1-6ec3d0363a2a"
      },
      "source": [
        "# Visualise the standardised data (Just for simplicity)\n",
        "see_x = pd.DataFrame(data=x, columns=features)\n",
        "see_x.head()"
      ],
      "execution_count": 11,
      "outputs": [
        {
          "output_type": "execute_result",
          "data": {
            "text/html": [
              "<div>\n",
              "<style scoped>\n",
              "    .dataframe tbody tr th:only-of-type {\n",
              "        vertical-align: middle;\n",
              "    }\n",
              "\n",
              "    .dataframe tbody tr th {\n",
              "        vertical-align: top;\n",
              "    }\n",
              "\n",
              "    .dataframe thead th {\n",
              "        text-align: right;\n",
              "    }\n",
              "</style>\n",
              "<table border=\"1\" class=\"dataframe\">\n",
              "  <thead>\n",
              "    <tr style=\"text-align: right;\">\n",
              "      <th></th>\n",
              "      <th>elementary_school_count</th>\n",
              "      <th>kindergarten_count</th>\n",
              "      <th>university_count</th>\n",
              "      <th>academy_ratio</th>\n",
              "      <th>elderly_population_ratio</th>\n",
              "      <th>elderly_alone_ratio</th>\n",
              "      <th>nursing_home_count</th>\n",
              "    </tr>\n",
              "  </thead>\n",
              "  <tbody>\n",
              "    <tr>\n",
              "      <th>0</th>\n",
              "      <td>-0.126653</td>\n",
              "      <td>-0.197632</td>\n",
              "      <td>-0.717307</td>\n",
              "      <td>-0.511312</td>\n",
              "      <td>-0.272721</td>\n",
              "      <td>-0.353517</td>\n",
              "      <td>0.484077</td>\n",
              "    </tr>\n",
              "    <tr>\n",
              "      <th>1</th>\n",
              "      <td>-0.685040</td>\n",
              "      <td>-0.767916</td>\n",
              "      <td>-0.717307</td>\n",
              "      <td>-1.328139</td>\n",
              "      <td>0.112026</td>\n",
              "      <td>-0.047497</td>\n",
              "      <td>-0.189123</td>\n",
              "    </tr>\n",
              "    <tr>\n",
              "      <th>2</th>\n",
              "      <td>-1.114569</td>\n",
              "      <td>-1.087275</td>\n",
              "      <td>-0.084223</td>\n",
              "      <td>0.427170</td>\n",
              "      <td>0.387818</td>\n",
              "      <td>-0.072999</td>\n",
              "      <td>-0.225280</td>\n",
              "    </tr>\n",
              "    <tr>\n",
              "      <th>3</th>\n",
              "      <td>-0.727993</td>\n",
              "      <td>-0.927596</td>\n",
              "      <td>-0.400765</td>\n",
              "      <td>0.635722</td>\n",
              "      <td>-0.330603</td>\n",
              "      <td>-0.557530</td>\n",
              "      <td>0.224094</td>\n",
              "    </tr>\n",
              "    <tr>\n",
              "      <th>4</th>\n",
              "      <td>-0.427323</td>\n",
              "      <td>-0.357312</td>\n",
              "      <td>0.865403</td>\n",
              "      <td>-0.772002</td>\n",
              "      <td>0.026905</td>\n",
              "      <td>-0.277012</td>\n",
              "      <td>-0.120254</td>\n",
              "    </tr>\n",
              "  </tbody>\n",
              "</table>\n",
              "</div>"
            ],
            "text/plain": [
              "   elementary_school_count  ...  nursing_home_count\n",
              "0                -0.126653  ...            0.484077\n",
              "1                -0.685040  ...           -0.189123\n",
              "2                -1.114569  ...           -0.225280\n",
              "3                -0.727993  ...            0.224094\n",
              "4                -0.427323  ...           -0.120254\n",
              "\n",
              "[5 rows x 7 columns]"
            ]
          },
          "metadata": {
            "tags": []
          },
          "execution_count": 11
        }
      ]
    },
    {
      "cell_type": "code",
      "metadata": {
        "colab": {
          "base_uri": "https://localhost:8080/"
        },
        "id": "c7AHLCraiz9b",
        "outputId": "aae473f7-ef61-4d47-dd62-61bb1565c5ac"
      },
      "source": [
        "# While applying StandardScaler, each feature of your data should be normally \n",
        "# distributed such that it will scale the distribution to a mean of zero\n",
        "# and a standard deviation of one.\n",
        "np.mean(x),np.std(x)"
      ],
      "execution_count": 12,
      "outputs": [
        {
          "output_type": "execute_result",
          "data": {
            "text/plain": [
              "(2.626927103497569e-17, 0.9999999999999999)"
            ]
          },
          "metadata": {
            "tags": []
          },
          "execution_count": 12
        }
      ]
    },
    {
      "cell_type": "code",
      "metadata": {
        "colab": {
          "base_uri": "https://localhost:8080/",
          "height": 279
        },
        "id": "iP1Qkcop4Rl7",
        "outputId": "f37ac319-f0ee-4a65-d843-178b68e856b1"
      },
      "source": [
        "# Plot the explained variance per component added\n",
        "pca = PCA().fit(x)\n",
        "plt.plot(np.cumsum(pca.explained_variance_ratio_))\n",
        "plt.xlabel('Number of components')\n",
        "plt.ylabel('Cumulative explained variance');"
      ],
      "execution_count": 13,
      "outputs": [
        {
          "output_type": "display_data",
          "data": {
            "image/png": "[encoded data removed]",
            "text/plain": [
              "<Figure size 432x288 with 1 Axes>"
            ]
          },
          "metadata": {
            "tags": [],
            "needs_background": "light"
          }
        }
      ]
    },
    {
      "cell_type": "code",
      "metadata": {
        "id": "-CrVeF3y4Tqp"
      },
      "source": [
        "# 2 PCA components\n",
        "pca = PCA(n_components=2)\n",
        "principal_components = pca.fit_transform(x)\n",
        "principal_df = pd.DataFrame(data = principal_components\n",
        "             , columns = ['principal component 1', 'principal component 2'])"
      ],
      "execution_count": 14,
      "outputs": []
    },
    {
      "cell_type": "code",
      "metadata": {
        "colab": {
          "base_uri": "https://localhost:8080/",
          "height": 204
        },
        "id": "WM5jN1m04XLG",
        "outputId": "189bf741-cfbe-4592-fa39-70fa9709d866"
      },
      "source": [
        "# Check the head()\n",
        "principal_df.head()"
      ],
      "execution_count": 15,
      "outputs": [
        {
          "output_type": "execute_result",
          "data": {
            "text/html": [
              "<div>\n",
              "<style scoped>\n",
              "    .dataframe tbody tr th:only-of-type {\n",
              "        vertical-align: middle;\n",
              "    }\n",
              "\n",
              "    .dataframe tbody tr th {\n",
              "        vertical-align: top;\n",
              "    }\n",
              "\n",
              "    .dataframe thead th {\n",
              "        text-align: right;\n",
              "    }\n",
              "</style>\n",
              "<table border=\"1\" class=\"dataframe\">\n",
              "  <thead>\n",
              "    <tr style=\"text-align: right;\">\n",
              "      <th></th>\n",
              "      <th>principal component 1</th>\n",
              "      <th>principal component 2</th>\n",
              "    </tr>\n",
              "  </thead>\n",
              "  <tbody>\n",
              "    <tr>\n",
              "      <th>0</th>\n",
              "      <td>-0.036107</td>\n",
              "      <td>0.639453</td>\n",
              "    </tr>\n",
              "    <tr>\n",
              "      <th>1</th>\n",
              "      <td>1.282271</td>\n",
              "      <td>0.470135</td>\n",
              "    </tr>\n",
              "    <tr>\n",
              "      <th>2</th>\n",
              "      <td>1.012576</td>\n",
              "      <td>0.956832</td>\n",
              "    </tr>\n",
              "    <tr>\n",
              "      <th>3</th>\n",
              "      <td>0.074076</td>\n",
              "      <td>1.406538</td>\n",
              "    </tr>\n",
              "    <tr>\n",
              "      <th>4</th>\n",
              "      <td>0.427491</td>\n",
              "      <td>-0.483129</td>\n",
              "    </tr>\n",
              "  </tbody>\n",
              "</table>\n",
              "</div>"
            ],
            "text/plain": [
              "   principal component 1  principal component 2\n",
              "0              -0.036107               0.639453\n",
              "1               1.282271               0.470135\n",
              "2               1.012576               0.956832\n",
              "3               0.074076               1.406538\n",
              "4               0.427491              -0.483129"
            ]
          },
          "metadata": {
            "tags": []
          },
          "execution_count": 15
        }
      ]
    },
    {
      "cell_type": "code",
      "metadata": {
        "colab": {
          "base_uri": "https://localhost:8080/",
          "height": 204
        },
        "id": "-geZzMCU4bAM",
        "outputId": "95bab628-36e5-4d9a-f341-25c167469be8"
      },
      "source": [
        "# Concatenate and view head()\n",
        "final_df_pca = pd.concat([principal_df[['principal component 1', 'principal component 2']], full_features_df[['state']]], axis = 1)\n",
        "final_df_pca.head()"
      ],
      "execution_count": 16,
      "outputs": [
        {
          "output_type": "execute_result",
          "data": {
            "text/html": [
              "<div>\n",
              "<style scoped>\n",
              "    .dataframe tbody tr th:only-of-type {\n",
              "        vertical-align: middle;\n",
              "    }\n",
              "\n",
              "    .dataframe tbody tr th {\n",
              "        vertical-align: top;\n",
              "    }\n",
              "\n",
              "    .dataframe thead th {\n",
              "        text-align: right;\n",
              "    }\n",
              "</style>\n",
              "<table border=\"1\" class=\"dataframe\">\n",
              "  <thead>\n",
              "    <tr style=\"text-align: right;\">\n",
              "      <th></th>\n",
              "      <th>principal component 1</th>\n",
              "      <th>principal component 2</th>\n",
              "      <th>state</th>\n",
              "    </tr>\n",
              "  </thead>\n",
              "  <tbody>\n",
              "    <tr>\n",
              "      <th>0</th>\n",
              "      <td>-0.036107</td>\n",
              "      <td>0.639453</td>\n",
              "      <td>released</td>\n",
              "    </tr>\n",
              "    <tr>\n",
              "      <th>1</th>\n",
              "      <td>1.282271</td>\n",
              "      <td>0.470135</td>\n",
              "      <td>released</td>\n",
              "    </tr>\n",
              "    <tr>\n",
              "      <th>2</th>\n",
              "      <td>1.012576</td>\n",
              "      <td>0.956832</td>\n",
              "      <td>released</td>\n",
              "    </tr>\n",
              "    <tr>\n",
              "      <th>3</th>\n",
              "      <td>0.074076</td>\n",
              "      <td>1.406538</td>\n",
              "      <td>released</td>\n",
              "    </tr>\n",
              "    <tr>\n",
              "      <th>4</th>\n",
              "      <td>0.427491</td>\n",
              "      <td>-0.483129</td>\n",
              "      <td>released</td>\n",
              "    </tr>\n",
              "  </tbody>\n",
              "</table>\n",
              "</div>"
            ],
            "text/plain": [
              "   principal component 1  principal component 2     state\n",
              "0              -0.036107               0.639453  released\n",
              "1               1.282271               0.470135  released\n",
              "2               1.012576               0.956832  released\n",
              "3               0.074076               1.406538  released\n",
              "4               0.427491              -0.483129  released"
            ]
          },
          "metadata": {
            "tags": []
          },
          "execution_count": 16
        }
      ]
    },
    {
      "cell_type": "code",
      "metadata": {
        "colab": {
          "base_uri": "https://localhost:8080/",
          "height": 322
        },
        "id": "MKCdim9I4dlo",
        "outputId": "8765c7f0-caf7-4ad4-9dff-cf63d08e50d1"
      },
      "source": [
        "# Scatterplot \n",
        "fig = plt.figure(figsize = (10,10))\n",
        "\n",
        "fig, ax = plt.subplots()\n",
        "\n",
        "ax.set_xlabel('Principal Component 1', fontsize = 15)\n",
        "ax.set_ylabel('Principal Component 2', fontsize = 15)\n",
        "ax.set_title('2 component PCA', fontsize = 20)\n",
        "\n",
        "sns.scatterplot(x=final_df_pca['principal component 1'], y=final_df_pca['principal component 2'], hue=final_df_pca.state)\n",
        "ax.grid()"
      ],
      "execution_count": 17,
      "outputs": [
        {
          "output_type": "display_data",
          "data": {
            "text/plain": [
              "<Figure size 720x720 with 0 Axes>"
            ]
          },
          "metadata": {
            "tags": []
          }
        },
        {
          "output_type": "display_data",
          "data": {
            "image/png": "[encoded data removed]",
            "text/plain": [
              "<Figure size 432x288 with 1 Axes>"
            ]
          },
          "metadata": {
            "tags": [],
            "needs_background": "light"
          }
        }
      ]
    },
    {
      "cell_type": "code",
      "metadata": {
        "colab": {
          "base_uri": "https://localhost:8080/"
        },
        "id": "qYvyRoZv4f6i",
        "outputId": "847b200c-ee43-4bdb-e5d4-c58fe800b2b5"
      },
      "source": [
        "# Explained variance of the components\n",
        "pca.explained_variance_ratio_"
      ],
      "execution_count": 18,
      "outputs": [
        {
          "output_type": "execute_result",
          "data": {
            "text/plain": [
              "array([0.54768667, 0.17527298])"
            ]
          },
          "metadata": {
            "tags": []
          },
          "execution_count": 18
        }
      ]
    },
    {
      "cell_type": "markdown",
      "metadata": {
        "id": "0ys-K73nix7h"
      },
      "source": [
        "#### T-SNE"
      ]
    },
    {
      "cell_type": "code",
      "metadata": {
        "id": "_wo7qEGPMdpO"
      },
      "source": [
        "# Initialise T-SNE and set 2 components\n",
        "tsne = TSNE(n_components=2, random_state=0)"
      ],
      "execution_count": null,
      "outputs": []
    },
    {
      "cell_type": "code",
      "metadata": {
        "id": "SXRqsk0jMjGX"
      },
      "source": [
        "# Feed the features dataset \n",
        "tsne_obj= tsne.fit_transform(x)"
      ],
      "execution_count": null,
      "outputs": []
    },
    {
      "cell_type": "code",
      "metadata": {
        "colab": {
          "base_uri": "https://localhost:8080/",
          "height": 204
        },
        "id": "HbLIZyICMjXv",
        "outputId": "665ca05c-ffdc-42a4-cf67-3b613764ef1b"
      },
      "source": [
        "# View the head()\n",
        "tsne_df = pd.DataFrame(data = tsne_obj\n",
        "             , columns = ['X', 'Y'])\n",
        "\n",
        "tsne_df.head()"
      ],
      "execution_count": null,
      "outputs": [
        {
          "output_type": "execute_result",
          "data": {
            "text/html": [
              "<div>\n",
              "<style scoped>\n",
              "    .dataframe tbody tr th:only-of-type {\n",
              "        vertical-align: middle;\n",
              "    }\n",
              "\n",
              "    .dataframe tbody tr th {\n",
              "        vertical-align: top;\n",
              "    }\n",
              "\n",
              "    .dataframe thead th {\n",
              "        text-align: right;\n",
              "    }\n",
              "</style>\n",
              "<table border=\"1\" class=\"dataframe\">\n",
              "  <thead>\n",
              "    <tr style=\"text-align: right;\">\n",
              "      <th></th>\n",
              "      <th>X</th>\n",
              "      <th>Y</th>\n",
              "    </tr>\n",
              "  </thead>\n",
              "  <tbody>\n",
              "    <tr>\n",
              "      <th>0</th>\n",
              "      <td>-2.901429</td>\n",
              "      <td>-7.742569</td>\n",
              "    </tr>\n",
              "    <tr>\n",
              "      <th>1</th>\n",
              "      <td>50.505646</td>\n",
              "      <td>57.238605</td>\n",
              "    </tr>\n",
              "    <tr>\n",
              "      <th>2</th>\n",
              "      <td>-4.202808</td>\n",
              "      <td>-24.671047</td>\n",
              "    </tr>\n",
              "    <tr>\n",
              "      <th>3</th>\n",
              "      <td>14.021624</td>\n",
              "      <td>-60.357304</td>\n",
              "    </tr>\n",
              "    <tr>\n",
              "      <th>4</th>\n",
              "      <td>67.914452</td>\n",
              "      <td>45.932995</td>\n",
              "    </tr>\n",
              "  </tbody>\n",
              "</table>\n",
              "</div>"
            ],
            "text/plain": [
              "           X          Y\n",
              "0  -2.901429  -7.742569\n",
              "1  50.505646  57.238605\n",
              "2  -4.202808 -24.671047\n",
              "3  14.021624 -60.357304\n",
              "4  67.914452  45.932995"
            ]
          },
          "metadata": {
            "tags": []
          },
          "execution_count": 156
        }
      ]
    },
    {
      "cell_type": "code",
      "metadata": {
        "colab": {
          "base_uri": "https://localhost:8080/",
          "height": 204
        },
        "id": "zOdKoP-SMrYe",
        "outputId": "6609c49d-bd1f-4e5f-e2fc-33b6540d80c9"
      },
      "source": [
        "# Concatenate and view again\n",
        "final_tsne_df = pd.concat([tsne_df, full_features_df[['state']]], axis = 1)\n",
        "final_tsne_df.head()"
      ],
      "execution_count": null,
      "outputs": [
        {
          "output_type": "execute_result",
          "data": {
            "text/html": [
              "<div>\n",
              "<style scoped>\n",
              "    .dataframe tbody tr th:only-of-type {\n",
              "        vertical-align: middle;\n",
              "    }\n",
              "\n",
              "    .dataframe tbody tr th {\n",
              "        vertical-align: top;\n",
              "    }\n",
              "\n",
              "    .dataframe thead th {\n",
              "        text-align: right;\n",
              "    }\n",
              "</style>\n",
              "<table border=\"1\" class=\"dataframe\">\n",
              "  <thead>\n",
              "    <tr style=\"text-align: right;\">\n",
              "      <th></th>\n",
              "      <th>X</th>\n",
              "      <th>Y</th>\n",
              "      <th>state</th>\n",
              "    </tr>\n",
              "  </thead>\n",
              "  <tbody>\n",
              "    <tr>\n",
              "      <th>0</th>\n",
              "      <td>-2.901429</td>\n",
              "      <td>-7.742569</td>\n",
              "      <td>released</td>\n",
              "    </tr>\n",
              "    <tr>\n",
              "      <th>1</th>\n",
              "      <td>50.505646</td>\n",
              "      <td>57.238605</td>\n",
              "      <td>released</td>\n",
              "    </tr>\n",
              "    <tr>\n",
              "      <th>2</th>\n",
              "      <td>-4.202808</td>\n",
              "      <td>-24.671047</td>\n",
              "      <td>released</td>\n",
              "    </tr>\n",
              "    <tr>\n",
              "      <th>3</th>\n",
              "      <td>14.021624</td>\n",
              "      <td>-60.357304</td>\n",
              "      <td>released</td>\n",
              "    </tr>\n",
              "    <tr>\n",
              "      <th>4</th>\n",
              "      <td>67.914452</td>\n",
              "      <td>45.932995</td>\n",
              "      <td>released</td>\n",
              "    </tr>\n",
              "  </tbody>\n",
              "</table>\n",
              "</div>"
            ],
            "text/plain": [
              "           X          Y     state\n",
              "0  -2.901429  -7.742569  released\n",
              "1  50.505646  57.238605  released\n",
              "2  -4.202808 -24.671047  released\n",
              "3  14.021624 -60.357304  released\n",
              "4  67.914452  45.932995  released"
            ]
          },
          "metadata": {
            "tags": []
          },
          "execution_count": 157
        }
      ]
    },
    {
      "cell_type": "code",
      "metadata": {
        "colab": {
          "base_uri": "https://localhost:8080/",
          "height": 322
        },
        "id": "Ws3R5YVbM317",
        "outputId": "856fd8bc-8763-4e6d-f8c2-53e6ee44ecac"
      },
      "source": [
        "# T-SNE scatterplot\n",
        "fig = plt.figure(figsize = (8,8))\n",
        "\n",
        "fig, ax = plt.subplots()\n",
        "\n",
        "ax.set_xlabel('X', fontsize = 15)\n",
        "ax.set_ylabel('Y', fontsize = 15)\n",
        "ax.set_title('T-SNE scatterplot', fontsize = 20)\n",
        "\n",
        "sns.scatterplot(x=\"X\", y=\"Y\", hue=\"state\", data=final_tsne_df);\n",
        "ax.grid()"
      ],
      "execution_count": null,
      "outputs": [
        {
          "output_type": "display_data",
          "data": {
            "text/plain": [
              "<Figure size 576x576 with 0 Axes>"
            ]
          },
          "metadata": {
            "tags": []
          }
        },
        {
          "output_type": "display_data",
          "data": {
            "image/png": "[encoded data removed]",
            "text/plain": [
              "<Figure size 432x288 with 1 Axes>"
            ]
          },
          "metadata": {
            "tags": [],
            "needs_background": "light"
          }
        }
      ]
    },
    {
      "cell_type": "markdown",
      "metadata": {
        "id": "oCzO6v40NAe_"
      },
      "source": [
        "#### Kmeans clustering"
      ]
    },
    {
      "cell_type": "code",
      "metadata": {
        "id": "cgtleOnSNuu_"
      },
      "source": [
        "# Prepare a dataframe for Kmeans clustering\n",
        "# cluster_df = model.drop(columns=['genre'])"
      ],
      "execution_count": null,
      "outputs": []
    },
    {
      "cell_type": "code",
      "metadata": {
        "id": "-DUADsegNysH"
      },
      "source": [
        "# Calculate the within cluster SSE (distortion)\n",
        "distortions = []\n",
        "K = range(1,10)\n",
        "for k in K:\n",
        "    kmeanModel = KMeans(n_clusters=k)\n",
        "    kmeanModel.fit(principal_df) # x is standardized\n",
        "    distortions.append(kmeanModel.inertia_)"
      ],
      "execution_count": 19,
      "outputs": []
    },
    {
      "cell_type": "code",
      "metadata": {
        "colab": {
          "base_uri": "https://localhost:8080/",
          "height": 513
        },
        "id": "28PuCzPKN00r",
        "outputId": "a4b051ac-0035-404d-a00d-0a7c0024323e"
      },
      "source": [
        "# Plot the elbow figure\n",
        "plt.figure(figsize=(16,8))\n",
        "plt.plot(K, distortions, 'bx-')\n",
        "plt.xlabel('Number of clusters')\n",
        "plt.ylabel('Within cluster SSE (Distortion)')\n",
        "plt.title('The Elbow Method showing the optimal k')\n",
        "plt.show()"
      ],
      "execution_count": 20,
      "outputs": [
        {
          "output_type": "display_data",
          "data": {
            "image/png": "[encoded data removed]",
            "text/plain": [
              "<Figure size 1152x576 with 1 Axes>"
            ]
          },
          "metadata": {
            "tags": [],
            "needs_background": "light"
          }
        }
      ]
    },
    {
      "cell_type": "code",
      "metadata": {
        "colab": {
          "base_uri": "https://localhost:8080/"
        },
        "id": "O_OXzG7GLPA-",
        "outputId": "6180f897-26a9-4405-94ae-c2276bd8f16e"
      },
      "source": [
        "pip install kneed"
      ],
      "execution_count": 23,
      "outputs": [
        {
          "output_type": "stream",
          "text": [
            "Collecting kneed\n",
            "  Downloading https://files.pythonhosted.org/packages/c3/6b/e130913aaaad1373060e259ab222ca2330672db696b297b082c3f3089fcc/kneed-0.7.0-py2.py3-none-any.whl\n",
            "Requirement already satisfied: matplotlib in /usr/local/lib/python3.6/dist-packages (from kneed) (3.2.2)\n",
            "Requirement already satisfied: scipy in /usr/local/lib/python3.6/dist-packages (from kneed) (1.4.1)\n",
            "Requirement already satisfied: numpy>=1.14.2 in /usr/local/lib/python3.6/dist-packages (from kneed) (1.18.5)\n",
            "Requirement already satisfied: python-dateutil>=2.1 in /usr/local/lib/python3.6/dist-packages (from matplotlib->kneed) (2.8.1)\n",
            "Requirement already satisfied: kiwisolver>=1.0.1 in /usr/local/lib/python3.6/dist-packages (from matplotlib->kneed) (1.3.1)\n",
            "Requirement already satisfied: pyparsing!=2.0.4,!=2.1.2,!=2.1.6,>=2.0.1 in /usr/local/lib/python3.6/dist-packages (from matplotlib->kneed) (2.4.7)\n",
            "Requirement already satisfied: cycler>=0.10 in /usr/local/lib/python3.6/dist-packages (from matplotlib->kneed) (0.10.0)\n",
            "Requirement already satisfied: six>=1.5 in /usr/local/lib/python3.6/dist-packages (from python-dateutil>=2.1->matplotlib->kneed) (1.15.0)\n",
            "Installing collected packages: kneed\n",
            "Successfully installed kneed-0.7.0\n"
          ],
          "name": "stdout"
        }
      ]
    },
    {
      "cell_type": "code",
      "metadata": {
        "id": "hhCA1ero8Rca"
      },
      "source": [
        "# Installing kneed\n",
        "from kneed import DataGenerator, KneeLocator"
      ],
      "execution_count": 24,
      "outputs": []
    },
    {
      "cell_type": "code",
      "metadata": {
        "colab": {
          "base_uri": "https://localhost:8080/"
        },
        "id": "w0_BIxVI8Ajb",
        "outputId": "4b9a021b-cdd9-4514-8b30-e97e4c83eabe"
      },
      "source": [
        "# Using kneed to programmatically check elbow point\n",
        "kl = KneeLocator(range(1, 10), distortions, curve=\"convex\", direction=\"decreasing\")\n",
        "kl.elbow"
      ],
      "execution_count": 25,
      "outputs": [
        {
          "output_type": "execute_result",
          "data": {
            "text/plain": [
              "3"
            ]
          },
          "metadata": {
            "tags": []
          },
          "execution_count": 25
        }
      ]
    },
    {
      "cell_type": "code",
      "metadata": {
        "id": "wiMEYOpGN3Gt"
      },
      "source": [
        "# Fit and predict the Kmeans model\n",
        "kmeanModel = KMeans(n_clusters=3)\n",
        "kmeanModel.fit(principal_df)\n",
        "y_kmeans = kmeanModel.predict(principal_df)"
      ],
      "execution_count": 26,
      "outputs": []
    },
    {
      "cell_type": "code",
      "metadata": {
        "colab": {
          "base_uri": "https://localhost:8080/",
          "height": 513
        },
        "id": "H6B6YDCKN5Yr",
        "outputId": "4b82ec4b-17ba-4da7-b683-d0a42bed0e3b"
      },
      "source": [
        "# plot points\n",
        "plt.figure(figsize=(16,8))\n",
        "plt.title('K-means clusters')\n",
        "\n",
        "sns.scatterplot(data=principal_df, x='principal component 1', y='principal component 2', hue=y_kmeans)\n",
        "\n",
        "\n",
        "# plot cluster centers\n",
        "centers = kmeanModel.cluster_centers_\n",
        "plt.scatter(centers[:, 0], centers[:, 1], c='black', s=500, alpha=0.5);"
      ],
      "execution_count": 27,
      "outputs": [
        {
          "output_type": "display_data",
          "data": {
            "image/png": "[encoded data removed]",
            "text/plain": [
              "<Figure size 1152x576 with 1 Axes>"
            ]
          },
          "metadata": {
            "tags": [],
            "needs_background": "light"
          }
        }
      ]
    },
    {
      "cell_type": "code",
      "metadata": {
        "id": "P5mD6IUgCawJ"
      },
      "source": [
        "# Add column for cluster labels\n",
        "full_features_df['cluster'] = kmeanModel.labels_"
      ],
      "execution_count": 28,
      "outputs": []
    },
    {
      "cell_type": "code",
      "metadata": {
        "id": "GNQQyimBDGlZ"
      },
      "source": [
        "# change clusters to 1 - 3 instead of 0 - 2\n",
        "full_features_df['cluster'] = full_features_df['cluster'].map({0:1, 1:2, 2:3}) "
      ],
      "execution_count": 29,
      "outputs": []
    },
    {
      "cell_type": "code",
      "metadata": {
        "id": "bKGgbjBtC1nt"
      },
      "source": [
        "# Group by cluster\n",
        "grouped_by_cluster = full_features_df.groupby('cluster')"
      ],
      "execution_count": 30,
      "outputs": []
    },
    {
      "cell_type": "code",
      "metadata": {
        "colab": {
          "base_uri": "https://localhost:8080/",
          "height": 359
        },
        "id": "7jp4bCxtDqyT",
        "outputId": "247738cd-0151-4b9e-bb82-1440005b7817"
      },
      "source": [
        "# Get the percentages of states in each cluster\n",
        "df = pd.concat([grouped_by_cluster.state.value_counts(), \n",
        "                grouped_by_cluster.state.value_counts(normalize=True).mul(100)],axis=1, keys=('counts','percentage'))\n",
        "\n",
        "df.round(2)"
      ],
      "execution_count": 31,
      "outputs": [
        {
          "output_type": "execute_result",
          "data": {
            "text/html": [
              "<div>\n",
              "<style scoped>\n",
              "    .dataframe tbody tr th:only-of-type {\n",
              "        vertical-align: middle;\n",
              "    }\n",
              "\n",
              "    .dataframe tbody tr th {\n",
              "        vertical-align: top;\n",
              "    }\n",
              "\n",
              "    .dataframe thead th {\n",
              "        text-align: right;\n",
              "    }\n",
              "</style>\n",
              "<table border=\"1\" class=\"dataframe\">\n",
              "  <thead>\n",
              "    <tr style=\"text-align: right;\">\n",
              "      <th></th>\n",
              "      <th></th>\n",
              "      <th>counts</th>\n",
              "      <th>percentage</th>\n",
              "    </tr>\n",
              "    <tr>\n",
              "      <th>cluster</th>\n",
              "      <th>state</th>\n",
              "      <th></th>\n",
              "      <th></th>\n",
              "    </tr>\n",
              "  </thead>\n",
              "  <tbody>\n",
              "    <tr>\n",
              "      <th rowspan=\"3\" valign=\"top\">1</th>\n",
              "      <th>isolated</th>\n",
              "      <td>759</td>\n",
              "      <td>63.84</td>\n",
              "    </tr>\n",
              "    <tr>\n",
              "      <th>released</th>\n",
              "      <td>429</td>\n",
              "      <td>36.08</td>\n",
              "    </tr>\n",
              "    <tr>\n",
              "      <th>deceased</th>\n",
              "      <td>1</td>\n",
              "      <td>0.08</td>\n",
              "    </tr>\n",
              "    <tr>\n",
              "      <th rowspan=\"3\" valign=\"top\">2</th>\n",
              "      <th>released</th>\n",
              "      <td>304</td>\n",
              "      <td>65.94</td>\n",
              "    </tr>\n",
              "    <tr>\n",
              "      <th>isolated</th>\n",
              "      <td>141</td>\n",
              "      <td>30.59</td>\n",
              "    </tr>\n",
              "    <tr>\n",
              "      <th>deceased</th>\n",
              "      <td>16</td>\n",
              "      <td>3.47</td>\n",
              "    </tr>\n",
              "    <tr>\n",
              "      <th rowspan=\"3\" valign=\"top\">3</th>\n",
              "      <th>released</th>\n",
              "      <td>2102</td>\n",
              "      <td>63.77</td>\n",
              "    </tr>\n",
              "    <tr>\n",
              "      <th>isolated</th>\n",
              "      <td>1156</td>\n",
              "      <td>35.07</td>\n",
              "    </tr>\n",
              "    <tr>\n",
              "      <th>deceased</th>\n",
              "      <td>38</td>\n",
              "      <td>1.15</td>\n",
              "    </tr>\n",
              "  </tbody>\n",
              "</table>\n",
              "</div>"
            ],
            "text/plain": [
              "                  counts  percentage\n",
              "cluster state                       \n",
              "1       isolated     759       63.84\n",
              "        released     429       36.08\n",
              "        deceased       1        0.08\n",
              "2       released     304       65.94\n",
              "        isolated     141       30.59\n",
              "        deceased      16        3.47\n",
              "3       released    2102       63.77\n",
              "        isolated    1156       35.07\n",
              "        deceased      38        1.15"
            ]
          },
          "metadata": {
            "tags": []
          },
          "execution_count": 31
        }
      ]
    },
    {
      "cell_type": "markdown",
      "metadata": {
        "id": "Z6kggFNJDDow"
      },
      "source": [
        "Seems like the highest percentage of deceased patients are in cluster 3, but the highest absolute number of deceased patients is in cluster 2."
      ]
    },
    {
      "cell_type": "code",
      "metadata": {
        "colab": {
          "base_uri": "https://localhost:8080/",
          "height": 173
        },
        "id": "VW4hPAvqCkvw",
        "outputId": "d7201323-8bcd-4ad4-d1dc-23ba7f1f9419"
      },
      "source": [
        "grouped_by_cluster.mean()"
      ],
      "execution_count": 32,
      "outputs": [
        {
          "output_type": "execute_result",
          "data": {
            "text/html": [
              "<div>\n",
              "<style scoped>\n",
              "    .dataframe tbody tr th:only-of-type {\n",
              "        vertical-align: middle;\n",
              "    }\n",
              "\n",
              "    .dataframe tbody tr th {\n",
              "        vertical-align: top;\n",
              "    }\n",
              "\n",
              "    .dataframe thead th {\n",
              "        text-align: right;\n",
              "    }\n",
              "</style>\n",
              "<table border=\"1\" class=\"dataframe\">\n",
              "  <thead>\n",
              "    <tr style=\"text-align: right;\">\n",
              "      <th></th>\n",
              "      <th>elementary_school_count</th>\n",
              "      <th>kindergarten_count</th>\n",
              "      <th>university_count</th>\n",
              "      <th>academy_ratio</th>\n",
              "      <th>elderly_population_ratio</th>\n",
              "      <th>elderly_alone_ratio</th>\n",
              "      <th>nursing_home_count</th>\n",
              "    </tr>\n",
              "    <tr>\n",
              "      <th>cluster</th>\n",
              "      <th></th>\n",
              "      <th></th>\n",
              "      <th></th>\n",
              "      <th></th>\n",
              "      <th></th>\n",
              "      <th></th>\n",
              "      <th></th>\n",
              "    </tr>\n",
              "  </thead>\n",
              "  <tbody>\n",
              "    <tr>\n",
              "      <th>1</th>\n",
              "      <td>73.216989</td>\n",
              "      <td>128.263246</td>\n",
              "      <td>3.880572</td>\n",
              "      <td>1.931211</td>\n",
              "      <td>12.250336</td>\n",
              "      <td>5.076451</td>\n",
              "      <td>1508.651808</td>\n",
              "    </tr>\n",
              "    <tr>\n",
              "      <th>2</th>\n",
              "      <td>15.839479</td>\n",
              "      <td>18.559653</td>\n",
              "      <td>0.557484</td>\n",
              "      <td>0.740651</td>\n",
              "      <td>31.424338</td>\n",
              "      <td>17.834707</td>\n",
              "      <td>118.201735</td>\n",
              "    </tr>\n",
              "    <tr>\n",
              "      <th>3</th>\n",
              "      <td>29.818871</td>\n",
              "      <td>48.169296</td>\n",
              "      <td>3.423240</td>\n",
              "      <td>1.396942</td>\n",
              "      <td>15.183243</td>\n",
              "      <td>6.307919</td>\n",
              "      <td>637.987257</td>\n",
              "    </tr>\n",
              "  </tbody>\n",
              "</table>\n",
              "</div>"
            ],
            "text/plain": [
              "         elementary_school_count  ...  nursing_home_count\n",
              "cluster                           ...                    \n",
              "1                      73.216989  ...         1508.651808\n",
              "2                      15.839479  ...          118.201735\n",
              "3                      29.818871  ...          637.987257\n",
              "\n",
              "[3 rows x 7 columns]"
            ]
          },
          "metadata": {
            "tags": []
          },
          "execution_count": 32
        }
      ]
    },
    {
      "cell_type": "markdown",
      "metadata": {
        "id": "YxLZvQQ2Ie-r"
      },
      "source": [
        "It seems that cluster 3 has a higher percentage of `elderly_population` compared to the other 2 clusters"
      ]
    },
    {
      "cell_type": "markdown",
      "metadata": {
        "id": "aNtsizcQjJMw"
      },
      "source": [
        "#### linear regression"
      ]
    },
    {
      "cell_type": "code",
      "metadata": {
        "id": "ftAoE-EzjtJn"
      },
      "source": [
        "# Add categorised values\n",
        "full_features_df['state_cat'] = full_features_df['state'].astype('category').cat.codes"
      ],
      "execution_count": null,
      "outputs": []
    },
    {
      "cell_type": "code",
      "metadata": {
        "id": "CwIEuDPYkJZH"
      },
      "source": [
        "# Get y value (we already have x standardized)\n",
        "# Separating out the features\n",
        "x = full_features_df.loc[:, features].values\n",
        "\n",
        "# Separating out the target\n",
        "# y = full_features_df.loc[:,['state']].values\n",
        "\n",
        "# Standardizing the features\n",
        "x = StandardScaler().fit_transform(x)\n",
        "\n",
        "y = full_features_df[['state_cat']]"
      ],
      "execution_count": null,
      "outputs": []
    },
    {
      "cell_type": "code",
      "metadata": {
        "id": "zhaWmIh_jKyH"
      },
      "source": [
        "# initialise the linear regression and fit the model\n",
        "linear_model = LinearRegression().fit(x, y)"
      ],
      "execution_count": null,
      "outputs": []
    },
    {
      "cell_type": "code",
      "metadata": {
        "colab": {
          "base_uri": "https://localhost:8080/"
        },
        "id": "ucTRdJ83jn_O",
        "outputId": "a80a97a1-1356-4f4d-baf1-2797535b2c50"
      },
      "source": [
        "# Check the values\n",
        "r_sq = linear_model.score(x, y)\n",
        "print('coefficient of determination:', r_sq)\n",
        "print('intercept:', linear_model.intercept_)\n",
        "print('slope:', linear_model.coef_)"
      ],
      "execution_count": null,
      "outputs": [
        {
          "output_type": "stream",
          "text": [
            "coefficient of determination: 0.22171152925338375\n",
            "intercept: [1.56207036]\n",
            "slope: [[ 0.33362328 -0.51541143  0.18460143  0.09950748  0.07808604 -0.03342584\n",
            "  -0.03823371]]\n"
          ],
          "name": "stdout"
        }
      ]
    },
    {
      "cell_type": "code",
      "metadata": {
        "id": "FYsG7DMgkl-6"
      },
      "source": [
        "# Get the prediction from the model\n",
        "y_pred = linear_model.predict(x)"
      ],
      "execution_count": null,
      "outputs": []
    },
    {
      "cell_type": "code",
      "metadata": {
        "id": "dSrt2jn8l5eQ"
      },
      "source": [
        "# Map the states\n",
        "mapped_states = dict( enumerate(full_features_df['state'].astype('category').cat.categories))"
      ],
      "execution_count": null,
      "outputs": []
    },
    {
      "cell_type": "code",
      "metadata": {
        "id": "4F-qpV5hmG0Q"
      },
      "source": [
        "# Set prediction as dataframe\n",
        "predicted_df = pd.DataFrame(y_pred.astype('int'), columns=['predicted'])"
      ],
      "execution_count": null,
      "outputs": []
    },
    {
      "cell_type": "code",
      "metadata": {
        "id": "4J2tQG8FmS77"
      },
      "source": [
        "# Add the predicted state\n",
        "predicted_df['predicted_state'] = predicted_df['predicted'].map(mapped_states)"
      ],
      "execution_count": null,
      "outputs": []
    },
    {
      "cell_type": "code",
      "metadata": {
        "colab": {
          "base_uri": "https://localhost:8080/",
          "height": 204
        },
        "id": "ofsH_OAwmd_y",
        "outputId": "f3c8015e-5393-49cc-c37a-0f5f3e8bb8c5"
      },
      "source": [
        "predicted_df.head()"
      ],
      "execution_count": null,
      "outputs": [
        {
          "output_type": "execute_result",
          "data": {
            "text/html": [
              "<div>\n",
              "<style scoped>\n",
              "    .dataframe tbody tr th:only-of-type {\n",
              "        vertical-align: middle;\n",
              "    }\n",
              "\n",
              "    .dataframe tbody tr th {\n",
              "        vertical-align: top;\n",
              "    }\n",
              "\n",
              "    .dataframe thead th {\n",
              "        text-align: right;\n",
              "    }\n",
              "</style>\n",
              "<table border=\"1\" class=\"dataframe\">\n",
              "  <thead>\n",
              "    <tr style=\"text-align: right;\">\n",
              "      <th></th>\n",
              "      <th>predicted</th>\n",
              "      <th>predicted_state</th>\n",
              "    </tr>\n",
              "  </thead>\n",
              "  <tbody>\n",
              "    <tr>\n",
              "      <th>0</th>\n",
              "      <td>1</td>\n",
              "      <td>isolated</td>\n",
              "    </tr>\n",
              "    <tr>\n",
              "      <th>1</th>\n",
              "      <td>1</td>\n",
              "      <td>isolated</td>\n",
              "    </tr>\n",
              "    <tr>\n",
              "      <th>2</th>\n",
              "      <td>1</td>\n",
              "      <td>isolated</td>\n",
              "    </tr>\n",
              "    <tr>\n",
              "      <th>3</th>\n",
              "      <td>1</td>\n",
              "      <td>isolated</td>\n",
              "    </tr>\n",
              "    <tr>\n",
              "      <th>4</th>\n",
              "      <td>1</td>\n",
              "      <td>isolated</td>\n",
              "    </tr>\n",
              "  </tbody>\n",
              "</table>\n",
              "</div>"
            ],
            "text/plain": [
              "   predicted predicted_state\n",
              "0          1        isolated\n",
              "1          1        isolated\n",
              "2          1        isolated\n",
              "3          1        isolated\n",
              "4          1        isolated"
            ]
          },
          "metadata": {
            "tags": []
          },
          "execution_count": 340
        }
      ]
    },
    {
      "cell_type": "code",
      "metadata": {
        "colab": {
          "base_uri": "https://localhost:8080/",
          "height": 204
        },
        "id": "cA8RDGCXmhC-",
        "outputId": "6ee6fb20-73d4-4f5d-d648-46e022cf04a1"
      },
      "source": [
        "# Check with actual state\n",
        "predicted_final_df = pd.concat([predicted_df, full_features_df[['state']]], axis=1)\n",
        "predicted_final_df.head()"
      ],
      "execution_count": null,
      "outputs": [
        {
          "output_type": "execute_result",
          "data": {
            "text/html": [
              "<div>\n",
              "<style scoped>\n",
              "    .dataframe tbody tr th:only-of-type {\n",
              "        vertical-align: middle;\n",
              "    }\n",
              "\n",
              "    .dataframe tbody tr th {\n",
              "        vertical-align: top;\n",
              "    }\n",
              "\n",
              "    .dataframe thead th {\n",
              "        text-align: right;\n",
              "    }\n",
              "</style>\n",
              "<table border=\"1\" class=\"dataframe\">\n",
              "  <thead>\n",
              "    <tr style=\"text-align: right;\">\n",
              "      <th></th>\n",
              "      <th>predicted</th>\n",
              "      <th>predicted_state</th>\n",
              "      <th>state</th>\n",
              "    </tr>\n",
              "  </thead>\n",
              "  <tbody>\n",
              "    <tr>\n",
              "      <th>0</th>\n",
              "      <td>1</td>\n",
              "      <td>isolated</td>\n",
              "      <td>released</td>\n",
              "    </tr>\n",
              "    <tr>\n",
              "      <th>1</th>\n",
              "      <td>1</td>\n",
              "      <td>isolated</td>\n",
              "      <td>released</td>\n",
              "    </tr>\n",
              "    <tr>\n",
              "      <th>2</th>\n",
              "      <td>1</td>\n",
              "      <td>isolated</td>\n",
              "      <td>released</td>\n",
              "    </tr>\n",
              "    <tr>\n",
              "      <th>3</th>\n",
              "      <td>1</td>\n",
              "      <td>isolated</td>\n",
              "      <td>released</td>\n",
              "    </tr>\n",
              "    <tr>\n",
              "      <th>4</th>\n",
              "      <td>1</td>\n",
              "      <td>isolated</td>\n",
              "      <td>released</td>\n",
              "    </tr>\n",
              "  </tbody>\n",
              "</table>\n",
              "</div>"
            ],
            "text/plain": [
              "   predicted predicted_state     state\n",
              "0          1        isolated  released\n",
              "1          1        isolated  released\n",
              "2          1        isolated  released\n",
              "3          1        isolated  released\n",
              "4          1        isolated  released"
            ]
          },
          "metadata": {
            "tags": []
          },
          "execution_count": 342
        }
      ]
    },
    {
      "cell_type": "code",
      "metadata": {
        "colab": {
          "base_uri": "https://localhost:8080/"
        },
        "id": "qT2g0MySnhxv",
        "outputId": "7882fd77-c471-4294-ee2a-7f199962fd1d"
      },
      "source": [
        "predicted_final_df.state.value_counts()"
      ],
      "execution_count": null,
      "outputs": [
        {
          "output_type": "execute_result",
          "data": {
            "text/plain": [
              "released    2835\n",
              "isolated    2056\n",
              "deceased      55\n",
              "Name: state, dtype: int64"
            ]
          },
          "metadata": {
            "tags": []
          },
          "execution_count": 347
        }
      ]
    },
    {
      "cell_type": "code",
      "metadata": {
        "colab": {
          "base_uri": "https://localhost:8080/"
        },
        "id": "XVocs_KinQRj",
        "outputId": "f7bf84ab-a6c2-4cc2-f088-b791d44ca41a"
      },
      "source": [
        "predicted_final_df.predicted_state.value_counts()"
      ],
      "execution_count": null,
      "outputs": [
        {
          "output_type": "execute_result",
          "data": {
            "text/plain": [
              "isolated    4765\n",
              "deceased     153\n",
              "released      28\n",
              "Name: predicted_state, dtype: int64"
            ]
          },
          "metadata": {
            "tags": []
          },
          "execution_count": 348
        }
      ]
    },
    {
      "cell_type": "code",
      "metadata": {
        "id": "wJlItk8KpZDh"
      },
      "source": [
        ""
      ],
      "execution_count": null,
      "outputs": []
    },
    {
      "cell_type": "code",
      "metadata": {
        "id": "tBoi6LtopY7D"
      },
      "source": [
        "# PCA hieronder doet het niet goed!"
      ],
      "execution_count": null,
      "outputs": []
    },
    {
      "cell_type": "code",
      "metadata": {
        "id": "VsKF1Xu5ojoJ"
      },
      "source": [
        "# Add categorised values\n",
        "final_df_pca['state_cat'] = final_df_pca['state'].astype('category').cat.codes"
      ],
      "execution_count": null,
      "outputs": []
    },
    {
      "cell_type": "code",
      "metadata": {
        "id": "i7wvnL6hoO5L"
      },
      "source": [
        "# Separating out the features\n",
        "x = final_df_pca.loc[:, ['principal component 1', 'principal component 2']].values\n",
        "\n",
        "# Standardizing the features\n",
        "x = StandardScaler().fit_transform(x)\n",
        "\n",
        "y = final_df_pca[['state_cat']]"
      ],
      "execution_count": null,
      "outputs": []
    },
    {
      "cell_type": "code",
      "metadata": {
        "id": "Ry9y07i-ozkY"
      },
      "source": [
        "# initialise the linear regression and fit the model\n",
        "linear_model = LinearRegression().fit(x, y)"
      ],
      "execution_count": null,
      "outputs": []
    },
    {
      "cell_type": "code",
      "metadata": {
        "colab": {
          "base_uri": "https://localhost:8080/"
        },
        "id": "Bb59nj2xozkY",
        "outputId": "7ba292b1-32ce-49b1-acfa-69e24d201484"
      },
      "source": [
        "# Check the values\n",
        "r_sq = linear_model.score(x, y)\n",
        "print('coefficient of determination:', r_sq)\n",
        "print('intercept:', linear_model.intercept_)\n",
        "print('slope:', linear_model.coef_)"
      ],
      "execution_count": null,
      "outputs": [
        {
          "output_type": "stream",
          "text": [
            "coefficient of determination: 0.03731082051303869\n",
            "intercept: [1.56207036]\n",
            "slope: [[ 0.09970918 -0.00847562]]\n"
          ],
          "name": "stdout"
        }
      ]
    },
    {
      "cell_type": "code",
      "metadata": {
        "id": "b06o4KE0ozkZ"
      },
      "source": [
        "# Get the prediction from the model\n",
        "y_pred_pca = linear_model.predict(x)"
      ],
      "execution_count": null,
      "outputs": []
    },
    {
      "cell_type": "code",
      "metadata": {
        "id": "xvPM4aXWozkZ"
      },
      "source": [
        "# Map the states\n",
        "mapped_states_pca = dict( enumerate(final_df_pca['state'].astype('category').cat.categories))"
      ],
      "execution_count": null,
      "outputs": []
    },
    {
      "cell_type": "code",
      "metadata": {
        "id": "5gwNIHEEozkZ"
      },
      "source": [
        "# Set prediction as dataframe\n",
        "predicted_df_pca = pd.DataFrame(y_pred_pca.astype('int'), columns=['predicted'])"
      ],
      "execution_count": null,
      "outputs": []
    },
    {
      "cell_type": "code",
      "metadata": {
        "id": "aO5dk4CZozkZ"
      },
      "source": [
        "# Add the predicted state\n",
        "predicted_df_pca['predicted_state'] = predicted_df_pca['predicted'].map(mapped_states_pca)"
      ],
      "execution_count": null,
      "outputs": []
    },
    {
      "cell_type": "code",
      "metadata": {
        "colab": {
          "base_uri": "https://localhost:8080/",
          "height": 204
        },
        "id": "C8Og-qDQozkZ",
        "outputId": "96047621-c104-4866-c263-f3995727d528"
      },
      "source": [
        "# Check with actual state\n",
        "predicted_final_df_pca = pd.concat([predicted_df_pca, final_df_pca[['state']]], axis=1)\n",
        "predicted_final_df_pca.head()"
      ],
      "execution_count": null,
      "outputs": [
        {
          "output_type": "execute_result",
          "data": {
            "text/html": [
              "<div>\n",
              "<style scoped>\n",
              "    .dataframe tbody tr th:only-of-type {\n",
              "        vertical-align: middle;\n",
              "    }\n",
              "\n",
              "    .dataframe tbody tr th {\n",
              "        vertical-align: top;\n",
              "    }\n",
              "\n",
              "    .dataframe thead th {\n",
              "        text-align: right;\n",
              "    }\n",
              "</style>\n",
              "<table border=\"1\" class=\"dataframe\">\n",
              "  <thead>\n",
              "    <tr style=\"text-align: right;\">\n",
              "      <th></th>\n",
              "      <th>predicted</th>\n",
              "      <th>predicted_state</th>\n",
              "      <th>state</th>\n",
              "    </tr>\n",
              "  </thead>\n",
              "  <tbody>\n",
              "    <tr>\n",
              "      <th>0</th>\n",
              "      <td>1</td>\n",
              "      <td>isolated</td>\n",
              "      <td>released</td>\n",
              "    </tr>\n",
              "    <tr>\n",
              "      <th>1</th>\n",
              "      <td>1</td>\n",
              "      <td>isolated</td>\n",
              "      <td>released</td>\n",
              "    </tr>\n",
              "    <tr>\n",
              "      <th>2</th>\n",
              "      <td>1</td>\n",
              "      <td>isolated</td>\n",
              "      <td>released</td>\n",
              "    </tr>\n",
              "    <tr>\n",
              "      <th>3</th>\n",
              "      <td>1</td>\n",
              "      <td>isolated</td>\n",
              "      <td>released</td>\n",
              "    </tr>\n",
              "    <tr>\n",
              "      <th>4</th>\n",
              "      <td>1</td>\n",
              "      <td>isolated</td>\n",
              "      <td>released</td>\n",
              "    </tr>\n",
              "  </tbody>\n",
              "</table>\n",
              "</div>"
            ],
            "text/plain": [
              "   predicted predicted_state     state\n",
              "0          1        isolated  released\n",
              "1          1        isolated  released\n",
              "2          1        isolated  released\n",
              "3          1        isolated  released\n",
              "4          1        isolated  released"
            ]
          },
          "metadata": {
            "tags": []
          },
          "execution_count": 364
        }
      ]
    },
    {
      "cell_type": "code",
      "metadata": {
        "colab": {
          "base_uri": "https://localhost:8080/"
        },
        "id": "1r_PgmQHpVFY",
        "outputId": "ae0dd1fd-23d6-40f1-e70e-2640a00fe47f"
      },
      "source": [
        "predicted_final_df_pca.predicted_state.value_counts()"
      ],
      "execution_count": null,
      "outputs": [
        {
          "output_type": "execute_result",
          "data": {
            "text/plain": [
              "isolated    4946\n",
              "Name: predicted_state, dtype: int64"
            ]
          },
          "metadata": {
            "tags": []
          },
          "execution_count": 365
        }
      ]
    },
    {
      "cell_type": "markdown",
      "metadata": {
        "id": "9HY6vtzhqewk"
      },
      "source": [
        "#### correlation"
      ]
    },
    {
      "cell_type": "code",
      "metadata": {
        "colab": {
          "base_uri": "https://localhost:8080/",
          "height": 286
        },
        "id": "Kh30IlkiqhY3",
        "outputId": "6d9c1d00-e8b7-4eeb-c9bd-3d29f61bd891"
      },
      "source": [
        "sns.heatmap(data=x)"
      ],
      "execution_count": null,
      "outputs": [
        {
          "output_type": "execute_result",
          "data": {
            "text/plain": [
              "<matplotlib.axes._subplots.AxesSubplot at 0x7fe699dc64a8>"
            ]
          },
          "metadata": {
            "tags": []
          },
          "execution_count": 367
        },
        {
          "output_type": "display_data",
          "data": {
            "image/png": "[encoded data removed]",
            "text/plain": [
              "<Figure size 432x288 with 2 Axes>"
            ]
          },
          "metadata": {
            "tags": [],
            "needs_background": "light"
          }
        }
      ]
    }
  ]
}