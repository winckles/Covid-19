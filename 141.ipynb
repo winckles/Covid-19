{
  "nbformat": 4,
  "nbformat_minor": 0,
  "metadata": {
    "kernelspec": {
      "display_name": "Python 3",
      "language": "python",
      "name": "python3"
    },
    "language_info": {
      "codemirror_mode": {
        "name": "ipython",
        "version": 3
      },
      "file_extension": ".py",
      "mimetype": "text/x-python",
      "name": "python",
      "nbconvert_exporter": "python",
      "pygments_lexer": "ipython3",
      "version": "3.8.5"
    },
    "colab": {
      "name": "141.ipynb",
      "provenance": []
    }
  },
  "cells": [
    {
      "cell_type": "markdown",
      "metadata": {
        "id": "a8bkqME5m9d_"
      },
      "source": [
        "# Capstone Project"
      ]
    },
    {
      "cell_type": "markdown",
      "metadata": {
        "id": "fFMlBlsGm9d_"
      },
      "source": [
        "## Background"
      ]
    },
    {
      "cell_type": "markdown",
      "metadata": {
        "id": "6PkIlUE2m9d_"
      },
      "source": [
        "We are glad you have successfully reached the capstone project part of \"Data Science Fundamentals\" course. You will put everything \n",
        "you have learned so far about data science to work. The outcome of this module should potentially serve as your portfolio item.\n",
        "\n",
        "Unlike with previous projects, this time you are free to choose a dataset to explore from two suggested ones. As you will have to solve a provided problem using one or another dataset, there will not be list of predefined questions that you have to answer - be creative and explore any dimensions of data you deem worth analyzing.\n",
        "\n",
        "Although this might seem scary, this is how data science looks like in the industry. Often, it's your responsibility to not only give answers using the data, but also raise questions. The more creatively you look at this project, the better. Good luck!"
      ]
    },
    {
      "cell_type": "markdown",
      "metadata": {
        "id": "z5i82BdIm9d_"
      },
      "source": [
        "----"
      ]
    },
    {
      "cell_type": "markdown",
      "metadata": {
        "id": "4iUabJgym9d_"
      },
      "source": [
        "## Requirements\n",
        "\n",
        "Whichever problem you choose to analyze, general requirements are as follow:\n",
        "\n",
        "#### Exploratory Data Analysis\n",
        "* Describe the data with basic statistical parameters - mean, median, quantiles, etc. Use parameters that give you the most important statistical insights of the data.\n",
        "* Grouping the data and analyzing the groups - using Pandas aggregate methods.\n",
        "* Work with features - handle missing data if needed, use pandas date APIs.\n",
        "* Manipulate datasets - use joins in needed.\n",
        "* Visualize the data - you can use line, scatter, histogram plots, density plots, regplots, etc.\n",
        "\n",
        "#### Statistical hypothesis testing\n",
        "* Use at least one statistical significance test.\n",
        "* Report p-values.\n",
        "* Use visualizations.\n",
        "\n",
        "#### Modeling\n",
        "* Visualize data with dimensionality reduction algorithms.\n",
        "* Perform cluster analysis.\n",
        "* Use a linear model to explain relationships by correlation and predict new values.\n",
        "\n",
        "#### Presentation\n",
        "* Present the project - the data, methods and results."
      ]
    },
    {
      "cell_type": "markdown",
      "metadata": {
        "id": "c9bKL7oCm9d_"
      },
      "source": [
        "## Problems"
      ]
    },
    {
      "cell_type": "markdown",
      "metadata": {
        "id": "5VAOhYgPm9d_"
      },
      "source": [
        "#### COVID-19 crisis "
      ]
    },
    {
      "cell_type": "markdown",
      "metadata": {
        "id": "Inr5AIntm9d_"
      },
      "source": [
        "<div><img width=\"400px\" height=\"auto\" src=\"https://images.unsplash.com/photo-1574515944794-d6dedc7150de?ixlib=rb-1.2.1&ixid=MXwxMjA3fDB8MHxwaG90by1wYWdlfHx8fGVufDB8fHw%3D&auto=format&fit=crop&w=1532&q=80\" /></div>"
      ]
    },
    {
      "cell_type": "markdown",
      "metadata": {
        "id": "_JFpricum9d_"
      },
      "source": [
        "The world is still struggling with one the most rapidly spreading pandemics. There are a lot of people who say that data is the best weapon we can use in this \"Corona Fight\". \n",
        "\n",
        "Imagine that you are one of the best data scientists in your country. The president of your country asked you to analyze the COVID-19 patient-level data of South Korea and prepare your homeland for the next wave of the pandemic. You, as the lead data scientist of your country **have to create and prove a plan of fighting the pandemics in your country** by analyzing the provided data. You must get most important insights using learned data science techniques and present them to the lead of your country."
      ]
    },
    {
      "cell_type": "markdown",
      "metadata": {
        "id": "Uvga-O0Bm9d_"
      },
      "source": [
        "https://www.kaggle.com/kimjihoo/coronavirusdataset/"
      ]
    },
    {
      "cell_type": "markdown",
      "metadata": {
        "id": "D6ZZYTMQm9d_"
      },
      "source": [
        "#### 2016 US presidential elections"
      ]
    },
    {
      "cell_type": "markdown",
      "metadata": {
        "id": "zKIiYC4cm9d_"
      },
      "source": [
        "<div><img width=\"400px\" height=\"auto\" src=\"https://images.unsplash.com/photo-1583340806569-6da3d5ea9911?ixlib=rb-1.2.1&ixid=MXwxMjA3fDB8MHxwaG90by1wYWdlfHx8fGVufDB8fHw%3D&auto=format&fit=crop&w=1315&q=80\" /></div>"
      ]
    },
    {
      "cell_type": "markdown",
      "metadata": {
        "id": "4dBbN0XYm9d_"
      },
      "source": [
        "In 2016, Donald Trump lost the popular vote, yet he won the electoral vote, securing 4 years in the Oval Office. This has been a shock to democrat supporters all around the world.\n",
        "\n",
        "Imagine you travel back in time to 2016. As soon as you step out of your time-capsule, the Democratic Party hires you. They want you, the best data scientist across the time and space, **to explain what happened and what should have been done differently**. They want you to **prepare them for 2020 presidential elections**.\n",
        "\n",
        "The Party has some tips for you - inspect the voters. What are Trump supporters? What do they feature? What are our supporters? Where should focus next? Any pro-trump states? Cities?\n",
        "\n",
        "The Democrats were kind of enough to share [a Kaggle dataset](https://www.kaggle.com/benhamner/2016-us-election) with you on 2016 U.S. elections. Use the data to help the Democrats."
      ]
    },
    {
      "cell_type": "markdown",
      "metadata": {
        "id": "H6pZ-oOYm9d_"
      },
      "source": [
        "#### Fatal Police Shooting in United States"
      ]
    },
    {
      "cell_type": "markdown",
      "metadata": {
        "id": "QE6ejH8om9d_"
      },
      "source": [
        "<div><img width=\"400px\" height=\"auto\" src=\"https://images.unsplash.com/photo-1606352466047-7cef02b312bb?ixlib=rb-1.2.1&ixid=MXwxMjA3fDB8MHxwaG90by1wYWdlfHx8fGVufDB8fHw%3D&auto=format&fit=crop&w=1662&q=80\" /></div>"
      ]
    },
    {
      "cell_type": "markdown",
      "metadata": {
        "id": "1G4sOQWfm9d_"
      },
      "source": [
        "[Police brutality in the United States](https://en.wikipedia.org/wiki/Police_brutality_in_the_United_States) has been an nationwide issue since the 20th century. Public safety of U.S. citizens is a typical argument to justify the controversially high number of fatal shootings.\n",
        "\n",
        "You are a contractor to the United States Department of Justice. **You have been given a case to investigate fatal police shootings throughout the United States of America, provide a list of issues, and propose a plan on how to tackle these issues**.\n",
        "\n",
        "The department offered some tips - the public opinion indicates that there's something systematically fishy of police actions against civilians, some states differ from other, some cities are different from others, race equality is still an unanswered question, there's some talk about huge spendings on police, rumors about mental issues of those getting shot. Government is all about prioritizing - use the data to list issues with the police activity and propose a plan which issues to tackle first and how.\n",
        "\n",
        "Your are given 1 dataset to start with. Try to search for more datasets to enrich your data analysis."
      ]
    },
    {
      "cell_type": "markdown",
      "metadata": {
        "id": "jGTo85ybm9d_"
      },
      "source": [
        "Here's the dataset:\n",
        "\n",
        "* [Fatal Police Shootings in the U.S. '15 - '17](https://www.kaggle.com/washingtonpost/police-shootings)."
      ]
    },
    {
      "cell_type": "markdown",
      "metadata": {
        "id": "kT0vosPvm9eA"
      },
      "source": [
        "## Evaluation Criteria"
      ]
    },
    {
      "cell_type": "markdown",
      "metadata": {
        "id": "-5ZtfLSjm9eA"
      },
      "source": [
        "- Code quality\n",
        "- Fulfillment of the idea\n",
        "- Adherence to the requirements\n",
        "- Delivery of the presentation\n",
        "\n",
        "#### Statistical hypothesis testing\n",
        "- Correct statistical test method is used, based on the situation.\n",
        "- Reasoning on chosen statistical significance level.\n",
        "\n",
        "#### Modeling\n",
        "- Both PCA and T-SNE algorithms are used."
      ]
    },
    {
      "cell_type": "markdown",
      "metadata": {
        "id": "E7YY8TDS8xgf"
      },
      "source": [
        "## Corona crisis"
      ]
    },
    {
      "cell_type": "markdown",
      "metadata": {
        "id": "0FRyo3GK9D7Z"
      },
      "source": [
        "lalala"
      ]
    },
    {
      "cell_type": "markdown",
      "metadata": {
        "id": "1JEdfBPX9BzT"
      },
      "source": [
        "### Getting started"
      ]
    },
    {
      "cell_type": "code",
      "metadata": {
        "id": "FYNfJwgy3cKu"
      },
      "source": [
        "# imports\n",
        "import pandas as pd\n",
        "import numpy as np\n",
        "import scipy.stats as stats\n",
        "\n",
        "import seaborn as sns\n",
        "import matplotlib.pyplot as plt\n",
        "from matplotlib import pyplot\n",
        "\n",
        "from sklearn.decomposition import PCA\n",
        "from sklearn.manifold import TSNE\n",
        "from sklearn.preprocessing import StandardScaler\n",
        "\n",
        "from sklearn.linear_model import LinearRegression\n",
        "from sklearn.metrics import mean_squared_error, r2_score\n",
        "from sklearn.tree import DecisionTreeClassifier\n",
        "from sklearn.model_selection import train_test_split\n",
        "from sklearn.metrics import accuracy_score\n",
        "\n",
        "from sklearn.cluster import KMeans"
      ],
      "execution_count": null,
      "outputs": []
    },
    {
      "cell_type": "code",
      "metadata": {
        "id": "iAJDLW-ibiqc"
      },
      "source": [
        "# Load data\n",
        "case = pd.read_csv(\"https://raw.githubusercontent.com/TuringCollegeSubmissions/lcramw-DS.1.4/master/Case.csv?token=AFU2SI6VUUPBE5YQYZMOLXC72HE3S\")\n",
        "patient = pd.read_csv(\"https://raw.githubusercontent.com/TuringCollegeSubmissions/lcramw-DS.1.4/master/PatientInfo.csv?token=AFU2SI3MJJRN7U6ASU47T4C72HE2G\")\n",
        "policy = pd.read_csv(\"https://raw.githubusercontent.com/TuringCollegeSubmissions/lcramw-DS.1.4/master/Policy.csv?token=AFU2SIY2DTJJUOJKVJ6FRHK72HGLI\")\n",
        "region = pd.read_csv(\"https://raw.githubusercontent.com/TuringCollegeSubmissions/lcramw-DS.1.4/master/Region.csv?token=AFU2SIYZDGW7DBUX7RYONTS72HGJU\")\n",
        "search_trend = pd.read_csv(\"https://raw.githubusercontent.com/TuringCollegeSubmissions/lcramw-DS.1.4/master/SearchTrend.csv?token=AFU2SI6XXFGO6I7ZNW6SAUK72HGHU\")\n",
        "# seoul = pd.read_csv(\"https://github.com/TuringCollegeSubmissions/lcramw-DS.1.4/blob/master/SeoulFloating.csv.zip?raw=true\")\n",
        "time = pd.read_csv(\"https://raw.githubusercontent.com/TuringCollegeSubmissions/lcramw-DS.1.4/master/Time.csv?token=AFU2SI3BAPSZX6HQDT4SZZ272HGFS\")\n",
        "time_age = pd.read_csv(\"https://raw.githubusercontent.com/TuringCollegeSubmissions/lcramw-DS.1.4/master/TimeAge.csv?token=AFU2SI7BED77ELOCPDVT2YC72HGEU\")\n",
        "time_gender = pd.read_csv(\"https://raw.githubusercontent.com/TuringCollegeSubmissions/lcramw-DS.1.4/master/TimeGender.csv?token=AFU2SIZMN7GXCQHJ5IHQIMK72HGC2\")\n",
        "time_province = pd.read_csv(\"https://raw.githubusercontent.com/TuringCollegeSubmissions/lcramw-DS.1.4/master/TimeProvince.csv?token=AFU2SI2GS5CZLMYM2GSQP3272HGBS\")\n",
        "weather = pd.read_csv(\"https://raw.githubusercontent.com/TuringCollegeSubmissions/lcramw-DS.1.4/master/Weather.csv?token=AFU2SI7TOYZRPM5GX6JMVOC72HGAU\")\n",
        "\n"
      ],
      "execution_count": null,
      "outputs": []
    },
    {
      "cell_type": "code",
      "metadata": {
        "id": "UUxIBj1tivAL"
      },
      "source": [
        "confirmed_df = pd.read_csv('https://raw.githubusercontent.com/CSSEGISandData/COVID-19/master/csse_covid_19_data/csse_covid_19_time_series/time_series_covid19_confirmed_global.csv')\n",
        "deaths_df = pd.read_csv('https://raw.githubusercontent.com/CSSEGISandData/COVID-19/master/csse_covid_19_data/csse_covid_19_time_series/time_series_covid19_deaths_global.csv')\n",
        "recoveries_df = pd.read_csv('https://raw.githubusercontent.com/CSSEGISandData/COVID-19/master/csse_covid_19_data/csse_covid_19_time_series/time_series_covid19_recovered_global.csv')\n",
        "latest_data = pd.read_csv('https://raw.githubusercontent.com/CSSEGISandData/COVID-19/master/csse_covid_19_data/csse_covid_19_daily_reports/08-22-2020.csv')\n",
        "us_medical_data = pd.read_csv('https://raw.githubusercontent.com/CSSEGISandData/COVID-19/master/csse_covid_19_data/csse_covid_19_daily_reports_us/08-22-2020.csv')"
      ],
      "execution_count": null,
      "outputs": []
    },
    {
      "cell_type": "markdown",
      "metadata": {
        "id": "AxqzrPas9HPY"
      },
      "source": [
        "### EDA"
      ]
    },
    {
      "cell_type": "code",
      "metadata": {
        "colab": {
          "base_uri": "https://localhost:8080/"
        },
        "id": "sVM6a33UeC7r",
        "outputId": "4cccc119-31ec-47cd-984a-bac86bf9af51"
      },
      "source": [
        "print(\"first Infected date in korea: \", patient['confirmed_date'][0])"
      ],
      "execution_count": null,
      "outputs": [
        {
          "output_type": "stream",
          "text": [
            "first Infected date in korea:  2020-01-23\n"
          ],
          "name": "stdout"
        }
      ]
    },
    {
      "cell_type": "code",
      "metadata": {
        "id": "s1zQlF5Q-UfF",
        "colab": {
          "base_uri": "https://localhost:8080/",
          "height": 292
        },
        "outputId": "4ef6cbbc-0855-46f5-9aed-4e42533a1bf9"
      },
      "source": [
        "patient.head()"
      ],
      "execution_count": null,
      "outputs": [
        {
          "output_type": "execute_result",
          "data": {
            "text/html": [
              "<div>\n",
              "<style scoped>\n",
              "    .dataframe tbody tr th:only-of-type {\n",
              "        vertical-align: middle;\n",
              "    }\n",
              "\n",
              "    .dataframe tbody tr th {\n",
              "        vertical-align: top;\n",
              "    }\n",
              "\n",
              "    .dataframe thead th {\n",
              "        text-align: right;\n",
              "    }\n",
              "</style>\n",
              "<table border=\"1\" class=\"dataframe\">\n",
              "  <thead>\n",
              "    <tr style=\"text-align: right;\">\n",
              "      <th></th>\n",
              "      <th>patient_id</th>\n",
              "      <th>sex</th>\n",
              "      <th>age</th>\n",
              "      <th>country</th>\n",
              "      <th>province</th>\n",
              "      <th>city</th>\n",
              "      <th>infection_case</th>\n",
              "      <th>infected_by</th>\n",
              "      <th>contact_number</th>\n",
              "      <th>symptom_onset_date</th>\n",
              "      <th>confirmed_date</th>\n",
              "      <th>released_date</th>\n",
              "      <th>deceased_date</th>\n",
              "      <th>state</th>\n",
              "    </tr>\n",
              "  </thead>\n",
              "  <tbody>\n",
              "    <tr>\n",
              "      <th>0</th>\n",
              "      <td>1000000001</td>\n",
              "      <td>male</td>\n",
              "      <td>50s</td>\n",
              "      <td>Korea</td>\n",
              "      <td>Seoul</td>\n",
              "      <td>Gangseo-gu</td>\n",
              "      <td>overseas inflow</td>\n",
              "      <td>NaN</td>\n",
              "      <td>75</td>\n",
              "      <td>2020-01-22</td>\n",
              "      <td>2020-01-23</td>\n",
              "      <td>2020-02-05</td>\n",
              "      <td>NaN</td>\n",
              "      <td>released</td>\n",
              "    </tr>\n",
              "    <tr>\n",
              "      <th>1</th>\n",
              "      <td>1000000002</td>\n",
              "      <td>male</td>\n",
              "      <td>30s</td>\n",
              "      <td>Korea</td>\n",
              "      <td>Seoul</td>\n",
              "      <td>Jungnang-gu</td>\n",
              "      <td>overseas inflow</td>\n",
              "      <td>NaN</td>\n",
              "      <td>31</td>\n",
              "      <td>NaN</td>\n",
              "      <td>2020-01-30</td>\n",
              "      <td>2020-03-02</td>\n",
              "      <td>NaN</td>\n",
              "      <td>released</td>\n",
              "    </tr>\n",
              "    <tr>\n",
              "      <th>2</th>\n",
              "      <td>1000000003</td>\n",
              "      <td>male</td>\n",
              "      <td>50s</td>\n",
              "      <td>Korea</td>\n",
              "      <td>Seoul</td>\n",
              "      <td>Jongno-gu</td>\n",
              "      <td>contact with patient</td>\n",
              "      <td>2002000001</td>\n",
              "      <td>17</td>\n",
              "      <td>NaN</td>\n",
              "      <td>2020-01-30</td>\n",
              "      <td>2020-02-19</td>\n",
              "      <td>NaN</td>\n",
              "      <td>released</td>\n",
              "    </tr>\n",
              "    <tr>\n",
              "      <th>3</th>\n",
              "      <td>1000000004</td>\n",
              "      <td>male</td>\n",
              "      <td>20s</td>\n",
              "      <td>Korea</td>\n",
              "      <td>Seoul</td>\n",
              "      <td>Mapo-gu</td>\n",
              "      <td>overseas inflow</td>\n",
              "      <td>NaN</td>\n",
              "      <td>9</td>\n",
              "      <td>2020-01-26</td>\n",
              "      <td>2020-01-30</td>\n",
              "      <td>2020-02-15</td>\n",
              "      <td>NaN</td>\n",
              "      <td>released</td>\n",
              "    </tr>\n",
              "    <tr>\n",
              "      <th>4</th>\n",
              "      <td>1000000005</td>\n",
              "      <td>female</td>\n",
              "      <td>20s</td>\n",
              "      <td>Korea</td>\n",
              "      <td>Seoul</td>\n",
              "      <td>Seongbuk-gu</td>\n",
              "      <td>contact with patient</td>\n",
              "      <td>1000000002</td>\n",
              "      <td>2</td>\n",
              "      <td>NaN</td>\n",
              "      <td>2020-01-31</td>\n",
              "      <td>2020-02-24</td>\n",
              "      <td>NaN</td>\n",
              "      <td>released</td>\n",
              "    </tr>\n",
              "  </tbody>\n",
              "</table>\n",
              "</div>"
            ],
            "text/plain": [
              "   patient_id     sex  age  ... released_date deceased_date     state\n",
              "0  1000000001    male  50s  ...    2020-02-05           NaN  released\n",
              "1  1000000002    male  30s  ...    2020-03-02           NaN  released\n",
              "2  1000000003    male  50s  ...    2020-02-19           NaN  released\n",
              "3  1000000004    male  20s  ...    2020-02-15           NaN  released\n",
              "4  1000000005  female  20s  ...    2020-02-24           NaN  released\n",
              "\n",
              "[5 rows x 14 columns]"
            ]
          },
          "metadata": {
            "tags": []
          },
          "execution_count": 5
        }
      ]
    },
    {
      "cell_type": "code",
      "metadata": {
        "colab": {
          "base_uri": "https://localhost:8080/"
        },
        "id": "1uqG758rYS9j",
        "outputId": "3cd612bc-cb90-4fcd-86c4-9692e6db1f95"
      },
      "source": [
        "patient.shape"
      ],
      "execution_count": null,
      "outputs": [
        {
          "output_type": "execute_result",
          "data": {
            "text/plain": [
              "(5165, 14)"
            ]
          },
          "metadata": {
            "tags": []
          },
          "execution_count": 95
        }
      ]
    },
    {
      "cell_type": "code",
      "metadata": {
        "colab": {
          "base_uri": "https://localhost:8080/"
        },
        "id": "m5CqE1g0ZGDS",
        "outputId": "4e22efb5-aeea-444e-eaf5-ca6be73eabaa"
      },
      "source": [
        "patient.info()"
      ],
      "execution_count": null,
      "outputs": [
        {
          "output_type": "stream",
          "text": [
            "<class 'pandas.core.frame.DataFrame'>\n",
            "RangeIndex: 5165 entries, 0 to 5164\n",
            "Data columns (total 14 columns):\n",
            " #   Column              Non-Null Count  Dtype \n",
            "---  ------              --------------  ----- \n",
            " 0   patient_id          5165 non-null   int64 \n",
            " 1   sex                 4043 non-null   object\n",
            " 2   age                 3785 non-null   object\n",
            " 3   country             5165 non-null   object\n",
            " 4   province            5165 non-null   object\n",
            " 5   city                5071 non-null   object\n",
            " 6   infection_case      4246 non-null   object\n",
            " 7   infected_by         1346 non-null   object\n",
            " 8   contact_number      791 non-null    object\n",
            " 9   symptom_onset_date  690 non-null    object\n",
            " 10  confirmed_date      5162 non-null   object\n",
            " 11  released_date       1587 non-null   object\n",
            " 12  deceased_date       66 non-null     object\n",
            " 13  state               5165 non-null   object\n",
            "dtypes: int64(1), object(13)\n",
            "memory usage: 565.0+ KB\n"
          ],
          "name": "stdout"
        }
      ]
    },
    {
      "cell_type": "code",
      "metadata": {
        "colab": {
          "base_uri": "https://localhost:8080/",
          "height": 292
        },
        "id": "yVATw2MccfKN",
        "outputId": "4a7ddc1b-2697-47cb-d2e5-b8a38a5f7761"
      },
      "source": [
        "region.head()"
      ],
      "execution_count": null,
      "outputs": [
        {
          "output_type": "execute_result",
          "data": {
            "text/html": [
              "<div>\n",
              "<style scoped>\n",
              "    .dataframe tbody tr th:only-of-type {\n",
              "        vertical-align: middle;\n",
              "    }\n",
              "\n",
              "    .dataframe tbody tr th {\n",
              "        vertical-align: top;\n",
              "    }\n",
              "\n",
              "    .dataframe thead th {\n",
              "        text-align: right;\n",
              "    }\n",
              "</style>\n",
              "<table border=\"1\" class=\"dataframe\">\n",
              "  <thead>\n",
              "    <tr style=\"text-align: right;\">\n",
              "      <th></th>\n",
              "      <th>code</th>\n",
              "      <th>province</th>\n",
              "      <th>city</th>\n",
              "      <th>latitude</th>\n",
              "      <th>longitude</th>\n",
              "      <th>elementary_school_count</th>\n",
              "      <th>kindergarten_count</th>\n",
              "      <th>university_count</th>\n",
              "      <th>academy_ratio</th>\n",
              "      <th>elderly_population_ratio</th>\n",
              "      <th>elderly_alone_ratio</th>\n",
              "      <th>nursing_home_count</th>\n",
              "    </tr>\n",
              "  </thead>\n",
              "  <tbody>\n",
              "    <tr>\n",
              "      <th>0</th>\n",
              "      <td>10000</td>\n",
              "      <td>Seoul</td>\n",
              "      <td>Seoul</td>\n",
              "      <td>37.566953</td>\n",
              "      <td>126.977977</td>\n",
              "      <td>607</td>\n",
              "      <td>830</td>\n",
              "      <td>48</td>\n",
              "      <td>1.44</td>\n",
              "      <td>15.38</td>\n",
              "      <td>5.8</td>\n",
              "      <td>22739</td>\n",
              "    </tr>\n",
              "    <tr>\n",
              "      <th>1</th>\n",
              "      <td>10010</td>\n",
              "      <td>Seoul</td>\n",
              "      <td>Gangnam-gu</td>\n",
              "      <td>37.518421</td>\n",
              "      <td>127.047222</td>\n",
              "      <td>33</td>\n",
              "      <td>38</td>\n",
              "      <td>0</td>\n",
              "      <td>4.18</td>\n",
              "      <td>13.17</td>\n",
              "      <td>4.3</td>\n",
              "      <td>3088</td>\n",
              "    </tr>\n",
              "    <tr>\n",
              "      <th>2</th>\n",
              "      <td>10020</td>\n",
              "      <td>Seoul</td>\n",
              "      <td>Gangdong-gu</td>\n",
              "      <td>37.530492</td>\n",
              "      <td>127.123837</td>\n",
              "      <td>27</td>\n",
              "      <td>32</td>\n",
              "      <td>0</td>\n",
              "      <td>1.54</td>\n",
              "      <td>14.55</td>\n",
              "      <td>5.4</td>\n",
              "      <td>1023</td>\n",
              "    </tr>\n",
              "    <tr>\n",
              "      <th>3</th>\n",
              "      <td>10030</td>\n",
              "      <td>Seoul</td>\n",
              "      <td>Gangbuk-gu</td>\n",
              "      <td>37.639938</td>\n",
              "      <td>127.025508</td>\n",
              "      <td>14</td>\n",
              "      <td>21</td>\n",
              "      <td>0</td>\n",
              "      <td>0.67</td>\n",
              "      <td>19.49</td>\n",
              "      <td>8.5</td>\n",
              "      <td>628</td>\n",
              "    </tr>\n",
              "    <tr>\n",
              "      <th>4</th>\n",
              "      <td>10040</td>\n",
              "      <td>Seoul</td>\n",
              "      <td>Gangseo-gu</td>\n",
              "      <td>37.551166</td>\n",
              "      <td>126.849506</td>\n",
              "      <td>36</td>\n",
              "      <td>56</td>\n",
              "      <td>1</td>\n",
              "      <td>1.17</td>\n",
              "      <td>14.39</td>\n",
              "      <td>5.7</td>\n",
              "      <td>1080</td>\n",
              "    </tr>\n",
              "  </tbody>\n",
              "</table>\n",
              "</div>"
            ],
            "text/plain": [
              "    code province  ... elderly_alone_ratio  nursing_home_count\n",
              "0  10000    Seoul  ...                 5.8               22739\n",
              "1  10010    Seoul  ...                 4.3                3088\n",
              "2  10020    Seoul  ...                 5.4                1023\n",
              "3  10030    Seoul  ...                 8.5                 628\n",
              "4  10040    Seoul  ...                 5.7                1080\n",
              "\n",
              "[5 rows x 12 columns]"
            ]
          },
          "metadata": {
            "tags": []
          },
          "execution_count": 98
        }
      ]
    },
    {
      "cell_type": "code",
      "metadata": {
        "colab": {
          "base_uri": "https://localhost:8080/"
        },
        "id": "4BvGKHS7hzfo",
        "outputId": "02228b56-b2f0-43d7-c3da-7f356f412506"
      },
      "source": [
        "region.shape"
      ],
      "execution_count": null,
      "outputs": [
        {
          "output_type": "execute_result",
          "data": {
            "text/plain": [
              "(244, 12)"
            ]
          },
          "metadata": {
            "tags": []
          },
          "execution_count": 124
        }
      ]
    },
    {
      "cell_type": "code",
      "metadata": {
        "id": "vt_1wskRcrGY"
      },
      "source": [
        "full_features_df = patient.merge(region, how='left', on=['province', 'city'])"
      ],
      "execution_count": null,
      "outputs": []
    },
    {
      "cell_type": "code",
      "metadata": {
        "id": "xS6u1PPsfLyl"
      },
      "source": [
        "full_features_df.drop(columns=['age', 'sex' ,'patient_id', 'confirmed_date', 'contact_number', 'infected_by', 'infection_case', 'latitude', 'longitude', 'code', 'deceased_date', 'symptom_onset_date', 'released_date'], inplace=True)"
      ],
      "execution_count": null,
      "outputs": []
    },
    {
      "cell_type": "code",
      "metadata": {
        "colab": {
          "base_uri": "https://localhost:8080/",
          "height": 275
        },
        "id": "nUjl9N3pfLMD",
        "outputId": "9dbd3e3a-5ef1-4cdd-837c-92c7c3e59e9c"
      },
      "source": [
        "full_features_df = full_features_df.reset_index(drop=True)\n",
        "full_features_df.head()"
      ],
      "execution_count": null,
      "outputs": [
        {
          "output_type": "execute_result",
          "data": {
            "text/html": [
              "<div>\n",
              "<style scoped>\n",
              "    .dataframe tbody tr th:only-of-type {\n",
              "        vertical-align: middle;\n",
              "    }\n",
              "\n",
              "    .dataframe tbody tr th {\n",
              "        vertical-align: top;\n",
              "    }\n",
              "\n",
              "    .dataframe thead th {\n",
              "        text-align: right;\n",
              "    }\n",
              "</style>\n",
              "<table border=\"1\" class=\"dataframe\">\n",
              "  <thead>\n",
              "    <tr style=\"text-align: right;\">\n",
              "      <th></th>\n",
              "      <th>country</th>\n",
              "      <th>province</th>\n",
              "      <th>city</th>\n",
              "      <th>state</th>\n",
              "      <th>elementary_school_count</th>\n",
              "      <th>kindergarten_count</th>\n",
              "      <th>university_count</th>\n",
              "      <th>academy_ratio</th>\n",
              "      <th>elderly_population_ratio</th>\n",
              "      <th>elderly_alone_ratio</th>\n",
              "      <th>nursing_home_count</th>\n",
              "    </tr>\n",
              "  </thead>\n",
              "  <tbody>\n",
              "    <tr>\n",
              "      <th>0</th>\n",
              "      <td>Korea</td>\n",
              "      <td>Seoul</td>\n",
              "      <td>Gangseo-gu</td>\n",
              "      <td>released</td>\n",
              "      <td>36.0</td>\n",
              "      <td>56.0</td>\n",
              "      <td>1.0</td>\n",
              "      <td>1.17</td>\n",
              "      <td>14.39</td>\n",
              "      <td>5.7</td>\n",
              "      <td>1080.0</td>\n",
              "    </tr>\n",
              "    <tr>\n",
              "      <th>1</th>\n",
              "      <td>Korea</td>\n",
              "      <td>Seoul</td>\n",
              "      <td>Jungnang-gu</td>\n",
              "      <td>released</td>\n",
              "      <td>23.0</td>\n",
              "      <td>31.0</td>\n",
              "      <td>1.0</td>\n",
              "      <td>0.70</td>\n",
              "      <td>16.65</td>\n",
              "      <td>6.9</td>\n",
              "      <td>689.0</td>\n",
              "    </tr>\n",
              "    <tr>\n",
              "      <th>2</th>\n",
              "      <td>Korea</td>\n",
              "      <td>Seoul</td>\n",
              "      <td>Jongno-gu</td>\n",
              "      <td>released</td>\n",
              "      <td>13.0</td>\n",
              "      <td>17.0</td>\n",
              "      <td>3.0</td>\n",
              "      <td>1.71</td>\n",
              "      <td>18.27</td>\n",
              "      <td>6.8</td>\n",
              "      <td>668.0</td>\n",
              "    </tr>\n",
              "    <tr>\n",
              "      <th>3</th>\n",
              "      <td>Korea</td>\n",
              "      <td>Seoul</td>\n",
              "      <td>Mapo-gu</td>\n",
              "      <td>released</td>\n",
              "      <td>22.0</td>\n",
              "      <td>24.0</td>\n",
              "      <td>2.0</td>\n",
              "      <td>1.83</td>\n",
              "      <td>14.05</td>\n",
              "      <td>4.9</td>\n",
              "      <td>929.0</td>\n",
              "    </tr>\n",
              "    <tr>\n",
              "      <th>4</th>\n",
              "      <td>Korea</td>\n",
              "      <td>Seoul</td>\n",
              "      <td>Seongbuk-gu</td>\n",
              "      <td>released</td>\n",
              "      <td>29.0</td>\n",
              "      <td>49.0</td>\n",
              "      <td>6.0</td>\n",
              "      <td>1.02</td>\n",
              "      <td>16.15</td>\n",
              "      <td>6.0</td>\n",
              "      <td>729.0</td>\n",
              "    </tr>\n",
              "  </tbody>\n",
              "</table>\n",
              "</div>"
            ],
            "text/plain": [
              "  country province  ... elderly_alone_ratio nursing_home_count\n",
              "0   Korea    Seoul  ...                 5.7             1080.0\n",
              "1   Korea    Seoul  ...                 6.9              689.0\n",
              "2   Korea    Seoul  ...                 6.8              668.0\n",
              "3   Korea    Seoul  ...                 4.9              929.0\n",
              "4   Korea    Seoul  ...                 6.0              729.0\n",
              "\n",
              "[5 rows x 11 columns]"
            ]
          },
          "metadata": {
            "tags": []
          },
          "execution_count": 216
        }
      ]
    },
    {
      "cell_type": "code",
      "metadata": {
        "colab": {
          "base_uri": "https://localhost:8080/"
        },
        "id": "buFyj1Cbe9gZ",
        "outputId": "91ca119e-e85e-49e8-c9aa-d6ae2984528f"
      },
      "source": [
        "full_features_df.shape"
      ],
      "execution_count": null,
      "outputs": [
        {
          "output_type": "execute_result",
          "data": {
            "text/plain": [
              "(5165, 11)"
            ]
          },
          "metadata": {
            "tags": []
          },
          "execution_count": 217
        }
      ]
    },
    {
      "cell_type": "code",
      "metadata": {
        "colab": {
          "base_uri": "https://localhost:8080/"
        },
        "id": "Z4n-r0JdSeRC",
        "outputId": "02739d1c-e3cb-44d6-d3b7-302ae9349536"
      },
      "source": [
        "full_features_df.info()"
      ],
      "execution_count": null,
      "outputs": [
        {
          "output_type": "stream",
          "text": [
            "<class 'pandas.core.frame.DataFrame'>\n",
            "RangeIndex: 5165 entries, 0 to 5164\n",
            "Data columns (total 11 columns):\n",
            " #   Column                    Non-Null Count  Dtype  \n",
            "---  ------                    --------------  -----  \n",
            " 0   country                   5165 non-null   object \n",
            " 1   province                  5165 non-null   object \n",
            " 2   city                      5071 non-null   object \n",
            " 3   state                     5165 non-null   object \n",
            " 4   elementary_school_count   4946 non-null   float64\n",
            " 5   kindergarten_count        4946 non-null   float64\n",
            " 6   university_count          4946 non-null   float64\n",
            " 7   academy_ratio             4946 non-null   float64\n",
            " 8   elderly_population_ratio  4946 non-null   float64\n",
            " 9   elderly_alone_ratio       4946 non-null   float64\n",
            " 10  nursing_home_count        4946 non-null   float64\n",
            "dtypes: float64(7), object(4)\n",
            "memory usage: 444.0+ KB\n"
          ],
          "name": "stdout"
        }
      ]
    },
    {
      "cell_type": "code",
      "metadata": {
        "id": "U-M8DpDpgxxT"
      },
      "source": [
        "full_features_df.dropna(subset=['elementary_school_count', 'kindergarten_count', 'university_count', 'academy_ratio', 'elderly_population_ratio', 'elderly_alone_ratio', 'nursing_home_count'], inplace=True)"
      ],
      "execution_count": null,
      "outputs": []
    },
    {
      "cell_type": "code",
      "metadata": {
        "colab": {
          "base_uri": "https://localhost:8080/"
        },
        "id": "bXh4rXGVSrmK",
        "outputId": "a2ad99fe-3ff2-4347-cc85-166c990f6766"
      },
      "source": [
        "full_features_df = full_features_df.reset_index(drop=True)\n",
        "full_features_df.info()"
      ],
      "execution_count": null,
      "outputs": [
        {
          "output_type": "stream",
          "text": [
            "<class 'pandas.core.frame.DataFrame'>\n",
            "RangeIndex: 4946 entries, 0 to 4945\n",
            "Data columns (total 11 columns):\n",
            " #   Column                    Non-Null Count  Dtype  \n",
            "---  ------                    --------------  -----  \n",
            " 0   country                   4946 non-null   object \n",
            " 1   province                  4946 non-null   object \n",
            " 2   city                      4946 non-null   object \n",
            " 3   state                     4946 non-null   object \n",
            " 4   elementary_school_count   4946 non-null   float64\n",
            " 5   kindergarten_count        4946 non-null   float64\n",
            " 6   university_count          4946 non-null   float64\n",
            " 7   academy_ratio             4946 non-null   float64\n",
            " 8   elderly_population_ratio  4946 non-null   float64\n",
            " 9   elderly_alone_ratio       4946 non-null   float64\n",
            " 10  nursing_home_count        4946 non-null   float64\n",
            "dtypes: float64(7), object(4)\n",
            "memory usage: 425.2+ KB\n"
          ],
          "name": "stdout"
        }
      ]
    },
    {
      "cell_type": "code",
      "metadata": {
        "colab": {
          "base_uri": "https://localhost:8080/"
        },
        "id": "3KIFPSh2SxR1",
        "outputId": "b20fb6be-fb4b-48cb-a292-01729f7d6b1a"
      },
      "source": [
        "full_features_df.shape"
      ],
      "execution_count": null,
      "outputs": [
        {
          "output_type": "execute_result",
          "data": {
            "text/plain": [
              "(4946, 11)"
            ]
          },
          "metadata": {
            "tags": []
          },
          "execution_count": 221
        }
      ]
    },
    {
      "cell_type": "code",
      "metadata": {
        "colab": {
          "base_uri": "https://localhost:8080/"
        },
        "id": "JZOSw_9lhLIt",
        "outputId": "b7489847-72af-45af-e5f9-53f249faa549"
      },
      "source": [
        "full_features_df.isnull().sum()"
      ],
      "execution_count": null,
      "outputs": [
        {
          "output_type": "execute_result",
          "data": {
            "text/plain": [
              "country                     0\n",
              "province                    0\n",
              "city                        0\n",
              "state                       0\n",
              "elementary_school_count     0\n",
              "kindergarten_count          0\n",
              "university_count            0\n",
              "academy_ratio               0\n",
              "elderly_population_ratio    0\n",
              "elderly_alone_ratio         0\n",
              "nursing_home_count          0\n",
              "dtype: int64"
            ]
          },
          "metadata": {
            "tags": []
          },
          "execution_count": 222
        }
      ]
    },
    {
      "cell_type": "code",
      "metadata": {
        "colab": {
          "base_uri": "https://localhost:8080/"
        },
        "id": "h9D4Mj0t6sSp",
        "outputId": "586fb6c1-cbc1-4a45-dc74-1683b575e22e"
      },
      "source": [
        "full_features_df.state.value_counts()"
      ],
      "execution_count": null,
      "outputs": [
        {
          "output_type": "execute_result",
          "data": {
            "text/plain": [
              "released    2835\n",
              "isolated    2056\n",
              "deceased      55\n",
              "Name: state, dtype: int64"
            ]
          },
          "metadata": {
            "tags": []
          },
          "execution_count": 223
        }
      ]
    },
    {
      "cell_type": "code",
      "metadata": {
        "colab": {
          "base_uri": "https://localhost:8080/"
        },
        "id": "TiZzX4AggKjD",
        "outputId": "cdf966c1-8361-422f-885f-b0daaf462e47"
      },
      "source": [
        "full_features_df.country.unique()"
      ],
      "execution_count": null,
      "outputs": [
        {
          "output_type": "execute_result",
          "data": {
            "text/plain": [
              "array(['Korea', 'China', 'United States', 'France', 'Thailand', 'Canada',\n",
              "       'India', 'Switzerland', 'Germany', 'Vietnam', 'Foreign',\n",
              "       'Indonesia', 'Mongolia', 'United Kingdom', 'Spain', 'Bangladesh'],\n",
              "      dtype=object)"
            ]
          },
          "metadata": {
            "tags": []
          },
          "execution_count": 158
        }
      ]
    },
    {
      "cell_type": "code",
      "metadata": {
        "colab": {
          "base_uri": "https://localhost:8080/",
          "height": 204
        },
        "id": "FXKh9sCTxE_T",
        "outputId": "33437ccc-f781-433c-f9f3-bd72c790285a"
      },
      "source": [
        "search_trend.head()"
      ],
      "execution_count": null,
      "outputs": [
        {
          "output_type": "execute_result",
          "data": {
            "text/html": [
              "<div>\n",
              "<style scoped>\n",
              "    .dataframe tbody tr th:only-of-type {\n",
              "        vertical-align: middle;\n",
              "    }\n",
              "\n",
              "    .dataframe tbody tr th {\n",
              "        vertical-align: top;\n",
              "    }\n",
              "\n",
              "    .dataframe thead th {\n",
              "        text-align: right;\n",
              "    }\n",
              "</style>\n",
              "<table border=\"1\" class=\"dataframe\">\n",
              "  <thead>\n",
              "    <tr style=\"text-align: right;\">\n",
              "      <th></th>\n",
              "      <th>date</th>\n",
              "      <th>cold</th>\n",
              "      <th>flu</th>\n",
              "      <th>pneumonia</th>\n",
              "      <th>coronavirus</th>\n",
              "    </tr>\n",
              "  </thead>\n",
              "  <tbody>\n",
              "    <tr>\n",
              "      <th>0</th>\n",
              "      <td>2016-01-01</td>\n",
              "      <td>0.11663</td>\n",
              "      <td>0.05590</td>\n",
              "      <td>0.15726</td>\n",
              "      <td>0.00736</td>\n",
              "    </tr>\n",
              "    <tr>\n",
              "      <th>1</th>\n",
              "      <td>2016-01-02</td>\n",
              "      <td>0.13372</td>\n",
              "      <td>0.17135</td>\n",
              "      <td>0.20826</td>\n",
              "      <td>0.00890</td>\n",
              "    </tr>\n",
              "    <tr>\n",
              "      <th>2</th>\n",
              "      <td>2016-01-03</td>\n",
              "      <td>0.14917</td>\n",
              "      <td>0.22317</td>\n",
              "      <td>0.19326</td>\n",
              "      <td>0.00845</td>\n",
              "    </tr>\n",
              "    <tr>\n",
              "      <th>3</th>\n",
              "      <td>2016-01-04</td>\n",
              "      <td>0.17463</td>\n",
              "      <td>0.18626</td>\n",
              "      <td>0.29008</td>\n",
              "      <td>0.01145</td>\n",
              "    </tr>\n",
              "    <tr>\n",
              "      <th>4</th>\n",
              "      <td>2016-01-05</td>\n",
              "      <td>0.17226</td>\n",
              "      <td>0.15072</td>\n",
              "      <td>0.24562</td>\n",
              "      <td>0.01381</td>\n",
              "    </tr>\n",
              "  </tbody>\n",
              "</table>\n",
              "</div>"
            ],
            "text/plain": [
              "         date     cold      flu  pneumonia  coronavirus\n",
              "0  2016-01-01  0.11663  0.05590    0.15726      0.00736\n",
              "1  2016-01-02  0.13372  0.17135    0.20826      0.00890\n",
              "2  2016-01-03  0.14917  0.22317    0.19326      0.00845\n",
              "3  2016-01-04  0.17463  0.18626    0.29008      0.01145\n",
              "4  2016-01-05  0.17226  0.15072    0.24562      0.01381"
            ]
          },
          "metadata": {
            "tags": []
          },
          "execution_count": 6
        }
      ]
    },
    {
      "cell_type": "code",
      "metadata": {
        "colab": {
          "base_uri": "https://localhost:8080/"
        },
        "id": "I2rF8y4Dx07Q",
        "outputId": "8199f9f2-12bd-4d59-9bd0-6a02ccc22403"
      },
      "source": [
        "search_trend.info()"
      ],
      "execution_count": null,
      "outputs": [
        {
          "output_type": "stream",
          "text": [
            "<class 'pandas.core.frame.DataFrame'>\n",
            "RangeIndex: 1642 entries, 0 to 1641\n",
            "Data columns (total 5 columns):\n",
            " #   Column       Non-Null Count  Dtype  \n",
            "---  ------       --------------  -----  \n",
            " 0   date         1642 non-null   object \n",
            " 1   cold         1642 non-null   float64\n",
            " 2   flu          1642 non-null   float64\n",
            " 3   pneumonia    1642 non-null   float64\n",
            " 4   coronavirus  1642 non-null   float64\n",
            "dtypes: float64(4), object(1)\n",
            "memory usage: 64.3+ KB\n"
          ],
          "name": "stdout"
        }
      ]
    },
    {
      "cell_type": "code",
      "metadata": {
        "id": "r6jiCDlIyIu3"
      },
      "source": [
        "search_trend.set_index('date', inplace=True)"
      ],
      "execution_count": null,
      "outputs": []
    },
    {
      "cell_type": "code",
      "metadata": {
        "colab": {
          "base_uri": "https://localhost:8080/",
          "height": 297
        },
        "id": "sWzsqspvzTzQ",
        "outputId": "394ffae4-8509-455b-ce81-93602702cf2f"
      },
      "source": [
        "search_trend.describe()"
      ],
      "execution_count": null,
      "outputs": [
        {
          "output_type": "execute_result",
          "data": {
            "text/html": [
              "<div>\n",
              "<style scoped>\n",
              "    .dataframe tbody tr th:only-of-type {\n",
              "        vertical-align: middle;\n",
              "    }\n",
              "\n",
              "    .dataframe tbody tr th {\n",
              "        vertical-align: top;\n",
              "    }\n",
              "\n",
              "    .dataframe thead th {\n",
              "        text-align: right;\n",
              "    }\n",
              "</style>\n",
              "<table border=\"1\" class=\"dataframe\">\n",
              "  <thead>\n",
              "    <tr style=\"text-align: right;\">\n",
              "      <th></th>\n",
              "      <th>cold</th>\n",
              "      <th>flu</th>\n",
              "      <th>pneumonia</th>\n",
              "      <th>coronavirus</th>\n",
              "    </tr>\n",
              "  </thead>\n",
              "  <tbody>\n",
              "    <tr>\n",
              "      <th>count</th>\n",
              "      <td>1642.000000</td>\n",
              "      <td>1642.000000</td>\n",
              "      <td>1642.000000</td>\n",
              "      <td>1642.000000</td>\n",
              "    </tr>\n",
              "    <tr>\n",
              "      <th>mean</th>\n",
              "      <td>0.190506</td>\n",
              "      <td>0.244946</td>\n",
              "      <td>0.221430</td>\n",
              "      <td>1.862522</td>\n",
              "    </tr>\n",
              "    <tr>\n",
              "      <th>std</th>\n",
              "      <td>0.459556</td>\n",
              "      <td>0.762229</td>\n",
              "      <td>0.463014</td>\n",
              "      <td>9.042341</td>\n",
              "    </tr>\n",
              "    <tr>\n",
              "      <th>min</th>\n",
              "      <td>0.051630</td>\n",
              "      <td>0.009810</td>\n",
              "      <td>0.068810</td>\n",
              "      <td>0.001540</td>\n",
              "    </tr>\n",
              "    <tr>\n",
              "      <th>25%</th>\n",
              "      <td>0.106630</td>\n",
              "      <td>0.042105</td>\n",
              "      <td>0.128630</td>\n",
              "      <td>0.006270</td>\n",
              "    </tr>\n",
              "    <tr>\n",
              "      <th>50%</th>\n",
              "      <td>0.133170</td>\n",
              "      <td>0.097855</td>\n",
              "      <td>0.164445</td>\n",
              "      <td>0.008900</td>\n",
              "    </tr>\n",
              "    <tr>\n",
              "      <th>75%</th>\n",
              "      <td>0.165900</td>\n",
              "      <td>0.250035</td>\n",
              "      <td>0.209765</td>\n",
              "      <td>0.013158</td>\n",
              "    </tr>\n",
              "    <tr>\n",
              "      <th>max</th>\n",
              "      <td>15.720710</td>\n",
              "      <td>27.327270</td>\n",
              "      <td>11.393200</td>\n",
              "      <td>100.000000</td>\n",
              "    </tr>\n",
              "  </tbody>\n",
              "</table>\n",
              "</div>"
            ],
            "text/plain": [
              "              cold          flu    pneumonia  coronavirus\n",
              "count  1642.000000  1642.000000  1642.000000  1642.000000\n",
              "mean      0.190506     0.244946     0.221430     1.862522\n",
              "std       0.459556     0.762229     0.463014     9.042341\n",
              "min       0.051630     0.009810     0.068810     0.001540\n",
              "25%       0.106630     0.042105     0.128630     0.006270\n",
              "50%       0.133170     0.097855     0.164445     0.008900\n",
              "75%       0.165900     0.250035     0.209765     0.013158\n",
              "max      15.720710    27.327270    11.393200   100.000000"
            ]
          },
          "metadata": {
            "tags": []
          },
          "execution_count": 9
        }
      ]
    },
    {
      "cell_type": "code",
      "metadata": {
        "id": "5QPhY1bV6swU"
      },
      "source": [
        "# Set as day for the plot\n",
        "search_trend = search_trend.asfreq('D', method='pad')"
      ],
      "execution_count": null,
      "outputs": []
    },
    {
      "cell_type": "code",
      "metadata": {
        "id": "kLAGI6BLxZfy"
      },
      "source": [
        "# Plot search_trend\n",
        "plt.figure(figsize=(22,10))\n",
        "plt.plot(search_trend)\n",
        "\n",
        "# Set axis settings and labels\n",
        "plt.ylabel('Relative search volume');\n",
        "plt.xlabel('Date');\n",
        "plt.title('Relative keyword searches in NAVER South-Korea')\n",
        "plt.xlim((pd.to_datetime(\"2019-01-01\"),pd.to_datetime(\"2020-07-01\")))\n",
        "\n",
        "\n",
        "# show a legend on the plot\n",
        "plt.legend(labels=['cold', 'flu', 'pneumonia', 'coronavirus'])"
      ],
      "execution_count": null,
      "outputs": []
    },
    {
      "cell_type": "code",
      "metadata": {
        "id": "IkdW3Pv9-Mw4",
        "colab": {
          "base_uri": "https://localhost:8080/",
          "height": 204
        },
        "outputId": "ab2226b6-7909-446a-cfe0-8a44fb8ff739"
      },
      "source": [
        "time.head()"
      ],
      "execution_count": null,
      "outputs": [
        {
          "output_type": "execute_result",
          "data": {
            "text/html": [
              "<div>\n",
              "<style scoped>\n",
              "    .dataframe tbody tr th:only-of-type {\n",
              "        vertical-align: middle;\n",
              "    }\n",
              "\n",
              "    .dataframe tbody tr th {\n",
              "        vertical-align: top;\n",
              "    }\n",
              "\n",
              "    .dataframe thead th {\n",
              "        text-align: right;\n",
              "    }\n",
              "</style>\n",
              "<table border=\"1\" class=\"dataframe\">\n",
              "  <thead>\n",
              "    <tr style=\"text-align: right;\">\n",
              "      <th></th>\n",
              "      <th>date</th>\n",
              "      <th>time</th>\n",
              "      <th>test</th>\n",
              "      <th>negative</th>\n",
              "      <th>confirmed</th>\n",
              "      <th>released</th>\n",
              "      <th>deceased</th>\n",
              "    </tr>\n",
              "  </thead>\n",
              "  <tbody>\n",
              "    <tr>\n",
              "      <th>0</th>\n",
              "      <td>2020-01-20</td>\n",
              "      <td>16</td>\n",
              "      <td>1</td>\n",
              "      <td>0</td>\n",
              "      <td>1</td>\n",
              "      <td>0</td>\n",
              "      <td>0</td>\n",
              "    </tr>\n",
              "    <tr>\n",
              "      <th>1</th>\n",
              "      <td>2020-01-21</td>\n",
              "      <td>16</td>\n",
              "      <td>1</td>\n",
              "      <td>0</td>\n",
              "      <td>1</td>\n",
              "      <td>0</td>\n",
              "      <td>0</td>\n",
              "    </tr>\n",
              "    <tr>\n",
              "      <th>2</th>\n",
              "      <td>2020-01-22</td>\n",
              "      <td>16</td>\n",
              "      <td>4</td>\n",
              "      <td>3</td>\n",
              "      <td>1</td>\n",
              "      <td>0</td>\n",
              "      <td>0</td>\n",
              "    </tr>\n",
              "    <tr>\n",
              "      <th>3</th>\n",
              "      <td>2020-01-23</td>\n",
              "      <td>16</td>\n",
              "      <td>22</td>\n",
              "      <td>21</td>\n",
              "      <td>1</td>\n",
              "      <td>0</td>\n",
              "      <td>0</td>\n",
              "    </tr>\n",
              "    <tr>\n",
              "      <th>4</th>\n",
              "      <td>2020-01-24</td>\n",
              "      <td>16</td>\n",
              "      <td>27</td>\n",
              "      <td>25</td>\n",
              "      <td>2</td>\n",
              "      <td>0</td>\n",
              "      <td>0</td>\n",
              "    </tr>\n",
              "  </tbody>\n",
              "</table>\n",
              "</div>"
            ],
            "text/plain": [
              "         date  time  test  negative  confirmed  released  deceased\n",
              "0  2020-01-20    16     1         0          1         0         0\n",
              "1  2020-01-21    16     1         0          1         0         0\n",
              "2  2020-01-22    16     4         3          1         0         0\n",
              "3  2020-01-23    16    22        21          1         0         0\n",
              "4  2020-01-24    16    27        25          2         0         0"
            ]
          },
          "metadata": {
            "tags": []
          },
          "execution_count": 12
        }
      ]
    },
    {
      "cell_type": "code",
      "metadata": {
        "id": "f8m11TwAIXKZ"
      },
      "source": [
        "time.drop(columns=['time'], inplace=True)"
      ],
      "execution_count": null,
      "outputs": []
    },
    {
      "cell_type": "code",
      "metadata": {
        "colab": {
          "base_uri": "https://localhost:8080/",
          "height": 359
        },
        "id": "xBF7xign6N7B",
        "outputId": "9f9a3dd5-e4f9-42e2-f681-03297374b53d"
      },
      "source": [
        "time_age.head(10)"
      ],
      "execution_count": null,
      "outputs": [
        {
          "output_type": "execute_result",
          "data": {
            "text/html": [
              "<div>\n",
              "<style scoped>\n",
              "    .dataframe tbody tr th:only-of-type {\n",
              "        vertical-align: middle;\n",
              "    }\n",
              "\n",
              "    .dataframe tbody tr th {\n",
              "        vertical-align: top;\n",
              "    }\n",
              "\n",
              "    .dataframe thead th {\n",
              "        text-align: right;\n",
              "    }\n",
              "</style>\n",
              "<table border=\"1\" class=\"dataframe\">\n",
              "  <thead>\n",
              "    <tr style=\"text-align: right;\">\n",
              "      <th></th>\n",
              "      <th>date</th>\n",
              "      <th>time</th>\n",
              "      <th>age</th>\n",
              "      <th>confirmed</th>\n",
              "      <th>deceased</th>\n",
              "    </tr>\n",
              "  </thead>\n",
              "  <tbody>\n",
              "    <tr>\n",
              "      <th>0</th>\n",
              "      <td>2020-03-02</td>\n",
              "      <td>0</td>\n",
              "      <td>0s</td>\n",
              "      <td>32</td>\n",
              "      <td>0</td>\n",
              "    </tr>\n",
              "    <tr>\n",
              "      <th>1</th>\n",
              "      <td>2020-03-02</td>\n",
              "      <td>0</td>\n",
              "      <td>10s</td>\n",
              "      <td>169</td>\n",
              "      <td>0</td>\n",
              "    </tr>\n",
              "    <tr>\n",
              "      <th>2</th>\n",
              "      <td>2020-03-02</td>\n",
              "      <td>0</td>\n",
              "      <td>20s</td>\n",
              "      <td>1235</td>\n",
              "      <td>0</td>\n",
              "    </tr>\n",
              "    <tr>\n",
              "      <th>3</th>\n",
              "      <td>2020-03-02</td>\n",
              "      <td>0</td>\n",
              "      <td>30s</td>\n",
              "      <td>506</td>\n",
              "      <td>1</td>\n",
              "    </tr>\n",
              "    <tr>\n",
              "      <th>4</th>\n",
              "      <td>2020-03-02</td>\n",
              "      <td>0</td>\n",
              "      <td>40s</td>\n",
              "      <td>633</td>\n",
              "      <td>1</td>\n",
              "    </tr>\n",
              "    <tr>\n",
              "      <th>5</th>\n",
              "      <td>2020-03-02</td>\n",
              "      <td>0</td>\n",
              "      <td>50s</td>\n",
              "      <td>834</td>\n",
              "      <td>5</td>\n",
              "    </tr>\n",
              "    <tr>\n",
              "      <th>6</th>\n",
              "      <td>2020-03-02</td>\n",
              "      <td>0</td>\n",
              "      <td>60s</td>\n",
              "      <td>530</td>\n",
              "      <td>6</td>\n",
              "    </tr>\n",
              "    <tr>\n",
              "      <th>7</th>\n",
              "      <td>2020-03-02</td>\n",
              "      <td>0</td>\n",
              "      <td>70s</td>\n",
              "      <td>192</td>\n",
              "      <td>6</td>\n",
              "    </tr>\n",
              "    <tr>\n",
              "      <th>8</th>\n",
              "      <td>2020-03-02</td>\n",
              "      <td>0</td>\n",
              "      <td>80s</td>\n",
              "      <td>81</td>\n",
              "      <td>3</td>\n",
              "    </tr>\n",
              "    <tr>\n",
              "      <th>9</th>\n",
              "      <td>2020-03-03</td>\n",
              "      <td>0</td>\n",
              "      <td>0s</td>\n",
              "      <td>34</td>\n",
              "      <td>0</td>\n",
              "    </tr>\n",
              "  </tbody>\n",
              "</table>\n",
              "</div>"
            ],
            "text/plain": [
              "         date  time  age  confirmed  deceased\n",
              "0  2020-03-02     0   0s         32         0\n",
              "1  2020-03-02     0  10s        169         0\n",
              "2  2020-03-02     0  20s       1235         0\n",
              "3  2020-03-02     0  30s        506         1\n",
              "4  2020-03-02     0  40s        633         1\n",
              "5  2020-03-02     0  50s        834         5\n",
              "6  2020-03-02     0  60s        530         6\n",
              "7  2020-03-02     0  70s        192         6\n",
              "8  2020-03-02     0  80s         81         3\n",
              "9  2020-03-03     0   0s         34         0"
            ]
          },
          "metadata": {
            "tags": []
          },
          "execution_count": 89
        }
      ]
    },
    {
      "cell_type": "code",
      "metadata": {
        "colab": {
          "base_uri": "https://localhost:8080/"
        },
        "id": "TSO1vniz6df1",
        "outputId": "36263beb-967c-4212-c8ea-d51ef122f10e"
      },
      "source": [
        "time_age.info()"
      ],
      "execution_count": null,
      "outputs": [
        {
          "output_type": "stream",
          "text": [
            "<class 'pandas.core.frame.DataFrame'>\n",
            "RangeIndex: 1089 entries, 0 to 1088\n",
            "Data columns (total 5 columns):\n",
            " #   Column     Non-Null Count  Dtype \n",
            "---  ------     --------------  ----- \n",
            " 0   date       1089 non-null   object\n",
            " 1   time       1089 non-null   int64 \n",
            " 2   age        1089 non-null   object\n",
            " 3   confirmed  1089 non-null   int64 \n",
            " 4   deceased   1089 non-null   int64 \n",
            "dtypes: int64(3), object(2)\n",
            "memory usage: 42.7+ KB\n"
          ],
          "name": "stdout"
        }
      ]
    },
    {
      "cell_type": "code",
      "metadata": {
        "colab": {
          "base_uri": "https://localhost:8080/"
        },
        "id": "z1XlfgY56RcK",
        "outputId": "76cdf8c6-9d57-4111-835b-25fda1a15f87"
      },
      "source": [
        "time_age.age.unique()"
      ],
      "execution_count": null,
      "outputs": [
        {
          "output_type": "execute_result",
          "data": {
            "text/plain": [
              "array(['0s', '10s', '20s', '30s', '40s', '50s', '60s', '70s', '80s'],\n",
              "      dtype=object)"
            ]
          },
          "metadata": {
            "tags": []
          },
          "execution_count": 91
        }
      ]
    },
    {
      "cell_type": "code",
      "metadata": {
        "id": "gQR5KRBa68m-"
      },
      "source": [
        "time_age['age'] = time_age['age'].str.replace('s', '')"
      ],
      "execution_count": null,
      "outputs": []
    },
    {
      "cell_type": "code",
      "metadata": {
        "id": "RNUZQI1J7bCG"
      },
      "source": [
        "time_age['age'] = time_age['age'].astype(int)"
      ],
      "execution_count": null,
      "outputs": []
    },
    {
      "cell_type": "code",
      "metadata": {
        "id": "nZVbOQzaAHIV"
      },
      "source": [
        "list_columns = time_age.age.unique()"
      ],
      "execution_count": null,
      "outputs": []
    },
    {
      "cell_type": "code",
      "metadata": {
        "colab": {
          "base_uri": "https://localhost:8080/",
          "height": 266
        },
        "id": "oo8j8nIVBLQ8",
        "outputId": "d60c1e27-8dff-46d5-c04a-6c1f00e7158b"
      },
      "source": [
        "# Voor deze age als object laten!\n",
        "# new_age = time_age.pivot(index='date', columns='age', values=['confirmed', 'deceased'])\n",
        "# new_age.head()"
      ],
      "execution_count": null,
      "outputs": [
        {
          "output_type": "execute_result",
          "data": {
            "text/html": [
              "<div>\n",
              "<style scoped>\n",
              "    .dataframe tbody tr th:only-of-type {\n",
              "        vertical-align: middle;\n",
              "    }\n",
              "\n",
              "    .dataframe tbody tr th {\n",
              "        vertical-align: top;\n",
              "    }\n",
              "\n",
              "    .dataframe thead tr th {\n",
              "        text-align: left;\n",
              "    }\n",
              "\n",
              "    .dataframe thead tr:last-of-type th {\n",
              "        text-align: right;\n",
              "    }\n",
              "</style>\n",
              "<table border=\"1\" class=\"dataframe\">\n",
              "  <thead>\n",
              "    <tr>\n",
              "      <th></th>\n",
              "      <th colspan=\"9\" halign=\"left\">confirmed</th>\n",
              "      <th colspan=\"9\" halign=\"left\">deceased</th>\n",
              "    </tr>\n",
              "    <tr>\n",
              "      <th>age</th>\n",
              "      <th>0s</th>\n",
              "      <th>10s</th>\n",
              "      <th>20s</th>\n",
              "      <th>30s</th>\n",
              "      <th>40s</th>\n",
              "      <th>50s</th>\n",
              "      <th>60s</th>\n",
              "      <th>70s</th>\n",
              "      <th>80s</th>\n",
              "      <th>0s</th>\n",
              "      <th>10s</th>\n",
              "      <th>20s</th>\n",
              "      <th>30s</th>\n",
              "      <th>40s</th>\n",
              "      <th>50s</th>\n",
              "      <th>60s</th>\n",
              "      <th>70s</th>\n",
              "      <th>80s</th>\n",
              "    </tr>\n",
              "    <tr>\n",
              "      <th>date</th>\n",
              "      <th></th>\n",
              "      <th></th>\n",
              "      <th></th>\n",
              "      <th></th>\n",
              "      <th></th>\n",
              "      <th></th>\n",
              "      <th></th>\n",
              "      <th></th>\n",
              "      <th></th>\n",
              "      <th></th>\n",
              "      <th></th>\n",
              "      <th></th>\n",
              "      <th></th>\n",
              "      <th></th>\n",
              "      <th></th>\n",
              "      <th></th>\n",
              "      <th></th>\n",
              "      <th></th>\n",
              "    </tr>\n",
              "  </thead>\n",
              "  <tbody>\n",
              "    <tr>\n",
              "      <th>2020-03-02</th>\n",
              "      <td>32</td>\n",
              "      <td>169</td>\n",
              "      <td>1235</td>\n",
              "      <td>506</td>\n",
              "      <td>633</td>\n",
              "      <td>834</td>\n",
              "      <td>530</td>\n",
              "      <td>192</td>\n",
              "      <td>81</td>\n",
              "      <td>0</td>\n",
              "      <td>0</td>\n",
              "      <td>0</td>\n",
              "      <td>1</td>\n",
              "      <td>1</td>\n",
              "      <td>5</td>\n",
              "      <td>6</td>\n",
              "      <td>6</td>\n",
              "      <td>3</td>\n",
              "    </tr>\n",
              "    <tr>\n",
              "      <th>2020-03-03</th>\n",
              "      <td>34</td>\n",
              "      <td>204</td>\n",
              "      <td>1417</td>\n",
              "      <td>578</td>\n",
              "      <td>713</td>\n",
              "      <td>952</td>\n",
              "      <td>597</td>\n",
              "      <td>224</td>\n",
              "      <td>93</td>\n",
              "      <td>0</td>\n",
              "      <td>0</td>\n",
              "      <td>0</td>\n",
              "      <td>1</td>\n",
              "      <td>1</td>\n",
              "      <td>5</td>\n",
              "      <td>7</td>\n",
              "      <td>9</td>\n",
              "      <td>5</td>\n",
              "    </tr>\n",
              "    <tr>\n",
              "      <th>2020-03-04</th>\n",
              "      <td>34</td>\n",
              "      <td>233</td>\n",
              "      <td>1575</td>\n",
              "      <td>631</td>\n",
              "      <td>790</td>\n",
              "      <td>1051</td>\n",
              "      <td>646</td>\n",
              "      <td>260</td>\n",
              "      <td>108</td>\n",
              "      <td>0</td>\n",
              "      <td>0</td>\n",
              "      <td>0</td>\n",
              "      <td>1</td>\n",
              "      <td>1</td>\n",
              "      <td>5</td>\n",
              "      <td>7</td>\n",
              "      <td>12</td>\n",
              "      <td>6</td>\n",
              "    </tr>\n",
              "    <tr>\n",
              "      <th>2020-03-05</th>\n",
              "      <td>38</td>\n",
              "      <td>257</td>\n",
              "      <td>1727</td>\n",
              "      <td>659</td>\n",
              "      <td>847</td>\n",
              "      <td>1127</td>\n",
              "      <td>699</td>\n",
              "      <td>288</td>\n",
              "      <td>124</td>\n",
              "      <td>0</td>\n",
              "      <td>0</td>\n",
              "      <td>0</td>\n",
              "      <td>1</td>\n",
              "      <td>1</td>\n",
              "      <td>5</td>\n",
              "      <td>8</td>\n",
              "      <td>13</td>\n",
              "      <td>7</td>\n",
              "    </tr>\n",
              "    <tr>\n",
              "      <th>2020-03-06</th>\n",
              "      <td>45</td>\n",
              "      <td>292</td>\n",
              "      <td>1877</td>\n",
              "      <td>693</td>\n",
              "      <td>889</td>\n",
              "      <td>1217</td>\n",
              "      <td>763</td>\n",
              "      <td>340</td>\n",
              "      <td>168</td>\n",
              "      <td>0</td>\n",
              "      <td>0</td>\n",
              "      <td>0</td>\n",
              "      <td>1</td>\n",
              "      <td>1</td>\n",
              "      <td>5</td>\n",
              "      <td>11</td>\n",
              "      <td>14</td>\n",
              "      <td>10</td>\n",
              "    </tr>\n",
              "  </tbody>\n",
              "</table>\n",
              "</div>"
            ],
            "text/plain": [
              "           confirmed                             ... deceased                    \n",
              "age               0s  10s   20s  30s  40s   50s  ...      30s 40s 50s 60s 70s 80s\n",
              "date                                             ...                             \n",
              "2020-03-02        32  169  1235  506  633   834  ...        1   1   5   6   6   3\n",
              "2020-03-03        34  204  1417  578  713   952  ...        1   1   5   7   9   5\n",
              "2020-03-04        34  233  1575  631  790  1051  ...        1   1   5   7  12   6\n",
              "2020-03-05        38  257  1727  659  847  1127  ...        1   1   5   8  13   7\n",
              "2020-03-06        45  292  1877  693  889  1217  ...        1   1   5  11  14  10\n",
              "\n",
              "[5 rows x 18 columns]"
            ]
          },
          "metadata": {
            "tags": []
          },
          "execution_count": 75
        }
      ]
    },
    {
      "cell_type": "code",
      "metadata": {
        "colab": {
          "base_uri": "https://localhost:8080/",
          "height": 340
        },
        "id": "M38mfHlgEU_Y",
        "outputId": "54816e43-14e8-49a8-86f5-10f12a79e13c"
      },
      "source": [
        "# new_age.columns = list(map(\"_\".join, new_age.columns))\n",
        "# new_age.head()"
      ],
      "execution_count": null,
      "outputs": [
        {
          "output_type": "execute_result",
          "data": {
            "text/html": [
              "<div>\n",
              "<style scoped>\n",
              "    .dataframe tbody tr th:only-of-type {\n",
              "        vertical-align: middle;\n",
              "    }\n",
              "\n",
              "    .dataframe tbody tr th {\n",
              "        vertical-align: top;\n",
              "    }\n",
              "\n",
              "    .dataframe thead th {\n",
              "        text-align: right;\n",
              "    }\n",
              "</style>\n",
              "<table border=\"1\" class=\"dataframe\">\n",
              "  <thead>\n",
              "    <tr style=\"text-align: right;\">\n",
              "      <th></th>\n",
              "      <th>confirmed_0s</th>\n",
              "      <th>confirmed_10s</th>\n",
              "      <th>confirmed_20s</th>\n",
              "      <th>confirmed_30s</th>\n",
              "      <th>confirmed_40s</th>\n",
              "      <th>confirmed_50s</th>\n",
              "      <th>confirmed_60s</th>\n",
              "      <th>confirmed_70s</th>\n",
              "      <th>confirmed_80s</th>\n",
              "      <th>deceased_0s</th>\n",
              "      <th>deceased_10s</th>\n",
              "      <th>deceased_20s</th>\n",
              "      <th>deceased_30s</th>\n",
              "      <th>deceased_40s</th>\n",
              "      <th>deceased_50s</th>\n",
              "      <th>deceased_60s</th>\n",
              "      <th>deceased_70s</th>\n",
              "      <th>deceased_80s</th>\n",
              "    </tr>\n",
              "    <tr>\n",
              "      <th>date</th>\n",
              "      <th></th>\n",
              "      <th></th>\n",
              "      <th></th>\n",
              "      <th></th>\n",
              "      <th></th>\n",
              "      <th></th>\n",
              "      <th></th>\n",
              "      <th></th>\n",
              "      <th></th>\n",
              "      <th></th>\n",
              "      <th></th>\n",
              "      <th></th>\n",
              "      <th></th>\n",
              "      <th></th>\n",
              "      <th></th>\n",
              "      <th></th>\n",
              "      <th></th>\n",
              "      <th></th>\n",
              "    </tr>\n",
              "  </thead>\n",
              "  <tbody>\n",
              "    <tr>\n",
              "      <th>2020-03-02</th>\n",
              "      <td>32</td>\n",
              "      <td>169</td>\n",
              "      <td>1235</td>\n",
              "      <td>506</td>\n",
              "      <td>633</td>\n",
              "      <td>834</td>\n",
              "      <td>530</td>\n",
              "      <td>192</td>\n",
              "      <td>81</td>\n",
              "      <td>0</td>\n",
              "      <td>0</td>\n",
              "      <td>0</td>\n",
              "      <td>1</td>\n",
              "      <td>1</td>\n",
              "      <td>5</td>\n",
              "      <td>6</td>\n",
              "      <td>6</td>\n",
              "      <td>3</td>\n",
              "    </tr>\n",
              "    <tr>\n",
              "      <th>2020-03-03</th>\n",
              "      <td>34</td>\n",
              "      <td>204</td>\n",
              "      <td>1417</td>\n",
              "      <td>578</td>\n",
              "      <td>713</td>\n",
              "      <td>952</td>\n",
              "      <td>597</td>\n",
              "      <td>224</td>\n",
              "      <td>93</td>\n",
              "      <td>0</td>\n",
              "      <td>0</td>\n",
              "      <td>0</td>\n",
              "      <td>1</td>\n",
              "      <td>1</td>\n",
              "      <td>5</td>\n",
              "      <td>7</td>\n",
              "      <td>9</td>\n",
              "      <td>5</td>\n",
              "    </tr>\n",
              "    <tr>\n",
              "      <th>2020-03-04</th>\n",
              "      <td>34</td>\n",
              "      <td>233</td>\n",
              "      <td>1575</td>\n",
              "      <td>631</td>\n",
              "      <td>790</td>\n",
              "      <td>1051</td>\n",
              "      <td>646</td>\n",
              "      <td>260</td>\n",
              "      <td>108</td>\n",
              "      <td>0</td>\n",
              "      <td>0</td>\n",
              "      <td>0</td>\n",
              "      <td>1</td>\n",
              "      <td>1</td>\n",
              "      <td>5</td>\n",
              "      <td>7</td>\n",
              "      <td>12</td>\n",
              "      <td>6</td>\n",
              "    </tr>\n",
              "    <tr>\n",
              "      <th>2020-03-05</th>\n",
              "      <td>38</td>\n",
              "      <td>257</td>\n",
              "      <td>1727</td>\n",
              "      <td>659</td>\n",
              "      <td>847</td>\n",
              "      <td>1127</td>\n",
              "      <td>699</td>\n",
              "      <td>288</td>\n",
              "      <td>124</td>\n",
              "      <td>0</td>\n",
              "      <td>0</td>\n",
              "      <td>0</td>\n",
              "      <td>1</td>\n",
              "      <td>1</td>\n",
              "      <td>5</td>\n",
              "      <td>8</td>\n",
              "      <td>13</td>\n",
              "      <td>7</td>\n",
              "    </tr>\n",
              "    <tr>\n",
              "      <th>2020-03-06</th>\n",
              "      <td>45</td>\n",
              "      <td>292</td>\n",
              "      <td>1877</td>\n",
              "      <td>693</td>\n",
              "      <td>889</td>\n",
              "      <td>1217</td>\n",
              "      <td>763</td>\n",
              "      <td>340</td>\n",
              "      <td>168</td>\n",
              "      <td>0</td>\n",
              "      <td>0</td>\n",
              "      <td>0</td>\n",
              "      <td>1</td>\n",
              "      <td>1</td>\n",
              "      <td>5</td>\n",
              "      <td>11</td>\n",
              "      <td>14</td>\n",
              "      <td>10</td>\n",
              "    </tr>\n",
              "  </tbody>\n",
              "</table>\n",
              "</div>"
            ],
            "text/plain": [
              "            confirmed_0s  confirmed_10s  ...  deceased_70s  deceased_80s\n",
              "date                                     ...                            \n",
              "2020-03-02            32            169  ...             6             3\n",
              "2020-03-03            34            204  ...             9             5\n",
              "2020-03-04            34            233  ...            12             6\n",
              "2020-03-05            38            257  ...            13             7\n",
              "2020-03-06            45            292  ...            14            10\n",
              "\n",
              "[5 rows x 18 columns]"
            ]
          },
          "metadata": {
            "tags": []
          },
          "execution_count": 76
        }
      ]
    },
    {
      "cell_type": "code",
      "metadata": {
        "id": "PkfxwxRD8ABX"
      },
      "source": [
        "# time_age.set_index('date', inplace=True)"
      ],
      "execution_count": null,
      "outputs": []
    },
    {
      "cell_type": "code",
      "metadata": {
        "colab": {
          "base_uri": "https://localhost:8080/",
          "height": 640
        },
        "id": "6FZxy3ibF517",
        "outputId": "61abd66b-ec54-4d7f-9822-de8128fb08c1"
      },
      "source": [
        "# new_age.join(search_trend, on='date')"
      ],
      "execution_count": null,
      "outputs": [
        {
          "output_type": "execute_result",
          "data": {
            "text/html": [
              "<div>\n",
              "<style scoped>\n",
              "    .dataframe tbody tr th:only-of-type {\n",
              "        vertical-align: middle;\n",
              "    }\n",
              "\n",
              "    .dataframe tbody tr th {\n",
              "        vertical-align: top;\n",
              "    }\n",
              "\n",
              "    .dataframe thead th {\n",
              "        text-align: right;\n",
              "    }\n",
              "</style>\n",
              "<table border=\"1\" class=\"dataframe\">\n",
              "  <thead>\n",
              "    <tr style=\"text-align: right;\">\n",
              "      <th></th>\n",
              "      <th>confirmed_0s</th>\n",
              "      <th>confirmed_10s</th>\n",
              "      <th>confirmed_20s</th>\n",
              "      <th>confirmed_30s</th>\n",
              "      <th>confirmed_40s</th>\n",
              "      <th>confirmed_50s</th>\n",
              "      <th>confirmed_60s</th>\n",
              "      <th>confirmed_70s</th>\n",
              "      <th>confirmed_80s</th>\n",
              "      <th>deceased_0s</th>\n",
              "      <th>deceased_10s</th>\n",
              "      <th>deceased_20s</th>\n",
              "      <th>deceased_30s</th>\n",
              "      <th>deceased_40s</th>\n",
              "      <th>deceased_50s</th>\n",
              "      <th>deceased_60s</th>\n",
              "      <th>deceased_70s</th>\n",
              "      <th>deceased_80s</th>\n",
              "      <th>cold</th>\n",
              "      <th>flu</th>\n",
              "      <th>pneumonia</th>\n",
              "      <th>coronavirus</th>\n",
              "    </tr>\n",
              "    <tr>\n",
              "      <th>date</th>\n",
              "      <th></th>\n",
              "      <th></th>\n",
              "      <th></th>\n",
              "      <th></th>\n",
              "      <th></th>\n",
              "      <th></th>\n",
              "      <th></th>\n",
              "      <th></th>\n",
              "      <th></th>\n",
              "      <th></th>\n",
              "      <th></th>\n",
              "      <th></th>\n",
              "      <th></th>\n",
              "      <th></th>\n",
              "      <th></th>\n",
              "      <th></th>\n",
              "      <th></th>\n",
              "      <th></th>\n",
              "      <th></th>\n",
              "      <th></th>\n",
              "      <th></th>\n",
              "      <th></th>\n",
              "    </tr>\n",
              "  </thead>\n",
              "  <tbody>\n",
              "    <tr>\n",
              "      <th>2020-03-02</th>\n",
              "      <td>32</td>\n",
              "      <td>169</td>\n",
              "      <td>1235</td>\n",
              "      <td>506</td>\n",
              "      <td>633</td>\n",
              "      <td>834</td>\n",
              "      <td>530</td>\n",
              "      <td>192</td>\n",
              "      <td>81</td>\n",
              "      <td>0</td>\n",
              "      <td>0</td>\n",
              "      <td>0</td>\n",
              "      <td>1</td>\n",
              "      <td>1</td>\n",
              "      <td>5</td>\n",
              "      <td>6</td>\n",
              "      <td>6</td>\n",
              "      <td>3</td>\n",
              "      <td>0.88160</td>\n",
              "      <td>0.13345</td>\n",
              "      <td>0.44080</td>\n",
              "      <td>60.86853</td>\n",
              "    </tr>\n",
              "    <tr>\n",
              "      <th>2020-03-03</th>\n",
              "      <td>34</td>\n",
              "      <td>204</td>\n",
              "      <td>1417</td>\n",
              "      <td>578</td>\n",
              "      <td>713</td>\n",
              "      <td>952</td>\n",
              "      <td>597</td>\n",
              "      <td>224</td>\n",
              "      <td>93</td>\n",
              "      <td>0</td>\n",
              "      <td>0</td>\n",
              "      <td>0</td>\n",
              "      <td>1</td>\n",
              "      <td>1</td>\n",
              "      <td>5</td>\n",
              "      <td>7</td>\n",
              "      <td>9</td>\n",
              "      <td>5</td>\n",
              "      <td>0.67934</td>\n",
              "      <td>0.11917</td>\n",
              "      <td>0.39853</td>\n",
              "      <td>47.17367</td>\n",
              "    </tr>\n",
              "    <tr>\n",
              "      <th>2020-03-04</th>\n",
              "      <td>34</td>\n",
              "      <td>233</td>\n",
              "      <td>1575</td>\n",
              "      <td>631</td>\n",
              "      <td>790</td>\n",
              "      <td>1051</td>\n",
              "      <td>646</td>\n",
              "      <td>260</td>\n",
              "      <td>108</td>\n",
              "      <td>0</td>\n",
              "      <td>0</td>\n",
              "      <td>0</td>\n",
              "      <td>1</td>\n",
              "      <td>1</td>\n",
              "      <td>5</td>\n",
              "      <td>7</td>\n",
              "      <td>12</td>\n",
              "      <td>6</td>\n",
              "      <td>0.82579</td>\n",
              "      <td>0.10790</td>\n",
              "      <td>0.35671</td>\n",
              "      <td>39.84053</td>\n",
              "    </tr>\n",
              "    <tr>\n",
              "      <th>2020-03-05</th>\n",
              "      <td>38</td>\n",
              "      <td>257</td>\n",
              "      <td>1727</td>\n",
              "      <td>659</td>\n",
              "      <td>847</td>\n",
              "      <td>1127</td>\n",
              "      <td>699</td>\n",
              "      <td>288</td>\n",
              "      <td>124</td>\n",
              "      <td>0</td>\n",
              "      <td>0</td>\n",
              "      <td>0</td>\n",
              "      <td>1</td>\n",
              "      <td>1</td>\n",
              "      <td>5</td>\n",
              "      <td>8</td>\n",
              "      <td>13</td>\n",
              "      <td>7</td>\n",
              "      <td>0.64916</td>\n",
              "      <td>0.09745</td>\n",
              "      <td>0.31726</td>\n",
              "      <td>33.24218</td>\n",
              "    </tr>\n",
              "    <tr>\n",
              "      <th>2020-03-06</th>\n",
              "      <td>45</td>\n",
              "      <td>292</td>\n",
              "      <td>1877</td>\n",
              "      <td>693</td>\n",
              "      <td>889</td>\n",
              "      <td>1217</td>\n",
              "      <td>763</td>\n",
              "      <td>340</td>\n",
              "      <td>168</td>\n",
              "      <td>0</td>\n",
              "      <td>0</td>\n",
              "      <td>0</td>\n",
              "      <td>1</td>\n",
              "      <td>1</td>\n",
              "      <td>5</td>\n",
              "      <td>11</td>\n",
              "      <td>14</td>\n",
              "      <td>10</td>\n",
              "      <td>0.58625</td>\n",
              "      <td>0.09163</td>\n",
              "      <td>0.28071</td>\n",
              "      <td>29.61647</td>\n",
              "    </tr>\n",
              "    <tr>\n",
              "      <th>...</th>\n",
              "      <td>...</td>\n",
              "      <td>...</td>\n",
              "      <td>...</td>\n",
              "      <td>...</td>\n",
              "      <td>...</td>\n",
              "      <td>...</td>\n",
              "      <td>...</td>\n",
              "      <td>...</td>\n",
              "      <td>...</td>\n",
              "      <td>...</td>\n",
              "      <td>...</td>\n",
              "      <td>...</td>\n",
              "      <td>...</td>\n",
              "      <td>...</td>\n",
              "      <td>...</td>\n",
              "      <td>...</td>\n",
              "      <td>...</td>\n",
              "      <td>...</td>\n",
              "      <td>...</td>\n",
              "      <td>...</td>\n",
              "      <td>...</td>\n",
              "      <td>...</td>\n",
              "    </tr>\n",
              "    <tr>\n",
              "      <th>2020-06-26</th>\n",
              "      <td>184</td>\n",
              "      <td>698</td>\n",
              "      <td>3317</td>\n",
              "      <td>1463</td>\n",
              "      <td>1651</td>\n",
              "      <td>2264</td>\n",
              "      <td>1633</td>\n",
              "      <td>839</td>\n",
              "      <td>553</td>\n",
              "      <td>0</td>\n",
              "      <td>0</td>\n",
              "      <td>0</td>\n",
              "      <td>2</td>\n",
              "      <td>3</td>\n",
              "      <td>15</td>\n",
              "      <td>41</td>\n",
              "      <td>82</td>\n",
              "      <td>139</td>\n",
              "      <td>0.11381</td>\n",
              "      <td>0.03027</td>\n",
              "      <td>0.11317</td>\n",
              "      <td>2.15139</td>\n",
              "    </tr>\n",
              "    <tr>\n",
              "      <th>2020-06-27</th>\n",
              "      <td>185</td>\n",
              "      <td>700</td>\n",
              "      <td>3331</td>\n",
              "      <td>1473</td>\n",
              "      <td>1657</td>\n",
              "      <td>2269</td>\n",
              "      <td>1640</td>\n",
              "      <td>843</td>\n",
              "      <td>555</td>\n",
              "      <td>0</td>\n",
              "      <td>0</td>\n",
              "      <td>0</td>\n",
              "      <td>2</td>\n",
              "      <td>3</td>\n",
              "      <td>15</td>\n",
              "      <td>41</td>\n",
              "      <td>82</td>\n",
              "      <td>139</td>\n",
              "      <td>0.10554</td>\n",
              "      <td>0.02136</td>\n",
              "      <td>0.08354</td>\n",
              "      <td>1.96848</td>\n",
              "    </tr>\n",
              "    <tr>\n",
              "      <th>2020-06-28</th>\n",
              "      <td>187</td>\n",
              "      <td>703</td>\n",
              "      <td>3343</td>\n",
              "      <td>1485</td>\n",
              "      <td>1667</td>\n",
              "      <td>2275</td>\n",
              "      <td>1653</td>\n",
              "      <td>846</td>\n",
              "      <td>556</td>\n",
              "      <td>0</td>\n",
              "      <td>0</td>\n",
              "      <td>0</td>\n",
              "      <td>2</td>\n",
              "      <td>3</td>\n",
              "      <td>15</td>\n",
              "      <td>41</td>\n",
              "      <td>82</td>\n",
              "      <td>139</td>\n",
              "      <td>0.12563</td>\n",
              "      <td>0.02872</td>\n",
              "      <td>0.08072</td>\n",
              "      <td>2.19720</td>\n",
              "    </tr>\n",
              "    <tr>\n",
              "      <th>2020-06-29</th>\n",
              "      <td>190</td>\n",
              "      <td>704</td>\n",
              "      <td>3352</td>\n",
              "      <td>1490</td>\n",
              "      <td>1673</td>\n",
              "      <td>2280</td>\n",
              "      <td>1665</td>\n",
              "      <td>847</td>\n",
              "      <td>556</td>\n",
              "      <td>0</td>\n",
              "      <td>0</td>\n",
              "      <td>0</td>\n",
              "      <td>2</td>\n",
              "      <td>3</td>\n",
              "      <td>15</td>\n",
              "      <td>41</td>\n",
              "      <td>82</td>\n",
              "      <td>139</td>\n",
              "      <td>0.14263</td>\n",
              "      <td>0.04308</td>\n",
              "      <td>0.11254</td>\n",
              "      <td>2.41501</td>\n",
              "    </tr>\n",
              "    <tr>\n",
              "      <th>2020-06-30</th>\n",
              "      <td>193</td>\n",
              "      <td>708</td>\n",
              "      <td>3362</td>\n",
              "      <td>1496</td>\n",
              "      <td>1681</td>\n",
              "      <td>2286</td>\n",
              "      <td>1668</td>\n",
              "      <td>850</td>\n",
              "      <td>556</td>\n",
              "      <td>0</td>\n",
              "      <td>0</td>\n",
              "      <td>0</td>\n",
              "      <td>2</td>\n",
              "      <td>3</td>\n",
              "      <td>15</td>\n",
              "      <td>41</td>\n",
              "      <td>82</td>\n",
              "      <td>139</td>\n",
              "      <td>NaN</td>\n",
              "      <td>NaN</td>\n",
              "      <td>NaN</td>\n",
              "      <td>NaN</td>\n",
              "    </tr>\n",
              "  </tbody>\n",
              "</table>\n",
              "<p>121 rows × 22 columns</p>\n",
              "</div>"
            ],
            "text/plain": [
              "            confirmed_0s  confirmed_10s  ...  pneumonia  coronavirus\n",
              "date                                     ...                        \n",
              "2020-03-02            32            169  ...    0.44080     60.86853\n",
              "2020-03-03            34            204  ...    0.39853     47.17367\n",
              "2020-03-04            34            233  ...    0.35671     39.84053\n",
              "2020-03-05            38            257  ...    0.31726     33.24218\n",
              "2020-03-06            45            292  ...    0.28071     29.61647\n",
              "...                  ...            ...  ...        ...          ...\n",
              "2020-06-26           184            698  ...    0.11317      2.15139\n",
              "2020-06-27           185            700  ...    0.08354      1.96848\n",
              "2020-06-28           187            703  ...    0.08072      2.19720\n",
              "2020-06-29           190            704  ...    0.11254      2.41501\n",
              "2020-06-30           193            708  ...        NaN          NaN\n",
              "\n",
              "[121 rows x 22 columns]"
            ]
          },
          "metadata": {
            "tags": []
          },
          "execution_count": 87
        }
      ]
    },
    {
      "cell_type": "code",
      "metadata": {
        "colab": {
          "base_uri": "https://localhost:8080/",
          "height": 204
        },
        "id": "-mrV8YmO6K5F",
        "outputId": "c449023a-e64d-46a0-83ce-3b45c1321deb"
      },
      "source": [
        "time_gender.head()"
      ],
      "execution_count": null,
      "outputs": [
        {
          "output_type": "execute_result",
          "data": {
            "text/html": [
              "<div>\n",
              "<style scoped>\n",
              "    .dataframe tbody tr th:only-of-type {\n",
              "        vertical-align: middle;\n",
              "    }\n",
              "\n",
              "    .dataframe tbody tr th {\n",
              "        vertical-align: top;\n",
              "    }\n",
              "\n",
              "    .dataframe thead th {\n",
              "        text-align: right;\n",
              "    }\n",
              "</style>\n",
              "<table border=\"1\" class=\"dataframe\">\n",
              "  <thead>\n",
              "    <tr style=\"text-align: right;\">\n",
              "      <th></th>\n",
              "      <th>date</th>\n",
              "      <th>time</th>\n",
              "      <th>sex</th>\n",
              "      <th>confirmed</th>\n",
              "      <th>deceased</th>\n",
              "    </tr>\n",
              "  </thead>\n",
              "  <tbody>\n",
              "    <tr>\n",
              "      <th>0</th>\n",
              "      <td>2020-03-02</td>\n",
              "      <td>0</td>\n",
              "      <td>male</td>\n",
              "      <td>1591</td>\n",
              "      <td>13</td>\n",
              "    </tr>\n",
              "    <tr>\n",
              "      <th>1</th>\n",
              "      <td>2020-03-02</td>\n",
              "      <td>0</td>\n",
              "      <td>female</td>\n",
              "      <td>2621</td>\n",
              "      <td>9</td>\n",
              "    </tr>\n",
              "    <tr>\n",
              "      <th>2</th>\n",
              "      <td>2020-03-03</td>\n",
              "      <td>0</td>\n",
              "      <td>male</td>\n",
              "      <td>1810</td>\n",
              "      <td>16</td>\n",
              "    </tr>\n",
              "    <tr>\n",
              "      <th>3</th>\n",
              "      <td>2020-03-03</td>\n",
              "      <td>0</td>\n",
              "      <td>female</td>\n",
              "      <td>3002</td>\n",
              "      <td>12</td>\n",
              "    </tr>\n",
              "    <tr>\n",
              "      <th>4</th>\n",
              "      <td>2020-03-04</td>\n",
              "      <td>0</td>\n",
              "      <td>male</td>\n",
              "      <td>1996</td>\n",
              "      <td>20</td>\n",
              "    </tr>\n",
              "  </tbody>\n",
              "</table>\n",
              "</div>"
            ],
            "text/plain": [
              "         date  time     sex  confirmed  deceased\n",
              "0  2020-03-02     0    male       1591        13\n",
              "1  2020-03-02     0  female       2621         9\n",
              "2  2020-03-03     0    male       1810        16\n",
              "3  2020-03-03     0  female       3002        12\n",
              "4  2020-03-04     0    male       1996        20"
            ]
          },
          "metadata": {
            "tags": []
          },
          "execution_count": 29
        }
      ]
    },
    {
      "cell_type": "code",
      "metadata": {
        "id": "Dj5_ybNpIpQL",
        "colab": {
          "base_uri": "https://localhost:8080/",
          "height": 297
        },
        "outputId": "8d52939d-f860-4771-ca38-9cb377a4af4c"
      },
      "source": [
        "time.describe().round(2)"
      ],
      "execution_count": null,
      "outputs": [
        {
          "output_type": "execute_result",
          "data": {
            "text/html": [
              "<div>\n",
              "<style scoped>\n",
              "    .dataframe tbody tr th:only-of-type {\n",
              "        vertical-align: middle;\n",
              "    }\n",
              "\n",
              "    .dataframe tbody tr th {\n",
              "        vertical-align: top;\n",
              "    }\n",
              "\n",
              "    .dataframe thead th {\n",
              "        text-align: right;\n",
              "    }\n",
              "</style>\n",
              "<table border=\"1\" class=\"dataframe\">\n",
              "  <thead>\n",
              "    <tr style=\"text-align: right;\">\n",
              "      <th></th>\n",
              "      <th>test</th>\n",
              "      <th>negative</th>\n",
              "      <th>confirmed</th>\n",
              "      <th>released</th>\n",
              "      <th>deceased</th>\n",
              "    </tr>\n",
              "  </thead>\n",
              "  <tbody>\n",
              "    <tr>\n",
              "      <th>count</th>\n",
              "      <td>163.00</td>\n",
              "      <td>163.00</td>\n",
              "      <td>163.00</td>\n",
              "      <td>163.00</td>\n",
              "      <td>163.00</td>\n",
              "    </tr>\n",
              "    <tr>\n",
              "      <th>mean</th>\n",
              "      <td>497779.72</td>\n",
              "      <td>475483.90</td>\n",
              "      <td>7834.87</td>\n",
              "      <td>5604.31</td>\n",
              "      <td>157.10</td>\n",
              "    </tr>\n",
              "    <tr>\n",
              "      <th>std</th>\n",
              "      <td>395883.02</td>\n",
              "      <td>386561.12</td>\n",
              "      <td>4666.04</td>\n",
              "      <td>4544.32</td>\n",
              "      <td>114.01</td>\n",
              "    </tr>\n",
              "    <tr>\n",
              "      <th>min</th>\n",
              "      <td>1.00</td>\n",
              "      <td>0.00</td>\n",
              "      <td>1.00</td>\n",
              "      <td>0.00</td>\n",
              "      <td>0.00</td>\n",
              "    </tr>\n",
              "    <tr>\n",
              "      <th>25%</th>\n",
              "      <td>96488.00</td>\n",
              "      <td>58774.00</td>\n",
              "      <td>3443.00</td>\n",
              "      <td>29.00</td>\n",
              "      <td>17.50</td>\n",
              "    </tr>\n",
              "    <tr>\n",
              "      <th>50%</th>\n",
              "      <td>503051.00</td>\n",
              "      <td>477303.00</td>\n",
              "      <td>10450.00</td>\n",
              "      <td>7117.00</td>\n",
              "      <td>208.00</td>\n",
              "    </tr>\n",
              "    <tr>\n",
              "      <th>75%</th>\n",
              "      <td>782558.50</td>\n",
              "      <td>754222.50</td>\n",
              "      <td>11116.00</td>\n",
              "      <td>10100.50</td>\n",
              "      <td>263.50</td>\n",
              "    </tr>\n",
              "    <tr>\n",
              "      <th>max</th>\n",
              "      <td>1273766.00</td>\n",
              "      <td>1240157.00</td>\n",
              "      <td>12800.00</td>\n",
              "      <td>11537.00</td>\n",
              "      <td>282.00</td>\n",
              "    </tr>\n",
              "  </tbody>\n",
              "</table>\n",
              "</div>"
            ],
            "text/plain": [
              "             test    negative  confirmed  released  deceased\n",
              "count      163.00      163.00     163.00    163.00    163.00\n",
              "mean    497779.72   475483.90    7834.87   5604.31    157.10\n",
              "std     395883.02   386561.12    4666.04   4544.32    114.01\n",
              "min          1.00        0.00       1.00      0.00      0.00\n",
              "25%      96488.00    58774.00    3443.00     29.00     17.50\n",
              "50%     503051.00   477303.00   10450.00   7117.00    208.00\n",
              "75%     782558.50   754222.50   11116.00  10100.50    263.50\n",
              "max    1273766.00  1240157.00   12800.00  11537.00    282.00"
            ]
          },
          "metadata": {
            "tags": []
          },
          "execution_count": 14
        }
      ]
    },
    {
      "cell_type": "code",
      "metadata": {
        "id": "BHE5smIuAUpU",
        "colab": {
          "base_uri": "https://localhost:8080/"
        },
        "outputId": "ef53b6da-5419-440e-9e5a-9adfda913696"
      },
      "source": [
        "time.info()"
      ],
      "execution_count": null,
      "outputs": [
        {
          "output_type": "stream",
          "text": [
            "<class 'pandas.core.frame.DataFrame'>\n",
            "RangeIndex: 163 entries, 0 to 162\n",
            "Data columns (total 6 columns):\n",
            " #   Column     Non-Null Count  Dtype \n",
            "---  ------     --------------  ----- \n",
            " 0   date       163 non-null    object\n",
            " 1   test       163 non-null    int64 \n",
            " 2   negative   163 non-null    int64 \n",
            " 3   confirmed  163 non-null    int64 \n",
            " 4   released   163 non-null    int64 \n",
            " 5   deceased   163 non-null    int64 \n",
            "dtypes: int64(5), object(1)\n",
            "memory usage: 7.8+ KB\n"
          ],
          "name": "stdout"
        }
      ]
    },
    {
      "cell_type": "code",
      "metadata": {
        "id": "xk5hQ3kFARsW"
      },
      "source": [
        "time.set_index('date', inplace=True)"
      ],
      "execution_count": null,
      "outputs": []
    },
    {
      "cell_type": "code",
      "metadata": {
        "id": "bU-w4dunHdEr",
        "colab": {
          "base_uri": "https://localhost:8080/",
          "height": 307
        },
        "outputId": "e6e4c45a-9fe6-44e8-8381-322277b2f17d"
      },
      "source": [
        "time.sort_index().cumsum(axis = 0, skipna=True).plot()"
      ],
      "execution_count": null,
      "outputs": [
        {
          "output_type": "execute_result",
          "data": {
            "text/plain": [
              "<matplotlib.axes._subplots.AxesSubplot at 0x7f0957a3dd30>"
            ]
          },
          "metadata": {
            "tags": []
          },
          "execution_count": 17
        },
        {
          "output_type": "display_data",
          "data": {
            "image/png": "[encoded data removed]",
            "text/plain": [
              "<Figure size 432x288 with 1 Axes>"
            ]
          },
          "metadata": {
            "tags": [],
            "needs_background": "light"
          }
        }
      ]
    },
    {
      "cell_type": "code",
      "metadata": {
        "id": "mSEjUBAH93dm"
      },
      "source": [
        "trends_and_time = pd.concat([search_trend, time[['confirmed', 'deceased']]], axis = 1, join='inner')"
      ],
      "execution_count": null,
      "outputs": []
    },
    {
      "cell_type": "code",
      "metadata": {
        "id": "GWhWjGllHAP6"
      },
      "source": [
        ""
      ],
      "execution_count": null,
      "outputs": []
    },
    {
      "cell_type": "code",
      "metadata": {
        "id": "HpmNULYKH4JC"
      },
      "source": [
        "# Set as day for the plot\n",
        "time = time.asfreq('D', method='pad')"
      ],
      "execution_count": null,
      "outputs": []
    },
    {
      "cell_type": "code",
      "metadata": {
        "id": "xAxAWb4sB2Vs"
      },
      "source": [
        "# Plot search_trend\n",
        "plt.figure(figsize=(22,10))\n",
        "plt.plot(time)\n",
        "\n",
        "# Set axis settings and labels\n",
        "plt.ylabel('volume');\n",
        "plt.xlabel('Date');\n",
        "plt.title('Relative keyword searches in NAVER South-Korea')\n",
        "plt.xlim((pd.to_datetime(\"2020-01-01\"),pd.to_datetime(\"2020-07-01\")))\n",
        "\n",
        "\n",
        "# show a legend on the plot\n",
        "plt.legend(labels=['test', 'negative', 'confirmed', 'released', 'deceased'])"
      ],
      "execution_count": null,
      "outputs": []
    },
    {
      "cell_type": "markdown",
      "metadata": {
        "id": "ONrrNxpQ9s5r"
      },
      "source": [
        "Wat wil ik doen?\n",
        "\n",
        "predicten van deaths/cases of iets per search term?\n",
        "\n",
        "cluster per wat?\n",
        "\n"
      ]
    },
    {
      "cell_type": "code",
      "metadata": {
        "colab": {
          "base_uri": "https://localhost:8080/",
          "height": 204
        },
        "id": "SQtAXK-dpRac",
        "outputId": "c203e5cf-ebd3-44f1-a18b-3a8f962fd6c7"
      },
      "source": [
        "case.head()"
      ],
      "execution_count": null,
      "outputs": [
        {
          "output_type": "execute_result",
          "data": {
            "text/html": [
              "<div>\n",
              "<style scoped>\n",
              "    .dataframe tbody tr th:only-of-type {\n",
              "        vertical-align: middle;\n",
              "    }\n",
              "\n",
              "    .dataframe tbody tr th {\n",
              "        vertical-align: top;\n",
              "    }\n",
              "\n",
              "    .dataframe thead th {\n",
              "        text-align: right;\n",
              "    }\n",
              "</style>\n",
              "<table border=\"1\" class=\"dataframe\">\n",
              "  <thead>\n",
              "    <tr style=\"text-align: right;\">\n",
              "      <th></th>\n",
              "      <th>case_id</th>\n",
              "      <th>province</th>\n",
              "      <th>city</th>\n",
              "      <th>group</th>\n",
              "      <th>infection_case</th>\n",
              "      <th>confirmed</th>\n",
              "      <th>latitude</th>\n",
              "      <th>longitude</th>\n",
              "    </tr>\n",
              "  </thead>\n",
              "  <tbody>\n",
              "    <tr>\n",
              "      <th>0</th>\n",
              "      <td>1000001</td>\n",
              "      <td>Seoul</td>\n",
              "      <td>Yongsan-gu</td>\n",
              "      <td>True</td>\n",
              "      <td>Itaewon Clubs</td>\n",
              "      <td>139</td>\n",
              "      <td>37.538621</td>\n",
              "      <td>126.992652</td>\n",
              "    </tr>\n",
              "    <tr>\n",
              "      <th>1</th>\n",
              "      <td>1000002</td>\n",
              "      <td>Seoul</td>\n",
              "      <td>Gwanak-gu</td>\n",
              "      <td>True</td>\n",
              "      <td>Richway</td>\n",
              "      <td>119</td>\n",
              "      <td>37.48208</td>\n",
              "      <td>126.901384</td>\n",
              "    </tr>\n",
              "    <tr>\n",
              "      <th>2</th>\n",
              "      <td>1000003</td>\n",
              "      <td>Seoul</td>\n",
              "      <td>Guro-gu</td>\n",
              "      <td>True</td>\n",
              "      <td>Guro-gu Call Center</td>\n",
              "      <td>95</td>\n",
              "      <td>37.508163</td>\n",
              "      <td>126.884387</td>\n",
              "    </tr>\n",
              "    <tr>\n",
              "      <th>3</th>\n",
              "      <td>1000004</td>\n",
              "      <td>Seoul</td>\n",
              "      <td>Yangcheon-gu</td>\n",
              "      <td>True</td>\n",
              "      <td>Yangcheon Table Tennis Club</td>\n",
              "      <td>43</td>\n",
              "      <td>37.546061</td>\n",
              "      <td>126.874209</td>\n",
              "    </tr>\n",
              "    <tr>\n",
              "      <th>4</th>\n",
              "      <td>1000005</td>\n",
              "      <td>Seoul</td>\n",
              "      <td>Dobong-gu</td>\n",
              "      <td>True</td>\n",
              "      <td>Day Care Center</td>\n",
              "      <td>43</td>\n",
              "      <td>37.679422</td>\n",
              "      <td>127.044374</td>\n",
              "    </tr>\n",
              "  </tbody>\n",
              "</table>\n",
              "</div>"
            ],
            "text/plain": [
              "    case_id province          city  ...  confirmed   latitude   longitude\n",
              "0   1000001    Seoul    Yongsan-gu  ...        139  37.538621  126.992652\n",
              "1   1000002    Seoul     Gwanak-gu  ...        119   37.48208  126.901384\n",
              "2   1000003    Seoul       Guro-gu  ...         95  37.508163  126.884387\n",
              "3   1000004    Seoul  Yangcheon-gu  ...         43  37.546061  126.874209\n",
              "4   1000005    Seoul     Dobong-gu  ...         43  37.679422  127.044374\n",
              "\n",
              "[5 rows x 8 columns]"
            ]
          },
          "metadata": {
            "tags": []
          },
          "execution_count": 23
        }
      ]
    },
    {
      "cell_type": "code",
      "metadata": {
        "colab": {
          "base_uri": "https://localhost:8080/"
        },
        "id": "VTH4M2QtpdiY",
        "outputId": "d8e031f9-e3b7-474f-efbf-c523ec61db42"
      },
      "source": [
        "case.shape"
      ],
      "execution_count": null,
      "outputs": [
        {
          "output_type": "execute_result",
          "data": {
            "text/plain": [
              "(174, 8)"
            ]
          },
          "metadata": {
            "tags": []
          },
          "execution_count": 24
        }
      ]
    },
    {
      "cell_type": "code",
      "metadata": {
        "colab": {
          "base_uri": "https://localhost:8080/",
          "height": 253
        },
        "id": "iu3p6ybXphvo",
        "outputId": "d669087f-0107-4669-dd8f-c193d6520d2d"
      },
      "source": [
        "deaths_df.head()"
      ],
      "execution_count": null,
      "outputs": [
        {
          "output_type": "execute_result",
          "data": {
            "text/html": [
              "<div>\n",
              "<style scoped>\n",
              "    .dataframe tbody tr th:only-of-type {\n",
              "        vertical-align: middle;\n",
              "    }\n",
              "\n",
              "    .dataframe tbody tr th {\n",
              "        vertical-align: top;\n",
              "    }\n",
              "\n",
              "    .dataframe thead th {\n",
              "        text-align: right;\n",
              "    }\n",
              "</style>\n",
              "<table border=\"1\" class=\"dataframe\">\n",
              "  <thead>\n",
              "    <tr style=\"text-align: right;\">\n",
              "      <th></th>\n",
              "      <th>Province/State</th>\n",
              "      <th>Country/Region</th>\n",
              "      <th>Lat</th>\n",
              "      <th>Long</th>\n",
              "      <th>1/22/20</th>\n",
              "      <th>1/23/20</th>\n",
              "      <th>1/24/20</th>\n",
              "      <th>1/25/20</th>\n",
              "      <th>1/26/20</th>\n",
              "      <th>1/27/20</th>\n",
              "      <th>1/28/20</th>\n",
              "      <th>1/29/20</th>\n",
              "      <th>1/30/20</th>\n",
              "      <th>1/31/20</th>\n",
              "      <th>2/1/20</th>\n",
              "      <th>2/2/20</th>\n",
              "      <th>2/3/20</th>\n",
              "      <th>2/4/20</th>\n",
              "      <th>2/5/20</th>\n",
              "      <th>2/6/20</th>\n",
              "      <th>2/7/20</th>\n",
              "      <th>2/8/20</th>\n",
              "      <th>2/9/20</th>\n",
              "      <th>2/10/20</th>\n",
              "      <th>2/11/20</th>\n",
              "      <th>2/12/20</th>\n",
              "      <th>2/13/20</th>\n",
              "      <th>2/14/20</th>\n",
              "      <th>2/15/20</th>\n",
              "      <th>2/16/20</th>\n",
              "      <th>2/17/20</th>\n",
              "      <th>2/18/20</th>\n",
              "      <th>2/19/20</th>\n",
              "      <th>2/20/20</th>\n",
              "      <th>2/21/20</th>\n",
              "      <th>2/22/20</th>\n",
              "      <th>2/23/20</th>\n",
              "      <th>2/24/20</th>\n",
              "      <th>2/25/20</th>\n",
              "      <th>2/26/20</th>\n",
              "      <th>...</th>\n",
              "      <th>10/26/20</th>\n",
              "      <th>10/27/20</th>\n",
              "      <th>10/28/20</th>\n",
              "      <th>10/29/20</th>\n",
              "      <th>10/30/20</th>\n",
              "      <th>10/31/20</th>\n",
              "      <th>11/1/20</th>\n",
              "      <th>11/2/20</th>\n",
              "      <th>11/3/20</th>\n",
              "      <th>11/4/20</th>\n",
              "      <th>11/5/20</th>\n",
              "      <th>11/6/20</th>\n",
              "      <th>11/7/20</th>\n",
              "      <th>11/8/20</th>\n",
              "      <th>11/9/20</th>\n",
              "      <th>11/10/20</th>\n",
              "      <th>11/11/20</th>\n",
              "      <th>11/12/20</th>\n",
              "      <th>11/13/20</th>\n",
              "      <th>11/14/20</th>\n",
              "      <th>11/15/20</th>\n",
              "      <th>11/16/20</th>\n",
              "      <th>11/17/20</th>\n",
              "      <th>11/18/20</th>\n",
              "      <th>11/19/20</th>\n",
              "      <th>11/20/20</th>\n",
              "      <th>11/21/20</th>\n",
              "      <th>11/22/20</th>\n",
              "      <th>11/23/20</th>\n",
              "      <th>11/24/20</th>\n",
              "      <th>11/25/20</th>\n",
              "      <th>11/26/20</th>\n",
              "      <th>11/27/20</th>\n",
              "      <th>11/28/20</th>\n",
              "      <th>11/29/20</th>\n",
              "      <th>11/30/20</th>\n",
              "      <th>12/1/20</th>\n",
              "      <th>12/2/20</th>\n",
              "      <th>12/3/20</th>\n",
              "      <th>12/4/20</th>\n",
              "    </tr>\n",
              "  </thead>\n",
              "  <tbody>\n",
              "    <tr>\n",
              "      <th>0</th>\n",
              "      <td>NaN</td>\n",
              "      <td>Afghanistan</td>\n",
              "      <td>33.93911</td>\n",
              "      <td>67.709953</td>\n",
              "      <td>0</td>\n",
              "      <td>0</td>\n",
              "      <td>0</td>\n",
              "      <td>0</td>\n",
              "      <td>0</td>\n",
              "      <td>0</td>\n",
              "      <td>0</td>\n",
              "      <td>0</td>\n",
              "      <td>0</td>\n",
              "      <td>0</td>\n",
              "      <td>0</td>\n",
              "      <td>0</td>\n",
              "      <td>0</td>\n",
              "      <td>0</td>\n",
              "      <td>0</td>\n",
              "      <td>0</td>\n",
              "      <td>0</td>\n",
              "      <td>0</td>\n",
              "      <td>0</td>\n",
              "      <td>0</td>\n",
              "      <td>0</td>\n",
              "      <td>0</td>\n",
              "      <td>0</td>\n",
              "      <td>0</td>\n",
              "      <td>0</td>\n",
              "      <td>0</td>\n",
              "      <td>0</td>\n",
              "      <td>0</td>\n",
              "      <td>0</td>\n",
              "      <td>0</td>\n",
              "      <td>0</td>\n",
              "      <td>0</td>\n",
              "      <td>0</td>\n",
              "      <td>0</td>\n",
              "      <td>0</td>\n",
              "      <td>0</td>\n",
              "      <td>...</td>\n",
              "      <td>1520</td>\n",
              "      <td>1525</td>\n",
              "      <td>1531</td>\n",
              "      <td>1534</td>\n",
              "      <td>1535</td>\n",
              "      <td>1538</td>\n",
              "      <td>1538</td>\n",
              "      <td>1544</td>\n",
              "      <td>1547</td>\n",
              "      <td>1551</td>\n",
              "      <td>1557</td>\n",
              "      <td>1557</td>\n",
              "      <td>1559</td>\n",
              "      <td>1565</td>\n",
              "      <td>1577</td>\n",
              "      <td>1580</td>\n",
              "      <td>1584</td>\n",
              "      <td>1594</td>\n",
              "      <td>1598</td>\n",
              "      <td>1608</td>\n",
              "      <td>1620</td>\n",
              "      <td>1635</td>\n",
              "      <td>1641</td>\n",
              "      <td>1648</td>\n",
              "      <td>1653</td>\n",
              "      <td>1666</td>\n",
              "      <td>1678</td>\n",
              "      <td>1690</td>\n",
              "      <td>1702</td>\n",
              "      <td>1715</td>\n",
              "      <td>1728</td>\n",
              "      <td>1737</td>\n",
              "      <td>1740</td>\n",
              "      <td>1752</td>\n",
              "      <td>1774</td>\n",
              "      <td>1795</td>\n",
              "      <td>1822</td>\n",
              "      <td>1841</td>\n",
              "      <td>1846</td>\n",
              "      <td>1846</td>\n",
              "    </tr>\n",
              "    <tr>\n",
              "      <th>1</th>\n",
              "      <td>NaN</td>\n",
              "      <td>Albania</td>\n",
              "      <td>41.15330</td>\n",
              "      <td>20.168300</td>\n",
              "      <td>0</td>\n",
              "      <td>0</td>\n",
              "      <td>0</td>\n",
              "      <td>0</td>\n",
              "      <td>0</td>\n",
              "      <td>0</td>\n",
              "      <td>0</td>\n",
              "      <td>0</td>\n",
              "      <td>0</td>\n",
              "      <td>0</td>\n",
              "      <td>0</td>\n",
              "      <td>0</td>\n",
              "      <td>0</td>\n",
              "      <td>0</td>\n",
              "      <td>0</td>\n",
              "      <td>0</td>\n",
              "      <td>0</td>\n",
              "      <td>0</td>\n",
              "      <td>0</td>\n",
              "      <td>0</td>\n",
              "      <td>0</td>\n",
              "      <td>0</td>\n",
              "      <td>0</td>\n",
              "      <td>0</td>\n",
              "      <td>0</td>\n",
              "      <td>0</td>\n",
              "      <td>0</td>\n",
              "      <td>0</td>\n",
              "      <td>0</td>\n",
              "      <td>0</td>\n",
              "      <td>0</td>\n",
              "      <td>0</td>\n",
              "      <td>0</td>\n",
              "      <td>0</td>\n",
              "      <td>0</td>\n",
              "      <td>0</td>\n",
              "      <td>...</td>\n",
              "      <td>480</td>\n",
              "      <td>487</td>\n",
              "      <td>493</td>\n",
              "      <td>499</td>\n",
              "      <td>502</td>\n",
              "      <td>509</td>\n",
              "      <td>518</td>\n",
              "      <td>527</td>\n",
              "      <td>532</td>\n",
              "      <td>536</td>\n",
              "      <td>543</td>\n",
              "      <td>549</td>\n",
              "      <td>557</td>\n",
              "      <td>559</td>\n",
              "      <td>571</td>\n",
              "      <td>579</td>\n",
              "      <td>590</td>\n",
              "      <td>598</td>\n",
              "      <td>605</td>\n",
              "      <td>612</td>\n",
              "      <td>623</td>\n",
              "      <td>631</td>\n",
              "      <td>637</td>\n",
              "      <td>646</td>\n",
              "      <td>657</td>\n",
              "      <td>672</td>\n",
              "      <td>685</td>\n",
              "      <td>699</td>\n",
              "      <td>716</td>\n",
              "      <td>735</td>\n",
              "      <td>743</td>\n",
              "      <td>753</td>\n",
              "      <td>771</td>\n",
              "      <td>787</td>\n",
              "      <td>798</td>\n",
              "      <td>810</td>\n",
              "      <td>822</td>\n",
              "      <td>839</td>\n",
              "      <td>852</td>\n",
              "      <td>870</td>\n",
              "    </tr>\n",
              "    <tr>\n",
              "      <th>2</th>\n",
              "      <td>NaN</td>\n",
              "      <td>Algeria</td>\n",
              "      <td>28.03390</td>\n",
              "      <td>1.659600</td>\n",
              "      <td>0</td>\n",
              "      <td>0</td>\n",
              "      <td>0</td>\n",
              "      <td>0</td>\n",
              "      <td>0</td>\n",
              "      <td>0</td>\n",
              "      <td>0</td>\n",
              "      <td>0</td>\n",
              "      <td>0</td>\n",
              "      <td>0</td>\n",
              "      <td>0</td>\n",
              "      <td>0</td>\n",
              "      <td>0</td>\n",
              "      <td>0</td>\n",
              "      <td>0</td>\n",
              "      <td>0</td>\n",
              "      <td>0</td>\n",
              "      <td>0</td>\n",
              "      <td>0</td>\n",
              "      <td>0</td>\n",
              "      <td>0</td>\n",
              "      <td>0</td>\n",
              "      <td>0</td>\n",
              "      <td>0</td>\n",
              "      <td>0</td>\n",
              "      <td>0</td>\n",
              "      <td>0</td>\n",
              "      <td>0</td>\n",
              "      <td>0</td>\n",
              "      <td>0</td>\n",
              "      <td>0</td>\n",
              "      <td>0</td>\n",
              "      <td>0</td>\n",
              "      <td>0</td>\n",
              "      <td>0</td>\n",
              "      <td>0</td>\n",
              "      <td>...</td>\n",
              "      <td>1922</td>\n",
              "      <td>1931</td>\n",
              "      <td>1941</td>\n",
              "      <td>1949</td>\n",
              "      <td>1956</td>\n",
              "      <td>1964</td>\n",
              "      <td>1973</td>\n",
              "      <td>1980</td>\n",
              "      <td>1980</td>\n",
              "      <td>1999</td>\n",
              "      <td>2011</td>\n",
              "      <td>2024</td>\n",
              "      <td>2036</td>\n",
              "      <td>2048</td>\n",
              "      <td>2062</td>\n",
              "      <td>2077</td>\n",
              "      <td>2093</td>\n",
              "      <td>2111</td>\n",
              "      <td>2124</td>\n",
              "      <td>2139</td>\n",
              "      <td>2154</td>\n",
              "      <td>2168</td>\n",
              "      <td>2186</td>\n",
              "      <td>2206</td>\n",
              "      <td>2224</td>\n",
              "      <td>2236</td>\n",
              "      <td>2255</td>\n",
              "      <td>2272</td>\n",
              "      <td>2294</td>\n",
              "      <td>2309</td>\n",
              "      <td>2329</td>\n",
              "      <td>2352</td>\n",
              "      <td>2372</td>\n",
              "      <td>2393</td>\n",
              "      <td>2410</td>\n",
              "      <td>2431</td>\n",
              "      <td>2447</td>\n",
              "      <td>2464</td>\n",
              "      <td>2480</td>\n",
              "      <td>2492</td>\n",
              "    </tr>\n",
              "    <tr>\n",
              "      <th>3</th>\n",
              "      <td>NaN</td>\n",
              "      <td>Andorra</td>\n",
              "      <td>42.50630</td>\n",
              "      <td>1.521800</td>\n",
              "      <td>0</td>\n",
              "      <td>0</td>\n",
              "      <td>0</td>\n",
              "      <td>0</td>\n",
              "      <td>0</td>\n",
              "      <td>0</td>\n",
              "      <td>0</td>\n",
              "      <td>0</td>\n",
              "      <td>0</td>\n",
              "      <td>0</td>\n",
              "      <td>0</td>\n",
              "      <td>0</td>\n",
              "      <td>0</td>\n",
              "      <td>0</td>\n",
              "      <td>0</td>\n",
              "      <td>0</td>\n",
              "      <td>0</td>\n",
              "      <td>0</td>\n",
              "      <td>0</td>\n",
              "      <td>0</td>\n",
              "      <td>0</td>\n",
              "      <td>0</td>\n",
              "      <td>0</td>\n",
              "      <td>0</td>\n",
              "      <td>0</td>\n",
              "      <td>0</td>\n",
              "      <td>0</td>\n",
              "      <td>0</td>\n",
              "      <td>0</td>\n",
              "      <td>0</td>\n",
              "      <td>0</td>\n",
              "      <td>0</td>\n",
              "      <td>0</td>\n",
              "      <td>0</td>\n",
              "      <td>0</td>\n",
              "      <td>0</td>\n",
              "      <td>...</td>\n",
              "      <td>72</td>\n",
              "      <td>72</td>\n",
              "      <td>72</td>\n",
              "      <td>73</td>\n",
              "      <td>75</td>\n",
              "      <td>75</td>\n",
              "      <td>75</td>\n",
              "      <td>75</td>\n",
              "      <td>75</td>\n",
              "      <td>75</td>\n",
              "      <td>75</td>\n",
              "      <td>75</td>\n",
              "      <td>75</td>\n",
              "      <td>75</td>\n",
              "      <td>75</td>\n",
              "      <td>75</td>\n",
              "      <td>75</td>\n",
              "      <td>75</td>\n",
              "      <td>75</td>\n",
              "      <td>75</td>\n",
              "      <td>76</td>\n",
              "      <td>76</td>\n",
              "      <td>76</td>\n",
              "      <td>76</td>\n",
              "      <td>76</td>\n",
              "      <td>76</td>\n",
              "      <td>76</td>\n",
              "      <td>76</td>\n",
              "      <td>76</td>\n",
              "      <td>76</td>\n",
              "      <td>76</td>\n",
              "      <td>76</td>\n",
              "      <td>76</td>\n",
              "      <td>76</td>\n",
              "      <td>76</td>\n",
              "      <td>76</td>\n",
              "      <td>76</td>\n",
              "      <td>76</td>\n",
              "      <td>77</td>\n",
              "      <td>77</td>\n",
              "    </tr>\n",
              "    <tr>\n",
              "      <th>4</th>\n",
              "      <td>NaN</td>\n",
              "      <td>Angola</td>\n",
              "      <td>-11.20270</td>\n",
              "      <td>17.873900</td>\n",
              "      <td>0</td>\n",
              "      <td>0</td>\n",
              "      <td>0</td>\n",
              "      <td>0</td>\n",
              "      <td>0</td>\n",
              "      <td>0</td>\n",
              "      <td>0</td>\n",
              "      <td>0</td>\n",
              "      <td>0</td>\n",
              "      <td>0</td>\n",
              "      <td>0</td>\n",
              "      <td>0</td>\n",
              "      <td>0</td>\n",
              "      <td>0</td>\n",
              "      <td>0</td>\n",
              "      <td>0</td>\n",
              "      <td>0</td>\n",
              "      <td>0</td>\n",
              "      <td>0</td>\n",
              "      <td>0</td>\n",
              "      <td>0</td>\n",
              "      <td>0</td>\n",
              "      <td>0</td>\n",
              "      <td>0</td>\n",
              "      <td>0</td>\n",
              "      <td>0</td>\n",
              "      <td>0</td>\n",
              "      <td>0</td>\n",
              "      <td>0</td>\n",
              "      <td>0</td>\n",
              "      <td>0</td>\n",
              "      <td>0</td>\n",
              "      <td>0</td>\n",
              "      <td>0</td>\n",
              "      <td>0</td>\n",
              "      <td>0</td>\n",
              "      <td>...</td>\n",
              "      <td>270</td>\n",
              "      <td>271</td>\n",
              "      <td>275</td>\n",
              "      <td>275</td>\n",
              "      <td>279</td>\n",
              "      <td>284</td>\n",
              "      <td>286</td>\n",
              "      <td>289</td>\n",
              "      <td>291</td>\n",
              "      <td>296</td>\n",
              "      <td>299</td>\n",
              "      <td>300</td>\n",
              "      <td>303</td>\n",
              "      <td>307</td>\n",
              "      <td>308</td>\n",
              "      <td>308</td>\n",
              "      <td>312</td>\n",
              "      <td>315</td>\n",
              "      <td>317</td>\n",
              "      <td>322</td>\n",
              "      <td>322</td>\n",
              "      <td>324</td>\n",
              "      <td>328</td>\n",
              "      <td>332</td>\n",
              "      <td>333</td>\n",
              "      <td>334</td>\n",
              "      <td>336</td>\n",
              "      <td>337</td>\n",
              "      <td>337</td>\n",
              "      <td>338</td>\n",
              "      <td>340</td>\n",
              "      <td>341</td>\n",
              "      <td>342</td>\n",
              "      <td>345</td>\n",
              "      <td>346</td>\n",
              "      <td>348</td>\n",
              "      <td>350</td>\n",
              "      <td>351</td>\n",
              "      <td>352</td>\n",
              "      <td>353</td>\n",
              "    </tr>\n",
              "  </tbody>\n",
              "</table>\n",
              "<p>5 rows × 322 columns</p>\n",
              "</div>"
            ],
            "text/plain": [
              "  Province/State Country/Region       Lat  ...  12/2/20  12/3/20  12/4/20\n",
              "0            NaN    Afghanistan  33.93911  ...     1841     1846     1846\n",
              "1            NaN        Albania  41.15330  ...      839      852      870\n",
              "2            NaN        Algeria  28.03390  ...     2464     2480     2492\n",
              "3            NaN        Andorra  42.50630  ...       76       77       77\n",
              "4            NaN         Angola -11.20270  ...      351      352      353\n",
              "\n",
              "[5 rows x 322 columns]"
            ]
          },
          "metadata": {
            "tags": []
          },
          "execution_count": 25
        }
      ]
    },
    {
      "cell_type": "code",
      "metadata": {
        "id": "DB4ISxntqV3P"
      },
      "source": [
        "deaths_df.dropna(subset=['Lat', \"Long\"], inplace=True)"
      ],
      "execution_count": null,
      "outputs": []
    },
    {
      "cell_type": "code",
      "metadata": {
        "id": "LcNfavcts8WR"
      },
      "source": [
        "column_list = list(deaths_df)\n",
        "column_list.remove(\"Lat\")\n",
        "column_list.remove(\"Long\")\n",
        "column_list.remove(\"Country/Region\")\n",
        "column_list.remove('Province/State')"
      ],
      "execution_count": null,
      "outputs": []
    },
    {
      "cell_type": "code",
      "metadata": {
        "id": "cB1NFhuUtq5b"
      },
      "source": [
        "deaths_df[\"Sum\"] = deaths_df[column_list].sum(axis=1)"
      ],
      "execution_count": null,
      "outputs": []
    },
    {
      "cell_type": "markdown",
      "metadata": {
        "id": "1MZjMAIQiuHh"
      },
      "source": [
        "### Modeling"
      ]
    },
    {
      "cell_type": "markdown",
      "metadata": {
        "id": "uQtIiyWgiwed"
      },
      "source": [
        "#### PCA"
      ]
    },
    {
      "cell_type": "code",
      "metadata": {
        "id": "p5PpDU1Q4PA-"
      },
      "source": [
        "# Leave out state\n",
        "features = ['elementary_school_count', 'kindergarten_count', 'university_count',\n",
        "       'academy_ratio', 'elderly_population_ratio', 'elderly_alone_ratio',\n",
        "       'nursing_home_count']\n",
        "       \n",
        "# Separating out the features\n",
        "x = full_features_df.loc[:, features].values\n",
        "\n",
        "# Separating out the target\n",
        "y = full_features_df.loc[:,['state']].values\n",
        "\n",
        "# Standardizing the features\n",
        "x = StandardScaler().fit_transform(x)"
      ],
      "execution_count": null,
      "outputs": []
    },
    {
      "cell_type": "code",
      "metadata": {
        "colab": {
          "base_uri": "https://localhost:8080/",
          "height": 204
        },
        "id": "6nGZuS1h4Prj",
        "outputId": "2a00c70d-5cb0-4727-f439-9fb877723fdf"
      },
      "source": [
        "# Visualise the standardised data (Just for simplicity)\n",
        "see_x = pd.DataFrame(data=x, columns=features)\n",
        "see_x.head()"
      ],
      "execution_count": null,
      "outputs": [
        {
          "output_type": "execute_result",
          "data": {
            "text/html": [
              "<div>\n",
              "<style scoped>\n",
              "    .dataframe tbody tr th:only-of-type {\n",
              "        vertical-align: middle;\n",
              "    }\n",
              "\n",
              "    .dataframe tbody tr th {\n",
              "        vertical-align: top;\n",
              "    }\n",
              "\n",
              "    .dataframe thead th {\n",
              "        text-align: right;\n",
              "    }\n",
              "</style>\n",
              "<table border=\"1\" class=\"dataframe\">\n",
              "  <thead>\n",
              "    <tr style=\"text-align: right;\">\n",
              "      <th></th>\n",
              "      <th>elementary_school_count</th>\n",
              "      <th>kindergarten_count</th>\n",
              "      <th>university_count</th>\n",
              "      <th>academy_ratio</th>\n",
              "      <th>elderly_population_ratio</th>\n",
              "      <th>elderly_alone_ratio</th>\n",
              "      <th>nursing_home_count</th>\n",
              "    </tr>\n",
              "  </thead>\n",
              "  <tbody>\n",
              "    <tr>\n",
              "      <th>0</th>\n",
              "      <td>-0.126653</td>\n",
              "      <td>-0.197632</td>\n",
              "      <td>-0.717307</td>\n",
              "      <td>-0.511312</td>\n",
              "      <td>-0.272721</td>\n",
              "      <td>-0.353517</td>\n",
              "      <td>0.484077</td>\n",
              "    </tr>\n",
              "    <tr>\n",
              "      <th>1</th>\n",
              "      <td>-0.685040</td>\n",
              "      <td>-0.767916</td>\n",
              "      <td>-0.717307</td>\n",
              "      <td>-1.328139</td>\n",
              "      <td>0.112026</td>\n",
              "      <td>-0.047497</td>\n",
              "      <td>-0.189123</td>\n",
              "    </tr>\n",
              "    <tr>\n",
              "      <th>2</th>\n",
              "      <td>-1.114569</td>\n",
              "      <td>-1.087275</td>\n",
              "      <td>-0.084223</td>\n",
              "      <td>0.427170</td>\n",
              "      <td>0.387818</td>\n",
              "      <td>-0.072999</td>\n",
              "      <td>-0.225280</td>\n",
              "    </tr>\n",
              "    <tr>\n",
              "      <th>3</th>\n",
              "      <td>-0.727993</td>\n",
              "      <td>-0.927596</td>\n",
              "      <td>-0.400765</td>\n",
              "      <td>0.635722</td>\n",
              "      <td>-0.330603</td>\n",
              "      <td>-0.557530</td>\n",
              "      <td>0.224094</td>\n",
              "    </tr>\n",
              "    <tr>\n",
              "      <th>4</th>\n",
              "      <td>-0.427323</td>\n",
              "      <td>-0.357312</td>\n",
              "      <td>0.865403</td>\n",
              "      <td>-0.772002</td>\n",
              "      <td>0.026905</td>\n",
              "      <td>-0.277012</td>\n",
              "      <td>-0.120254</td>\n",
              "    </tr>\n",
              "  </tbody>\n",
              "</table>\n",
              "</div>"
            ],
            "text/plain": [
              "   elementary_school_count  ...  nursing_home_count\n",
              "0                -0.126653  ...            0.484077\n",
              "1                -0.685040  ...           -0.189123\n",
              "2                -1.114569  ...           -0.225280\n",
              "3                -0.727993  ...            0.224094\n",
              "4                -0.427323  ...           -0.120254\n",
              "\n",
              "[5 rows x 7 columns]"
            ]
          },
          "metadata": {
            "tags": []
          },
          "execution_count": 227
        }
      ]
    },
    {
      "cell_type": "code",
      "metadata": {
        "colab": {
          "base_uri": "https://localhost:8080/"
        },
        "id": "c7AHLCraiz9b",
        "outputId": "6601d61a-3c69-439c-ec27-f172287588fd"
      },
      "source": [
        "# While applying StandardScaler, each feature of your data should be normally \n",
        "# distributed such that it will scale the distribution to a mean of zero\n",
        "# and a standard deviation of one.\n",
        "np.mean(x),np.std(x)"
      ],
      "execution_count": null,
      "outputs": [
        {
          "output_type": "execute_result",
          "data": {
            "text/plain": [
              "(2.626927103497569e-17, 0.9999999999999999)"
            ]
          },
          "metadata": {
            "tags": []
          },
          "execution_count": 182
        }
      ]
    },
    {
      "cell_type": "code",
      "metadata": {
        "colab": {
          "base_uri": "https://localhost:8080/",
          "height": 279
        },
        "id": "iP1Qkcop4Rl7",
        "outputId": "0f74709d-bb96-4c64-f33d-09a732145cfa"
      },
      "source": [
        "# Plot the explained variance per component added\n",
        "pca = PCA().fit(x)\n",
        "plt.plot(np.cumsum(pca.explained_variance_ratio_))\n",
        "plt.xlabel('Number of components')\n",
        "plt.ylabel('Cumulative explained variance');"
      ],
      "execution_count": null,
      "outputs": [
        {
          "output_type": "display_data",
          "data": {
            "image/png": "[encoded data removed]",
            "text/plain": [
              "<Figure size 432x288 with 1 Axes>"
            ]
          },
          "metadata": {
            "tags": [],
            "needs_background": "light"
          }
        }
      ]
    },
    {
      "cell_type": "code",
      "metadata": {
        "id": "-CrVeF3y4Tqp"
      },
      "source": [
        "# 2 PCA components\n",
        "pca = PCA(n_components=2)\n",
        "principal_components = pca.fit_transform(x)\n",
        "principal_df = pd.DataFrame(data = principal_components\n",
        "             , columns = ['principal component 1', 'principal component 2'])"
      ],
      "execution_count": null,
      "outputs": []
    },
    {
      "cell_type": "code",
      "metadata": {
        "colab": {
          "base_uri": "https://localhost:8080/",
          "height": 204
        },
        "id": "WM5jN1m04XLG",
        "outputId": "ef46cc15-52ee-4b08-d4af-4f6b7ba7ec1c"
      },
      "source": [
        "# Check the head()\n",
        "principal_df.head()"
      ],
      "execution_count": null,
      "outputs": [
        {
          "output_type": "execute_result",
          "data": {
            "text/html": [
              "<div>\n",
              "<style scoped>\n",
              "    .dataframe tbody tr th:only-of-type {\n",
              "        vertical-align: middle;\n",
              "    }\n",
              "\n",
              "    .dataframe tbody tr th {\n",
              "        vertical-align: top;\n",
              "    }\n",
              "\n",
              "    .dataframe thead th {\n",
              "        text-align: right;\n",
              "    }\n",
              "</style>\n",
              "<table border=\"1\" class=\"dataframe\">\n",
              "  <thead>\n",
              "    <tr style=\"text-align: right;\">\n",
              "      <th></th>\n",
              "      <th>principal component 1</th>\n",
              "      <th>principal component 2</th>\n",
              "    </tr>\n",
              "  </thead>\n",
              "  <tbody>\n",
              "    <tr>\n",
              "      <th>0</th>\n",
              "      <td>-0.036107</td>\n",
              "      <td>0.639453</td>\n",
              "    </tr>\n",
              "    <tr>\n",
              "      <th>1</th>\n",
              "      <td>1.282271</td>\n",
              "      <td>0.470135</td>\n",
              "    </tr>\n",
              "    <tr>\n",
              "      <th>2</th>\n",
              "      <td>1.012576</td>\n",
              "      <td>0.956832</td>\n",
              "    </tr>\n",
              "    <tr>\n",
              "      <th>3</th>\n",
              "      <td>0.074076</td>\n",
              "      <td>1.406538</td>\n",
              "    </tr>\n",
              "    <tr>\n",
              "      <th>4</th>\n",
              "      <td>0.427491</td>\n",
              "      <td>-0.483129</td>\n",
              "    </tr>\n",
              "  </tbody>\n",
              "</table>\n",
              "</div>"
            ],
            "text/plain": [
              "   principal component 1  principal component 2\n",
              "0              -0.036107               0.639453\n",
              "1               1.282271               0.470135\n",
              "2               1.012576               0.956832\n",
              "3               0.074076               1.406538\n",
              "4               0.427491              -0.483129"
            ]
          },
          "metadata": {
            "tags": []
          },
          "execution_count": 231
        }
      ]
    },
    {
      "cell_type": "code",
      "metadata": {
        "colab": {
          "base_uri": "https://localhost:8080/",
          "height": 204
        },
        "id": "-geZzMCU4bAM",
        "outputId": "3c3656f0-f9e9-425b-8920-8f454689b445"
      },
      "source": [
        "# Concatenate and view head()\n",
        "final_df_pca = pd.concat([principal_df[['principal component 1', 'principal component 2']], full_features_df[['state']]], axis = 1)\n",
        "final_df_pca.head()"
      ],
      "execution_count": null,
      "outputs": [
        {
          "output_type": "execute_result",
          "data": {
            "text/html": [
              "<div>\n",
              "<style scoped>\n",
              "    .dataframe tbody tr th:only-of-type {\n",
              "        vertical-align: middle;\n",
              "    }\n",
              "\n",
              "    .dataframe tbody tr th {\n",
              "        vertical-align: top;\n",
              "    }\n",
              "\n",
              "    .dataframe thead th {\n",
              "        text-align: right;\n",
              "    }\n",
              "</style>\n",
              "<table border=\"1\" class=\"dataframe\">\n",
              "  <thead>\n",
              "    <tr style=\"text-align: right;\">\n",
              "      <th></th>\n",
              "      <th>principal component 1</th>\n",
              "      <th>principal component 2</th>\n",
              "      <th>state</th>\n",
              "    </tr>\n",
              "  </thead>\n",
              "  <tbody>\n",
              "    <tr>\n",
              "      <th>0</th>\n",
              "      <td>-0.036107</td>\n",
              "      <td>0.639453</td>\n",
              "      <td>released</td>\n",
              "    </tr>\n",
              "    <tr>\n",
              "      <th>1</th>\n",
              "      <td>1.282271</td>\n",
              "      <td>0.470135</td>\n",
              "      <td>released</td>\n",
              "    </tr>\n",
              "    <tr>\n",
              "      <th>2</th>\n",
              "      <td>1.012576</td>\n",
              "      <td>0.956832</td>\n",
              "      <td>released</td>\n",
              "    </tr>\n",
              "    <tr>\n",
              "      <th>3</th>\n",
              "      <td>0.074076</td>\n",
              "      <td>1.406538</td>\n",
              "      <td>released</td>\n",
              "    </tr>\n",
              "    <tr>\n",
              "      <th>4</th>\n",
              "      <td>0.427491</td>\n",
              "      <td>-0.483129</td>\n",
              "      <td>released</td>\n",
              "    </tr>\n",
              "  </tbody>\n",
              "</table>\n",
              "</div>"
            ],
            "text/plain": [
              "   principal component 1  principal component 2     state\n",
              "0              -0.036107               0.639453  released\n",
              "1               1.282271               0.470135  released\n",
              "2               1.012576               0.956832  released\n",
              "3               0.074076               1.406538  released\n",
              "4               0.427491              -0.483129  released"
            ]
          },
          "metadata": {
            "tags": []
          },
          "execution_count": 237
        }
      ]
    },
    {
      "cell_type": "code",
      "metadata": {
        "colab": {
          "base_uri": "https://localhost:8080/",
          "height": 322
        },
        "id": "MKCdim9I4dlo",
        "outputId": "86359f8b-c5f5-402a-cb40-ae197cdbce02"
      },
      "source": [
        "# Scatterplot \n",
        "fig = plt.figure(figsize = (10,10))\n",
        "\n",
        "fig, ax = plt.subplots()\n",
        "\n",
        "ax.set_xlabel('Principal Component 1', fontsize = 15)\n",
        "ax.set_ylabel('Principal Component 2', fontsize = 15)\n",
        "ax.set_title('2 component PCA', fontsize = 20)\n",
        "\n",
        "sns.scatterplot(x=final_df_pca['principal component 1'], y=final_df_pca['principal component 2'], hue=final_df_pca.state)\n",
        "ax.grid()"
      ],
      "execution_count": null,
      "outputs": [
        {
          "output_type": "display_data",
          "data": {
            "text/plain": [
              "<Figure size 720x720 with 0 Axes>"
            ]
          },
          "metadata": {
            "tags": []
          }
        },
        {
          "output_type": "display_data",
          "data": {
            "image/png": "[encoded data removed]",
            "text/plain": [
              "<Figure size 432x288 with 1 Axes>"
            ]
          },
          "metadata": {
            "tags": [],
            "needs_background": "light"
          }
        }
      ]
    },
    {
      "cell_type": "code",
      "metadata": {
        "colab": {
          "base_uri": "https://localhost:8080/"
        },
        "id": "qYvyRoZv4f6i",
        "outputId": "68145148-5a5b-4ec0-c757-f23a32717773"
      },
      "source": [
        "# Explained variance of the components\n",
        "pca.explained_variance_ratio_"
      ],
      "execution_count": null,
      "outputs": [
        {
          "output_type": "execute_result",
          "data": {
            "text/plain": [
              "array([0.54768667, 0.17527298])"
            ]
          },
          "metadata": {
            "tags": []
          },
          "execution_count": 242
        }
      ]
    },
    {
      "cell_type": "markdown",
      "metadata": {
        "id": "0ys-K73nix7h"
      },
      "source": [
        "#### T-SNE"
      ]
    },
    {
      "cell_type": "code",
      "metadata": {
        "id": "_wo7qEGPMdpO"
      },
      "source": [
        "# Initialise T-SNE and set 2 components\n",
        "tsne = TSNE(n_components=2, random_state=0)"
      ],
      "execution_count": null,
      "outputs": []
    },
    {
      "cell_type": "code",
      "metadata": {
        "id": "SXRqsk0jMjGX"
      },
      "source": [
        "# Feed the features dataset \n",
        "tsne_obj= tsne.fit_transform(x)"
      ],
      "execution_count": null,
      "outputs": []
    },
    {
      "cell_type": "code",
      "metadata": {
        "colab": {
          "base_uri": "https://localhost:8080/",
          "height": 204
        },
        "id": "HbLIZyICMjXv",
        "outputId": "665ca05c-ffdc-42a4-cf67-3b613764ef1b"
      },
      "source": [
        "# View the head()\n",
        "tsne_df = pd.DataFrame(data = tsne_obj\n",
        "             , columns = ['X', 'Y'])\n",
        "\n",
        "tsne_df.head()"
      ],
      "execution_count": null,
      "outputs": [
        {
          "output_type": "execute_result",
          "data": {
            "text/html": [
              "<div>\n",
              "<style scoped>\n",
              "    .dataframe tbody tr th:only-of-type {\n",
              "        vertical-align: middle;\n",
              "    }\n",
              "\n",
              "    .dataframe tbody tr th {\n",
              "        vertical-align: top;\n",
              "    }\n",
              "\n",
              "    .dataframe thead th {\n",
              "        text-align: right;\n",
              "    }\n",
              "</style>\n",
              "<table border=\"1\" class=\"dataframe\">\n",
              "  <thead>\n",
              "    <tr style=\"text-align: right;\">\n",
              "      <th></th>\n",
              "      <th>X</th>\n",
              "      <th>Y</th>\n",
              "    </tr>\n",
              "  </thead>\n",
              "  <tbody>\n",
              "    <tr>\n",
              "      <th>0</th>\n",
              "      <td>-2.901429</td>\n",
              "      <td>-7.742569</td>\n",
              "    </tr>\n",
              "    <tr>\n",
              "      <th>1</th>\n",
              "      <td>50.505646</td>\n",
              "      <td>57.238605</td>\n",
              "    </tr>\n",
              "    <tr>\n",
              "      <th>2</th>\n",
              "      <td>-4.202808</td>\n",
              "      <td>-24.671047</td>\n",
              "    </tr>\n",
              "    <tr>\n",
              "      <th>3</th>\n",
              "      <td>14.021624</td>\n",
              "      <td>-60.357304</td>\n",
              "    </tr>\n",
              "    <tr>\n",
              "      <th>4</th>\n",
              "      <td>67.914452</td>\n",
              "      <td>45.932995</td>\n",
              "    </tr>\n",
              "  </tbody>\n",
              "</table>\n",
              "</div>"
            ],
            "text/plain": [
              "           X          Y\n",
              "0  -2.901429  -7.742569\n",
              "1  50.505646  57.238605\n",
              "2  -4.202808 -24.671047\n",
              "3  14.021624 -60.357304\n",
              "4  67.914452  45.932995"
            ]
          },
          "metadata": {
            "tags": []
          },
          "execution_count": 156
        }
      ]
    },
    {
      "cell_type": "code",
      "metadata": {
        "colab": {
          "base_uri": "https://localhost:8080/",
          "height": 204
        },
        "id": "zOdKoP-SMrYe",
        "outputId": "6609c49d-bd1f-4e5f-e2fc-33b6540d80c9"
      },
      "source": [
        "# Concatenate and view again\n",
        "final_tsne_df = pd.concat([tsne_df, full_features_df[['state']]], axis = 1)\n",
        "final_tsne_df.head()"
      ],
      "execution_count": null,
      "outputs": [
        {
          "output_type": "execute_result",
          "data": {
            "text/html": [
              "<div>\n",
              "<style scoped>\n",
              "    .dataframe tbody tr th:only-of-type {\n",
              "        vertical-align: middle;\n",
              "    }\n",
              "\n",
              "    .dataframe tbody tr th {\n",
              "        vertical-align: top;\n",
              "    }\n",
              "\n",
              "    .dataframe thead th {\n",
              "        text-align: right;\n",
              "    }\n",
              "</style>\n",
              "<table border=\"1\" class=\"dataframe\">\n",
              "  <thead>\n",
              "    <tr style=\"text-align: right;\">\n",
              "      <th></th>\n",
              "      <th>X</th>\n",
              "      <th>Y</th>\n",
              "      <th>state</th>\n",
              "    </tr>\n",
              "  </thead>\n",
              "  <tbody>\n",
              "    <tr>\n",
              "      <th>0</th>\n",
              "      <td>-2.901429</td>\n",
              "      <td>-7.742569</td>\n",
              "      <td>released</td>\n",
              "    </tr>\n",
              "    <tr>\n",
              "      <th>1</th>\n",
              "      <td>50.505646</td>\n",
              "      <td>57.238605</td>\n",
              "      <td>released</td>\n",
              "    </tr>\n",
              "    <tr>\n",
              "      <th>2</th>\n",
              "      <td>-4.202808</td>\n",
              "      <td>-24.671047</td>\n",
              "      <td>released</td>\n",
              "    </tr>\n",
              "    <tr>\n",
              "      <th>3</th>\n",
              "      <td>14.021624</td>\n",
              "      <td>-60.357304</td>\n",
              "      <td>released</td>\n",
              "    </tr>\n",
              "    <tr>\n",
              "      <th>4</th>\n",
              "      <td>67.914452</td>\n",
              "      <td>45.932995</td>\n",
              "      <td>released</td>\n",
              "    </tr>\n",
              "  </tbody>\n",
              "</table>\n",
              "</div>"
            ],
            "text/plain": [
              "           X          Y     state\n",
              "0  -2.901429  -7.742569  released\n",
              "1  50.505646  57.238605  released\n",
              "2  -4.202808 -24.671047  released\n",
              "3  14.021624 -60.357304  released\n",
              "4  67.914452  45.932995  released"
            ]
          },
          "metadata": {
            "tags": []
          },
          "execution_count": 157
        }
      ]
    },
    {
      "cell_type": "code",
      "metadata": {
        "colab": {
          "base_uri": "https://localhost:8080/",
          "height": 322
        },
        "id": "Ws3R5YVbM317",
        "outputId": "856fd8bc-8763-4e6d-f8c2-53e6ee44ecac"
      },
      "source": [
        "# T-SNE scatterplot\n",
        "fig = plt.figure(figsize = (8,8))\n",
        "\n",
        "fig, ax = plt.subplots()\n",
        "\n",
        "ax.set_xlabel('X', fontsize = 15)\n",
        "ax.set_ylabel('Y', fontsize = 15)\n",
        "ax.set_title('T-SNE scatterplot', fontsize = 20)\n",
        "\n",
        "sns.scatterplot(x=\"X\", y=\"Y\", hue=\"state\", data=final_tsne_df);\n",
        "ax.grid()"
      ],
      "execution_count": null,
      "outputs": [
        {
          "output_type": "display_data",
          "data": {
            "text/plain": [
              "<Figure size 576x576 with 0 Axes>"
            ]
          },
          "metadata": {
            "tags": []
          }
        },
        {
          "output_type": "display_data",
          "data": {
            "image/png": "[encoded data removed]",
            "text/plain": [
              "<Figure size 432x288 with 1 Axes>"
            ]
          },
          "metadata": {
            "tags": [],
            "needs_background": "light"
          }
        }
      ]
    },
    {
      "cell_type": "markdown",
      "metadata": {
        "id": "pg8fQYNRjMqG"
      },
      "source": [
        "#### Clustering"
      ]
    },
    {
      "cell_type": "code",
      "metadata": {
        "id": "cgtleOnSNuu_"
      },
      "source": [
        "# Prepare a dataframe for Kmeans clustering\n",
        "# cluster_df = model.drop(columns=['genre'])"
      ],
      "execution_count": null,
      "outputs": []
    },
    {
      "cell_type": "code",
      "metadata": {
        "id": "-DUADsegNysH"
      },
      "source": [
        "# Calculate the within cluster SSE (distortion)\n",
        "distortions = []\n",
        "K = range(1,10)\n",
        "for k in K:\n",
        "    kmeanModel = KMeans(n_clusters=k)\n",
        "    kmeanModel.fit(principal_df) # x is standardized\n",
        "    distortions.append(kmeanModel.inertia_)"
      ],
      "execution_count": null,
      "outputs": []
    },
    {
      "cell_type": "code",
      "metadata": {
        "colab": {
          "base_uri": "https://localhost:8080/",
          "height": 513
        },
        "id": "28PuCzPKN00r",
        "outputId": "6013c097-4162-4cc2-82ee-a5a53c014c83"
      },
      "source": [
        "# Plot the elbow figure\n",
        "plt.figure(figsize=(16,8))\n",
        "plt.plot(K, distortions, 'bx-')\n",
        "plt.xlabel('Number of clusters')\n",
        "plt.ylabel('Within cluster SSE (Distortion)')\n",
        "plt.title('The Elbow Method showing the optimal k')\n",
        "plt.show()"
      ],
      "execution_count": null,
      "outputs": [
        {
          "output_type": "display_data",
          "data": {
            "image/png": "[encoded data removed]",
            "text/plain": [
              "<Figure size 1152x576 with 1 Axes>"
            ]
          },
          "metadata": {
            "tags": [],
            "needs_background": "light"
          }
        }
      ]
    },
    {
      "cell_type": "code",
      "metadata": {
        "id": "hhCA1ero8Rca"
      },
      "source": [
        "# Installing kneed\n",
        "pip install kneed\n",
        "from kneed import DataGenerator, KneeLocator"
      ],
      "execution_count": null,
      "outputs": []
    },
    {
      "cell_type": "code",
      "metadata": {
        "colab": {
          "base_uri": "https://localhost:8080/"
        },
        "id": "w0_BIxVI8Ajb",
        "outputId": "9763ef56-bd20-45e0-f433-4c7500dc691a"
      },
      "source": [
        "# Using kneed to programmatically check elbow point\n",
        "kl = KneeLocator(range(1, 10), distortions, curve=\"convex\", direction=\"decreasing\")\n",
        "kl.elbow"
      ],
      "execution_count": null,
      "outputs": [
        {
          "output_type": "execute_result",
          "data": {
            "text/plain": [
              "3"
            ]
          },
          "metadata": {
            "tags": []
          },
          "execution_count": 245
        }
      ]
    },
    {
      "cell_type": "code",
      "metadata": {
        "id": "wiMEYOpGN3Gt"
      },
      "source": [
        "# Fit and predict the Kmeans model\n",
        "kmeanModel = KMeans(n_clusters=3)\n",
        "kmeanModel.fit(principal_df)\n",
        "y_kmeans = kmeanModel.predict(principal_df)"
      ],
      "execution_count": null,
      "outputs": []
    },
    {
      "cell_type": "code",
      "metadata": {
        "colab": {
          "base_uri": "https://localhost:8080/",
          "height": 513
        },
        "id": "H6B6YDCKN5Yr",
        "outputId": "f8052776-47f7-45cf-e486-1b00fa48ca86"
      },
      "source": [
        "# plot points\n",
        "plt.figure(figsize=(16,8))\n",
        "plt.title('K-means clusters')\n",
        "\n",
        "sns.scatterplot(data=principal_df, x='principal component 1', y='principal component 2', hue=y_kmeans)\n",
        "\n",
        "\n",
        "# plot cluster centers\n",
        "centers = kmeanModel.cluster_centers_\n",
        "plt.scatter(centers[:, 0], centers[:, 1], c='black', s=500, alpha=0.5);"
      ],
      "execution_count": null,
      "outputs": [
        {
          "output_type": "display_data",
          "data": {
            "image/png": "[encoded data removed]",
            "text/plain": [
              "<Figure size 1152x576 with 1 Axes>"
            ]
          },
          "metadata": {
            "tags": [],
            "needs_background": "light"
          }
        }
      ]
    },
    {
      "cell_type": "code",
      "metadata": {
        "id": "P5mD6IUgCawJ"
      },
      "source": [
        "# Add column for cluster labels\n",
        "full_features_df['cluster'] = kmeanModel.labels_"
      ],
      "execution_count": null,
      "outputs": []
    },
    {
      "cell_type": "code",
      "metadata": {
        "id": "GNQQyimBDGlZ"
      },
      "source": [
        "# change clusters to 1 - 3 instead of 0 - 2\n",
        "full_features_df['cluster'] = full_features_df['cluster'].map({0:1, 1:2, 2:3}) "
      ],
      "execution_count": null,
      "outputs": []
    },
    {
      "cell_type": "code",
      "metadata": {
        "id": "bKGgbjBtC1nt"
      },
      "source": [
        "# Group by cluster\n",
        "grouped_by_cluster = full_features_df.groupby('cluster')"
      ],
      "execution_count": null,
      "outputs": []
    },
    {
      "cell_type": "code",
      "metadata": {
        "colab": {
          "base_uri": "https://localhost:8080/",
          "height": 359
        },
        "id": "7jp4bCxtDqyT",
        "outputId": "2babde2e-ff96-421d-950c-a94ff77d43ee"
      },
      "source": [
        "# Get the percentages of states in each cluster\n",
        "df = pd.concat([grouped_by_cluster.state.value_counts(), \n",
        "                grouped_by_cluster.state.value_counts(normalize=True).mul(100)],axis=1, keys=('counts','percentage'))\n",
        "\n",
        "df.round(2)"
      ],
      "execution_count": null,
      "outputs": [
        {
          "output_type": "execute_result",
          "data": {
            "text/html": [
              "<div>\n",
              "<style scoped>\n",
              "    .dataframe tbody tr th:only-of-type {\n",
              "        vertical-align: middle;\n",
              "    }\n",
              "\n",
              "    .dataframe tbody tr th {\n",
              "        vertical-align: top;\n",
              "    }\n",
              "\n",
              "    .dataframe thead th {\n",
              "        text-align: right;\n",
              "    }\n",
              "</style>\n",
              "<table border=\"1\" class=\"dataframe\">\n",
              "  <thead>\n",
              "    <tr style=\"text-align: right;\">\n",
              "      <th></th>\n",
              "      <th></th>\n",
              "      <th>counts</th>\n",
              "      <th>percentage</th>\n",
              "    </tr>\n",
              "    <tr>\n",
              "      <th>cluster</th>\n",
              "      <th>state</th>\n",
              "      <th></th>\n",
              "      <th></th>\n",
              "    </tr>\n",
              "  </thead>\n",
              "  <tbody>\n",
              "    <tr>\n",
              "      <th rowspan=\"3\" valign=\"top\">1</th>\n",
              "      <th>released</th>\n",
              "      <td>2102</td>\n",
              "      <td>63.77</td>\n",
              "    </tr>\n",
              "    <tr>\n",
              "      <th>isolated</th>\n",
              "      <td>1156</td>\n",
              "      <td>35.07</td>\n",
              "    </tr>\n",
              "    <tr>\n",
              "      <th>deceased</th>\n",
              "      <td>38</td>\n",
              "      <td>1.15</td>\n",
              "    </tr>\n",
              "    <tr>\n",
              "      <th rowspan=\"3\" valign=\"top\">2</th>\n",
              "      <th>isolated</th>\n",
              "      <td>759</td>\n",
              "      <td>63.84</td>\n",
              "    </tr>\n",
              "    <tr>\n",
              "      <th>released</th>\n",
              "      <td>429</td>\n",
              "      <td>36.08</td>\n",
              "    </tr>\n",
              "    <tr>\n",
              "      <th>deceased</th>\n",
              "      <td>1</td>\n",
              "      <td>0.08</td>\n",
              "    </tr>\n",
              "    <tr>\n",
              "      <th rowspan=\"3\" valign=\"top\">3</th>\n",
              "      <th>released</th>\n",
              "      <td>304</td>\n",
              "      <td>65.94</td>\n",
              "    </tr>\n",
              "    <tr>\n",
              "      <th>isolated</th>\n",
              "      <td>141</td>\n",
              "      <td>30.59</td>\n",
              "    </tr>\n",
              "    <tr>\n",
              "      <th>deceased</th>\n",
              "      <td>16</td>\n",
              "      <td>3.47</td>\n",
              "    </tr>\n",
              "  </tbody>\n",
              "</table>\n",
              "</div>"
            ],
            "text/plain": [
              "                  counts  percentage\n",
              "cluster state                       \n",
              "1       released    2102       63.77\n",
              "        isolated    1156       35.07\n",
              "        deceased      38        1.15\n",
              "2       isolated     759       63.84\n",
              "        released     429       36.08\n",
              "        deceased       1        0.08\n",
              "3       released     304       65.94\n",
              "        isolated     141       30.59\n",
              "        deceased      16        3.47"
            ]
          },
          "metadata": {
            "tags": []
          },
          "execution_count": 252
        }
      ]
    },
    {
      "cell_type": "markdown",
      "metadata": {
        "id": "Z6kggFNJDDow"
      },
      "source": [
        "Seems like the highest percentage of deceased patients are in cluster 3, but the highest absolute number of deceased patients is in cluster 2."
      ]
    },
    {
      "cell_type": "code",
      "metadata": {
        "colab": {
          "base_uri": "https://localhost:8080/",
          "height": 173
        },
        "id": "VW4hPAvqCkvw",
        "outputId": "bf2acce2-c9d0-4e11-c639-6dee68d87fba"
      },
      "source": [
        "grouped_by_cluster.mean()"
      ],
      "execution_count": null,
      "outputs": [
        {
          "output_type": "execute_result",
          "data": {
            "text/html": [
              "<div>\n",
              "<style scoped>\n",
              "    .dataframe tbody tr th:only-of-type {\n",
              "        vertical-align: middle;\n",
              "    }\n",
              "\n",
              "    .dataframe tbody tr th {\n",
              "        vertical-align: top;\n",
              "    }\n",
              "\n",
              "    .dataframe thead th {\n",
              "        text-align: right;\n",
              "    }\n",
              "</style>\n",
              "<table border=\"1\" class=\"dataframe\">\n",
              "  <thead>\n",
              "    <tr style=\"text-align: right;\">\n",
              "      <th></th>\n",
              "      <th>elementary_school_count</th>\n",
              "      <th>kindergarten_count</th>\n",
              "      <th>university_count</th>\n",
              "      <th>academy_ratio</th>\n",
              "      <th>elderly_population_ratio</th>\n",
              "      <th>elderly_alone_ratio</th>\n",
              "      <th>nursing_home_count</th>\n",
              "    </tr>\n",
              "    <tr>\n",
              "      <th>cluster</th>\n",
              "      <th></th>\n",
              "      <th></th>\n",
              "      <th></th>\n",
              "      <th></th>\n",
              "      <th></th>\n",
              "      <th></th>\n",
              "      <th></th>\n",
              "    </tr>\n",
              "  </thead>\n",
              "  <tbody>\n",
              "    <tr>\n",
              "      <th>1</th>\n",
              "      <td>29.818871</td>\n",
              "      <td>48.169296</td>\n",
              "      <td>3.423240</td>\n",
              "      <td>1.396942</td>\n",
              "      <td>15.183243</td>\n",
              "      <td>6.307919</td>\n",
              "      <td>637.987257</td>\n",
              "    </tr>\n",
              "    <tr>\n",
              "      <th>2</th>\n",
              "      <td>73.216989</td>\n",
              "      <td>128.263246</td>\n",
              "      <td>3.880572</td>\n",
              "      <td>1.931211</td>\n",
              "      <td>12.250336</td>\n",
              "      <td>5.076451</td>\n",
              "      <td>1508.651808</td>\n",
              "    </tr>\n",
              "    <tr>\n",
              "      <th>3</th>\n",
              "      <td>15.839479</td>\n",
              "      <td>18.559653</td>\n",
              "      <td>0.557484</td>\n",
              "      <td>0.740651</td>\n",
              "      <td>31.424338</td>\n",
              "      <td>17.834707</td>\n",
              "      <td>118.201735</td>\n",
              "    </tr>\n",
              "  </tbody>\n",
              "</table>\n",
              "</div>"
            ],
            "text/plain": [
              "         elementary_school_count  ...  nursing_home_count\n",
              "cluster                           ...                    \n",
              "1                      29.818871  ...          637.987257\n",
              "2                      73.216989  ...         1508.651808\n",
              "3                      15.839479  ...          118.201735\n",
              "\n",
              "[3 rows x 7 columns]"
            ]
          },
          "metadata": {
            "tags": []
          },
          "execution_count": 253
        }
      ]
    },
    {
      "cell_type": "markdown",
      "metadata": {
        "id": "YxLZvQQ2Ie-r"
      },
      "source": [
        "It seems that cluster 3 has a higher percentage of `elderly_population` compared to the other 2 clusters"
      ]
    },
    {
      "cell_type": "markdown",
      "metadata": {
        "id": "AA5Fs5HKi7yD"
      },
      "source": [
        "#### Statistical testing"
      ]
    },
    {
      "cell_type": "markdown",
      "metadata": {
        "id": "N7XYbHQ6KxNY"
      },
      "source": [
        "Parametric test assumptions\n",
        "\n",
        "*   Independence: Meaning that each observation is independent of another; if there are 2 or more groups being compared, then it refers to that fact that groups are mutually exclusive, i.e. each individual belongs to only 1 group; and that the data is not repeated over time.\n",
        "*   Population distributions are normal: The normality assumption is applied differently depending on the statistical method being used. For example, it applies to the shape of the sampling distribution for the dependent variable (outcome variable).\n",
        "*   Samples have equal variances"
      ]
    },
    {
      "cell_type": "code",
      "metadata": {
        "id": "H3Kxr2f1P9kR"
      },
      "source": [
        "# Create dataframes for each cluster\n",
        "cluster_1 = full_features_df.query('cluster == 1')\n",
        "cluster_2 = full_features_df.query('cluster == 2')\n",
        "cluster_3 = full_features_df.query('cluster == 3')"
      ],
      "execution_count": null,
      "outputs": []
    },
    {
      "cell_type": "code",
      "metadata": {
        "colab": {
          "base_uri": "https://localhost:8080/"
        },
        "id": "x7VATgGVM0tY",
        "outputId": "04c6e2de-8af3-40e1-a7e0-b7f5f7ae67ca"
      },
      "source": [
        "# Check bartlett's equality of variance test\n",
        "stats.bartlett(cluster_1['elderly_population_ratio'],\n",
        "               cluster_2['elderly_population_ratio'],\n",
        "               cluster_3['elderly_population_ratio'])"
      ],
      "execution_count": null,
      "outputs": [
        {
          "output_type": "execute_result",
          "data": {
            "text/plain": [
              "BartlettResult(statistic=975.6649699176323, pvalue=1.3710196813142527e-212)"
            ]
          },
          "metadata": {
            "tags": []
          },
          "execution_count": 264
        }
      ]
    },
    {
      "cell_type": "code",
      "metadata": {
        "id": "v0tyBaPxZsnQ",
        "colab": {
          "base_uri": "https://localhost:8080/",
          "height": 265
        },
        "outputId": "ad61b8e1-c440-406e-9e6c-24a9684b960f"
      },
      "source": [
        "# Check overall population for normality\n",
        "pyplot.hist(full_features_df.elderly_population_ratio)\n",
        "pyplot.show()"
      ],
      "execution_count": null,
      "outputs": [
        {
          "output_type": "display_data",
          "data": {
            "image/png": "[encoded data removed]",
            "text/plain": [
              "<Figure size 432x288 with 1 Axes>"
            ]
          },
          "metadata": {
            "tags": [],
            "needs_background": "light"
          }
        }
      ]
    },
    {
      "cell_type": "code",
      "metadata": {
        "id": "q16Xb21gaGGq",
        "colab": {
          "base_uri": "https://localhost:8080/",
          "height": 461
        },
        "outputId": "a7348d95-3ddd-4d89-8df9-82ca8a99c94b"
      },
      "source": [
        "# Plot clusters to check for normality\n",
        "fig, axes = plt.subplots(1, 3, figsize=(20,7))\n",
        "\n",
        "cluster_1.hist('elderly_population_ratio', ax=axes[0])\n",
        "cluster_2.hist('elderly_population_ratio', ax=axes[1])\n",
        "cluster_3.hist('elderly_population_ratio', ax=axes[2])\n",
        "axes[0].set_title('Cluster 1')\n",
        "axes[1].set_title('Cluster 2')\n",
        "axes[2].set_title('Cluster 3')"
      ],
      "execution_count": null,
      "outputs": [
        {
          "output_type": "execute_result",
          "data": {
            "text/plain": [
              "Text(0.5, 1.0, 'Cluster 3')"
            ]
          },
          "metadata": {
            "tags": []
          },
          "execution_count": 318
        },
        {
          "output_type": "display_data",
          "data": {
            "image/png": "[encoded data removed]",
            "text/plain": [
              "<Figure size 1440x504 with 3 Axes>"
            ]
          },
          "metadata": {
            "tags": [],
            "needs_background": "light"
          }
        }
      ]
    },
    {
      "cell_type": "code",
      "metadata": {
        "id": "ECLCCsdaLbe0"
      },
      "source": [
        "pip install researchpy"
      ],
      "execution_count": null,
      "outputs": []
    },
    {
      "cell_type": "code",
      "metadata": {
        "colab": {
          "base_uri": "https://localhost:8080/",
          "height": 168
        },
        "id": "cWjx1YI-KpoD",
        "outputId": "1f9ef44e-c464-409a-89a8-dd3120fb31f8"
      },
      "source": [
        "import researchpy as rp\n",
        "rp.summary_cont(full_features_df['elderly_population_ratio'])"
      ],
      "execution_count": null,
      "outputs": [
        {
          "output_type": "stream",
          "text": [
            "\n",
            "\n"
          ],
          "name": "stdout"
        },
        {
          "output_type": "stream",
          "text": [
            "/usr/local/lib/python3.6/dist-packages/statsmodels/tools/_testing.py:19: FutureWarning: pandas.util.testing is deprecated. Use the functions in the public API at pandas.testing instead.\n",
            "  import pandas.util.testing as tm\n"
          ],
          "name": "stderr"
        },
        {
          "output_type": "execute_result",
          "data": {
            "text/html": [
              "<div>\n",
              "<style scoped>\n",
              "    .dataframe tbody tr th:only-of-type {\n",
              "        vertical-align: middle;\n",
              "    }\n",
              "\n",
              "    .dataframe tbody tr th {\n",
              "        vertical-align: top;\n",
              "    }\n",
              "\n",
              "    .dataframe thead th {\n",
              "        text-align: right;\n",
              "    }\n",
              "</style>\n",
              "<table border=\"1\" class=\"dataframe\">\n",
              "  <thead>\n",
              "    <tr style=\"text-align: right;\">\n",
              "      <th></th>\n",
              "      <th>Variable</th>\n",
              "      <th>N</th>\n",
              "      <th>Mean</th>\n",
              "      <th>SD</th>\n",
              "      <th>SE</th>\n",
              "      <th>95% Conf.</th>\n",
              "      <th>Interval</th>\n",
              "    </tr>\n",
              "  </thead>\n",
              "  <tbody>\n",
              "    <tr>\n",
              "      <th>0</th>\n",
              "      <td>elderly_population_ratio</td>\n",
              "      <td>4946.0</td>\n",
              "      <td>15.992</td>\n",
              "      <td>5.8746</td>\n",
              "      <td>0.0835</td>\n",
              "      <td>15.8282</td>\n",
              "      <td>16.1557</td>\n",
              "    </tr>\n",
              "  </tbody>\n",
              "</table>\n",
              "</div>"
            ],
            "text/plain": [
              "                   Variable       N    Mean  ...      SE  95% Conf.  Interval\n",
              "0  elderly_population_ratio  4946.0  15.992  ...  0.0835    15.8282   16.1557\n",
              "\n",
              "[1 rows x 7 columns]"
            ]
          },
          "metadata": {
            "tags": []
          },
          "execution_count": 117
        }
      ]
    },
    {
      "cell_type": "code",
      "metadata": {
        "id": "honAtHTofcy-",
        "colab": {
          "base_uri": "https://localhost:8080/",
          "height": 207
        },
        "outputId": "7663be30-e071-45af-e89e-bbea207144d4"
      },
      "source": [
        "rp.summary_cont(full_features_df['elderly_population_ratio'].groupby(full_features_df['cluster']))"
      ],
      "execution_count": null,
      "outputs": [
        {
          "output_type": "stream",
          "text": [
            "\n",
            "\n"
          ],
          "name": "stdout"
        },
        {
          "output_type": "execute_result",
          "data": {
            "text/html": [
              "<div>\n",
              "<style scoped>\n",
              "    .dataframe tbody tr th:only-of-type {\n",
              "        vertical-align: middle;\n",
              "    }\n",
              "\n",
              "    .dataframe tbody tr th {\n",
              "        vertical-align: top;\n",
              "    }\n",
              "\n",
              "    .dataframe thead th {\n",
              "        text-align: right;\n",
              "    }\n",
              "</style>\n",
              "<table border=\"1\" class=\"dataframe\">\n",
              "  <thead>\n",
              "    <tr style=\"text-align: right;\">\n",
              "      <th></th>\n",
              "      <th>N</th>\n",
              "      <th>Mean</th>\n",
              "      <th>SD</th>\n",
              "      <th>SE</th>\n",
              "      <th>95% Conf.</th>\n",
              "      <th>Interval</th>\n",
              "    </tr>\n",
              "    <tr>\n",
              "      <th>cluster</th>\n",
              "      <th></th>\n",
              "      <th></th>\n",
              "      <th></th>\n",
              "      <th></th>\n",
              "      <th></th>\n",
              "      <th></th>\n",
              "    </tr>\n",
              "  </thead>\n",
              "  <tbody>\n",
              "    <tr>\n",
              "      <th>1</th>\n",
              "      <td>3296</td>\n",
              "      <td>15.1832</td>\n",
              "      <td>2.7487</td>\n",
              "      <td>0.0479</td>\n",
              "      <td>15.0894</td>\n",
              "      <td>15.2771</td>\n",
              "    </tr>\n",
              "    <tr>\n",
              "      <th>2</th>\n",
              "      <td>1189</td>\n",
              "      <td>12.2503</td>\n",
              "      <td>1.7997</td>\n",
              "      <td>0.0522</td>\n",
              "      <td>12.1479</td>\n",
              "      <td>12.3527</td>\n",
              "    </tr>\n",
              "    <tr>\n",
              "      <th>3</th>\n",
              "      <td>461</td>\n",
              "      <td>31.4243</td>\n",
              "      <td>5.3812</td>\n",
              "      <td>0.2506</td>\n",
              "      <td>30.9318</td>\n",
              "      <td>31.9169</td>\n",
              "    </tr>\n",
              "  </tbody>\n",
              "</table>\n",
              "</div>"
            ],
            "text/plain": [
              "            N     Mean      SD      SE  95% Conf.  Interval\n",
              "cluster                                                    \n",
              "1        3296  15.1832  2.7487  0.0479    15.0894   15.2771\n",
              "2        1189  12.2503  1.7997  0.0522    12.1479   12.3527\n",
              "3         461  31.4243  5.3812  0.2506    30.9318   31.9169"
            ]
          },
          "metadata": {
            "tags": []
          },
          "execution_count": 319
        }
      ]
    },
    {
      "cell_type": "code",
      "metadata": {
        "id": "k1hm2T2ifXfj",
        "colab": {
          "base_uri": "https://localhost:8080/"
        },
        "outputId": "c94bb0db-1f9b-4a40-c97a-6d4d1140fb7a"
      },
      "source": [
        "stats.f_oneway(full_features_df['elderly_population_ratio'][full_features_df['cluster'] == 1],\n",
        "               full_features_df['elderly_population_ratio'][full_features_df['cluster'] == 2],\n",
        "               full_features_df['elderly_population_ratio'][full_features_df['cluster'] == 3],)"
      ],
      "execution_count": null,
      "outputs": [
        {
          "output_type": "execute_result",
          "data": {
            "text/plain": [
              "F_onewayResult(statistic=7555.641862365672, pvalue=0.0)"
            ]
          },
          "metadata": {
            "tags": []
          },
          "execution_count": 320
        }
      ]
    },
    {
      "cell_type": "code",
      "metadata": {
        "id": "N35YIVNugPUo",
        "colab": {
          "base_uri": "https://localhost:8080/",
          "height": 111
        },
        "outputId": "b8ff21de-8e6b-46df-9418-59d2db90cf3e"
      },
      "source": [
        "import statsmodels.api as sm\n",
        "from statsmodels.formula.api import ols\n",
        "\n",
        "model = ols('elderly_population_ratio ~ C(cluster)', data=full_features_df).fit()\n",
        "aov_table = sm.stats.anova_lm(model, typ=2)\n",
        "aov_table"
      ],
      "execution_count": null,
      "outputs": [
        {
          "output_type": "execute_result",
          "data": {
            "text/html": [
              "<div>\n",
              "<style scoped>\n",
              "    .dataframe tbody tr th:only-of-type {\n",
              "        vertical-align: middle;\n",
              "    }\n",
              "\n",
              "    .dataframe tbody tr th {\n",
              "        vertical-align: top;\n",
              "    }\n",
              "\n",
              "    .dataframe thead th {\n",
              "        text-align: right;\n",
              "    }\n",
              "</style>\n",
              "<table border=\"1\" class=\"dataframe\">\n",
              "  <thead>\n",
              "    <tr style=\"text-align: right;\">\n",
              "      <th></th>\n",
              "      <th>sum_sq</th>\n",
              "      <th>df</th>\n",
              "      <th>F</th>\n",
              "      <th>PR(&gt;F)</th>\n",
              "    </tr>\n",
              "  </thead>\n",
              "  <tbody>\n",
              "    <tr>\n",
              "      <th>C(cluster)</th>\n",
              "      <td>128592.335559</td>\n",
              "      <td>2.0</td>\n",
              "      <td>7555.641862</td>\n",
              "      <td>0.0</td>\n",
              "    </tr>\n",
              "    <tr>\n",
              "      <th>Residual</th>\n",
              "      <td>42063.396217</td>\n",
              "      <td>4943.0</td>\n",
              "      <td>NaN</td>\n",
              "      <td>NaN</td>\n",
              "    </tr>\n",
              "  </tbody>\n",
              "</table>\n",
              "</div>"
            ],
            "text/plain": [
              "                   sum_sq      df            F  PR(>F)\n",
              "C(cluster)  128592.335559     2.0  7555.641862     0.0\n",
              "Residual     42063.396217  4943.0          NaN     NaN"
            ]
          },
          "metadata": {
            "tags": []
          },
          "execution_count": 321
        }
      ]
    },
    {
      "cell_type": "code",
      "metadata": {
        "id": "8DY18XwugjLN",
        "colab": {
          "base_uri": "https://localhost:8080/",
          "height": 111
        },
        "outputId": "0da3fa90-81f0-4f20-a9cf-96706449187c"
      },
      "source": [
        "\"\"\"\n",
        "The function below was created specifically for the one-way ANOVA table results returned for Type II sum of squares\n",
        "\"\"\"\n",
        "\n",
        "def anova_table(aov):\n",
        "    aov['mean_sq'] = aov[:]['sum_sq']/aov[:]['df']\n",
        "\n",
        "    aov['eta_sq'] = aov[:-1]['sum_sq']/sum(aov['sum_sq'])\n",
        "\n",
        "    aov['omega_sq'] = (aov[:-1]['sum_sq']-(aov[:-1]['df']*aov['mean_sq'][-1]))/(sum(aov['sum_sq'])+aov['mean_sq'][-1])\n",
        "\n",
        "    cols = ['sum_sq', 'df', 'mean_sq', 'F', 'PR(>F)', 'eta_sq', 'omega_sq']\n",
        "    aov = aov[cols]\n",
        "    return aov\n",
        "\n",
        "anova_table(aov_table)"
      ],
      "execution_count": null,
      "outputs": [
        {
          "output_type": "execute_result",
          "data": {
            "text/html": [
              "<div>\n",
              "<style scoped>\n",
              "    .dataframe tbody tr th:only-of-type {\n",
              "        vertical-align: middle;\n",
              "    }\n",
              "\n",
              "    .dataframe tbody tr th {\n",
              "        vertical-align: top;\n",
              "    }\n",
              "\n",
              "    .dataframe thead th {\n",
              "        text-align: right;\n",
              "    }\n",
              "</style>\n",
              "<table border=\"1\" class=\"dataframe\">\n",
              "  <thead>\n",
              "    <tr style=\"text-align: right;\">\n",
              "      <th></th>\n",
              "      <th>sum_sq</th>\n",
              "      <th>df</th>\n",
              "      <th>mean_sq</th>\n",
              "      <th>F</th>\n",
              "      <th>PR(&gt;F)</th>\n",
              "      <th>eta_sq</th>\n",
              "      <th>omega_sq</th>\n",
              "    </tr>\n",
              "  </thead>\n",
              "  <tbody>\n",
              "    <tr>\n",
              "      <th>C(cluster)</th>\n",
              "      <td>128592.335559</td>\n",
              "      <td>2.0</td>\n",
              "      <td>64296.16778</td>\n",
              "      <td>7555.641862</td>\n",
              "      <td>0.0</td>\n",
              "      <td>0.753519</td>\n",
              "      <td>0.753382</td>\n",
              "    </tr>\n",
              "    <tr>\n",
              "      <th>Residual</th>\n",
              "      <td>42063.396217</td>\n",
              "      <td>4943.0</td>\n",
              "      <td>8.50969</td>\n",
              "      <td>NaN</td>\n",
              "      <td>NaN</td>\n",
              "      <td>NaN</td>\n",
              "      <td>NaN</td>\n",
              "    </tr>\n",
              "  </tbody>\n",
              "</table>\n",
              "</div>"
            ],
            "text/plain": [
              "                   sum_sq      df      mean_sq  ...  PR(>F)    eta_sq  omega_sq\n",
              "C(cluster)  128592.335559     2.0  64296.16778  ...     0.0  0.753519  0.753382\n",
              "Residual     42063.396217  4943.0      8.50969  ...     NaN       NaN       NaN\n",
              "\n",
              "[2 rows x 7 columns]"
            ]
          },
          "metadata": {
            "tags": []
          },
          "execution_count": 322
        }
      ]
    },
    {
      "cell_type": "code",
      "metadata": {
        "id": "1lJqPK-Kg9ox",
        "colab": {
          "base_uri": "https://localhost:8080/",
          "height": 627
        },
        "outputId": "917e6973-62ba-4e28-ad33-c9589128feae"
      },
      "source": [
        "fig = plt.figure(figsize= (10, 10))\n",
        "ax = fig.add_subplot(111)\n",
        "\n",
        "normality_plot, stat = stats.probplot(model.resid, plot= plt, rvalue= True)\n",
        "ax.set_title(\"Probability plot of model residual's\", fontsize= 20)\n",
        "ax.set\n",
        "\n",
        "plt.show()"
      ],
      "execution_count": null,
      "outputs": [
        {
          "output_type": "display_data",
          "data": {
            "image/png": "[encoded data removed]",
            "text/plain": [
              "<Figure size 720x720 with 1 Axes>"
            ]
          },
          "metadata": {
            "tags": [],
            "needs_background": "light"
          }
        }
      ]
    },
    {
      "cell_type": "markdown",
      "metadata": {
        "id": "aNtsizcQjJMw"
      },
      "source": [
        "#### linear regression"
      ]
    },
    {
      "cell_type": "code",
      "metadata": {
        "id": "ftAoE-EzjtJn"
      },
      "source": [
        "# Add categorised values\n",
        "full_features_df['state_cat'] = full_features_df['state'].astype('category').cat.codes"
      ],
      "execution_count": 331,
      "outputs": []
    },
    {
      "cell_type": "code",
      "metadata": {
        "id": "CwIEuDPYkJZH"
      },
      "source": [
        "# Get y value (we already have x standardized)\n",
        "# Separating out the features\n",
        "x = full_features_df.loc[:, features].values\n",
        "\n",
        "# Separating out the target\n",
        "# y = full_features_df.loc[:,['state']].values\n",
        "\n",
        "# Standardizing the features\n",
        "x = StandardScaler().fit_transform(x)\n",
        "\n",
        "y = full_features_df[['state_cat']]"
      ],
      "execution_count": 351,
      "outputs": []
    },
    {
      "cell_type": "code",
      "metadata": {
        "id": "zhaWmIh_jKyH"
      },
      "source": [
        "# initialise the linear regression and fit the model\n",
        "linear_model = LinearRegression().fit(x, y)"
      ],
      "execution_count": 352,
      "outputs": []
    },
    {
      "cell_type": "code",
      "metadata": {
        "colab": {
          "base_uri": "https://localhost:8080/"
        },
        "id": "ucTRdJ83jn_O",
        "outputId": "a80a97a1-1356-4f4d-baf1-2797535b2c50"
      },
      "source": [
        "# Check the values\n",
        "r_sq = linear_model.score(x, y)\n",
        "print('coefficient of determination:', r_sq)\n",
        "print('intercept:', linear_model.intercept_)\n",
        "print('slope:', linear_model.coef_)"
      ],
      "execution_count": 353,
      "outputs": [
        {
          "output_type": "stream",
          "text": [
            "coefficient of determination: 0.22171152925338375\n",
            "intercept: [1.56207036]\n",
            "slope: [[ 0.33362328 -0.51541143  0.18460143  0.09950748  0.07808604 -0.03342584\n",
            "  -0.03823371]]\n"
          ],
          "name": "stdout"
        }
      ]
    },
    {
      "cell_type": "code",
      "metadata": {
        "id": "FYsG7DMgkl-6"
      },
      "source": [
        "# Get the prediction from the model\n",
        "y_pred = linear_model.predict(x)"
      ],
      "execution_count": 336,
      "outputs": []
    },
    {
      "cell_type": "code",
      "metadata": {
        "id": "dSrt2jn8l5eQ"
      },
      "source": [
        "# Map the states\n",
        "mapped_states = dict( enumerate(full_features_df['state'].astype('category').cat.categories))"
      ],
      "execution_count": 337,
      "outputs": []
    },
    {
      "cell_type": "code",
      "metadata": {
        "id": "4F-qpV5hmG0Q"
      },
      "source": [
        "# Set prediction as dataframe\n",
        "predicted_df = pd.DataFrame(y_pred.astype('int'), columns=['predicted'])"
      ],
      "execution_count": 338,
      "outputs": []
    },
    {
      "cell_type": "code",
      "metadata": {
        "id": "4J2tQG8FmS77"
      },
      "source": [
        "# Add the predicted state\n",
        "predicted_df['predicted_state'] = predicted_df['predicted'].map(mapped_states)"
      ],
      "execution_count": 339,
      "outputs": []
    },
    {
      "cell_type": "code",
      "metadata": {
        "colab": {
          "base_uri": "https://localhost:8080/",
          "height": 204
        },
        "id": "ofsH_OAwmd_y",
        "outputId": "f3c8015e-5393-49cc-c37a-0f5f3e8bb8c5"
      },
      "source": [
        "predicted_df.head()"
      ],
      "execution_count": 340,
      "outputs": [
        {
          "output_type": "execute_result",
          "data": {
            "text/html": [
              "<div>\n",
              "<style scoped>\n",
              "    .dataframe tbody tr th:only-of-type {\n",
              "        vertical-align: middle;\n",
              "    }\n",
              "\n",
              "    .dataframe tbody tr th {\n",
              "        vertical-align: top;\n",
              "    }\n",
              "\n",
              "    .dataframe thead th {\n",
              "        text-align: right;\n",
              "    }\n",
              "</style>\n",
              "<table border=\"1\" class=\"dataframe\">\n",
              "  <thead>\n",
              "    <tr style=\"text-align: right;\">\n",
              "      <th></th>\n",
              "      <th>predicted</th>\n",
              "      <th>predicted_state</th>\n",
              "    </tr>\n",
              "  </thead>\n",
              "  <tbody>\n",
              "    <tr>\n",
              "      <th>0</th>\n",
              "      <td>1</td>\n",
              "      <td>isolated</td>\n",
              "    </tr>\n",
              "    <tr>\n",
              "      <th>1</th>\n",
              "      <td>1</td>\n",
              "      <td>isolated</td>\n",
              "    </tr>\n",
              "    <tr>\n",
              "      <th>2</th>\n",
              "      <td>1</td>\n",
              "      <td>isolated</td>\n",
              "    </tr>\n",
              "    <tr>\n",
              "      <th>3</th>\n",
              "      <td>1</td>\n",
              "      <td>isolated</td>\n",
              "    </tr>\n",
              "    <tr>\n",
              "      <th>4</th>\n",
              "      <td>1</td>\n",
              "      <td>isolated</td>\n",
              "    </tr>\n",
              "  </tbody>\n",
              "</table>\n",
              "</div>"
            ],
            "text/plain": [
              "   predicted predicted_state\n",
              "0          1        isolated\n",
              "1          1        isolated\n",
              "2          1        isolated\n",
              "3          1        isolated\n",
              "4          1        isolated"
            ]
          },
          "metadata": {
            "tags": []
          },
          "execution_count": 340
        }
      ]
    },
    {
      "cell_type": "code",
      "metadata": {
        "colab": {
          "base_uri": "https://localhost:8080/",
          "height": 204
        },
        "id": "cA8RDGCXmhC-",
        "outputId": "6ee6fb20-73d4-4f5d-d648-46e022cf04a1"
      },
      "source": [
        "# Check with actual state\n",
        "predicted_final_df = pd.concat([predicted_df, full_features_df[['state']]], axis=1)\n",
        "predicted_final_df.head()"
      ],
      "execution_count": 342,
      "outputs": [
        {
          "output_type": "execute_result",
          "data": {
            "text/html": [
              "<div>\n",
              "<style scoped>\n",
              "    .dataframe tbody tr th:only-of-type {\n",
              "        vertical-align: middle;\n",
              "    }\n",
              "\n",
              "    .dataframe tbody tr th {\n",
              "        vertical-align: top;\n",
              "    }\n",
              "\n",
              "    .dataframe thead th {\n",
              "        text-align: right;\n",
              "    }\n",
              "</style>\n",
              "<table border=\"1\" class=\"dataframe\">\n",
              "  <thead>\n",
              "    <tr style=\"text-align: right;\">\n",
              "      <th></th>\n",
              "      <th>predicted</th>\n",
              "      <th>predicted_state</th>\n",
              "      <th>state</th>\n",
              "    </tr>\n",
              "  </thead>\n",
              "  <tbody>\n",
              "    <tr>\n",
              "      <th>0</th>\n",
              "      <td>1</td>\n",
              "      <td>isolated</td>\n",
              "      <td>released</td>\n",
              "    </tr>\n",
              "    <tr>\n",
              "      <th>1</th>\n",
              "      <td>1</td>\n",
              "      <td>isolated</td>\n",
              "      <td>released</td>\n",
              "    </tr>\n",
              "    <tr>\n",
              "      <th>2</th>\n",
              "      <td>1</td>\n",
              "      <td>isolated</td>\n",
              "      <td>released</td>\n",
              "    </tr>\n",
              "    <tr>\n",
              "      <th>3</th>\n",
              "      <td>1</td>\n",
              "      <td>isolated</td>\n",
              "      <td>released</td>\n",
              "    </tr>\n",
              "    <tr>\n",
              "      <th>4</th>\n",
              "      <td>1</td>\n",
              "      <td>isolated</td>\n",
              "      <td>released</td>\n",
              "    </tr>\n",
              "  </tbody>\n",
              "</table>\n",
              "</div>"
            ],
            "text/plain": [
              "   predicted predicted_state     state\n",
              "0          1        isolated  released\n",
              "1          1        isolated  released\n",
              "2          1        isolated  released\n",
              "3          1        isolated  released\n",
              "4          1        isolated  released"
            ]
          },
          "metadata": {
            "tags": []
          },
          "execution_count": 342
        }
      ]
    },
    {
      "cell_type": "code",
      "metadata": {
        "id": "qT2g0MySnhxv",
        "outputId": "7882fd77-c471-4294-ee2a-7f199962fd1d",
        "colab": {
          "base_uri": "https://localhost:8080/"
        }
      },
      "source": [
        "predicted_final_df.state.value_counts()"
      ],
      "execution_count": 347,
      "outputs": [
        {
          "output_type": "execute_result",
          "data": {
            "text/plain": [
              "released    2835\n",
              "isolated    2056\n",
              "deceased      55\n",
              "Name: state, dtype: int64"
            ]
          },
          "metadata": {
            "tags": []
          },
          "execution_count": 347
        }
      ]
    },
    {
      "cell_type": "code",
      "metadata": {
        "id": "XVocs_KinQRj",
        "outputId": "f7bf84ab-a6c2-4cc2-f088-b791d44ca41a",
        "colab": {
          "base_uri": "https://localhost:8080/"
        }
      },
      "source": [
        "predicted_final_df.predicted_state.value_counts()"
      ],
      "execution_count": 348,
      "outputs": [
        {
          "output_type": "execute_result",
          "data": {
            "text/plain": [
              "isolated    4765\n",
              "deceased     153\n",
              "released      28\n",
              "Name: predicted_state, dtype: int64"
            ]
          },
          "metadata": {
            "tags": []
          },
          "execution_count": 348
        }
      ]
    }
  ]
}