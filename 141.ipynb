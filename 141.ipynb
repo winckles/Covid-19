{
  "nbformat": 4,
  "nbformat_minor": 0,
  "metadata": {
    "kernelspec": {
      "display_name": "Python 3",
      "language": "python",
      "name": "python3"
    },
    "language_info": {
      "codemirror_mode": {
        "name": "ipython",
        "version": 3
      },
      "file_extension": ".py",
      "mimetype": "text/x-python",
      "name": "python",
      "nbconvert_exporter": "python",
      "pygments_lexer": "ipython3",
      "version": "3.8.5"
    },
    "colab": {
      "name": "141.ipynb",
      "provenance": []
    }
  },
  "cells": [
    {
      "cell_type": "markdown",
      "metadata": {
        "id": "a8bkqME5m9d_"
      },
      "source": [
        "# COVID-19 "
      ]
    },
    {
      "cell_type": "markdown",
      "metadata": {
        "id": "z5i82BdIm9d_"
      },
      "source": [
        "----"
      ]
    },
    {
      "cell_type": "markdown",
      "metadata": {
        "id": "_JFpricum9d_"
      },
      "source": [
        "The world is still struggling with one the most rapidly spreading pandemics. There are a lot of people who say that data is the best weapon we can use in this \"Corona Fight\". \n",
        "\n",
        "Imagine that you are one of the best data scientists in your country. The president of your country asked you to analyze the COVID-19 patient-level data of South Korea and prepare your homeland for the next wave of the pandemic. You, as the lead data scientist of your country **have to create and prove a plan of fighting the pandemics in your country** by analyzing the provided data. You must get most important insights using learned data science techniques and present them to the lead of your country."
      ]
    },
    {
      "cell_type": "markdown",
      "metadata": {
        "id": "Uvga-O0Bm9d_"
      },
      "source": [
        "https://www.kaggle.com/kimjihoo/coronavirusdataset/"
      ]
    },
    {
      "cell_type": "markdown",
      "metadata": {
        "id": "4iUabJgym9d_"
      },
      "source": [
        "### Requirements"
      ]
    },
    {
      "cell_type": "markdown",
      "metadata": {
        "id": "aJ64ciUzQL8o"
      },
      "source": [
        "#### Exploratory Data Analysis\n",
        "* [x] Describe the data with basic statistical parameters - mean, median, quantiles, etc. Use parameters that give you the most important statistical insights of the data.\n",
        "* [x] Grouping the data and analyzing the groups - using Pandas aggregate methods.\n",
        "* [x] Work with features - handle missing data if needed, use pandas date APIs.\n",
        "* [x] Manipulate datasets - use joins if needed.\n",
        "* [x] Visualize the data - you can use line, scatter, histogram plots, density plots, regplots, etc.\n",
        "\n",
        "#### Statistical hypothesis testing\n",
        "* Use at least one statistical significance test.\n",
        "* Report p-values.\n",
        "* Use visualizations.\n",
        "\n",
        "#### Modeling\n",
        "* [x] Visualize data with dimensionality reduction algorithms.\n",
        "- [x] Perform cluster analysis.\n",
        "* [x] Use a linear model to explain relationships by correlation and predict new values.\n",
        "\n",
        "#### Presentation\n",
        "* Present the project - the data, methods and results.\n",
        "\n",
        "#### Evaluation Criteria\n",
        "- Code quality\n",
        "- Fulfillment of the idea\n",
        "- Adherence to the requirements\n",
        "- Delivery of the presentation\n",
        "\n",
        "#### Statistical hypothesis testing\n",
        "- Correct statistical test method is used, based on the situation.\n",
        "- Reasoning on chosen statistical significance level.\n",
        "\n",
        "#### Modeling\n",
        "- [x] Both PCA and T-SNE algorithms are used.\n",
        "\n",
        "\n",
        "<div><img width=\"400px\" height=\"auto\" src=\"https://images.unsplash.com/photo-1574515944794-d6dedc7150de?ixlib=rb-1.2.1&ixid=MXwxMjA3fDB8MHxwaG90by1wYWdlfHx8fGVufDB8fHw%3D&auto=format&fit=crop&w=1532&q=80\" /></div>"
      ]
    },
    {
      "cell_type": "markdown",
      "metadata": {
        "id": "1JEdfBPX9BzT"
      },
      "source": [
        "### Getting started"
      ]
    },
    {
      "cell_type": "code",
      "metadata": {
        "id": "FYNfJwgy3cKu"
      },
      "source": [
        "# importing the necessary modules\n",
        "import pandas as pd\n",
        "import numpy as np\n",
        "import scipy.stats as stats\n",
        "import statsmodels.api as sm\n",
        "import math\n",
        "\n",
        "import seaborn as sns\n",
        "import matplotlib.pyplot as plt\n",
        "from matplotlib import pyplot\n",
        "\n",
        "from sklearn.decomposition import PCA\n",
        "from sklearn.manifold import TSNE\n",
        "from sklearn.preprocessing import StandardScaler\n",
        "\n",
        "from sklearn.linear_model import LinearRegression\n",
        "from sklearn.metrics import mean_squared_error, r2_score\n",
        "\n",
        "from sklearn.model_selection import train_test_split\n",
        "from sklearn.metrics import accuracy_score\n",
        "from sklearn.cluster import KMeans"
      ],
      "execution_count": 878,
      "outputs": []
    },
    {
      "cell_type": "code",
      "metadata": {
        "id": "iAJDLW-ibiqc"
      },
      "source": [
        "# Load the data\n",
        "# case = pd.read_csv(\"https://raw.githubusercontent.com/TuringCollegeSubmissions/lcramw-DS.1.4/master/Case.csv?token=AFU2SI6VUUPBE5YQYZMOLXC72HE3S\")\n",
        "patient = pd.read_csv(\"https://raw.githubusercontent.com/TuringCollegeSubmissions/lcramw-DS.1.4/master/PatientInfo.csv?token=AFU2SI3MJJRN7U6ASU47T4C72HE2G\")\n",
        "# policy = pd.read_csv(\"https://raw.githubusercontent.com/TuringCollegeSubmissions/lcramw-DS.1.4/master/Policy.csv?token=AFU2SIY2DTJJUOJKVJ6FRHK72HGLI\")\n",
        "region = pd.read_csv(\"https://raw.githubusercontent.com/TuringCollegeSubmissions/lcramw-DS.1.4/master/Region.csv?token=AFU2SIYZDGW7DBUX7RYONTS72HGJU\")\n",
        "search_trend = pd.read_csv(\"https://raw.githubusercontent.com/TuringCollegeSubmissions/lcramw-DS.1.4/master/SearchTrend.csv?token=AFU2SI6XXFGO6I7ZNW6SAUK72HGHU\")\n",
        "# seoul = pd.read_csv(\"https://github.com/TuringCollegeSubmissions/lcramw-DS.1.4/blob/master/SeoulFloating.csv.zip?raw=true\")\n",
        "# time = pd.read_csv(\"https://raw.githubusercontent.com/TuringCollegeSubmissions/lcramw-DS.1.4/master/Time.csv?token=AFU2SI3BAPSZX6HQDT4SZZ272HGFS\")\n",
        "# time_age = pd.read_csv(\"https://raw.githubusercontent.com/TuringCollegeSubmissions/lcramw-DS.1.4/master/TimeAge.csv?token=AFU2SI7BED77ELOCPDVT2YC72HGEU\")\n",
        "# time_gender = pd.read_csv(\"https://raw.githubusercontent.com/TuringCollegeSubmissions/lcramw-DS.1.4/master/TimeGender.csv?token=AFU2SIZMN7GXCQHJ5IHQIMK72HGC2\")\n",
        "# time_province = pd.read_csv(\"https://raw.githubusercontent.com/TuringCollegeSubmissions/lcramw-DS.1.4/master/TimeProvince.csv?token=AFU2SI2GS5CZLMYM2GSQP3272HGBS\")\n",
        "weather = pd.read_csv(\"https://raw.githubusercontent.com/TuringCollegeSubmissions/lcramw-DS.1.4/master/Weather.csv?token=AFU2SI7TOYZRPM5GX6JMVOC72HGAU\")"
      ],
      "execution_count": 879,
      "outputs": []
    },
    {
      "cell_type": "code",
      "metadata": {
        "id": "UUxIBj1tivAL"
      },
      "source": [
        "# Loading extra data\n",
        "confirmed_df = pd.read_csv('https://raw.githubusercontent.com/CSSEGISandData/COVID-19/master/csse_covid_19_data/csse_covid_19_time_series/time_series_covid19_confirmed_global.csv')\n",
        "deaths_df = pd.read_csv('https://raw.githubusercontent.com/CSSEGISandData/COVID-19/master/csse_covid_19_data/csse_covid_19_time_series/time_series_covid19_deaths_global.csv')\n",
        "recoveries_df = pd.read_csv('https://raw.githubusercontent.com/CSSEGISandData/COVID-19/master/csse_covid_19_data/csse_covid_19_time_series/time_series_covid19_recovered_global.csv')\n",
        "latest_data = pd.read_csv('https://raw.githubusercontent.com/CSSEGISandData/COVID-19/master/csse_covid_19_data/csse_covid_19_daily_reports/08-22-2020.csv')\n",
        "us_medical_data = pd.read_csv('https://raw.githubusercontent.com/CSSEGISandData/COVID-19/master/csse_covid_19_data/csse_covid_19_daily_reports_us/08-22-2020.csv')"
      ],
      "execution_count": 3,
      "outputs": []
    },
    {
      "cell_type": "markdown",
      "metadata": {
        "id": "AxqzrPas9HPY"
      },
      "source": [
        "### EDA"
      ]
    },
    {
      "cell_type": "markdown",
      "metadata": {
        "id": "e3Xx3MeIT8pt"
      },
      "source": [
        "#### Exploring"
      ]
    },
    {
      "cell_type": "code",
      "metadata": {
        "id": "s1zQlF5Q-UfF",
        "colab": {
          "base_uri": "https://localhost:8080/",
          "height": 165
        },
        "outputId": "111b30bb-57f2-4a57-b6e4-b5f84714f978"
      },
      "source": [
        "# Checking patient df\n",
        "patient.head(2)"
      ],
      "execution_count": 475,
      "outputs": [
        {
          "output_type": "execute_result",
          "data": {
            "text/html": [
              "<div>\n",
              "<style scoped>\n",
              "    .dataframe tbody tr th:only-of-type {\n",
              "        vertical-align: middle;\n",
              "    }\n",
              "\n",
              "    .dataframe tbody tr th {\n",
              "        vertical-align: top;\n",
              "    }\n",
              "\n",
              "    .dataframe thead th {\n",
              "        text-align: right;\n",
              "    }\n",
              "</style>\n",
              "<table border=\"1\" class=\"dataframe\">\n",
              "  <thead>\n",
              "    <tr style=\"text-align: right;\">\n",
              "      <th></th>\n",
              "      <th>patient_id</th>\n",
              "      <th>sex</th>\n",
              "      <th>age</th>\n",
              "      <th>country</th>\n",
              "      <th>province</th>\n",
              "      <th>city</th>\n",
              "      <th>infection_case</th>\n",
              "      <th>infected_by</th>\n",
              "      <th>contact_number</th>\n",
              "      <th>symptom_onset_date</th>\n",
              "      <th>confirmed_date</th>\n",
              "      <th>released_date</th>\n",
              "      <th>deceased_date</th>\n",
              "      <th>state</th>\n",
              "    </tr>\n",
              "  </thead>\n",
              "  <tbody>\n",
              "    <tr>\n",
              "      <th>0</th>\n",
              "      <td>1000000001</td>\n",
              "      <td>male</td>\n",
              "      <td>50s</td>\n",
              "      <td>Korea</td>\n",
              "      <td>Seoul</td>\n",
              "      <td>Gangseo-gu</td>\n",
              "      <td>overseas inflow</td>\n",
              "      <td>NaN</td>\n",
              "      <td>75</td>\n",
              "      <td>2020-01-22</td>\n",
              "      <td>2020-01-23</td>\n",
              "      <td>2020-02-05</td>\n",
              "      <td>NaN</td>\n",
              "      <td>released</td>\n",
              "    </tr>\n",
              "    <tr>\n",
              "      <th>1</th>\n",
              "      <td>1000000002</td>\n",
              "      <td>male</td>\n",
              "      <td>30s</td>\n",
              "      <td>Korea</td>\n",
              "      <td>Seoul</td>\n",
              "      <td>Jungnang-gu</td>\n",
              "      <td>overseas inflow</td>\n",
              "      <td>NaN</td>\n",
              "      <td>31</td>\n",
              "      <td>NaN</td>\n",
              "      <td>2020-01-30</td>\n",
              "      <td>2020-03-02</td>\n",
              "      <td>NaN</td>\n",
              "      <td>released</td>\n",
              "    </tr>\n",
              "  </tbody>\n",
              "</table>\n",
              "</div>"
            ],
            "text/plain": [
              "   patient_id   sex  age  ... released_date deceased_date     state\n",
              "0  1000000001  male  50s  ...    2020-02-05           NaN  released\n",
              "1  1000000002  male  30s  ...    2020-03-02           NaN  released\n",
              "\n",
              "[2 rows x 14 columns]"
            ]
          },
          "metadata": {
            "tags": []
          },
          "execution_count": 475
        }
      ]
    },
    {
      "cell_type": "code",
      "metadata": {
        "colab": {
          "base_uri": "https://localhost:8080/"
        },
        "id": "1uqG758rYS9j",
        "outputId": "278e7b43-8061-421c-84a7-6c475b554084"
      },
      "source": [
        "# Checking shape\n",
        "patient.shape"
      ],
      "execution_count": 476,
      "outputs": [
        {
          "output_type": "execute_result",
          "data": {
            "text/plain": [
              "(5165, 14)"
            ]
          },
          "metadata": {
            "tags": []
          },
          "execution_count": 476
        }
      ]
    },
    {
      "cell_type": "code",
      "metadata": {
        "colab": {
          "base_uri": "https://localhost:8080/"
        },
        "id": "m5CqE1g0ZGDS",
        "outputId": "ceeb4300-c5f9-48e5-fa66-52b38bf49cea"
      },
      "source": [
        "# Checking info for dtypes and null values\n",
        "patient.info()"
      ],
      "execution_count": 477,
      "outputs": [
        {
          "output_type": "stream",
          "text": [
            "<class 'pandas.core.frame.DataFrame'>\n",
            "RangeIndex: 5165 entries, 0 to 5164\n",
            "Data columns (total 14 columns):\n",
            " #   Column              Non-Null Count  Dtype \n",
            "---  ------              --------------  ----- \n",
            " 0   patient_id          5165 non-null   int64 \n",
            " 1   sex                 4043 non-null   object\n",
            " 2   age                 3785 non-null   object\n",
            " 3   country             5165 non-null   object\n",
            " 4   province            5165 non-null   object\n",
            " 5   city                5071 non-null   object\n",
            " 6   infection_case      4246 non-null   object\n",
            " 7   infected_by         1346 non-null   object\n",
            " 8   contact_number      791 non-null    object\n",
            " 9   symptom_onset_date  690 non-null    object\n",
            " 10  confirmed_date      5162 non-null   object\n",
            " 11  released_date       1587 non-null   object\n",
            " 12  deceased_date       66 non-null     object\n",
            " 13  state               5165 non-null   object\n",
            "dtypes: int64(1), object(13)\n",
            "memory usage: 565.0+ KB\n"
          ],
          "name": "stdout"
        }
      ]
    },
    {
      "cell_type": "code",
      "metadata": {
        "colab": {
          "base_uri": "https://localhost:8080/"
        },
        "id": "sVM6a33UeC7r",
        "outputId": "3bd61c3a-5db9-46c7-ee3e-e3fa3d50b414"
      },
      "source": [
        "print(\"first Infected date in korea: \", patient['confirmed_date'][0])"
      ],
      "execution_count": 478,
      "outputs": [
        {
          "output_type": "stream",
          "text": [
            "first Infected date in korea:  2020-01-23\n"
          ],
          "name": "stdout"
        }
      ]
    },
    {
      "cell_type": "code",
      "metadata": {
        "colab": {
          "base_uri": "https://localhost:8080/",
          "height": 148
        },
        "id": "yVATw2MccfKN",
        "outputId": "452d48e1-2b17-4761-e054-385371b4410a"
      },
      "source": [
        "# Checking region df\n",
        "region.head(2)"
      ],
      "execution_count": 479,
      "outputs": [
        {
          "output_type": "execute_result",
          "data": {
            "text/html": [
              "<div>\n",
              "<style scoped>\n",
              "    .dataframe tbody tr th:only-of-type {\n",
              "        vertical-align: middle;\n",
              "    }\n",
              "\n",
              "    .dataframe tbody tr th {\n",
              "        vertical-align: top;\n",
              "    }\n",
              "\n",
              "    .dataframe thead th {\n",
              "        text-align: right;\n",
              "    }\n",
              "</style>\n",
              "<table border=\"1\" class=\"dataframe\">\n",
              "  <thead>\n",
              "    <tr style=\"text-align: right;\">\n",
              "      <th></th>\n",
              "      <th>code</th>\n",
              "      <th>province</th>\n",
              "      <th>city</th>\n",
              "      <th>latitude</th>\n",
              "      <th>longitude</th>\n",
              "      <th>elementary_school_count</th>\n",
              "      <th>kindergarten_count</th>\n",
              "      <th>university_count</th>\n",
              "      <th>academy_ratio</th>\n",
              "      <th>elderly_population_ratio</th>\n",
              "      <th>elderly_alone_ratio</th>\n",
              "      <th>nursing_home_count</th>\n",
              "    </tr>\n",
              "  </thead>\n",
              "  <tbody>\n",
              "    <tr>\n",
              "      <th>0</th>\n",
              "      <td>10000</td>\n",
              "      <td>Seoul</td>\n",
              "      <td>Seoul</td>\n",
              "      <td>37.566953</td>\n",
              "      <td>126.977977</td>\n",
              "      <td>607</td>\n",
              "      <td>830</td>\n",
              "      <td>48</td>\n",
              "      <td>1.44</td>\n",
              "      <td>15.38</td>\n",
              "      <td>5.8</td>\n",
              "      <td>22739</td>\n",
              "    </tr>\n",
              "    <tr>\n",
              "      <th>1</th>\n",
              "      <td>10010</td>\n",
              "      <td>Seoul</td>\n",
              "      <td>Gangnam-gu</td>\n",
              "      <td>37.518421</td>\n",
              "      <td>127.047222</td>\n",
              "      <td>33</td>\n",
              "      <td>38</td>\n",
              "      <td>0</td>\n",
              "      <td>4.18</td>\n",
              "      <td>13.17</td>\n",
              "      <td>4.3</td>\n",
              "      <td>3088</td>\n",
              "    </tr>\n",
              "  </tbody>\n",
              "</table>\n",
              "</div>"
            ],
            "text/plain": [
              "    code province  ... elderly_alone_ratio  nursing_home_count\n",
              "0  10000    Seoul  ...                 5.8               22739\n",
              "1  10010    Seoul  ...                 4.3                3088\n",
              "\n",
              "[2 rows x 12 columns]"
            ]
          },
          "metadata": {
            "tags": []
          },
          "execution_count": 479
        }
      ]
    },
    {
      "cell_type": "code",
      "metadata": {
        "colab": {
          "base_uri": "https://localhost:8080/"
        },
        "id": "4BvGKHS7hzfo",
        "outputId": "2f808dd5-904b-464c-df9c-0c68d37c94b6"
      },
      "source": [
        "# Checking shape\n",
        "region.shape"
      ],
      "execution_count": 480,
      "outputs": [
        {
          "output_type": "execute_result",
          "data": {
            "text/plain": [
              "(244, 12)"
            ]
          },
          "metadata": {
            "tags": []
          },
          "execution_count": 480
        }
      ]
    },
    {
      "cell_type": "code",
      "metadata": {
        "colab": {
          "base_uri": "https://localhost:8080/"
        },
        "id": "VR119QXoUHXT",
        "outputId": "8a799aac-f045-4dc8-bd6b-66099f6e9d3d"
      },
      "source": [
        "# Checking info for dtypes and null values\n",
        "region.info()"
      ],
      "execution_count": 481,
      "outputs": [
        {
          "output_type": "stream",
          "text": [
            "<class 'pandas.core.frame.DataFrame'>\n",
            "RangeIndex: 244 entries, 0 to 243\n",
            "Data columns (total 12 columns):\n",
            " #   Column                    Non-Null Count  Dtype  \n",
            "---  ------                    --------------  -----  \n",
            " 0   code                      244 non-null    int64  \n",
            " 1   province                  244 non-null    object \n",
            " 2   city                      244 non-null    object \n",
            " 3   latitude                  244 non-null    float64\n",
            " 4   longitude                 244 non-null    float64\n",
            " 5   elementary_school_count   244 non-null    int64  \n",
            " 6   kindergarten_count        244 non-null    int64  \n",
            " 7   university_count          244 non-null    int64  \n",
            " 8   academy_ratio             244 non-null    float64\n",
            " 9   elderly_population_ratio  244 non-null    float64\n",
            " 10  elderly_alone_ratio       244 non-null    float64\n",
            " 11  nursing_home_count        244 non-null    int64  \n",
            "dtypes: float64(5), int64(5), object(2)\n",
            "memory usage: 23.0+ KB\n"
          ],
          "name": "stdout"
        }
      ]
    },
    {
      "cell_type": "code",
      "metadata": {
        "colab": {
          "base_uri": "https://localhost:8080/",
          "height": 111
        },
        "id": "c6eE8y4hUbUZ",
        "outputId": "b539452c-1d45-4ed9-9730-062c0314aa6c"
      },
      "source": [
        "# Checking weather df\n",
        "weather.head(2)"
      ],
      "execution_count": 496,
      "outputs": [
        {
          "output_type": "execute_result",
          "data": {
            "text/html": [
              "<div>\n",
              "<style scoped>\n",
              "    .dataframe tbody tr th:only-of-type {\n",
              "        vertical-align: middle;\n",
              "    }\n",
              "\n",
              "    .dataframe tbody tr th {\n",
              "        vertical-align: top;\n",
              "    }\n",
              "\n",
              "    .dataframe thead th {\n",
              "        text-align: right;\n",
              "    }\n",
              "</style>\n",
              "<table border=\"1\" class=\"dataframe\">\n",
              "  <thead>\n",
              "    <tr style=\"text-align: right;\">\n",
              "      <th></th>\n",
              "      <th>code</th>\n",
              "      <th>province</th>\n",
              "      <th>date</th>\n",
              "      <th>avg_temp</th>\n",
              "      <th>min_temp</th>\n",
              "      <th>max_temp</th>\n",
              "      <th>precipitation</th>\n",
              "      <th>max_wind_speed</th>\n",
              "      <th>most_wind_direction</th>\n",
              "      <th>avg_relative_humidity</th>\n",
              "      <th>province_name</th>\n",
              "    </tr>\n",
              "  </thead>\n",
              "  <tbody>\n",
              "    <tr>\n",
              "      <th>0</th>\n",
              "      <td>10000</td>\n",
              "      <td>Seoul</td>\n",
              "      <td>2016-01-01</td>\n",
              "      <td>1.2</td>\n",
              "      <td>-3.3</td>\n",
              "      <td>4.0</td>\n",
              "      <td>0.0</td>\n",
              "      <td>3.5</td>\n",
              "      <td>90.0</td>\n",
              "      <td>73.0</td>\n",
              "      <td>Seoul</td>\n",
              "    </tr>\n",
              "    <tr>\n",
              "      <th>1</th>\n",
              "      <td>11000</td>\n",
              "      <td>Busan</td>\n",
              "      <td>2016-01-01</td>\n",
              "      <td>5.3</td>\n",
              "      <td>1.1</td>\n",
              "      <td>10.9</td>\n",
              "      <td>0.0</td>\n",
              "      <td>7.4</td>\n",
              "      <td>340.0</td>\n",
              "      <td>52.1</td>\n",
              "      <td>Busan</td>\n",
              "    </tr>\n",
              "  </tbody>\n",
              "</table>\n",
              "</div>"
            ],
            "text/plain": [
              "    code province  ... avg_relative_humidity  province_name\n",
              "0  10000    Seoul  ...                  73.0          Seoul\n",
              "1  11000    Busan  ...                  52.1          Busan\n",
              "\n",
              "[2 rows x 11 columns]"
            ]
          },
          "metadata": {
            "tags": []
          },
          "execution_count": 496
        }
      ]
    },
    {
      "cell_type": "code",
      "metadata": {
        "colab": {
          "base_uri": "https://localhost:8080/"
        },
        "id": "oiqU03baUbUa",
        "outputId": "8ea5d05e-8299-4d65-8253-ec190c5ca07c"
      },
      "source": [
        "# Checking shape\n",
        "weather.shape"
      ],
      "execution_count": 489,
      "outputs": [
        {
          "output_type": "execute_result",
          "data": {
            "text/plain": [
              "(26271, 11)"
            ]
          },
          "metadata": {
            "tags": []
          },
          "execution_count": 489
        }
      ]
    },
    {
      "cell_type": "code",
      "metadata": {
        "colab": {
          "base_uri": "https://localhost:8080/"
        },
        "id": "7y98aUPUUbUa",
        "outputId": "c1212b5d-b61c-487d-c700-541e694acce6"
      },
      "source": [
        "# Checking info for dtypes and null values\n",
        "weather.info()"
      ],
      "execution_count": 490,
      "outputs": [
        {
          "output_type": "stream",
          "text": [
            "<class 'pandas.core.frame.DataFrame'>\n",
            "RangeIndex: 26271 entries, 0 to 26270\n",
            "Data columns (total 11 columns):\n",
            " #   Column                 Non-Null Count  Dtype  \n",
            "---  ------                 --------------  -----  \n",
            " 0   code                   26271 non-null  int64  \n",
            " 1   province               26271 non-null  object \n",
            " 2   date                   26271 non-null  object \n",
            " 3   avg_temp               26256 non-null  float64\n",
            " 4   min_temp               26266 non-null  float64\n",
            " 5   max_temp               26268 non-null  float64\n",
            " 6   precipitation          26271 non-null  float64\n",
            " 7   max_wind_speed         26262 non-null  float64\n",
            " 8   most_wind_direction    26242 non-null  float64\n",
            " 9   avg_relative_humidity  26251 non-null  float64\n",
            " 10  province_name          26271 non-null  object \n",
            "dtypes: float64(7), int64(1), object(3)\n",
            "memory usage: 2.2+ MB\n"
          ],
          "name": "stdout"
        }
      ]
    },
    {
      "cell_type": "code",
      "metadata": {
        "colab": {
          "base_uri": "https://localhost:8080/"
        },
        "id": "pXATBM0uYyz2",
        "outputId": "ca36001d-ce10-4f51-db4f-b3afbe8bc369"
      },
      "source": [
        "# Check the provinces\n",
        "weather.province.value_counts()"
      ],
      "execution_count": 525,
      "outputs": [
        {
          "output_type": "execute_result",
          "data": {
            "text/plain": [
              "Incheon              1642\n",
              "Gwangju              1642\n",
              "Daejeon              1642\n",
              "Jeollanam-do         1642\n",
              "Daegu                1642\n",
              "Gyeongsangnam-do     1642\n",
              "Gyeongsangbuk-do     1642\n",
              "Ulsan                1642\n",
              "Gangwon-do           1642\n",
              "Gyeonggi-do          1642\n",
              "Busan                1642\n",
              "Jeollabuk-do         1642\n",
              "Seoul                1642\n",
              "Jeju-do              1642\n",
              "Chungcheongnam-do    1641\n",
              "Chungcheongbuk-do    1613\n",
              "Chunghceongbuk-do      29\n",
              "Name: province, dtype: int64"
            ]
          },
          "metadata": {
            "tags": []
          },
          "execution_count": 525
        }
      ]
    },
    {
      "cell_type": "code",
      "metadata": {
        "id": "cqA-XDWNZnRX"
      },
      "source": [
        "# Fix typo in province name \n",
        "weather['province'] = weather['province'].str.replace('Chunghceongbuk', 'Chungcheongbuk')"
      ],
      "execution_count": 526,
      "outputs": []
    },
    {
      "cell_type": "code",
      "metadata": {
        "colab": {
          "base_uri": "https://localhost:8080/",
          "height": 576
        },
        "id": "jrDv8y7JU2Jk",
        "outputId": "8b2a5616-d7d4-49b7-a673-1d0c47bf5e21"
      },
      "source": [
        "# Group by province\n",
        "weather_grouped = weather.groupby(['province']).mean().round(1)\n",
        "weather_grouped"
      ],
      "execution_count": 528,
      "outputs": [
        {
          "output_type": "execute_result",
          "data": {
            "text/html": [
              "<div>\n",
              "<style scoped>\n",
              "    .dataframe tbody tr th:only-of-type {\n",
              "        vertical-align: middle;\n",
              "    }\n",
              "\n",
              "    .dataframe tbody tr th {\n",
              "        vertical-align: top;\n",
              "    }\n",
              "\n",
              "    .dataframe thead th {\n",
              "        text-align: right;\n",
              "    }\n",
              "</style>\n",
              "<table border=\"1\" class=\"dataframe\">\n",
              "  <thead>\n",
              "    <tr style=\"text-align: right;\">\n",
              "      <th></th>\n",
              "      <th>code</th>\n",
              "      <th>avg_temp</th>\n",
              "      <th>min_temp</th>\n",
              "      <th>max_temp</th>\n",
              "      <th>precipitation</th>\n",
              "      <th>max_wind_speed</th>\n",
              "      <th>most_wind_direction</th>\n",
              "      <th>avg_relative_humidity</th>\n",
              "    </tr>\n",
              "    <tr>\n",
              "      <th>province</th>\n",
              "      <th></th>\n",
              "      <th></th>\n",
              "      <th></th>\n",
              "      <th></th>\n",
              "      <th></th>\n",
              "      <th></th>\n",
              "      <th></th>\n",
              "      <th></th>\n",
              "    </tr>\n",
              "  </thead>\n",
              "  <tbody>\n",
              "    <tr>\n",
              "      <th>Busan</th>\n",
              "      <td>11000</td>\n",
              "      <td>15.2</td>\n",
              "      <td>11.9</td>\n",
              "      <td>19.4</td>\n",
              "      <td>1.9</td>\n",
              "      <td>6.4</td>\n",
              "      <td>186.2</td>\n",
              "      <td>62.8</td>\n",
              "    </tr>\n",
              "    <tr>\n",
              "      <th>Chungcheongbuk-do</th>\n",
              "      <td>40000</td>\n",
              "      <td>12.1</td>\n",
              "      <td>6.5</td>\n",
              "      <td>18.4</td>\n",
              "      <td>1.3</td>\n",
              "      <td>3.9</td>\n",
              "      <td>149.3</td>\n",
              "      <td>65.0</td>\n",
              "    </tr>\n",
              "    <tr>\n",
              "      <th>Chungcheongnam-do</th>\n",
              "      <td>41000</td>\n",
              "      <td>12.3</td>\n",
              "      <td>7.3</td>\n",
              "      <td>17.8</td>\n",
              "      <td>1.2</td>\n",
              "      <td>4.8</td>\n",
              "      <td>192.7</td>\n",
              "      <td>75.3</td>\n",
              "    </tr>\n",
              "    <tr>\n",
              "      <th>Daegu</th>\n",
              "      <td>12000</td>\n",
              "      <td>14.3</td>\n",
              "      <td>9.4</td>\n",
              "      <td>19.8</td>\n",
              "      <td>1.3</td>\n",
              "      <td>5.0</td>\n",
              "      <td>208.8</td>\n",
              "      <td>60.3</td>\n",
              "    </tr>\n",
              "    <tr>\n",
              "      <th>Daejeon</th>\n",
              "      <td>15000</td>\n",
              "      <td>13.5</td>\n",
              "      <td>8.7</td>\n",
              "      <td>19.0</td>\n",
              "      <td>1.6</td>\n",
              "      <td>3.9</td>\n",
              "      <td>238.4</td>\n",
              "      <td>68.4</td>\n",
              "    </tr>\n",
              "    <tr>\n",
              "      <th>Gangwon-do</th>\n",
              "      <td>30000</td>\n",
              "      <td>13.9</td>\n",
              "      <td>9.9</td>\n",
              "      <td>18.3</td>\n",
              "      <td>1.5</td>\n",
              "      <td>5.0</td>\n",
              "      <td>234.8</td>\n",
              "      <td>55.6</td>\n",
              "    </tr>\n",
              "    <tr>\n",
              "      <th>Gwangju</th>\n",
              "      <td>13000</td>\n",
              "      <td>14.5</td>\n",
              "      <td>10.2</td>\n",
              "      <td>19.8</td>\n",
              "      <td>1.6</td>\n",
              "      <td>4.1</td>\n",
              "      <td>136.8</td>\n",
              "      <td>69.6</td>\n",
              "    </tr>\n",
              "    <tr>\n",
              "      <th>Gyeonggi-do</th>\n",
              "      <td>20000</td>\n",
              "      <td>12.8</td>\n",
              "      <td>8.0</td>\n",
              "      <td>18.4</td>\n",
              "      <td>1.5</td>\n",
              "      <td>4.5</td>\n",
              "      <td>221.8</td>\n",
              "      <td>68.9</td>\n",
              "    </tr>\n",
              "    <tr>\n",
              "      <th>Gyeongsangbuk-do</th>\n",
              "      <td>60000</td>\n",
              "      <td>13.5</td>\n",
              "      <td>8.8</td>\n",
              "      <td>19.1</td>\n",
              "      <td>1.3</td>\n",
              "      <td>6.1</td>\n",
              "      <td>180.5</td>\n",
              "      <td>62.5</td>\n",
              "    </tr>\n",
              "    <tr>\n",
              "      <th>Gyeongsangnam-do</th>\n",
              "      <td>61000</td>\n",
              "      <td>14.4</td>\n",
              "      <td>10.3</td>\n",
              "      <td>19.4</td>\n",
              "      <td>1.9</td>\n",
              "      <td>4.5</td>\n",
              "      <td>135.8</td>\n",
              "      <td>64.3</td>\n",
              "    </tr>\n",
              "    <tr>\n",
              "      <th>Incheon</th>\n",
              "      <td>14000</td>\n",
              "      <td>12.6</td>\n",
              "      <td>9.4</td>\n",
              "      <td>16.4</td>\n",
              "      <td>1.2</td>\n",
              "      <td>5.8</td>\n",
              "      <td>211.1</td>\n",
              "      <td>67.6</td>\n",
              "    </tr>\n",
              "    <tr>\n",
              "      <th>Jeju-do</th>\n",
              "      <td>70000</td>\n",
              "      <td>16.5</td>\n",
              "      <td>13.8</td>\n",
              "      <td>19.8</td>\n",
              "      <td>1.5</td>\n",
              "      <td>6.2</td>\n",
              "      <td>182.8</td>\n",
              "      <td>69.8</td>\n",
              "    </tr>\n",
              "    <tr>\n",
              "      <th>Jeollabuk-do</th>\n",
              "      <td>50000</td>\n",
              "      <td>13.8</td>\n",
              "      <td>9.4</td>\n",
              "      <td>19.1</td>\n",
              "      <td>1.4</td>\n",
              "      <td>4.3</td>\n",
              "      <td>205.5</td>\n",
              "      <td>71.8</td>\n",
              "    </tr>\n",
              "    <tr>\n",
              "      <th>Jeollanam-do</th>\n",
              "      <td>51000</td>\n",
              "      <td>14.9</td>\n",
              "      <td>11.9</td>\n",
              "      <td>18.5</td>\n",
              "      <td>1.8</td>\n",
              "      <td>8.0</td>\n",
              "      <td>182.5</td>\n",
              "      <td>65.3</td>\n",
              "    </tr>\n",
              "    <tr>\n",
              "      <th>Seoul</th>\n",
              "      <td>10000</td>\n",
              "      <td>13.0</td>\n",
              "      <td>8.8</td>\n",
              "      <td>18.0</td>\n",
              "      <td>1.4</td>\n",
              "      <td>4.5</td>\n",
              "      <td>210.3</td>\n",
              "      <td>57.7</td>\n",
              "    </tr>\n",
              "    <tr>\n",
              "      <th>Ulsan</th>\n",
              "      <td>16000</td>\n",
              "      <td>14.4</td>\n",
              "      <td>10.2</td>\n",
              "      <td>19.2</td>\n",
              "      <td>1.6</td>\n",
              "      <td>4.7</td>\n",
              "      <td>257.1</td>\n",
              "      <td>66.2</td>\n",
              "    </tr>\n",
              "  </tbody>\n",
              "</table>\n",
              "</div>"
            ],
            "text/plain": [
              "                    code  avg_temp  ...  most_wind_direction  avg_relative_humidity\n",
              "province                            ...                                            \n",
              "Busan              11000      15.2  ...                186.2                   62.8\n",
              "Chungcheongbuk-do  40000      12.1  ...                149.3                   65.0\n",
              "Chungcheongnam-do  41000      12.3  ...                192.7                   75.3\n",
              "Daegu              12000      14.3  ...                208.8                   60.3\n",
              "Daejeon            15000      13.5  ...                238.4                   68.4\n",
              "Gangwon-do         30000      13.9  ...                234.8                   55.6\n",
              "Gwangju            13000      14.5  ...                136.8                   69.6\n",
              "Gyeonggi-do        20000      12.8  ...                221.8                   68.9\n",
              "Gyeongsangbuk-do   60000      13.5  ...                180.5                   62.5\n",
              "Gyeongsangnam-do   61000      14.4  ...                135.8                   64.3\n",
              "Incheon            14000      12.6  ...                211.1                   67.6\n",
              "Jeju-do            70000      16.5  ...                182.8                   69.8\n",
              "Jeollabuk-do       50000      13.8  ...                205.5                   71.8\n",
              "Jeollanam-do       51000      14.9  ...                182.5                   65.3\n",
              "Seoul              10000      13.0  ...                210.3                   57.7\n",
              "Ulsan              16000      14.4  ...                257.1                   66.2\n",
              "\n",
              "[16 rows x 8 columns]"
            ]
          },
          "metadata": {
            "tags": []
          },
          "execution_count": 528
        }
      ]
    },
    {
      "cell_type": "code",
      "metadata": {
        "id": "FXKh9sCTxE_T",
        "colab": {
          "base_uri": "https://localhost:8080/",
          "height": 111
        },
        "outputId": "f4ae0d0f-e1d8-4d20-fad7-a95d2dcbc7ed"
      },
      "source": [
        "# Checking weather df\n",
        "search_trend.head(2)"
      ],
      "execution_count": 630,
      "outputs": [
        {
          "output_type": "execute_result",
          "data": {
            "text/html": [
              "<div>\n",
              "<style scoped>\n",
              "    .dataframe tbody tr th:only-of-type {\n",
              "        vertical-align: middle;\n",
              "    }\n",
              "\n",
              "    .dataframe tbody tr th {\n",
              "        vertical-align: top;\n",
              "    }\n",
              "\n",
              "    .dataframe thead th {\n",
              "        text-align: right;\n",
              "    }\n",
              "</style>\n",
              "<table border=\"1\" class=\"dataframe\">\n",
              "  <thead>\n",
              "    <tr style=\"text-align: right;\">\n",
              "      <th></th>\n",
              "      <th>date</th>\n",
              "      <th>cold</th>\n",
              "      <th>flu</th>\n",
              "      <th>pneumonia</th>\n",
              "      <th>coronavirus</th>\n",
              "    </tr>\n",
              "  </thead>\n",
              "  <tbody>\n",
              "    <tr>\n",
              "      <th>0</th>\n",
              "      <td>2016-01-01</td>\n",
              "      <td>0.11663</td>\n",
              "      <td>0.05590</td>\n",
              "      <td>0.15726</td>\n",
              "      <td>0.00736</td>\n",
              "    </tr>\n",
              "    <tr>\n",
              "      <th>1</th>\n",
              "      <td>2016-01-02</td>\n",
              "      <td>0.13372</td>\n",
              "      <td>0.17135</td>\n",
              "      <td>0.20826</td>\n",
              "      <td>0.00890</td>\n",
              "    </tr>\n",
              "  </tbody>\n",
              "</table>\n",
              "</div>"
            ],
            "text/plain": [
              "         date     cold      flu  pneumonia  coronavirus\n",
              "0  2016-01-01  0.11663  0.05590    0.15726      0.00736\n",
              "1  2016-01-02  0.13372  0.17135    0.20826      0.00890"
            ]
          },
          "metadata": {
            "tags": []
          },
          "execution_count": 630
        }
      ]
    },
    {
      "cell_type": "code",
      "metadata": {
        "colab": {
          "base_uri": "https://localhost:8080/"
        },
        "id": "chmF9JHZfgnX",
        "outputId": "dea37d58-a40b-4ea4-a747-2bed8acf73aa"
      },
      "source": [
        "# Checking shape\n",
        "search_trend.shape"
      ],
      "execution_count": 631,
      "outputs": [
        {
          "output_type": "execute_result",
          "data": {
            "text/plain": [
              "(1642, 5)"
            ]
          },
          "metadata": {
            "tags": []
          },
          "execution_count": 631
        }
      ]
    },
    {
      "cell_type": "code",
      "metadata": {
        "id": "I2rF8y4Dx07Q",
        "colab": {
          "base_uri": "https://localhost:8080/"
        },
        "outputId": "0f8ff67b-d35c-40b9-865b-aa661daaee2f"
      },
      "source": [
        "# Checking info\n",
        "search_trend.info()"
      ],
      "execution_count": 632,
      "outputs": [
        {
          "output_type": "stream",
          "text": [
            "<class 'pandas.core.frame.DataFrame'>\n",
            "RangeIndex: 1642 entries, 0 to 1641\n",
            "Data columns (total 5 columns):\n",
            " #   Column       Non-Null Count  Dtype  \n",
            "---  ------       --------------  -----  \n",
            " 0   date         1642 non-null   object \n",
            " 1   cold         1642 non-null   float64\n",
            " 2   flu          1642 non-null   float64\n",
            " 3   pneumonia    1642 non-null   float64\n",
            " 4   coronavirus  1642 non-null   float64\n",
            "dtypes: float64(4), object(1)\n",
            "memory usage: 64.3+ KB\n"
          ],
          "name": "stdout"
        }
      ]
    },
    {
      "cell_type": "markdown",
      "metadata": {
        "id": "ISz_efBFULum"
      },
      "source": [
        "#### Visualizing"
      ]
    },
    {
      "cell_type": "markdown",
      "metadata": {
        "id": "XN7YgbuFgX25"
      },
      "source": [
        "##### Search trends"
      ]
    },
    {
      "cell_type": "code",
      "metadata": {
        "id": "r6jiCDlIyIu3"
      },
      "source": [
        "# Set date as index\n",
        "search_trend.set_index('date', inplace=True)"
      ],
      "execution_count": null,
      "outputs": []
    },
    {
      "cell_type": "code",
      "metadata": {
        "id": "5QPhY1bV6swU"
      },
      "source": [
        "# Set as day for the plot\n",
        "search_trend = search_trend.asfreq('D', method='pad')"
      ],
      "execution_count": null,
      "outputs": []
    },
    {
      "cell_type": "code",
      "metadata": {
        "id": "kLAGI6BLxZfy",
        "colab": {
          "base_uri": "https://localhost:8080/",
          "height": 644
        },
        "outputId": "2e29832f-9d19-4f58-e72a-dac6d833a129"
      },
      "source": [
        "# Plot search_trend\n",
        "plt.figure(figsize=(22,10))\n",
        "plt.plot(search_trend)\n",
        "\n",
        "# Set axis settings and labels\n",
        "plt.ylabel('Relative search volume');\n",
        "plt.xlabel('Date');\n",
        "plt.title('Relative keyword searches in NAVER South-Korea')\n",
        "plt.xlim((pd.to_datetime(\"2020-01-01\"),pd.to_datetime(\"2020-07-01\")))\n",
        "\n",
        "\n",
        "# show a legend on the plot\n",
        "plt.legend(labels=['cold', 'flu', 'pneumonia', 'coronavirus'])"
      ],
      "execution_count": null,
      "outputs": [
        {
          "output_type": "execute_result",
          "data": {
            "text/plain": [
              "<matplotlib.legend.Legend at 0x7f715c929278>"
            ]
          },
          "metadata": {
            "tags": []
          },
          "execution_count": 183
        },
        {
          "output_type": "display_data",
          "data": {
            "image/png": "[encoded data removed]",
            "text/plain": [
              "<Figure size 1584x720 with 1 Axes>"
            ]
          },
          "metadata": {
            "tags": []
          }
        }
      ]
    },
    {
      "cell_type": "markdown",
      "metadata": {
        "id": "c9nq6_SSgbO4"
      },
      "source": [
        "##### Provinces"
      ]
    },
    {
      "cell_type": "code",
      "metadata": {
        "id": "HVkCEDTRhBBy"
      },
      "source": [
        "# Select columns from region df\n",
        "region_province = region[['province','city','elementary_school_count','kindergarten_count', 'university_count', 'academy_ratio', 'elderly_population_ratio', 'elderly_alone_ratio', 'nursing_home_count']]"
      ],
      "execution_count": 671,
      "outputs": []
    },
    {
      "cell_type": "code",
      "metadata": {
        "id": "hVzaLtjDg6x4"
      },
      "source": [
        "# Merge with weather\n",
        "province = region_province.merge(weather_grouped, how='left', on=['province'])"
      ],
      "execution_count": 672,
      "outputs": []
    },
    {
      "cell_type": "code",
      "metadata": {
        "colab": {
          "base_uri": "https://localhost:8080/",
          "height": 292
        },
        "id": "rrtueL2qhbux",
        "outputId": "9ed74a92-21f3-4f53-aee3-c3daae12ecc0"
      },
      "source": [
        "# Check province df\n",
        "province.head()"
      ],
      "execution_count": 673,
      "outputs": [
        {
          "output_type": "execute_result",
          "data": {
            "text/html": [
              "<div>\n",
              "<style scoped>\n",
              "    .dataframe tbody tr th:only-of-type {\n",
              "        vertical-align: middle;\n",
              "    }\n",
              "\n",
              "    .dataframe tbody tr th {\n",
              "        vertical-align: top;\n",
              "    }\n",
              "\n",
              "    .dataframe thead th {\n",
              "        text-align: right;\n",
              "    }\n",
              "</style>\n",
              "<table border=\"1\" class=\"dataframe\">\n",
              "  <thead>\n",
              "    <tr style=\"text-align: right;\">\n",
              "      <th></th>\n",
              "      <th>province</th>\n",
              "      <th>city</th>\n",
              "      <th>elementary_school_count</th>\n",
              "      <th>kindergarten_count</th>\n",
              "      <th>university_count</th>\n",
              "      <th>academy_ratio</th>\n",
              "      <th>elderly_population_ratio</th>\n",
              "      <th>elderly_alone_ratio</th>\n",
              "      <th>nursing_home_count</th>\n",
              "      <th>avg_temp</th>\n",
              "      <th>min_temp</th>\n",
              "      <th>max_temp</th>\n",
              "      <th>precipitation</th>\n",
              "      <th>max_wind_speed</th>\n",
              "      <th>most_wind_direction</th>\n",
              "      <th>avg_relative_humidity</th>\n",
              "    </tr>\n",
              "  </thead>\n",
              "  <tbody>\n",
              "    <tr>\n",
              "      <th>0</th>\n",
              "      <td>Seoul</td>\n",
              "      <td>Seoul</td>\n",
              "      <td>607</td>\n",
              "      <td>830</td>\n",
              "      <td>48</td>\n",
              "      <td>1.44</td>\n",
              "      <td>15.38</td>\n",
              "      <td>5.8</td>\n",
              "      <td>22739</td>\n",
              "      <td>13.0</td>\n",
              "      <td>8.8</td>\n",
              "      <td>18.0</td>\n",
              "      <td>1.4</td>\n",
              "      <td>4.5</td>\n",
              "      <td>210.3</td>\n",
              "      <td>57.7</td>\n",
              "    </tr>\n",
              "    <tr>\n",
              "      <th>1</th>\n",
              "      <td>Seoul</td>\n",
              "      <td>Gangnam-gu</td>\n",
              "      <td>33</td>\n",
              "      <td>38</td>\n",
              "      <td>0</td>\n",
              "      <td>4.18</td>\n",
              "      <td>13.17</td>\n",
              "      <td>4.3</td>\n",
              "      <td>3088</td>\n",
              "      <td>13.0</td>\n",
              "      <td>8.8</td>\n",
              "      <td>18.0</td>\n",
              "      <td>1.4</td>\n",
              "      <td>4.5</td>\n",
              "      <td>210.3</td>\n",
              "      <td>57.7</td>\n",
              "    </tr>\n",
              "    <tr>\n",
              "      <th>2</th>\n",
              "      <td>Seoul</td>\n",
              "      <td>Gangdong-gu</td>\n",
              "      <td>27</td>\n",
              "      <td>32</td>\n",
              "      <td>0</td>\n",
              "      <td>1.54</td>\n",
              "      <td>14.55</td>\n",
              "      <td>5.4</td>\n",
              "      <td>1023</td>\n",
              "      <td>13.0</td>\n",
              "      <td>8.8</td>\n",
              "      <td>18.0</td>\n",
              "      <td>1.4</td>\n",
              "      <td>4.5</td>\n",
              "      <td>210.3</td>\n",
              "      <td>57.7</td>\n",
              "    </tr>\n",
              "    <tr>\n",
              "      <th>3</th>\n",
              "      <td>Seoul</td>\n",
              "      <td>Gangbuk-gu</td>\n",
              "      <td>14</td>\n",
              "      <td>21</td>\n",
              "      <td>0</td>\n",
              "      <td>0.67</td>\n",
              "      <td>19.49</td>\n",
              "      <td>8.5</td>\n",
              "      <td>628</td>\n",
              "      <td>13.0</td>\n",
              "      <td>8.8</td>\n",
              "      <td>18.0</td>\n",
              "      <td>1.4</td>\n",
              "      <td>4.5</td>\n",
              "      <td>210.3</td>\n",
              "      <td>57.7</td>\n",
              "    </tr>\n",
              "    <tr>\n",
              "      <th>4</th>\n",
              "      <td>Seoul</td>\n",
              "      <td>Gangseo-gu</td>\n",
              "      <td>36</td>\n",
              "      <td>56</td>\n",
              "      <td>1</td>\n",
              "      <td>1.17</td>\n",
              "      <td>14.39</td>\n",
              "      <td>5.7</td>\n",
              "      <td>1080</td>\n",
              "      <td>13.0</td>\n",
              "      <td>8.8</td>\n",
              "      <td>18.0</td>\n",
              "      <td>1.4</td>\n",
              "      <td>4.5</td>\n",
              "      <td>210.3</td>\n",
              "      <td>57.7</td>\n",
              "    </tr>\n",
              "  </tbody>\n",
              "</table>\n",
              "</div>"
            ],
            "text/plain": [
              "  province         city  ...  most_wind_direction  avg_relative_humidity\n",
              "0    Seoul        Seoul  ...                210.3                   57.7\n",
              "1    Seoul   Gangnam-gu  ...                210.3                   57.7\n",
              "2    Seoul  Gangdong-gu  ...                210.3                   57.7\n",
              "3    Seoul   Gangbuk-gu  ...                210.3                   57.7\n",
              "4    Seoul   Gangseo-gu  ...                210.3                   57.7\n",
              "\n",
              "[5 rows x 16 columns]"
            ]
          },
          "metadata": {
            "tags": []
          },
          "execution_count": 673
        }
      ]
    },
    {
      "cell_type": "code",
      "metadata": {
        "id": "Baj-ziEkjIuA"
      },
      "source": [
        "# Drop korea because it's the total\n",
        "province = province[province.province != 'Korea']"
      ],
      "execution_count": 674,
      "outputs": []
    },
    {
      "cell_type": "code",
      "metadata": {
        "colab": {
          "base_uri": "https://localhost:8080/",
          "height": 736
        },
        "id": "aeKixJF2v88r",
        "outputId": "7aadce70-76b3-4ea3-a584-ddb33ff4b211"
      },
      "source": [
        "# Plot the elderly population ratio per province\n",
        "plt.figure(figsize=(10,10))\n",
        "\n",
        "province_sorted = province[['province', 'elderly_population_ratio']].sort_values(by='elderly_population_ratio', ascending=False)\n",
        "sns.set(style=\"whitegrid\")\n",
        "\n",
        "sns.boxplot(data=province_sorted, x='province', y='elderly_population_ratio')\n",
        "plt.xticks(rotation=90)\n",
        "plt.title('Elderly population ratio per province in South-Korea')\n",
        "\n",
        "plt.show()"
      ],
      "execution_count": 675,
      "outputs": [
        {
          "output_type": "display_data",
          "data": {
            "image/png": "[encoded data removed]",
            "text/plain": [
              "<Figure size 720x720 with 1 Axes>"
            ]
          },
          "metadata": {
            "tags": []
          }
        }
      ]
    },
    {
      "cell_type": "code",
      "metadata": {
        "colab": {
          "base_uri": "https://localhost:8080/",
          "height": 736
        },
        "id": "Ru2CStL5im2y",
        "outputId": "fe24ad39-8ef6-4ae1-b113-ae90d331e08f"
      },
      "source": [
        "# Plot the avg temp per province\n",
        "plt.figure(figsize=(10,10))\n",
        "\n",
        "province_sorted_temp = province[['province', 'avg_temp']].sort_values(by='avg_temp', ascending=False)\n",
        "sns.set(style=\"whitegrid\")\n",
        "\n",
        "sns.pointplot(data=province_sorted_temp, x='province', y='avg_temp')\n",
        "plt.xticks(rotation=90)\n",
        "plt.title('Avg temperature per province in South-Korea')\n",
        "\n",
        "plt.show()"
      ],
      "execution_count": 676,
      "outputs": [
        {
          "output_type": "display_data",
          "data": {
            "image/png": "[encoded data removed]",
            "text/plain": [
              "<Figure size 720x720 with 1 Axes>"
            ]
          },
          "metadata": {
            "tags": []
          }
        }
      ]
    },
    {
      "cell_type": "code",
      "metadata": {
        "id": "CVZao6xvuKvL"
      },
      "source": [
        "# Groupby province\n",
        "province_df = province.groupby(['province']).mean().round(1)"
      ],
      "execution_count": 698,
      "outputs": []
    },
    {
      "cell_type": "code",
      "metadata": {
        "colab": {
          "base_uri": "https://localhost:8080/",
          "height": 483
        },
        "id": "gP8MNBSvm8RA",
        "outputId": "6d4e7e70-3f34-41b5-8f60-f584477c4792"
      },
      "source": [
        "# Get the mean, median and standard deviation for the variables\n",
        "province_df.agg(['mean', 'std', 'median']).T"
      ],
      "execution_count": 702,
      "outputs": [
        {
          "output_type": "execute_result",
          "data": {
            "text/html": [
              "<div>\n",
              "<style scoped>\n",
              "    .dataframe tbody tr th:only-of-type {\n",
              "        vertical-align: middle;\n",
              "    }\n",
              "\n",
              "    .dataframe tbody tr th {\n",
              "        vertical-align: top;\n",
              "    }\n",
              "\n",
              "    .dataframe thead th {\n",
              "        text-align: right;\n",
              "    }\n",
              "</style>\n",
              "<table border=\"1\" class=\"dataframe\">\n",
              "  <thead>\n",
              "    <tr style=\"text-align: right;\">\n",
              "      <th></th>\n",
              "      <th>mean</th>\n",
              "      <th>std</th>\n",
              "      <th>median</th>\n",
              "    </tr>\n",
              "  </thead>\n",
              "  <tbody>\n",
              "    <tr>\n",
              "      <th>elementary_school_count</th>\n",
              "      <td>51.558824</td>\n",
              "      <td>18.886439</td>\n",
              "      <td>48.00</td>\n",
              "    </tr>\n",
              "    <tr>\n",
              "      <th>kindergarten_count</th>\n",
              "      <td>73.376471</td>\n",
              "      <td>26.891205</td>\n",
              "      <td>66.70</td>\n",
              "    </tr>\n",
              "    <tr>\n",
              "      <th>university_count</th>\n",
              "      <td>2.900000</td>\n",
              "      <td>1.213981</td>\n",
              "      <td>2.60</td>\n",
              "    </tr>\n",
              "    <tr>\n",
              "      <th>academy_ratio</th>\n",
              "      <td>1.417647</td>\n",
              "      <td>0.414179</td>\n",
              "      <td>1.40</td>\n",
              "    </tr>\n",
              "    <tr>\n",
              "      <th>elderly_population_ratio</th>\n",
              "      <td>19.194118</td>\n",
              "      <td>5.894009</td>\n",
              "      <td>17.00</td>\n",
              "    </tr>\n",
              "    <tr>\n",
              "      <th>elderly_alone_ratio</th>\n",
              "      <td>9.529412</td>\n",
              "      <td>4.158690</td>\n",
              "      <td>8.00</td>\n",
              "    </tr>\n",
              "    <tr>\n",
              "      <th>nursing_home_count</th>\n",
              "      <td>762.958824</td>\n",
              "      <td>411.748625</td>\n",
              "      <td>600.30</td>\n",
              "    </tr>\n",
              "    <tr>\n",
              "      <th>avg_temp</th>\n",
              "      <td>13.856250</td>\n",
              "      <td>1.162737</td>\n",
              "      <td>13.85</td>\n",
              "    </tr>\n",
              "    <tr>\n",
              "      <th>min_temp</th>\n",
              "      <td>9.656250</td>\n",
              "      <td>1.809961</td>\n",
              "      <td>9.40</td>\n",
              "    </tr>\n",
              "    <tr>\n",
              "      <th>max_temp</th>\n",
              "      <td>18.775000</td>\n",
              "      <td>0.900000</td>\n",
              "      <td>19.05</td>\n",
              "    </tr>\n",
              "    <tr>\n",
              "      <th>precipitation</th>\n",
              "      <td>1.500000</td>\n",
              "      <td>0.225093</td>\n",
              "      <td>1.50</td>\n",
              "    </tr>\n",
              "    <tr>\n",
              "      <th>max_wind_speed</th>\n",
              "      <td>5.106250</td>\n",
              "      <td>1.115628</td>\n",
              "      <td>4.75</td>\n",
              "    </tr>\n",
              "    <tr>\n",
              "      <th>most_wind_direction</th>\n",
              "      <td>195.900000</td>\n",
              "      <td>35.025438</td>\n",
              "      <td>199.10</td>\n",
              "    </tr>\n",
              "    <tr>\n",
              "      <th>avg_relative_humidity</th>\n",
              "      <td>65.693750</td>\n",
              "      <td>5.158872</td>\n",
              "      <td>65.75</td>\n",
              "    </tr>\n",
              "  </tbody>\n",
              "</table>\n",
              "</div>"
            ],
            "text/plain": [
              "                                mean         std  median\n",
              "elementary_school_count    51.558824   18.886439   48.00\n",
              "kindergarten_count         73.376471   26.891205   66.70\n",
              "university_count            2.900000    1.213981    2.60\n",
              "academy_ratio               1.417647    0.414179    1.40\n",
              "elderly_population_ratio   19.194118    5.894009   17.00\n",
              "elderly_alone_ratio         9.529412    4.158690    8.00\n",
              "nursing_home_count        762.958824  411.748625  600.30\n",
              "avg_temp                   13.856250    1.162737   13.85\n",
              "min_temp                    9.656250    1.809961    9.40\n",
              "max_temp                   18.775000    0.900000   19.05\n",
              "precipitation               1.500000    0.225093    1.50\n",
              "max_wind_speed              5.106250    1.115628    4.75\n",
              "most_wind_direction       195.900000   35.025438  199.10\n",
              "avg_relative_humidity      65.693750    5.158872   65.75"
            ]
          },
          "metadata": {
            "tags": []
          },
          "execution_count": 702
        }
      ]
    },
    {
      "cell_type": "code",
      "metadata": {
        "colab": {
          "base_uri": "https://localhost:8080/",
          "height": 363
        },
        "id": "Qrlk_fHVox4H",
        "outputId": "b5ed6316-1a64-4fd3-b444-6def66271dd2"
      },
      "source": [
        "# Plot provinces with most/least elementary schools\n",
        "fig, ax = plt.subplots(1, 2, sharey=True)\n",
        "\n",
        "province_df.elementary_school_count.nlargest(3).plot(kind='bar', ax=ax[0])\n",
        "province_df.elementary_school_count.nsmallest(3).plot(kind='bar', ax=ax[1])\n",
        "\n",
        "ax[0].set_title('Most elementary schools')\n",
        "ax[1].set_title('Least elementary schools')\n",
        "plt.show()"
      ],
      "execution_count": 744,
      "outputs": [
        {
          "output_type": "display_data",
          "data": {
            "image/png": "[encoded data removed]",
            "text/plain": [
              "<Figure size 432x288 with 2 Axes>"
            ]
          },
          "metadata": {
            "tags": []
          }
        }
      ]
    },
    {
      "cell_type": "code",
      "metadata": {
        "colab": {
          "base_uri": "https://localhost:8080/",
          "height": 398
        },
        "id": "rIiOpGXdtd6F",
        "outputId": "cf957538-12ec-425f-921c-46cc684f34e8"
      },
      "source": [
        "# Plot provinces with most/least nursing homes\n",
        "fig, ax = plt.subplots(1, 2, sharey=True)\n",
        "\n",
        "province_df.nursing_home_count.nlargest(3).plot(kind='bar', ax=ax[0])\n",
        "province_df.nursing_home_count.nsmallest(3).plot(kind='bar', ax=ax[1])\n",
        "\n",
        "ax[0].set_title('Most nursing homes')\n",
        "ax[1].set_title('Least nursing homes')\n",
        "plt.show()"
      ],
      "execution_count": 745,
      "outputs": [
        {
          "output_type": "display_data",
          "data": {
            "image/png": "[encoded data removed]",
            "text/plain": [
              "<Figure size 432x288 with 2 Axes>"
            ]
          },
          "metadata": {
            "tags": []
          }
        }
      ]
    },
    {
      "cell_type": "code",
      "metadata": {
        "colab": {
          "base_uri": "https://localhost:8080/",
          "height": 363
        },
        "id": "G6RSGQxKtsI4",
        "outputId": "ca537d42-d013-446d-c5da-7c090059ce56"
      },
      "source": [
        "# Plot provinces with most/least universities\n",
        "fig, ax = plt.subplots(1, 2, sharey=True)\n",
        "\n",
        "province_df.university_count.nlargest(3).plot(kind='bar', ax=ax[0])\n",
        "province_df.university_count.nsmallest(3).plot(kind='bar', ax=ax[1])\n",
        "\n",
        "ax[0].set_title('Most universities')\n",
        "ax[1].set_title('Least universities')\n",
        "plt.show()"
      ],
      "execution_count": 746,
      "outputs": [
        {
          "output_type": "display_data",
          "data": {
            "image/png": "[encoded data removed]",
            "text/plain": [
              "<Figure size 432x288 with 2 Axes>"
            ]
          },
          "metadata": {
            "tags": []
          }
        }
      ]
    },
    {
      "cell_type": "markdown",
      "metadata": {
        "id": "pynfKya8gwVz"
      },
      "source": [
        "##### Patients"
      ]
    },
    {
      "cell_type": "code",
      "metadata": {
        "id": "5ku7BbOCdRMp"
      },
      "source": [
        "# Get aggregated states\n",
        "agg = patient[['state','patient_id']].groupby('state').count().reset_index().sort_values(by = 'patient_id')"
      ],
      "execution_count": 760,
      "outputs": []
    },
    {
      "cell_type": "code",
      "metadata": {
        "colab": {
          "base_uri": "https://localhost:8080/",
          "height": 268
        },
        "id": "zEYYykPCc1qH",
        "outputId": "9af10886-e516-45a5-c38d-5d7a8c8d58f2"
      },
      "source": [
        "# Plot the aggregated states\n",
        "plt.bar(x=list(agg['state']), height=list(agg['patient_id']))\n",
        "plt.show()"
      ],
      "execution_count": 761,
      "outputs": [
        {
          "output_type": "display_data",
          "data": {
            "image/png": "[encoded data removed]",
            "text/plain": [
              "<Figure size 432x288 with 1 Axes>"
            ]
          },
          "metadata": {
            "tags": []
          }
        }
      ]
    },
    {
      "cell_type": "code",
      "metadata": {
        "id": "ivhkZo8dvDy9"
      },
      "source": [
        "# Drop NaN\n",
        "patient.dropna(subset=['infection_case'], inplace=True)"
      ],
      "execution_count": 784,
      "outputs": []
    },
    {
      "cell_type": "code",
      "metadata": {
        "id": "kqV_Lrrau2v6"
      },
      "source": [
        "# Aggregate/group some infection cases\n",
        "patient.loc[patient['infection_case'].str.contains('church', case=False), 'infection_case'] = 'church'\n",
        "patient.loc[patient['infection_case'].str.contains('nursing home', case=False), 'infection_case'] = 'nursing home'\n",
        "patient.loc[patient['infection_case'].str.contains('hospital', case=False), 'infection_case'] = 'hospital'\n",
        "patient.loc[patient['infection_case'].str.contains('gym', case=False), 'infection_case'] = 'gym'\n",
        "patient.loc[patient['infection_case'].str.contains('town', case=False), 'infection_case'] = 'town'\n",
        "patient.loc[patient['infection_case'].str.contains('center', case=False), 'infection_case'] = 'center'\n",
        "patient.loc[patient['infection_case'].str.contains('club', case=False), 'infection_case'] = 'club'"
      ],
      "execution_count": 785,
      "outputs": []
    },
    {
      "cell_type": "code",
      "metadata": {
        "colab": {
          "base_uri": "https://localhost:8080/",
          "height": 385
        },
        "id": "FR6Ls_HMwvYE",
        "outputId": "b9c5502d-71da-4238-a466-2ef90b29e4c7"
      },
      "source": [
        "# Plot infection cases\n",
        "patient.infection_case.value_counts().nlargest(5).plot(kind='bar')\n",
        "plt.title('Most infection cases')\n",
        "plt.show()"
      ],
      "execution_count": 787,
      "outputs": [
        {
          "output_type": "display_data",
          "data": {
            "image/png": "[encoded data removed]",
            "text/plain": [
              "<Figure size 432x288 with 1 Axes>"
            ]
          },
          "metadata": {
            "tags": []
          }
        }
      ]
    },
    {
      "cell_type": "code",
      "metadata": {
        "colab": {
          "base_uri": "https://localhost:8080/",
          "height": 264
        },
        "id": "UAZN0cdnghl-",
        "outputId": "8e7a31e3-5f62-4d0b-fe44-113e18f49478"
      },
      "source": [
        "# Get % of gender\n",
        "sizes = patient.sex.value_counts(normalize=True).tolist()\n",
        "\n",
        "# Pie chart\n",
        "labels = 'Female', 'Male'\n",
        "\n",
        "plt.pie(sizes, labels=labels, autopct='%1.1f%%', startangle=90, colors=['lightcoral', 'lightskyblue'])\n",
        "plt.axis('equal') \n",
        "plt.title('% of men/women in the patient data', loc='center')\n",
        "\n",
        "plt.show()"
      ],
      "execution_count": 794,
      "outputs": [
        {
          "output_type": "display_data",
          "data": {
            "image/png": "[encoded data removed]",
            "text/plain": [
              "<Figure size 432x288 with 1 Axes>"
            ]
          },
          "metadata": {
            "tags": []
          }
        }
      ]
    },
    {
      "cell_type": "code",
      "metadata": {
        "colab": {
          "base_uri": "https://localhost:8080/"
        },
        "id": "AXE5ex08g-cs",
        "outputId": "872cdbb9-ff16-4b94-d659-8785b4dae5cd"
      },
      "source": [
        "# Get gender counts per state\n",
        "gender = patient.groupby('sex')\n",
        "gender.state.value_counts()"
      ],
      "execution_count": 791,
      "outputs": [
        {
          "output_type": "execute_result",
          "data": {
            "text/plain": [
              "sex     state   \n",
              "female  released    997\n",
              "        isolated    704\n",
              "        deceased     12\n",
              "male    released    875\n",
              "        isolated    600\n",
              "        deceased     23\n",
              "Name: state, dtype: int64"
            ]
          },
          "metadata": {
            "tags": []
          },
          "execution_count": 791
        }
      ]
    },
    {
      "cell_type": "code",
      "metadata": {
        "colab": {
          "base_uri": "https://localhost:8080/",
          "height": 264
        },
        "id": "dfT_H1yzl_Y3",
        "outputId": "92d33f4a-4d3c-4016-dddb-0ac055a0e396"
      },
      "source": [
        "# Set counts per state in list\n",
        "states_list = gender.state.value_counts(normalize=True).tolist()\n",
        "\n",
        "# Pie chart\n",
        "labels = 'released', 'isolated', 'deceased'\n",
        "colors = ['lightcoral', 'moccasin', 'plum']\n",
        "colors_male = ['lightskyblue', 'yellowgreen', 'seagreen']\n",
        "\n",
        "fig, ax = plt.subplots(1, 2)\n",
        "ax[0].pie(states_list[0:3], labels=labels, autopct='%1.1f%%', startangle=90, colors=colors)\n",
        "ax[0].axis('equal') \n",
        "ax[0].set_title('Female state %')\n",
        "\n",
        "ax[1].pie(states_list[3:6], labels=labels, autopct='%1.1f%%', startangle=90, colors=colors_male)\n",
        "ax[1].axis('equal') \n",
        "ax[1].set_title('Male state %')\n",
        "\n",
        "plt.show()"
      ],
      "execution_count": 799,
      "outputs": [
        {
          "output_type": "display_data",
          "data": {
            "image/png": "[encoded data removed]",
            "text/plain": [
              "<Figure size 432x288 with 2 Axes>"
            ]
          },
          "metadata": {
            "tags": []
          }
        }
      ]
    },
    {
      "cell_type": "markdown",
      "metadata": {
        "id": "aIW8TW-dWZDT"
      },
      "source": [
        "#### Merging"
      ]
    },
    {
      "cell_type": "code",
      "metadata": {
        "id": "vt_1wskRcrGY"
      },
      "source": [
        "# Create full features DF\n",
        "full_features_df = patient.merge(region, how='left', on=['province', 'city'])"
      ],
      "execution_count": 902,
      "outputs": []
    },
    {
      "cell_type": "code",
      "metadata": {
        "id": "xS6u1PPsfLyl"
      },
      "source": [
        "# Drop unneccesary columns\n",
        "full_features_df.drop(columns=['patient_id', 'confirmed_date', 'contact_number', 'infected_by', 'latitude', 'longitude', 'code', 'deceased_date', 'symptom_onset_date', 'released_date'], inplace=True)"
      ],
      "execution_count": 903,
      "outputs": []
    },
    {
      "cell_type": "code",
      "metadata": {
        "colab": {
          "base_uri": "https://localhost:8080/",
          "height": 292
        },
        "id": "nUjl9N3pfLMD",
        "outputId": "17f93d33-537a-4d6f-b978-eea9d3f3b088"
      },
      "source": [
        "# Reset index and view the head of full_features_df\n",
        "full_features_df = full_features_df.reset_index(drop=True)\n",
        "full_features_df.head()"
      ],
      "execution_count": 904,
      "outputs": [
        {
          "output_type": "execute_result",
          "data": {
            "text/html": [
              "<div>\n",
              "<style scoped>\n",
              "    .dataframe tbody tr th:only-of-type {\n",
              "        vertical-align: middle;\n",
              "    }\n",
              "\n",
              "    .dataframe tbody tr th {\n",
              "        vertical-align: top;\n",
              "    }\n",
              "\n",
              "    .dataframe thead th {\n",
              "        text-align: right;\n",
              "    }\n",
              "</style>\n",
              "<table border=\"1\" class=\"dataframe\">\n",
              "  <thead>\n",
              "    <tr style=\"text-align: right;\">\n",
              "      <th></th>\n",
              "      <th>sex</th>\n",
              "      <th>age</th>\n",
              "      <th>country</th>\n",
              "      <th>province</th>\n",
              "      <th>city</th>\n",
              "      <th>infection_case</th>\n",
              "      <th>state</th>\n",
              "      <th>elementary_school_count</th>\n",
              "      <th>kindergarten_count</th>\n",
              "      <th>university_count</th>\n",
              "      <th>academy_ratio</th>\n",
              "      <th>elderly_population_ratio</th>\n",
              "      <th>elderly_alone_ratio</th>\n",
              "      <th>nursing_home_count</th>\n",
              "    </tr>\n",
              "  </thead>\n",
              "  <tbody>\n",
              "    <tr>\n",
              "      <th>0</th>\n",
              "      <td>male</td>\n",
              "      <td>50s</td>\n",
              "      <td>Korea</td>\n",
              "      <td>Seoul</td>\n",
              "      <td>Gangseo-gu</td>\n",
              "      <td>overseas inflow</td>\n",
              "      <td>released</td>\n",
              "      <td>36.0</td>\n",
              "      <td>56.0</td>\n",
              "      <td>1.0</td>\n",
              "      <td>1.17</td>\n",
              "      <td>14.39</td>\n",
              "      <td>5.7</td>\n",
              "      <td>1080.0</td>\n",
              "    </tr>\n",
              "    <tr>\n",
              "      <th>1</th>\n",
              "      <td>male</td>\n",
              "      <td>30s</td>\n",
              "      <td>Korea</td>\n",
              "      <td>Seoul</td>\n",
              "      <td>Jungnang-gu</td>\n",
              "      <td>overseas inflow</td>\n",
              "      <td>released</td>\n",
              "      <td>23.0</td>\n",
              "      <td>31.0</td>\n",
              "      <td>1.0</td>\n",
              "      <td>0.70</td>\n",
              "      <td>16.65</td>\n",
              "      <td>6.9</td>\n",
              "      <td>689.0</td>\n",
              "    </tr>\n",
              "    <tr>\n",
              "      <th>2</th>\n",
              "      <td>male</td>\n",
              "      <td>50s</td>\n",
              "      <td>Korea</td>\n",
              "      <td>Seoul</td>\n",
              "      <td>Jongno-gu</td>\n",
              "      <td>contact with patient</td>\n",
              "      <td>released</td>\n",
              "      <td>13.0</td>\n",
              "      <td>17.0</td>\n",
              "      <td>3.0</td>\n",
              "      <td>1.71</td>\n",
              "      <td>18.27</td>\n",
              "      <td>6.8</td>\n",
              "      <td>668.0</td>\n",
              "    </tr>\n",
              "    <tr>\n",
              "      <th>3</th>\n",
              "      <td>male</td>\n",
              "      <td>20s</td>\n",
              "      <td>Korea</td>\n",
              "      <td>Seoul</td>\n",
              "      <td>Mapo-gu</td>\n",
              "      <td>overseas inflow</td>\n",
              "      <td>released</td>\n",
              "      <td>22.0</td>\n",
              "      <td>24.0</td>\n",
              "      <td>2.0</td>\n",
              "      <td>1.83</td>\n",
              "      <td>14.05</td>\n",
              "      <td>4.9</td>\n",
              "      <td>929.0</td>\n",
              "    </tr>\n",
              "    <tr>\n",
              "      <th>4</th>\n",
              "      <td>female</td>\n",
              "      <td>20s</td>\n",
              "      <td>Korea</td>\n",
              "      <td>Seoul</td>\n",
              "      <td>Seongbuk-gu</td>\n",
              "      <td>contact with patient</td>\n",
              "      <td>released</td>\n",
              "      <td>29.0</td>\n",
              "      <td>49.0</td>\n",
              "      <td>6.0</td>\n",
              "      <td>1.02</td>\n",
              "      <td>16.15</td>\n",
              "      <td>6.0</td>\n",
              "      <td>729.0</td>\n",
              "    </tr>\n",
              "  </tbody>\n",
              "</table>\n",
              "</div>"
            ],
            "text/plain": [
              "      sex  age  ... elderly_alone_ratio nursing_home_count\n",
              "0    male  50s  ...                 5.7             1080.0\n",
              "1    male  30s  ...                 6.9              689.0\n",
              "2    male  50s  ...                 6.8              668.0\n",
              "3    male  20s  ...                 4.9              929.0\n",
              "4  female  20s  ...                 6.0              729.0\n",
              "\n",
              "[5 rows x 14 columns]"
            ]
          },
          "metadata": {
            "tags": []
          },
          "execution_count": 904
        }
      ]
    },
    {
      "cell_type": "code",
      "metadata": {
        "id": "vO8mE7YJOVXQ"
      },
      "source": [
        "# Remove s' from age \n",
        "full_features_df['age'] = full_features_df['age'].str.replace('s', '')\n",
        "\n",
        "# Set as float to handle NaN\n",
        "full_features_df['age'] = full_features_df['age'].astype(float)"
      ],
      "execution_count": 905,
      "outputs": []
    },
    {
      "cell_type": "code",
      "metadata": {
        "colab": {
          "base_uri": "https://localhost:8080/"
        },
        "id": "Z4n-r0JdSeRC",
        "outputId": "eb446230-b252-4e7a-9e7e-418cfb377960"
      },
      "source": [
        "# Check the info\n",
        "full_features_df.info()"
      ],
      "execution_count": 906,
      "outputs": [
        {
          "output_type": "stream",
          "text": [
            "<class 'pandas.core.frame.DataFrame'>\n",
            "RangeIndex: 5165 entries, 0 to 5164\n",
            "Data columns (total 14 columns):\n",
            " #   Column                    Non-Null Count  Dtype  \n",
            "---  ------                    --------------  -----  \n",
            " 0   sex                       4043 non-null   object \n",
            " 1   age                       3785 non-null   float64\n",
            " 2   country                   5165 non-null   object \n",
            " 3   province                  5165 non-null   object \n",
            " 4   city                      5071 non-null   object \n",
            " 5   infection_case            4246 non-null   object \n",
            " 6   state                     5165 non-null   object \n",
            " 7   elementary_school_count   4946 non-null   float64\n",
            " 8   kindergarten_count        4946 non-null   float64\n",
            " 9   university_count          4946 non-null   float64\n",
            " 10  academy_ratio             4946 non-null   float64\n",
            " 11  elderly_population_ratio  4946 non-null   float64\n",
            " 12  elderly_alone_ratio       4946 non-null   float64\n",
            " 13  nursing_home_count        4946 non-null   float64\n",
            "dtypes: float64(8), object(6)\n",
            "memory usage: 565.0+ KB\n"
          ],
          "name": "stdout"
        }
      ]
    },
    {
      "cell_type": "code",
      "metadata": {
        "colab": {
          "base_uri": "https://localhost:8080/"
        },
        "id": "iyXak1T5o8MU",
        "outputId": "4f40ce2e-6fd0-480f-8ec1-05e4f5ce979a"
      },
      "source": [
        "# Get the mean age per state\n",
        "grouped_age = full_features_df.groupby('state').mean()\n",
        "grouped_age.age"
      ],
      "execution_count": 907,
      "outputs": [
        {
          "output_type": "execute_result",
          "data": {
            "text/plain": [
              "state\n",
              "deceased    70.400000\n",
              "isolated    41.732673\n",
              "released    38.803042\n",
              "Name: age, dtype: float64"
            ]
          },
          "metadata": {
            "tags": []
          },
          "execution_count": 907
        }
      ]
    },
    {
      "cell_type": "code",
      "metadata": {
        "colab": {
          "base_uri": "https://localhost:8080/",
          "height": 193
        },
        "id": "WY6g2DIB52rD",
        "outputId": "0b0470cb-81d0-4899-d842-d5dd97aaaf5f"
      },
      "source": [
        "# Get the mean age per state\n",
        "grouped_age"
      ],
      "execution_count": 908,
      "outputs": [
        {
          "output_type": "execute_result",
          "data": {
            "text/html": [
              "<div>\n",
              "<style scoped>\n",
              "    .dataframe tbody tr th:only-of-type {\n",
              "        vertical-align: middle;\n",
              "    }\n",
              "\n",
              "    .dataframe tbody tr th {\n",
              "        vertical-align: top;\n",
              "    }\n",
              "\n",
              "    .dataframe thead th {\n",
              "        text-align: right;\n",
              "    }\n",
              "</style>\n",
              "<table border=\"1\" class=\"dataframe\">\n",
              "  <thead>\n",
              "    <tr style=\"text-align: right;\">\n",
              "      <th></th>\n",
              "      <th>age</th>\n",
              "      <th>elementary_school_count</th>\n",
              "      <th>kindergarten_count</th>\n",
              "      <th>university_count</th>\n",
              "      <th>academy_ratio</th>\n",
              "      <th>elderly_population_ratio</th>\n",
              "      <th>elderly_alone_ratio</th>\n",
              "      <th>nursing_home_count</th>\n",
              "    </tr>\n",
              "    <tr>\n",
              "      <th>state</th>\n",
              "      <th></th>\n",
              "      <th></th>\n",
              "      <th></th>\n",
              "      <th></th>\n",
              "      <th></th>\n",
              "      <th></th>\n",
              "      <th></th>\n",
              "      <th></th>\n",
              "    </tr>\n",
              "  </thead>\n",
              "  <tbody>\n",
              "    <tr>\n",
              "      <th>deceased</th>\n",
              "      <td>70.400000</td>\n",
              "      <td>25.672727</td>\n",
              "      <td>44.600000</td>\n",
              "      <td>5.727273</td>\n",
              "      <td>1.236727</td>\n",
              "      <td>20.512364</td>\n",
              "      <td>9.967273</td>\n",
              "      <td>394.745455</td>\n",
              "    </tr>\n",
              "    <tr>\n",
              "      <th>isolated</th>\n",
              "      <td>41.732673</td>\n",
              "      <td>46.641537</td>\n",
              "      <td>81.057879</td>\n",
              "      <td>2.378405</td>\n",
              "      <td>1.474222</td>\n",
              "      <td>14.678230</td>\n",
              "      <td>6.364494</td>\n",
              "      <td>959.011187</td>\n",
              "    </tr>\n",
              "    <tr>\n",
              "      <th>released</th>\n",
              "      <td>38.803042</td>\n",
              "      <td>33.627160</td>\n",
              "      <td>53.163668</td>\n",
              "      <td>3.862081</td>\n",
              "      <td>1.461358</td>\n",
              "      <td>16.857009</td>\n",
              "      <td>7.553792</td>\n",
              "      <td>690.527690</td>\n",
              "    </tr>\n",
              "  </tbody>\n",
              "</table>\n",
              "</div>"
            ],
            "text/plain": [
              "                age  ...  nursing_home_count\n",
              "state                ...                    \n",
              "deceased  70.400000  ...          394.745455\n",
              "isolated  41.732673  ...          959.011187\n",
              "released  38.803042  ...          690.527690\n",
              "\n",
              "[3 rows x 8 columns]"
            ]
          },
          "metadata": {
            "tags": []
          },
          "execution_count": 908
        }
      ]
    },
    {
      "cell_type": "code",
      "metadata": {
        "colab": {
          "base_uri": "https://localhost:8080/"
        },
        "id": "XvwxbTdgpnQY",
        "outputId": "c5a29c92-065c-4b13-da44-741c2d72cc97"
      },
      "source": [
        "# Create dataframes for each state\n",
        "deceased = full_features_df.query('state == \"deceased\"')\n",
        "isolated = full_features_df.query('state == \"isolated\"')\n",
        "released = full_features_df.query('state == \"released\"')\n",
        "\n",
        "print(f'{deceased.shape}, {isolated.shape}, {released.shape}')"
      ],
      "execution_count": 909,
      "outputs": [
        {
          "output_type": "stream",
          "text": [
            "(78, 14), (2158, 14), (2929, 14)\n"
          ],
          "name": "stdout"
        }
      ]
    },
    {
      "cell_type": "code",
      "metadata": {
        "colab": {
          "base_uri": "https://localhost:8080/"
        },
        "id": "1rTAcoAfuPTX",
        "outputId": "b1a4c47b-01ac-4131-9bf1-fd2b5fe35b5b"
      },
      "source": [
        "# Impute age based on age state mean\n",
        "deceased.age = deceased.loc[:, 'age'].transform(lambda x: x.fillna(x.mean()))\n",
        "isolated.age = isolated.loc[:, 'age'].transform(lambda x: x.fillna(x.mean()))\n",
        "released.age = released.loc[:, 'age'].transform(lambda x: x.fillna(x.mean()))"
      ],
      "execution_count": 910,
      "outputs": [
        {
          "output_type": "stream",
          "text": [
            "/usr/local/lib/python3.6/dist-packages/pandas/core/generic.py:5168: SettingWithCopyWarning: \n",
            "A value is trying to be set on a copy of a slice from a DataFrame.\n",
            "Try using .loc[row_indexer,col_indexer] = value instead\n",
            "\n",
            "See the caveats in the documentation: https://pandas.pydata.org/pandas-docs/stable/user_guide/indexing.html#returning-a-view-versus-a-copy\n",
            "  self[name] = value\n"
          ],
          "name": "stderr"
        }
      ]
    },
    {
      "cell_type": "code",
      "metadata": {
        "colab": {
          "base_uri": "https://localhost:8080/"
        },
        "id": "9N4cehAkxeEU",
        "outputId": "62909c50-884f-4a84-9726-93047eff0533"
      },
      "source": [
        "# Create full_df dataframe again with imputed values\n",
        "full_df = pd.concat([deceased, isolated, released])\n",
        "full_df.info()"
      ],
      "execution_count": 911,
      "outputs": [
        {
          "output_type": "stream",
          "text": [
            "<class 'pandas.core.frame.DataFrame'>\n",
            "Int64Index: 5165 entries, 12 to 5161\n",
            "Data columns (total 14 columns):\n",
            " #   Column                    Non-Null Count  Dtype  \n",
            "---  ------                    --------------  -----  \n",
            " 0   sex                       4043 non-null   object \n",
            " 1   age                       5165 non-null   float64\n",
            " 2   country                   5165 non-null   object \n",
            " 3   province                  5165 non-null   object \n",
            " 4   city                      5071 non-null   object \n",
            " 5   infection_case            4246 non-null   object \n",
            " 6   state                     5165 non-null   object \n",
            " 7   elementary_school_count   4946 non-null   float64\n",
            " 8   kindergarten_count        4946 non-null   float64\n",
            " 9   university_count          4946 non-null   float64\n",
            " 10  academy_ratio             4946 non-null   float64\n",
            " 11  elderly_population_ratio  4946 non-null   float64\n",
            " 12  elderly_alone_ratio       4946 non-null   float64\n",
            " 13  nursing_home_count        4946 non-null   float64\n",
            "dtypes: float64(8), object(6)\n",
            "memory usage: 605.3+ KB\n"
          ],
          "name": "stdout"
        }
      ]
    },
    {
      "cell_type": "code",
      "metadata": {
        "id": "U-M8DpDpgxxT",
        "colab": {
          "base_uri": "https://localhost:8080/"
        },
        "outputId": "bd270b55-aae5-45f3-f913-17901defce2c"
      },
      "source": [
        "# Drop NaN values\n",
        "full_df.dropna(subset=['sex', 'age', 'country', 'province', 'city', 'infection_case', 'elementary_school_count', 'kindergarten_count', 'university_count', 'academy_ratio', 'elderly_population_ratio', 'elderly_alone_ratio', 'nursing_home_count'], inplace=True)\n",
        "full_df = full_df.reset_index(drop=True)\n",
        "\n",
        "# Check info\n",
        "full_df.info()"
      ],
      "execution_count": 912,
      "outputs": [
        {
          "output_type": "stream",
          "text": [
            "<class 'pandas.core.frame.DataFrame'>\n",
            "RangeIndex: 3080 entries, 0 to 3079\n",
            "Data columns (total 14 columns):\n",
            " #   Column                    Non-Null Count  Dtype  \n",
            "---  ------                    --------------  -----  \n",
            " 0   sex                       3080 non-null   object \n",
            " 1   age                       3080 non-null   float64\n",
            " 2   country                   3080 non-null   object \n",
            " 3   province                  3080 non-null   object \n",
            " 4   city                      3080 non-null   object \n",
            " 5   infection_case            3080 non-null   object \n",
            " 6   state                     3080 non-null   object \n",
            " 7   elementary_school_count   3080 non-null   float64\n",
            " 8   kindergarten_count        3080 non-null   float64\n",
            " 9   university_count          3080 non-null   float64\n",
            " 10  academy_ratio             3080 non-null   float64\n",
            " 11  elderly_population_ratio  3080 non-null   float64\n",
            " 12  elderly_alone_ratio       3080 non-null   float64\n",
            " 13  nursing_home_count        3080 non-null   float64\n",
            "dtypes: float64(8), object(6)\n",
            "memory usage: 337.0+ KB\n"
          ],
          "name": "stdout"
        }
      ]
    },
    {
      "cell_type": "code",
      "metadata": {
        "colab": {
          "base_uri": "https://localhost:8080/"
        },
        "id": "h9D4Mj0t6sSp",
        "outputId": "260a9fd3-e078-42a3-dc6c-34a6baf4d75f"
      },
      "source": [
        "# Check distribution states\n",
        "full_df.state.value_counts()"
      ],
      "execution_count": 913,
      "outputs": [
        {
          "output_type": "execute_result",
          "data": {
            "text/plain": [
              "released    1792\n",
              "isolated    1256\n",
              "deceased      32\n",
              "Name: state, dtype: int64"
            ]
          },
          "metadata": {
            "tags": []
          },
          "execution_count": 913
        }
      ]
    },
    {
      "cell_type": "code",
      "metadata": {
        "colab": {
          "base_uri": "https://localhost:8080/"
        },
        "id": "1raAPkm59Eyn",
        "outputId": "157ec9b4-8667-44e7-e561-8524d60f2de4"
      },
      "source": [
        "# Check distribution gender\n",
        "full_df.sex.value_counts()"
      ],
      "execution_count": 914,
      "outputs": [
        {
          "output_type": "execute_result",
          "data": {
            "text/plain": [
              "female    1653\n",
              "male      1427\n",
              "Name: sex, dtype: int64"
            ]
          },
          "metadata": {
            "tags": []
          },
          "execution_count": 914
        }
      ]
    },
    {
      "cell_type": "code",
      "metadata": {
        "colab": {
          "base_uri": "https://localhost:8080/"
        },
        "id": "M_i2BAnT9KEP",
        "outputId": "d7c79843-a58f-47d4-c2e6-b12b7154b679"
      },
      "source": [
        "# Check distribution provinces\n",
        "full_df.province.value_counts()"
      ],
      "execution_count": 915,
      "outputs": [
        {
          "output_type": "execute_result",
          "data": {
            "text/plain": [
              "Gyeonggi-do          828\n",
              "Seoul                542\n",
              "Gyeongsangbuk-do     539\n",
              "Incheon              333\n",
              "Chungcheongnam-do    167\n",
              "Busan                139\n",
              "Gyeongsangnam-do     129\n",
              "Daejeon              118\n",
              "Gangwon-do            63\n",
              "Chungcheongbuk-do     56\n",
              "Ulsan                 53\n",
              "Sejong                50\n",
              "Jeollabuk-do          18\n",
              "Daegu                 17\n",
              "Jeju-do               14\n",
              "Jeollanam-do          14\n",
              "Name: province, dtype: int64"
            ]
          },
          "metadata": {
            "tags": []
          },
          "execution_count": 915
        }
      ]
    },
    {
      "cell_type": "code",
      "metadata": {
        "colab": {
          "base_uri": "https://localhost:8080/",
          "height": 295
        },
        "id": "KF2wpSWKzs_R",
        "outputId": "cced96d5-01e3-4337-dd5c-be089586e432"
      },
      "source": [
        "# Function for rounding to nearest 10th\n",
        "def roundup(num):\n",
        "    return int(math.ceil(num / 10.0)) * 10\n",
        "\n",
        "\n",
        "# Round all ages in full_df.age\n",
        "empty_list = []\n",
        "for number in full_df.age:\n",
        "  empty_list.append(roundup(number))\n",
        "\n",
        "\n",
        "# df with rounded age\n",
        "df_rounded = pd.DataFrame(data=empty_list, columns=['age'])\n",
        "\n",
        "# Plot age distribution\n",
        "df_rounded.age.value_counts().sort_index().plot(kind='bar')\n",
        "\n",
        "plt.title('Age distribution')\n",
        "plt.show()"
      ],
      "execution_count": 916,
      "outputs": [
        {
          "output_type": "display_data",
          "data": {
            "image/png": "[encoded data removed]",
            "text/plain": [
              "<Figure size 432x288 with 1 Axes>"
            ]
          },
          "metadata": {
            "tags": []
          }
        }
      ]
    },
    {
      "cell_type": "markdown",
      "metadata": {
        "id": "AA5Fs5HKi7yD"
      },
      "source": [
        "### Statistical testing"
      ]
    },
    {
      "cell_type": "code",
      "metadata": {
        "id": "fGBCC7bYH6pf",
        "colab": {
          "base_uri": "https://localhost:8080/"
        },
        "outputId": "43b633db-23f3-4507-f891-054e2a80fb68"
      },
      "source": [
        "patient.sex.value_counts()"
      ],
      "execution_count": null,
      "outputs": [
        {
          "output_type": "execute_result",
          "data": {
            "text/plain": [
              "female    2218\n",
              "male      1825\n",
              "Name: sex, dtype: int64"
            ]
          },
          "metadata": {
            "tags": []
          },
          "execution_count": 7
        }
      ]
    },
    {
      "cell_type": "code",
      "metadata": {
        "id": "e0kf7PykKSu2",
        "colab": {
          "base_uri": "https://localhost:8080/"
        },
        "outputId": "2a4190f2-8d7b-4b21-8dfc-060812d37107"
      },
      "source": [
        "gender = patient.groupby('sex')\n",
        "gender.state.value_counts()"
      ],
      "execution_count": null,
      "outputs": [
        {
          "output_type": "execute_result",
          "data": {
            "text/plain": [
              "sex     state   \n",
              "female  released    1402\n",
              "        isolated     788\n",
              "        deceased      28\n",
              "male    released    1112\n",
              "        isolated     666\n",
              "        deceased      47\n",
              "Name: state, dtype: int64"
            ]
          },
          "metadata": {
            "tags": []
          },
          "execution_count": 9
        }
      ]
    },
    {
      "cell_type": "code",
      "metadata": {
        "id": "8FY2oxgi2pvr"
      },
      "source": [
        "patient['age'] = patient['age'].str.replace('s', '')\n",
        "patient['age'] = patient['age'].astype(int)"
      ],
      "execution_count": 208,
      "outputs": []
    },
    {
      "cell_type": "code",
      "metadata": {
        "id": "GWXH0jGe3tte"
      },
      "source": [
        "patient.dropna(subset=['age'], inplace=True)"
      ],
      "execution_count": 201,
      "outputs": []
    },
    {
      "cell_type": "code",
      "metadata": {
        "colab": {
          "base_uri": "https://localhost:8080/"
        },
        "id": "FcZQebtu33k5",
        "outputId": "17d59273-2305-4236-93c5-bc433bbc7696"
      },
      "source": [
        "gender = patient.groupby('sex')\n",
        "gender.state.value_counts()"
      ],
      "execution_count": 203,
      "outputs": [
        {
          "output_type": "execute_result",
          "data": {
            "text/plain": [
              "sex     state   \n",
              "female  released    1394\n",
              "        isolated     646\n",
              "        deceased      28\n",
              "male    released    1103\n",
              "        isolated     564\n",
              "        deceased      47\n",
              "Name: state, dtype: int64"
            ]
          },
          "metadata": {
            "tags": []
          },
          "execution_count": 203
        }
      ]
    },
    {
      "cell_type": "code",
      "metadata": {
        "colab": {
          "base_uri": "https://localhost:8080/",
          "height": 173
        },
        "id": "46yJxcF15Tu0",
        "outputId": "dc7301df-1e71-4e38-e582-bc7b68e0faab"
      },
      "source": [
        "# age\n",
        "gender.agg({\"age\": [np.mean, np.std, np.size]})"
      ],
      "execution_count": 215,
      "outputs": [
        {
          "output_type": "execute_result",
          "data": {
            "text/html": [
              "<div>\n",
              "<style scoped>\n",
              "    .dataframe tbody tr th:only-of-type {\n",
              "        vertical-align: middle;\n",
              "    }\n",
              "\n",
              "    .dataframe tbody tr th {\n",
              "        vertical-align: top;\n",
              "    }\n",
              "\n",
              "    .dataframe thead tr th {\n",
              "        text-align: left;\n",
              "    }\n",
              "\n",
              "    .dataframe thead tr:last-of-type th {\n",
              "        text-align: right;\n",
              "    }\n",
              "</style>\n",
              "<table border=\"1\" class=\"dataframe\">\n",
              "  <thead>\n",
              "    <tr>\n",
              "      <th></th>\n",
              "      <th colspan=\"3\" halign=\"left\">age</th>\n",
              "    </tr>\n",
              "    <tr>\n",
              "      <th></th>\n",
              "      <th>mean</th>\n",
              "      <th>std</th>\n",
              "      <th>size</th>\n",
              "    </tr>\n",
              "    <tr>\n",
              "      <th>sex</th>\n",
              "      <th></th>\n",
              "      <th></th>\n",
              "      <th></th>\n",
              "    </tr>\n",
              "  </thead>\n",
              "  <tbody>\n",
              "    <tr>\n",
              "      <th>female</th>\n",
              "      <td>42.567698</td>\n",
              "      <td>20.229280</td>\n",
              "      <td>2068</td>\n",
              "    </tr>\n",
              "    <tr>\n",
              "      <th>male</th>\n",
              "      <td>37.736289</td>\n",
              "      <td>19.850827</td>\n",
              "      <td>1714</td>\n",
              "    </tr>\n",
              "  </tbody>\n",
              "</table>\n",
              "</div>"
            ],
            "text/plain": [
              "              age                 \n",
              "             mean        std  size\n",
              "sex                               \n",
              "female  42.567698  20.229280  2068\n",
              "male    37.736289  19.850827  1714"
            ]
          },
          "metadata": {
            "tags": []
          },
          "execution_count": 215
        }
      ]
    },
    {
      "cell_type": "code",
      "metadata": {
        "colab": {
          "base_uri": "https://localhost:8080/"
        },
        "id": "xpTb0NIF2Q2Z",
        "outputId": "b56e311f-5311-460c-a338-3d065ebda149"
      },
      "source": [
        "import statsmodels.api as sm\n",
        "\n",
        "# Z-Test CTR\n",
        "print(sm.stats.ztest(patient[patient['sex'] == 'female'].age, patient[patient['sex'] == 'male'].age)) # prints test statistic, p-value"
      ],
      "execution_count": 210,
      "outputs": [
        {
          "output_type": "stream",
          "text": [
            "(7.37380757644738, 1.6582248370749386e-13)\n"
          ],
          "name": "stdout"
        }
      ]
    },
    {
      "cell_type": "markdown",
      "metadata": {
        "id": "N7XYbHQ6KxNY"
      },
      "source": [
        "Parametric test assumptions\n",
        "\n",
        "*   Independence: Meaning that each observation is independent of another; if there are 2 or more groups being compared, then it refers to that fact that groups are mutually exclusive, i.e. each individual belongs to only 1 group; and that the data is not repeated over time.\n",
        "*   Population distributions are normal: The normality assumption is applied differently depending on the statistical method being used. For example, it applies to the shape of the sampling distribution for the dependent variable (outcome variable).\n",
        "*   Samples have equal variances"
      ]
    },
    {
      "cell_type": "markdown",
      "metadata": {
        "id": "3549egkrQ7HD"
      },
      "source": [
        "Since clusters are already different (point of clustering), let's see if one variable is different form the population"
      ]
    },
    {
      "cell_type": "code",
      "metadata": {
        "id": "H3Kxr2f1P9kR"
      },
      "source": [
        "# Create dataframes for each cluster\n",
        "cluster_1 = full_features_df.query('cluster == 1')\n",
        "cluster_2 = full_features_df.query('cluster == 2')\n",
        "cluster_3 = full_features_df.query('cluster == 3')"
      ],
      "execution_count": 33,
      "outputs": []
    },
    {
      "cell_type": "code",
      "metadata": {
        "colab": {
          "base_uri": "https://localhost:8080/"
        },
        "id": "H4_W7H0ZLjc6",
        "outputId": "ca9b99ef-0d17-4821-ca73-8d84ca6077ea"
      },
      "source": [
        "np.var(cluster_1.elderly_population_ratio)"
      ],
      "execution_count": 44,
      "outputs": [
        {
          "output_type": "execute_result",
          "data": {
            "text/plain": [
              "3.236025959153197"
            ]
          },
          "metadata": {
            "tags": []
          },
          "execution_count": 44
        }
      ]
    },
    {
      "cell_type": "code",
      "metadata": {
        "colab": {
          "base_uri": "https://localhost:8080/"
        },
        "id": "xVkvRHFRLrH-",
        "outputId": "849a2d74-0134-4e20-f198-518ab8d3d85f"
      },
      "source": [
        "np.var(cluster_2.elderly_population_ratio)"
      ],
      "execution_count": 45,
      "outputs": [
        {
          "output_type": "execute_result",
          "data": {
            "text/plain": [
              "28.89441501781002"
            ]
          },
          "metadata": {
            "tags": []
          },
          "execution_count": 45
        }
      ]
    },
    {
      "cell_type": "code",
      "metadata": {
        "colab": {
          "base_uri": "https://localhost:8080/"
        },
        "id": "6XpKwPbwMCj0",
        "outputId": "c81c0a97-ec19-495d-d055-0d08ea9d0ab1"
      },
      "source": [
        "np.var(cluster_3.elderly_population_ratio)"
      ],
      "execution_count": 46,
      "outputs": [
        {
          "output_type": "execute_result",
          "data": {
            "text/plain": [
              "7.553226950501664"
            ]
          },
          "metadata": {
            "tags": []
          },
          "execution_count": 46
        }
      ]
    },
    {
      "cell_type": "code",
      "metadata": {
        "colab": {
          "base_uri": "https://localhost:8080/"
        },
        "id": "x7VATgGVM0tY",
        "outputId": "c8aa99f2-462f-4799-9932-d661d04fb58f"
      },
      "source": [
        "# Check bartlett's equality of variance test\n",
        "stats.bartlett(cluster_1['elderly_population_ratio'],\n",
        "               cluster_2['elderly_population_ratio'],\n",
        "               cluster_3['elderly_population_ratio'])"
      ],
      "execution_count": 34,
      "outputs": [
        {
          "output_type": "execute_result",
          "data": {
            "text/plain": [
              "BartlettResult(statistic=975.6649699176323, pvalue=1.3710196813142527e-212)"
            ]
          },
          "metadata": {
            "tags": []
          },
          "execution_count": 34
        }
      ]
    },
    {
      "cell_type": "markdown",
      "metadata": {
        "id": "sG5vmCHeOCQ9"
      },
      "source": [
        "Heteroskedasticity!"
      ]
    },
    {
      "cell_type": "code",
      "metadata": {
        "id": "v0tyBaPxZsnQ",
        "colab": {
          "base_uri": "https://localhost:8080/",
          "height": 265
        },
        "outputId": "087bd1d7-e7d3-4ead-d5a2-f01d0f57c54c"
      },
      "source": [
        "# Check overall population for normality\n",
        "pyplot.hist(full_features_df.elderly_population_ratio)\n",
        "pyplot.show()"
      ],
      "execution_count": 35,
      "outputs": [
        {
          "output_type": "display_data",
          "data": {
            "image/png": "[encoded data removed]",
            "text/plain": [
              "<Figure size 432x288 with 1 Axes>"
            ]
          },
          "metadata": {
            "tags": [],
            "needs_background": "light"
          }
        }
      ]
    },
    {
      "cell_type": "code",
      "metadata": {
        "id": "i76KF8cyREbb"
      },
      "source": [
        ""
      ],
      "execution_count": null,
      "outputs": []
    },
    {
      "cell_type": "code",
      "metadata": {
        "id": "q16Xb21gaGGq",
        "colab": {
          "base_uri": "https://localhost:8080/",
          "height": 461
        },
        "outputId": "6a02ef64-1ff8-40c8-f1ab-51cfe7c1bfea"
      },
      "source": [
        "# Plot clusters to check for normality\n",
        "fig, axes = plt.subplots(1, 3, figsize=(20,7))\n",
        "\n",
        "cluster_1.hist('elderly_population_ratio', ax=axes[0])\n",
        "cluster_2.hist('elderly_population_ratio', ax=axes[1])\n",
        "cluster_3.hist('elderly_population_ratio', ax=axes[2])\n",
        "axes[0].set_title('Cluster 1')\n",
        "axes[1].set_title('Cluster 2')\n",
        "axes[2].set_title('Cluster 3')"
      ],
      "execution_count": 36,
      "outputs": [
        {
          "output_type": "execute_result",
          "data": {
            "text/plain": [
              "Text(0.5, 1.0, 'Cluster 3')"
            ]
          },
          "metadata": {
            "tags": []
          },
          "execution_count": 36
        },
        {
          "output_type": "display_data",
          "data": {
            "image/png": "[encoded data removed]",
            "text/plain": [
              "<Figure size 1440x504 with 3 Axes>"
            ]
          },
          "metadata": {
            "tags": [],
            "needs_background": "light"
          }
        }
      ]
    },
    {
      "cell_type": "code",
      "metadata": {
        "id": "ECLCCsdaLbe0",
        "colab": {
          "base_uri": "https://localhost:8080/"
        },
        "outputId": "23d27959-13d6-489f-9d7d-292760875083"
      },
      "source": [
        "pip install researchpy"
      ],
      "execution_count": 37,
      "outputs": [
        {
          "output_type": "stream",
          "text": [
            "Collecting researchpy\n",
            "  Downloading https://files.pythonhosted.org/packages/4b/a3/b16ea25a5416f7c35824b2fc3ee1cdc9f9d8ab6d9fc4119679504d43b8a8/researchpy-0.2.3-py3-none-any.whl\n",
            "Requirement already satisfied: numpy in /usr/local/lib/python3.6/dist-packages (from researchpy) (1.18.5)\n",
            "Requirement already satisfied: scipy in /usr/local/lib/python3.6/dist-packages (from researchpy) (1.4.1)\n",
            "Requirement already satisfied: statsmodels in /usr/local/lib/python3.6/dist-packages (from researchpy) (0.10.2)\n",
            "Requirement already satisfied: pandas in /usr/local/lib/python3.6/dist-packages (from researchpy) (1.1.4)\n",
            "Requirement already satisfied: patsy>=0.4.0 in /usr/local/lib/python3.6/dist-packages (from statsmodels->researchpy) (0.5.1)\n",
            "Requirement already satisfied: python-dateutil>=2.7.3 in /usr/local/lib/python3.6/dist-packages (from pandas->researchpy) (2.8.1)\n",
            "Requirement already satisfied: pytz>=2017.2 in /usr/local/lib/python3.6/dist-packages (from pandas->researchpy) (2018.9)\n",
            "Requirement already satisfied: six in /usr/local/lib/python3.6/dist-packages (from patsy>=0.4.0->statsmodels->researchpy) (1.15.0)\n",
            "Installing collected packages: researchpy\n",
            "Successfully installed researchpy-0.2.3\n"
          ],
          "name": "stdout"
        }
      ]
    },
    {
      "cell_type": "code",
      "metadata": {
        "colab": {
          "base_uri": "https://localhost:8080/",
          "height": 168
        },
        "id": "cWjx1YI-KpoD",
        "outputId": "f0a3f145-a4e0-4f61-b2ea-5a110eaf30bf"
      },
      "source": [
        "import researchpy as rp\n",
        "rp.summary_cont(full_features_df['elderly_population_ratio'])"
      ],
      "execution_count": 38,
      "outputs": [
        {
          "output_type": "stream",
          "text": [
            "\n",
            "\n"
          ],
          "name": "stdout"
        },
        {
          "output_type": "stream",
          "text": [
            "/usr/local/lib/python3.6/dist-packages/statsmodels/tools/_testing.py:19: FutureWarning: pandas.util.testing is deprecated. Use the functions in the public API at pandas.testing instead.\n",
            "  import pandas.util.testing as tm\n"
          ],
          "name": "stderr"
        },
        {
          "output_type": "execute_result",
          "data": {
            "text/html": [
              "<div>\n",
              "<style scoped>\n",
              "    .dataframe tbody tr th:only-of-type {\n",
              "        vertical-align: middle;\n",
              "    }\n",
              "\n",
              "    .dataframe tbody tr th {\n",
              "        vertical-align: top;\n",
              "    }\n",
              "\n",
              "    .dataframe thead th {\n",
              "        text-align: right;\n",
              "    }\n",
              "</style>\n",
              "<table border=\"1\" class=\"dataframe\">\n",
              "  <thead>\n",
              "    <tr style=\"text-align: right;\">\n",
              "      <th></th>\n",
              "      <th>Variable</th>\n",
              "      <th>N</th>\n",
              "      <th>Mean</th>\n",
              "      <th>SD</th>\n",
              "      <th>SE</th>\n",
              "      <th>95% Conf.</th>\n",
              "      <th>Interval</th>\n",
              "    </tr>\n",
              "  </thead>\n",
              "  <tbody>\n",
              "    <tr>\n",
              "      <th>0</th>\n",
              "      <td>elderly_population_ratio</td>\n",
              "      <td>4946.0</td>\n",
              "      <td>15.992</td>\n",
              "      <td>5.8746</td>\n",
              "      <td>0.0835</td>\n",
              "      <td>15.8282</td>\n",
              "      <td>16.1557</td>\n",
              "    </tr>\n",
              "  </tbody>\n",
              "</table>\n",
              "</div>"
            ],
            "text/plain": [
              "                   Variable       N    Mean  ...      SE  95% Conf.  Interval\n",
              "0  elderly_population_ratio  4946.0  15.992  ...  0.0835    15.8282   16.1557\n",
              "\n",
              "[1 rows x 7 columns]"
            ]
          },
          "metadata": {
            "tags": []
          },
          "execution_count": 38
        }
      ]
    },
    {
      "cell_type": "code",
      "metadata": {
        "id": "honAtHTofcy-",
        "colab": {
          "base_uri": "https://localhost:8080/",
          "height": 207
        },
        "outputId": "01f66c30-19cb-41f6-ce0b-0d5e64fb5ba4"
      },
      "source": [
        "rp.summary_cont(full_features_df['elderly_population_ratio'].groupby(full_features_df['cluster']))"
      ],
      "execution_count": 39,
      "outputs": [
        {
          "output_type": "stream",
          "text": [
            "\n",
            "\n"
          ],
          "name": "stdout"
        },
        {
          "output_type": "execute_result",
          "data": {
            "text/html": [
              "<div>\n",
              "<style scoped>\n",
              "    .dataframe tbody tr th:only-of-type {\n",
              "        vertical-align: middle;\n",
              "    }\n",
              "\n",
              "    .dataframe tbody tr th {\n",
              "        vertical-align: top;\n",
              "    }\n",
              "\n",
              "    .dataframe thead th {\n",
              "        text-align: right;\n",
              "    }\n",
              "</style>\n",
              "<table border=\"1\" class=\"dataframe\">\n",
              "  <thead>\n",
              "    <tr style=\"text-align: right;\">\n",
              "      <th></th>\n",
              "      <th>N</th>\n",
              "      <th>Mean</th>\n",
              "      <th>SD</th>\n",
              "      <th>SE</th>\n",
              "      <th>95% Conf.</th>\n",
              "      <th>Interval</th>\n",
              "    </tr>\n",
              "    <tr>\n",
              "      <th>cluster</th>\n",
              "      <th></th>\n",
              "      <th></th>\n",
              "      <th></th>\n",
              "      <th></th>\n",
              "      <th></th>\n",
              "      <th></th>\n",
              "    </tr>\n",
              "  </thead>\n",
              "  <tbody>\n",
              "    <tr>\n",
              "      <th>1</th>\n",
              "      <td>1189</td>\n",
              "      <td>12.2503</td>\n",
              "      <td>1.7997</td>\n",
              "      <td>0.0522</td>\n",
              "      <td>12.1479</td>\n",
              "      <td>12.3527</td>\n",
              "    </tr>\n",
              "    <tr>\n",
              "      <th>2</th>\n",
              "      <td>461</td>\n",
              "      <td>31.4243</td>\n",
              "      <td>5.3812</td>\n",
              "      <td>0.2506</td>\n",
              "      <td>30.9318</td>\n",
              "      <td>31.9169</td>\n",
              "    </tr>\n",
              "    <tr>\n",
              "      <th>3</th>\n",
              "      <td>3296</td>\n",
              "      <td>15.1832</td>\n",
              "      <td>2.7487</td>\n",
              "      <td>0.0479</td>\n",
              "      <td>15.0894</td>\n",
              "      <td>15.2771</td>\n",
              "    </tr>\n",
              "  </tbody>\n",
              "</table>\n",
              "</div>"
            ],
            "text/plain": [
              "            N     Mean      SD      SE  95% Conf.  Interval\n",
              "cluster                                                    \n",
              "1        1189  12.2503  1.7997  0.0522    12.1479   12.3527\n",
              "2         461  31.4243  5.3812  0.2506    30.9318   31.9169\n",
              "3        3296  15.1832  2.7487  0.0479    15.0894   15.2771"
            ]
          },
          "metadata": {
            "tags": []
          },
          "execution_count": 39
        }
      ]
    },
    {
      "cell_type": "code",
      "metadata": {
        "id": "k1hm2T2ifXfj",
        "colab": {
          "base_uri": "https://localhost:8080/"
        },
        "outputId": "18ce35cc-8d75-4bbc-8b2a-8e3842fcfb58"
      },
      "source": [
        "stats.f_oneway(full_features_df['elderly_population_ratio'][full_features_df['cluster'] == 1],\n",
        "               full_features_df['elderly_population_ratio'][full_features_df['cluster'] == 2],\n",
        "               full_features_df['elderly_population_ratio'][full_features_df['cluster'] == 3],)"
      ],
      "execution_count": 40,
      "outputs": [
        {
          "output_type": "execute_result",
          "data": {
            "text/plain": [
              "F_onewayResult(statistic=7555.641862365667, pvalue=0.0)"
            ]
          },
          "metadata": {
            "tags": []
          },
          "execution_count": 40
        }
      ]
    },
    {
      "cell_type": "code",
      "metadata": {
        "id": "N35YIVNugPUo",
        "colab": {
          "base_uri": "https://localhost:8080/",
          "height": 111
        },
        "outputId": "d9fd070a-2b47-4795-e6cb-4d8d88914209"
      },
      "source": [
        "import statsmodels.api as sm\n",
        "from statsmodels.formula.api import ols\n",
        "\n",
        "model = ols('elderly_population_ratio ~ C(cluster)', data=full_features_df).fit()\n",
        "aov_table = sm.stats.anova_lm(model, typ=2)\n",
        "aov_table"
      ],
      "execution_count": 41,
      "outputs": [
        {
          "output_type": "execute_result",
          "data": {
            "text/html": [
              "<div>\n",
              "<style scoped>\n",
              "    .dataframe tbody tr th:only-of-type {\n",
              "        vertical-align: middle;\n",
              "    }\n",
              "\n",
              "    .dataframe tbody tr th {\n",
              "        vertical-align: top;\n",
              "    }\n",
              "\n",
              "    .dataframe thead th {\n",
              "        text-align: right;\n",
              "    }\n",
              "</style>\n",
              "<table border=\"1\" class=\"dataframe\">\n",
              "  <thead>\n",
              "    <tr style=\"text-align: right;\">\n",
              "      <th></th>\n",
              "      <th>sum_sq</th>\n",
              "      <th>df</th>\n",
              "      <th>F</th>\n",
              "      <th>PR(&gt;F)</th>\n",
              "    </tr>\n",
              "  </thead>\n",
              "  <tbody>\n",
              "    <tr>\n",
              "      <th>C(cluster)</th>\n",
              "      <td>128592.335559</td>\n",
              "      <td>2.0</td>\n",
              "      <td>7555.641862</td>\n",
              "      <td>0.0</td>\n",
              "    </tr>\n",
              "    <tr>\n",
              "      <th>Residual</th>\n",
              "      <td>42063.396217</td>\n",
              "      <td>4943.0</td>\n",
              "      <td>NaN</td>\n",
              "      <td>NaN</td>\n",
              "    </tr>\n",
              "  </tbody>\n",
              "</table>\n",
              "</div>"
            ],
            "text/plain": [
              "                   sum_sq      df            F  PR(>F)\n",
              "C(cluster)  128592.335559     2.0  7555.641862     0.0\n",
              "Residual     42063.396217  4943.0          NaN     NaN"
            ]
          },
          "metadata": {
            "tags": []
          },
          "execution_count": 41
        }
      ]
    },
    {
      "cell_type": "code",
      "metadata": {
        "id": "8DY18XwugjLN",
        "colab": {
          "base_uri": "https://localhost:8080/",
          "height": 111
        },
        "outputId": "6ed235d5-c3af-463d-9b9a-1b3d13e682a7"
      },
      "source": [
        "\"\"\"\n",
        "The function below was created specifically for the one-way ANOVA table results returned for Type II sum of squares\n",
        "\"\"\"\n",
        "\n",
        "def anova_table(aov):\n",
        "    aov['mean_sq'] = aov[:]['sum_sq']/aov[:]['df']\n",
        "\n",
        "    aov['eta_sq'] = aov[:-1]['sum_sq']/sum(aov['sum_sq'])\n",
        "\n",
        "    aov['omega_sq'] = (aov[:-1]['sum_sq']-(aov[:-1]['df']*aov['mean_sq'][-1]))/(sum(aov['sum_sq'])+aov['mean_sq'][-1])\n",
        "\n",
        "    cols = ['sum_sq', 'df', 'mean_sq', 'F', 'PR(>F)', 'eta_sq', 'omega_sq']\n",
        "    aov = aov[cols]\n",
        "    return aov\n",
        "\n",
        "anova_table(aov_table)"
      ],
      "execution_count": 42,
      "outputs": [
        {
          "output_type": "execute_result",
          "data": {
            "text/html": [
              "<div>\n",
              "<style scoped>\n",
              "    .dataframe tbody tr th:only-of-type {\n",
              "        vertical-align: middle;\n",
              "    }\n",
              "\n",
              "    .dataframe tbody tr th {\n",
              "        vertical-align: top;\n",
              "    }\n",
              "\n",
              "    .dataframe thead th {\n",
              "        text-align: right;\n",
              "    }\n",
              "</style>\n",
              "<table border=\"1\" class=\"dataframe\">\n",
              "  <thead>\n",
              "    <tr style=\"text-align: right;\">\n",
              "      <th></th>\n",
              "      <th>sum_sq</th>\n",
              "      <th>df</th>\n",
              "      <th>mean_sq</th>\n",
              "      <th>F</th>\n",
              "      <th>PR(&gt;F)</th>\n",
              "      <th>eta_sq</th>\n",
              "      <th>omega_sq</th>\n",
              "    </tr>\n",
              "  </thead>\n",
              "  <tbody>\n",
              "    <tr>\n",
              "      <th>C(cluster)</th>\n",
              "      <td>128592.335559</td>\n",
              "      <td>2.0</td>\n",
              "      <td>64296.16778</td>\n",
              "      <td>7555.641862</td>\n",
              "      <td>0.0</td>\n",
              "      <td>0.753519</td>\n",
              "      <td>0.753382</td>\n",
              "    </tr>\n",
              "    <tr>\n",
              "      <th>Residual</th>\n",
              "      <td>42063.396217</td>\n",
              "      <td>4943.0</td>\n",
              "      <td>8.50969</td>\n",
              "      <td>NaN</td>\n",
              "      <td>NaN</td>\n",
              "      <td>NaN</td>\n",
              "      <td>NaN</td>\n",
              "    </tr>\n",
              "  </tbody>\n",
              "</table>\n",
              "</div>"
            ],
            "text/plain": [
              "                   sum_sq      df      mean_sq  ...  PR(>F)    eta_sq  omega_sq\n",
              "C(cluster)  128592.335559     2.0  64296.16778  ...     0.0  0.753519  0.753382\n",
              "Residual     42063.396217  4943.0      8.50969  ...     NaN       NaN       NaN\n",
              "\n",
              "[2 rows x 7 columns]"
            ]
          },
          "metadata": {
            "tags": []
          },
          "execution_count": 42
        }
      ]
    },
    {
      "cell_type": "code",
      "metadata": {
        "id": "1lJqPK-Kg9ox",
        "colab": {
          "base_uri": "https://localhost:8080/",
          "height": 627
        },
        "outputId": "d3c27925-d11e-4a80-a550-633abc525b01"
      },
      "source": [
        "fig = plt.figure(figsize= (10, 10))\n",
        "ax = fig.add_subplot(111)\n",
        "\n",
        "normality_plot, stat = stats.probplot(model.resid, plot= plt, rvalue= True)\n",
        "ax.set_title(\"Probability plot of model residual's\", fontsize= 20)\n",
        "ax.set\n",
        "\n",
        "plt.show()"
      ],
      "execution_count": 43,
      "outputs": [
        {
          "output_type": "display_data",
          "data": {
            "image/png": "[encoded data removed]",
            "text/plain": [
              "<Figure size 720x720 with 1 Axes>"
            ]
          },
          "metadata": {
            "tags": [],
            "needs_background": "light"
          }
        }
      ]
    },
    {
      "cell_type": "markdown",
      "metadata": {
        "id": "1MZjMAIQiuHh"
      },
      "source": [
        "### Modeling"
      ]
    },
    {
      "cell_type": "markdown",
      "metadata": {
        "id": "uQtIiyWgiwed"
      },
      "source": [
        "#### PCA"
      ]
    },
    {
      "cell_type": "code",
      "metadata": {
        "id": "p5PpDU1Q4PA-"
      },
      "source": [
        "# Leave out state\n",
        "features = ['elementary_school_count', 'kindergarten_count', 'university_count',\n",
        "       'academy_ratio', 'elderly_population_ratio', 'elderly_alone_ratio',\n",
        "       'nursing_home_count']\n",
        "       \n",
        "# Separating out the features\n",
        "x = full_df.loc[:, features].values\n",
        "\n",
        "# Separating out the target\n",
        "y = full_df.loc[:,['state']].values\n",
        "\n",
        "# Standardizing the features\n",
        "x = StandardScaler().fit_transform(x)"
      ],
      "execution_count": 917,
      "outputs": []
    },
    {
      "cell_type": "code",
      "metadata": {
        "colab": {
          "base_uri": "https://localhost:8080/",
          "height": 204
        },
        "id": "6nGZuS1h4Prj",
        "outputId": "8150386a-7d93-4ef0-9401-cf6652b2079c"
      },
      "source": [
        "# Visualise the standardised data (Just for simplicity)\n",
        "see_x = pd.DataFrame(data=x, columns=features)\n",
        "see_x.head()"
      ],
      "execution_count": 919,
      "outputs": [
        {
          "output_type": "execute_result",
          "data": {
            "text/html": [
              "<div>\n",
              "<style scoped>\n",
              "    .dataframe tbody tr th:only-of-type {\n",
              "        vertical-align: middle;\n",
              "    }\n",
              "\n",
              "    .dataframe tbody tr th {\n",
              "        vertical-align: top;\n",
              "    }\n",
              "\n",
              "    .dataframe thead th {\n",
              "        text-align: right;\n",
              "    }\n",
              "</style>\n",
              "<table border=\"1\" class=\"dataframe\">\n",
              "  <thead>\n",
              "    <tr style=\"text-align: right;\">\n",
              "      <th></th>\n",
              "      <th>elementary_school_count</th>\n",
              "      <th>kindergarten_count</th>\n",
              "      <th>university_count</th>\n",
              "      <th>academy_ratio</th>\n",
              "      <th>elderly_population_ratio</th>\n",
              "      <th>elderly_alone_ratio</th>\n",
              "      <th>nursing_home_count</th>\n",
              "    </tr>\n",
              "  </thead>\n",
              "  <tbody>\n",
              "    <tr>\n",
              "      <th>0</th>\n",
              "      <td>-1.153909</td>\n",
              "      <td>-1.105194</td>\n",
              "      <td>0.134567</td>\n",
              "      <td>0.332186</td>\n",
              "      <td>0.417772</td>\n",
              "      <td>-0.079591</td>\n",
              "      <td>-0.254035</td>\n",
              "    </tr>\n",
              "    <tr>\n",
              "      <th>1</th>\n",
              "      <td>-0.789633</td>\n",
              "      <td>-0.953647</td>\n",
              "      <td>-0.282401</td>\n",
              "      <td>0.542250</td>\n",
              "      <td>-0.286058</td>\n",
              "      <td>-0.558577</td>\n",
              "      <td>0.182914</td>\n",
              "    </tr>\n",
              "    <tr>\n",
              "      <th>2</th>\n",
              "      <td>-0.384882</td>\n",
              "      <td>-0.542306</td>\n",
              "      <td>0.134567</td>\n",
              "      <td>0.174638</td>\n",
              "      <td>0.541192</td>\n",
              "      <td>0.399395</td>\n",
              "      <td>0.278339</td>\n",
              "    </tr>\n",
              "    <tr>\n",
              "      <th>3</th>\n",
              "      <td>-0.384882</td>\n",
              "      <td>-0.542306</td>\n",
              "      <td>0.134567</td>\n",
              "      <td>0.174638</td>\n",
              "      <td>0.541192</td>\n",
              "      <td>0.399395</td>\n",
              "      <td>0.278339</td>\n",
              "    </tr>\n",
              "    <tr>\n",
              "      <th>4</th>\n",
              "      <td>-0.101556</td>\n",
              "      <td>0.215427</td>\n",
              "      <td>0.134567</td>\n",
              "      <td>0.507239</td>\n",
              "      <td>-0.619626</td>\n",
              "      <td>-0.558577</td>\n",
              "      <td>0.507695</td>\n",
              "    </tr>\n",
              "  </tbody>\n",
              "</table>\n",
              "</div>"
            ],
            "text/plain": [
              "   elementary_school_count  ...  nursing_home_count\n",
              "0                -1.153909  ...           -0.254035\n",
              "1                -0.789633  ...            0.182914\n",
              "2                -0.384882  ...            0.278339\n",
              "3                -0.384882  ...            0.278339\n",
              "4                -0.101556  ...            0.507695\n",
              "\n",
              "[5 rows x 7 columns]"
            ]
          },
          "metadata": {
            "tags": []
          },
          "execution_count": 919
        }
      ]
    },
    {
      "cell_type": "code",
      "metadata": {
        "colab": {
          "base_uri": "https://localhost:8080/"
        },
        "id": "c7AHLCraiz9b",
        "outputId": "fef71d2b-aec2-4d49-84ee-fbf69483ad23"
      },
      "source": [
        "# While applying StandardScaler, each feature of your data should be normally \n",
        "# distributed such that it will scale the distribution to a mean of zero\n",
        "# and a standard deviation of one.\n",
        "np.mean(x),np.std(x)"
      ],
      "execution_count": 920,
      "outputs": [
        {
          "output_type": "execute_result",
          "data": {
            "text/plain": [
              "(2.372869989551355e-17, 1.0)"
            ]
          },
          "metadata": {
            "tags": []
          },
          "execution_count": 920
        }
      ]
    },
    {
      "cell_type": "code",
      "metadata": {
        "colab": {
          "base_uri": "https://localhost:8080/",
          "height": 285
        },
        "id": "iP1Qkcop4Rl7",
        "outputId": "187ad476-e8fe-4f56-fd9c-f1169078108f"
      },
      "source": [
        "# Plot the explained variance per component added\n",
        "pca = PCA().fit(x)\n",
        "plt.plot(np.cumsum(pca.explained_variance_ratio_))\n",
        "plt.xlabel('Number of components')\n",
        "plt.ylabel('Cumulative explained variance');"
      ],
      "execution_count": 921,
      "outputs": [
        {
          "output_type": "display_data",
          "data": {
            "image/png": "[encoded data removed]",
            "text/plain": [
              "<Figure size 432x288 with 1 Axes>"
            ]
          },
          "metadata": {
            "tags": []
          }
        }
      ]
    },
    {
      "cell_type": "code",
      "metadata": {
        "id": "-CrVeF3y4Tqp"
      },
      "source": [
        "# 2 PCA components\n",
        "pca = PCA(n_components=2)\n",
        "principal_components = pca.fit_transform(x)\n",
        "principal_df = pd.DataFrame(data = principal_components\n",
        "             , columns = ['principal component 1', 'principal component 2'])"
      ],
      "execution_count": 922,
      "outputs": []
    },
    {
      "cell_type": "code",
      "metadata": {
        "colab": {
          "base_uri": "https://localhost:8080/",
          "height": 204
        },
        "id": "WM5jN1m04XLG",
        "outputId": "eb993f9f-43d7-4fb4-af97-0c2f751139b3"
      },
      "source": [
        "# Check the head()\n",
        "principal_df.head()"
      ],
      "execution_count": 923,
      "outputs": [
        {
          "output_type": "execute_result",
          "data": {
            "text/html": [
              "<div>\n",
              "<style scoped>\n",
              "    .dataframe tbody tr th:only-of-type {\n",
              "        vertical-align: middle;\n",
              "    }\n",
              "\n",
              "    .dataframe tbody tr th {\n",
              "        vertical-align: top;\n",
              "    }\n",
              "\n",
              "    .dataframe thead th {\n",
              "        text-align: right;\n",
              "    }\n",
              "</style>\n",
              "<table border=\"1\" class=\"dataframe\">\n",
              "  <thead>\n",
              "    <tr style=\"text-align: right;\">\n",
              "      <th></th>\n",
              "      <th>principal component 1</th>\n",
              "      <th>principal component 2</th>\n",
              "    </tr>\n",
              "  </thead>\n",
              "  <tbody>\n",
              "    <tr>\n",
              "      <th>0</th>\n",
              "      <td>1.055859</td>\n",
              "      <td>0.781914</td>\n",
              "    </tr>\n",
              "    <tr>\n",
              "      <th>1</th>\n",
              "      <td>0.220503</td>\n",
              "      <td>1.352708</td>\n",
              "    </tr>\n",
              "    <tr>\n",
              "      <th>2</th>\n",
              "      <td>0.572342</td>\n",
              "      <td>0.045917</td>\n",
              "    </tr>\n",
              "    <tr>\n",
              "      <th>3</th>\n",
              "      <td>0.572342</td>\n",
              "      <td>0.045917</td>\n",
              "    </tr>\n",
              "    <tr>\n",
              "      <th>4</th>\n",
              "      <td>-0.919429</td>\n",
              "      <td>0.554400</td>\n",
              "    </tr>\n",
              "  </tbody>\n",
              "</table>\n",
              "</div>"
            ],
            "text/plain": [
              "   principal component 1  principal component 2\n",
              "0               1.055859               0.781914\n",
              "1               0.220503               1.352708\n",
              "2               0.572342               0.045917\n",
              "3               0.572342               0.045917\n",
              "4              -0.919429               0.554400"
            ]
          },
          "metadata": {
            "tags": []
          },
          "execution_count": 923
        }
      ]
    },
    {
      "cell_type": "code",
      "metadata": {
        "colab": {
          "base_uri": "https://localhost:8080/",
          "height": 204
        },
        "id": "-geZzMCU4bAM",
        "outputId": "d4778cdb-7750-4387-d8e9-c20b34ac7876"
      },
      "source": [
        "# Concatenate and view head()\n",
        "final_df_pca = pd.concat([principal_df[['principal component 1', 'principal component 2']], full_df[['state']]], axis = 1)\n",
        "final_df_pca.head()"
      ],
      "execution_count": 925,
      "outputs": [
        {
          "output_type": "execute_result",
          "data": {
            "text/html": [
              "<div>\n",
              "<style scoped>\n",
              "    .dataframe tbody tr th:only-of-type {\n",
              "        vertical-align: middle;\n",
              "    }\n",
              "\n",
              "    .dataframe tbody tr th {\n",
              "        vertical-align: top;\n",
              "    }\n",
              "\n",
              "    .dataframe thead th {\n",
              "        text-align: right;\n",
              "    }\n",
              "</style>\n",
              "<table border=\"1\" class=\"dataframe\">\n",
              "  <thead>\n",
              "    <tr style=\"text-align: right;\">\n",
              "      <th></th>\n",
              "      <th>principal component 1</th>\n",
              "      <th>principal component 2</th>\n",
              "      <th>state</th>\n",
              "    </tr>\n",
              "  </thead>\n",
              "  <tbody>\n",
              "    <tr>\n",
              "      <th>0</th>\n",
              "      <td>1.055859</td>\n",
              "      <td>0.781914</td>\n",
              "      <td>deceased</td>\n",
              "    </tr>\n",
              "    <tr>\n",
              "      <th>1</th>\n",
              "      <td>0.220503</td>\n",
              "      <td>1.352708</td>\n",
              "      <td>deceased</td>\n",
              "    </tr>\n",
              "    <tr>\n",
              "      <th>2</th>\n",
              "      <td>0.572342</td>\n",
              "      <td>0.045917</td>\n",
              "      <td>deceased</td>\n",
              "    </tr>\n",
              "    <tr>\n",
              "      <th>3</th>\n",
              "      <td>0.572342</td>\n",
              "      <td>0.045917</td>\n",
              "      <td>deceased</td>\n",
              "    </tr>\n",
              "    <tr>\n",
              "      <th>4</th>\n",
              "      <td>-0.919429</td>\n",
              "      <td>0.554400</td>\n",
              "      <td>deceased</td>\n",
              "    </tr>\n",
              "  </tbody>\n",
              "</table>\n",
              "</div>"
            ],
            "text/plain": [
              "   principal component 1  principal component 2     state\n",
              "0               1.055859               0.781914  deceased\n",
              "1               0.220503               1.352708  deceased\n",
              "2               0.572342               0.045917  deceased\n",
              "3               0.572342               0.045917  deceased\n",
              "4              -0.919429               0.554400  deceased"
            ]
          },
          "metadata": {
            "tags": []
          },
          "execution_count": 925
        }
      ]
    },
    {
      "cell_type": "code",
      "metadata": {
        "colab": {
          "base_uri": "https://localhost:8080/",
          "height": 325
        },
        "id": "MKCdim9I4dlo",
        "outputId": "0327e1db-3d2e-4cee-8037-ef61cef4db0f"
      },
      "source": [
        "# Scatterplot \n",
        "fig = plt.figure(figsize = (10,10))\n",
        "\n",
        "fig, ax = plt.subplots()\n",
        "\n",
        "ax.set_xlabel('Principal Component 1', fontsize = 15)\n",
        "ax.set_ylabel('Principal Component 2', fontsize = 15)\n",
        "ax.set_title('2 component PCA', fontsize = 20)\n",
        "\n",
        "sns.scatterplot(x=final_df_pca['principal component 1'], y=final_df_pca['principal component 2'], hue=final_df_pca.state)\n",
        "\n",
        "ax.grid()"
      ],
      "execution_count": 929,
      "outputs": [
        {
          "output_type": "display_data",
          "data": {
            "text/plain": [
              "<Figure size 720x720 with 0 Axes>"
            ]
          },
          "metadata": {
            "tags": []
          }
        },
        {
          "output_type": "display_data",
          "data": {
            "image/png": "[encoded data removed]",
            "text/plain": [
              "<Figure size 432x288 with 1 Axes>"
            ]
          },
          "metadata": {
            "tags": []
          }
        }
      ]
    },
    {
      "cell_type": "code",
      "metadata": {
        "colab": {
          "base_uri": "https://localhost:8080/"
        },
        "id": "qYvyRoZv4f6i",
        "outputId": "fe7bef86-cf7e-4267-ee58-b2fac612e5c5"
      },
      "source": [
        "# Explained variance of the components\n",
        "pca.explained_variance_ratio_"
      ],
      "execution_count": 930,
      "outputs": [
        {
          "output_type": "execute_result",
          "data": {
            "text/plain": [
              "array([0.57229201, 0.17748348])"
            ]
          },
          "metadata": {
            "tags": []
          },
          "execution_count": 930
        }
      ]
    },
    {
      "cell_type": "markdown",
      "metadata": {
        "id": "0ys-K73nix7h"
      },
      "source": [
        "#### T-SNE"
      ]
    },
    {
      "cell_type": "code",
      "metadata": {
        "id": "_wo7qEGPMdpO"
      },
      "source": [
        "# Initialise T-SNE and set 2 components\n",
        "tsne = TSNE(n_components=2, random_state=0)"
      ],
      "execution_count": 931,
      "outputs": []
    },
    {
      "cell_type": "code",
      "metadata": {
        "id": "SXRqsk0jMjGX"
      },
      "source": [
        "# Feed the features dataset \n",
        "tsne_obj= tsne.fit_transform(x)"
      ],
      "execution_count": 932,
      "outputs": []
    },
    {
      "cell_type": "code",
      "metadata": {
        "colab": {
          "base_uri": "https://localhost:8080/",
          "height": 204
        },
        "id": "HbLIZyICMjXv",
        "outputId": "db0cf368-e176-4233-9ba2-e8bd142d9bf2"
      },
      "source": [
        "# View the head()\n",
        "tsne_df = pd.DataFrame(data = tsne_obj\n",
        "             , columns = ['X', 'Y'])\n",
        "\n",
        "tsne_df.head()"
      ],
      "execution_count": 933,
      "outputs": [
        {
          "output_type": "execute_result",
          "data": {
            "text/html": [
              "<div>\n",
              "<style scoped>\n",
              "    .dataframe tbody tr th:only-of-type {\n",
              "        vertical-align: middle;\n",
              "    }\n",
              "\n",
              "    .dataframe tbody tr th {\n",
              "        vertical-align: top;\n",
              "    }\n",
              "\n",
              "    .dataframe thead th {\n",
              "        text-align: right;\n",
              "    }\n",
              "</style>\n",
              "<table border=\"1\" class=\"dataframe\">\n",
              "  <thead>\n",
              "    <tr style=\"text-align: right;\">\n",
              "      <th></th>\n",
              "      <th>X</th>\n",
              "      <th>Y</th>\n",
              "    </tr>\n",
              "  </thead>\n",
              "  <tbody>\n",
              "    <tr>\n",
              "      <th>0</th>\n",
              "      <td>7.317872</td>\n",
              "      <td>16.073278</td>\n",
              "    </tr>\n",
              "    <tr>\n",
              "      <th>1</th>\n",
              "      <td>12.674182</td>\n",
              "      <td>27.831255</td>\n",
              "    </tr>\n",
              "    <tr>\n",
              "      <th>2</th>\n",
              "      <td>13.054370</td>\n",
              "      <td>18.431116</td>\n",
              "    </tr>\n",
              "    <tr>\n",
              "      <th>3</th>\n",
              "      <td>13.054367</td>\n",
              "      <td>18.431164</td>\n",
              "    </tr>\n",
              "    <tr>\n",
              "      <th>4</th>\n",
              "      <td>-54.552574</td>\n",
              "      <td>-11.377718</td>\n",
              "    </tr>\n",
              "  </tbody>\n",
              "</table>\n",
              "</div>"
            ],
            "text/plain": [
              "           X          Y\n",
              "0   7.317872  16.073278\n",
              "1  12.674182  27.831255\n",
              "2  13.054370  18.431116\n",
              "3  13.054367  18.431164\n",
              "4 -54.552574 -11.377718"
            ]
          },
          "metadata": {
            "tags": []
          },
          "execution_count": 933
        }
      ]
    },
    {
      "cell_type": "code",
      "metadata": {
        "colab": {
          "base_uri": "https://localhost:8080/",
          "height": 204
        },
        "id": "zOdKoP-SMrYe",
        "outputId": "e3cd6cf6-c42b-43e4-f1dd-fee4cd91694f"
      },
      "source": [
        "# Concatenate and view again\n",
        "final_tsne_df = pd.concat([tsne_df, full_df[['state']]], axis = 1)\n",
        "final_tsne_df.head()"
      ],
      "execution_count": 934,
      "outputs": [
        {
          "output_type": "execute_result",
          "data": {
            "text/html": [
              "<div>\n",
              "<style scoped>\n",
              "    .dataframe tbody tr th:only-of-type {\n",
              "        vertical-align: middle;\n",
              "    }\n",
              "\n",
              "    .dataframe tbody tr th {\n",
              "        vertical-align: top;\n",
              "    }\n",
              "\n",
              "    .dataframe thead th {\n",
              "        text-align: right;\n",
              "    }\n",
              "</style>\n",
              "<table border=\"1\" class=\"dataframe\">\n",
              "  <thead>\n",
              "    <tr style=\"text-align: right;\">\n",
              "      <th></th>\n",
              "      <th>X</th>\n",
              "      <th>Y</th>\n",
              "      <th>state</th>\n",
              "    </tr>\n",
              "  </thead>\n",
              "  <tbody>\n",
              "    <tr>\n",
              "      <th>0</th>\n",
              "      <td>7.317872</td>\n",
              "      <td>16.073278</td>\n",
              "      <td>deceased</td>\n",
              "    </tr>\n",
              "    <tr>\n",
              "      <th>1</th>\n",
              "      <td>12.674182</td>\n",
              "      <td>27.831255</td>\n",
              "      <td>deceased</td>\n",
              "    </tr>\n",
              "    <tr>\n",
              "      <th>2</th>\n",
              "      <td>13.054370</td>\n",
              "      <td>18.431116</td>\n",
              "      <td>deceased</td>\n",
              "    </tr>\n",
              "    <tr>\n",
              "      <th>3</th>\n",
              "      <td>13.054367</td>\n",
              "      <td>18.431164</td>\n",
              "      <td>deceased</td>\n",
              "    </tr>\n",
              "    <tr>\n",
              "      <th>4</th>\n",
              "      <td>-54.552574</td>\n",
              "      <td>-11.377718</td>\n",
              "      <td>deceased</td>\n",
              "    </tr>\n",
              "  </tbody>\n",
              "</table>\n",
              "</div>"
            ],
            "text/plain": [
              "           X          Y     state\n",
              "0   7.317872  16.073278  deceased\n",
              "1  12.674182  27.831255  deceased\n",
              "2  13.054370  18.431116  deceased\n",
              "3  13.054367  18.431164  deceased\n",
              "4 -54.552574 -11.377718  deceased"
            ]
          },
          "metadata": {
            "tags": []
          },
          "execution_count": 934
        }
      ]
    },
    {
      "cell_type": "code",
      "metadata": {
        "colab": {
          "base_uri": "https://localhost:8080/",
          "height": 325
        },
        "id": "Ws3R5YVbM317",
        "outputId": "5fd62367-9ca9-450e-e4d5-a4997aef5b48"
      },
      "source": [
        "# T-SNE scatterplot\n",
        "fig = plt.figure(figsize = (8,8))\n",
        "\n",
        "fig, ax = plt.subplots()\n",
        "\n",
        "ax.set_xlabel('X', fontsize = 15)\n",
        "ax.set_ylabel('Y', fontsize = 15)\n",
        "ax.set_title('T-SNE scatterplot', fontsize = 20)\n",
        "\n",
        "sns.scatterplot(x=\"X\", y=\"Y\", hue=\"state\", data=final_tsne_df);\n",
        "ax.grid()"
      ],
      "execution_count": 935,
      "outputs": [
        {
          "output_type": "display_data",
          "data": {
            "text/plain": [
              "<Figure size 576x576 with 0 Axes>"
            ]
          },
          "metadata": {
            "tags": []
          }
        },
        {
          "output_type": "display_data",
          "data": {
            "image/png": "[encoded data removed]",
            "text/plain": [
              "<Figure size 432x288 with 1 Axes>"
            ]
          },
          "metadata": {
            "tags": []
          }
        }
      ]
    },
    {
      "cell_type": "markdown",
      "metadata": {
        "id": "oCzO6v40NAe_"
      },
      "source": [
        "#### Kmeans clustering"
      ]
    },
    {
      "cell_type": "code",
      "metadata": {
        "id": "-DUADsegNysH"
      },
      "source": [
        "# Calculate the within cluster SSE (distortion)\n",
        "distortions = []\n",
        "K = range(1,10)\n",
        "for k in K:\n",
        "    kmeanModel = KMeans(n_clusters=k)\n",
        "    kmeanModel.fit(principal_df)\n",
        "    distortions.append(kmeanModel.inertia_)"
      ],
      "execution_count": 936,
      "outputs": []
    },
    {
      "cell_type": "code",
      "metadata": {
        "colab": {
          "base_uri": "https://localhost:8080/",
          "height": 518
        },
        "id": "28PuCzPKN00r",
        "outputId": "c13ae9ec-ae3f-4320-856e-e08bf39996e3"
      },
      "source": [
        "# Plot the elbow figure\n",
        "plt.figure(figsize=(16,8))\n",
        "plt.plot(K, distortions, 'bx-')\n",
        "plt.xlabel('Number of clusters')\n",
        "plt.ylabel('Within cluster SSE (Distortion)')\n",
        "plt.title('The Elbow Method showing the optimal k')\n",
        "plt.show()"
      ],
      "execution_count": 937,
      "outputs": [
        {
          "output_type": "display_data",
          "data": {
            "image/png": "[encoded data removed]",
            "text/plain": [
              "<Figure size 1152x576 with 1 Axes>"
            ]
          },
          "metadata": {
            "tags": []
          }
        }
      ]
    },
    {
      "cell_type": "code",
      "metadata": {
        "colab": {
          "base_uri": "https://localhost:8080/"
        },
        "id": "O_OXzG7GLPA-",
        "outputId": "5b54a67f-ebb1-4567-f2e7-17f5dcdd6a4f"
      },
      "source": [
        "pip install kneed"
      ],
      "execution_count": 938,
      "outputs": [
        {
          "output_type": "stream",
          "text": [
            "Collecting kneed\n",
            "  Downloading https://files.pythonhosted.org/packages/c3/6b/e130913aaaad1373060e259ab222ca2330672db696b297b082c3f3089fcc/kneed-0.7.0-py2.py3-none-any.whl\n",
            "Requirement already satisfied: scipy in /usr/local/lib/python3.6/dist-packages (from kneed) (1.4.1)\n",
            "Requirement already satisfied: numpy>=1.14.2 in /usr/local/lib/python3.6/dist-packages (from kneed) (1.18.5)\n",
            "Requirement already satisfied: matplotlib in /usr/local/lib/python3.6/dist-packages (from kneed) (3.2.2)\n",
            "Requirement already satisfied: python-dateutil>=2.1 in /usr/local/lib/python3.6/dist-packages (from matplotlib->kneed) (2.8.1)\n",
            "Requirement already satisfied: cycler>=0.10 in /usr/local/lib/python3.6/dist-packages (from matplotlib->kneed) (0.10.0)\n",
            "Requirement already satisfied: pyparsing!=2.0.4,!=2.1.2,!=2.1.6,>=2.0.1 in /usr/local/lib/python3.6/dist-packages (from matplotlib->kneed) (2.4.7)\n",
            "Requirement already satisfied: kiwisolver>=1.0.1 in /usr/local/lib/python3.6/dist-packages (from matplotlib->kneed) (1.3.1)\n",
            "Requirement already satisfied: six>=1.5 in /usr/local/lib/python3.6/dist-packages (from python-dateutil>=2.1->matplotlib->kneed) (1.15.0)\n",
            "Installing collected packages: kneed\n",
            "Successfully installed kneed-0.7.0\n"
          ],
          "name": "stdout"
        }
      ]
    },
    {
      "cell_type": "code",
      "metadata": {
        "id": "hhCA1ero8Rca"
      },
      "source": [
        "# Installing kneed\n",
        "from kneed import DataGenerator, KneeLocator"
      ],
      "execution_count": 939,
      "outputs": []
    },
    {
      "cell_type": "code",
      "metadata": {
        "colab": {
          "base_uri": "https://localhost:8080/"
        },
        "id": "w0_BIxVI8Ajb",
        "outputId": "83d3e1e3-dcf5-4fdb-a9c8-a494293e838b"
      },
      "source": [
        "# Using kneed to programmatically check elbow point\n",
        "kl = KneeLocator(range(1, 10), distortions, curve=\"convex\", direction=\"decreasing\")\n",
        "kl.elbow"
      ],
      "execution_count": 940,
      "outputs": [
        {
          "output_type": "execute_result",
          "data": {
            "text/plain": [
              "3"
            ]
          },
          "metadata": {
            "tags": []
          },
          "execution_count": 940
        }
      ]
    },
    {
      "cell_type": "code",
      "metadata": {
        "id": "wiMEYOpGN3Gt"
      },
      "source": [
        "# Fit and predict the Kmeans model\n",
        "kmeanModel = KMeans(n_clusters=3)\n",
        "kmeanModel.fit(principal_df)\n",
        "y_kmeans = kmeanModel.predict(principal_df)"
      ],
      "execution_count": 941,
      "outputs": []
    },
    {
      "cell_type": "code",
      "metadata": {
        "colab": {
          "base_uri": "https://localhost:8080/",
          "height": 518
        },
        "id": "H6B6YDCKN5Yr",
        "outputId": "34e50939-c688-4eae-dd83-6e308aeba855"
      },
      "source": [
        "# plot points\n",
        "plt.figure(figsize=(16,8))\n",
        "plt.title('K-means clusters')\n",
        "\n",
        "sns.scatterplot(data=principal_df, x='principal component 1', y='principal component 2', hue=y_kmeans)\n",
        "\n",
        "\n",
        "# plot cluster centers\n",
        "centers = kmeanModel.cluster_centers_\n",
        "plt.scatter(centers[:, 0], centers[:, 1], c='black', s=500, alpha=0.5);"
      ],
      "execution_count": 942,
      "outputs": [
        {
          "output_type": "display_data",
          "data": {
            "image/png": "[encoded data removed]",
            "text/plain": [
              "<Figure size 1152x576 with 1 Axes>"
            ]
          },
          "metadata": {
            "tags": []
          }
        }
      ]
    },
    {
      "cell_type": "code",
      "metadata": {
        "id": "P5mD6IUgCawJ"
      },
      "source": [
        "# Add column for cluster labels\n",
        "full_df['cluster'] = kmeanModel.labels_"
      ],
      "execution_count": 944,
      "outputs": []
    },
    {
      "cell_type": "code",
      "metadata": {
        "id": "GNQQyimBDGlZ"
      },
      "source": [
        "# change clusters to 1 - 3 instead of 0 - 2\n",
        "full_df['cluster'] = full_df['cluster'].map({0:1, 1:2, 2:3}) "
      ],
      "execution_count": 945,
      "outputs": []
    },
    {
      "cell_type": "code",
      "metadata": {
        "id": "bKGgbjBtC1nt"
      },
      "source": [
        "# Group by cluster\n",
        "grouped_by_cluster = full_df.groupby('cluster')"
      ],
      "execution_count": 946,
      "outputs": []
    },
    {
      "cell_type": "code",
      "metadata": {
        "colab": {
          "base_uri": "https://localhost:8080/",
          "height": 328
        },
        "id": "7jp4bCxtDqyT",
        "outputId": "903238b3-a0ca-4652-e9cb-0d2ad57350d7"
      },
      "source": [
        "# Get the percentages of states in each cluster\n",
        "df = pd.concat([grouped_by_cluster.state.value_counts(), \n",
        "                grouped_by_cluster.state.value_counts(normalize=True).mul(100)],axis=1, keys=('counts','percentage'))\n",
        "\n",
        "df.round(2)"
      ],
      "execution_count": 947,
      "outputs": [
        {
          "output_type": "execute_result",
          "data": {
            "text/html": [
              "<div>\n",
              "<style scoped>\n",
              "    .dataframe tbody tr th:only-of-type {\n",
              "        vertical-align: middle;\n",
              "    }\n",
              "\n",
              "    .dataframe tbody tr th {\n",
              "        vertical-align: top;\n",
              "    }\n",
              "\n",
              "    .dataframe thead th {\n",
              "        text-align: right;\n",
              "    }\n",
              "</style>\n",
              "<table border=\"1\" class=\"dataframe\">\n",
              "  <thead>\n",
              "    <tr style=\"text-align: right;\">\n",
              "      <th></th>\n",
              "      <th></th>\n",
              "      <th>counts</th>\n",
              "      <th>percentage</th>\n",
              "    </tr>\n",
              "    <tr>\n",
              "      <th>cluster</th>\n",
              "      <th>state</th>\n",
              "      <th></th>\n",
              "      <th></th>\n",
              "    </tr>\n",
              "  </thead>\n",
              "  <tbody>\n",
              "    <tr>\n",
              "      <th rowspan=\"3\" valign=\"top\">1</th>\n",
              "      <th>released</th>\n",
              "      <td>302</td>\n",
              "      <td>72.60</td>\n",
              "    </tr>\n",
              "    <tr>\n",
              "      <th>isolated</th>\n",
              "      <td>99</td>\n",
              "      <td>23.80</td>\n",
              "    </tr>\n",
              "    <tr>\n",
              "      <th>deceased</th>\n",
              "      <td>15</td>\n",
              "      <td>3.61</td>\n",
              "    </tr>\n",
              "    <tr>\n",
              "      <th rowspan=\"3\" valign=\"top\">2</th>\n",
              "      <th>released</th>\n",
              "      <td>1271</td>\n",
              "      <td>63.45</td>\n",
              "    </tr>\n",
              "    <tr>\n",
              "      <th>isolated</th>\n",
              "      <td>715</td>\n",
              "      <td>35.70</td>\n",
              "    </tr>\n",
              "    <tr>\n",
              "      <th>deceased</th>\n",
              "      <td>17</td>\n",
              "      <td>0.85</td>\n",
              "    </tr>\n",
              "    <tr>\n",
              "      <th rowspan=\"2\" valign=\"top\">3</th>\n",
              "      <th>isolated</th>\n",
              "      <td>442</td>\n",
              "      <td>66.87</td>\n",
              "    </tr>\n",
              "    <tr>\n",
              "      <th>released</th>\n",
              "      <td>219</td>\n",
              "      <td>33.13</td>\n",
              "    </tr>\n",
              "  </tbody>\n",
              "</table>\n",
              "</div>"
            ],
            "text/plain": [
              "                  counts  percentage\n",
              "cluster state                       \n",
              "1       released     302       72.60\n",
              "        isolated      99       23.80\n",
              "        deceased      15        3.61\n",
              "2       released    1271       63.45\n",
              "        isolated     715       35.70\n",
              "        deceased      17        0.85\n",
              "3       isolated     442       66.87\n",
              "        released     219       33.13"
            ]
          },
          "metadata": {
            "tags": []
          },
          "execution_count": 947
        }
      ]
    },
    {
      "cell_type": "markdown",
      "metadata": {
        "id": "Z6kggFNJDDow"
      },
      "source": [
        "Seems like the highest percentage of deceased patients are in cluster 1, but the highest absolute number of deceased patients is in cluster 2."
      ]
    },
    {
      "cell_type": "code",
      "metadata": {
        "colab": {
          "base_uri": "https://localhost:8080/",
          "height": 193
        },
        "id": "VW4hPAvqCkvw",
        "outputId": "9957ed43-4172-4587-8d42-30d7803dbe8d"
      },
      "source": [
        "grouped_by_cluster.mean()"
      ],
      "execution_count": 948,
      "outputs": [
        {
          "output_type": "execute_result",
          "data": {
            "text/html": [
              "<div>\n",
              "<style scoped>\n",
              "    .dataframe tbody tr th:only-of-type {\n",
              "        vertical-align: middle;\n",
              "    }\n",
              "\n",
              "    .dataframe tbody tr th {\n",
              "        vertical-align: top;\n",
              "    }\n",
              "\n",
              "    .dataframe thead th {\n",
              "        text-align: right;\n",
              "    }\n",
              "</style>\n",
              "<table border=\"1\" class=\"dataframe\">\n",
              "  <thead>\n",
              "    <tr style=\"text-align: right;\">\n",
              "      <th></th>\n",
              "      <th>age</th>\n",
              "      <th>elementary_school_count</th>\n",
              "      <th>kindergarten_count</th>\n",
              "      <th>university_count</th>\n",
              "      <th>academy_ratio</th>\n",
              "      <th>elderly_population_ratio</th>\n",
              "      <th>elderly_alone_ratio</th>\n",
              "      <th>nursing_home_count</th>\n",
              "    </tr>\n",
              "    <tr>\n",
              "      <th>cluster</th>\n",
              "      <th></th>\n",
              "      <th></th>\n",
              "      <th></th>\n",
              "      <th></th>\n",
              "      <th></th>\n",
              "      <th></th>\n",
              "      <th></th>\n",
              "      <th></th>\n",
              "    </tr>\n",
              "  </thead>\n",
              "  <tbody>\n",
              "    <tr>\n",
              "      <th>1</th>\n",
              "      <td>44.408389</td>\n",
              "      <td>18.278846</td>\n",
              "      <td>22.528846</td>\n",
              "      <td>1.014423</td>\n",
              "      <td>0.934231</td>\n",
              "      <td>28.547428</td>\n",
              "      <td>15.876442</td>\n",
              "      <td>154.507212</td>\n",
              "    </tr>\n",
              "    <tr>\n",
              "      <th>2</th>\n",
              "      <td>40.527412</td>\n",
              "      <td>33.166251</td>\n",
              "      <td>53.388917</td>\n",
              "      <td>2.371942</td>\n",
              "      <td>1.545272</td>\n",
              "      <td>14.251742</td>\n",
              "      <td>5.956665</td>\n",
              "      <td>720.429356</td>\n",
              "    </tr>\n",
              "    <tr>\n",
              "      <th>3</th>\n",
              "      <td>35.052950</td>\n",
              "      <td>81.409985</td>\n",
              "      <td>141.122542</td>\n",
              "      <td>4.649017</td>\n",
              "      <td>1.813177</td>\n",
              "      <td>12.306581</td>\n",
              "      <td>5.114372</td>\n",
              "      <td>1539.346445</td>\n",
              "    </tr>\n",
              "  </tbody>\n",
              "</table>\n",
              "</div>"
            ],
            "text/plain": [
              "               age  ...  nursing_home_count\n",
              "cluster             ...                    \n",
              "1        44.408389  ...          154.507212\n",
              "2        40.527412  ...          720.429356\n",
              "3        35.052950  ...         1539.346445\n",
              "\n",
              "[3 rows x 8 columns]"
            ]
          },
          "metadata": {
            "tags": []
          },
          "execution_count": 948
        }
      ]
    },
    {
      "cell_type": "markdown",
      "metadata": {
        "id": "YxLZvQQ2Ie-r"
      },
      "source": [
        "It seems that cluster 1 has a higher percentage of `elderly_population_ratio` and `elderly_alone_ratio` compared to the other 2 clusters. The cluster also has the lowest number of nursing homes compared to the other 2 clusters and the highest average age."
      ]
    },
    {
      "cell_type": "markdown",
      "metadata": {
        "id": "aNtsizcQjJMw"
      },
      "source": [
        "#### linear regression"
      ]
    },
    {
      "cell_type": "code",
      "metadata": {
        "id": "ftAoE-EzjtJn"
      },
      "source": [
        "# Add categorised values\n",
        "full_df['state_cat'] = full_df['state'].astype('category').cat.codes"
      ],
      "execution_count": 949,
      "outputs": []
    },
    {
      "cell_type": "code",
      "metadata": {
        "id": "Zda0Ahx0CHnY"
      },
      "source": [
        "# Get all interesting features for linear regression\n",
        "features_lin = ['age','sex', 'infection_case', 'country', 'province', 'city', 'elementary_school_count', 'kindergarten_count', 'university_count',\n",
        "       'academy_ratio', 'elderly_population_ratio', 'elderly_alone_ratio',\n",
        "       'nursing_home_count']"
      ],
      "execution_count": 950,
      "outputs": []
    },
    {
      "cell_type": "code",
      "metadata": {
        "id": "Y2zE7ssCAdhu"
      },
      "source": [
        "# Set X as df\n",
        "X = full_df[features_lin]"
      ],
      "execution_count": 951,
      "outputs": []
    },
    {
      "cell_type": "code",
      "metadata": {
        "colab": {
          "base_uri": "https://localhost:8080/",
          "height": 287
        },
        "id": "exPwiTz2AarZ",
        "outputId": "1bdd4f5e-736e-4b41-926d-da5bce63081c"
      },
      "source": [
        "# Set dummy variables\n",
        "X = pd.get_dummies(data=X, drop_first=True)\n",
        "X.head()"
      ],
      "execution_count": 952,
      "outputs": [
        {
          "output_type": "execute_result",
          "data": {
            "text/html": [
              "<div>\n",
              "<style scoped>\n",
              "    .dataframe tbody tr th:only-of-type {\n",
              "        vertical-align: middle;\n",
              "    }\n",
              "\n",
              "    .dataframe tbody tr th {\n",
              "        vertical-align: top;\n",
              "    }\n",
              "\n",
              "    .dataframe thead th {\n",
              "        text-align: right;\n",
              "    }\n",
              "</style>\n",
              "<table border=\"1\" class=\"dataframe\">\n",
              "  <thead>\n",
              "    <tr style=\"text-align: right;\">\n",
              "      <th></th>\n",
              "      <th>age</th>\n",
              "      <th>elementary_school_count</th>\n",
              "      <th>kindergarten_count</th>\n",
              "      <th>university_count</th>\n",
              "      <th>academy_ratio</th>\n",
              "      <th>elderly_population_ratio</th>\n",
              "      <th>elderly_alone_ratio</th>\n",
              "      <th>nursing_home_count</th>\n",
              "      <th>sex_male</th>\n",
              "      <th>infection_case_Bonghwa Pureun Nursing Home</th>\n",
              "      <th>infection_case_Changnyeong Coin Karaoke</th>\n",
              "      <th>infection_case_Cheongdo Daenam Hospital</th>\n",
              "      <th>infection_case_Coupang Logistics Center</th>\n",
              "      <th>infection_case_Dongan Church</th>\n",
              "      <th>infection_case_Dunsan Electronics Town</th>\n",
              "      <th>infection_case_Eunpyeong St. Mary's Hospital</th>\n",
              "      <th>infection_case_Geochang Church</th>\n",
              "      <th>infection_case_Guro-gu Call Center</th>\n",
              "      <th>infection_case_Gyeongsan Cham Joeun Community Center</th>\n",
              "      <th>infection_case_Gyeongsan Jeil Silver Town</th>\n",
              "      <th>infection_case_Gyeongsan Seorin Nursing Home</th>\n",
              "      <th>infection_case_Itaewon Clubs</th>\n",
              "      <th>infection_case_KB Life Insurance</th>\n",
              "      <th>infection_case_Milal Shelter</th>\n",
              "      <th>infection_case_Ministry of Oceans and Fisheries</th>\n",
              "      <th>infection_case_Onchun Church</th>\n",
              "      <th>infection_case_Orange Town</th>\n",
              "      <th>infection_case_Pilgrimage to Israel</th>\n",
              "      <th>infection_case_Richway</th>\n",
              "      <th>infection_case_River of Grace Community Church</th>\n",
              "      <th>infection_case_SMR Newly Planted Churches Group</th>\n",
              "      <th>infection_case_Samsung Fire &amp; Marine Insurance</th>\n",
              "      <th>infection_case_Seongdong-gu APT</th>\n",
              "      <th>infection_case_Seoul City Hall Station safety worker</th>\n",
              "      <th>infection_case_Shincheonji Church</th>\n",
              "      <th>infection_case_Suyeong-gu Kindergarten</th>\n",
              "      <th>infection_case_contact with patient</th>\n",
              "      <th>infection_case_etc</th>\n",
              "      <th>infection_case_gym facility in Cheonan</th>\n",
              "      <th>infection_case_gym facility in Sejong</th>\n",
              "      <th>...</th>\n",
              "      <th>city_Sejong</th>\n",
              "      <th>city_Seo-gu</th>\n",
              "      <th>city_Seocheon-gun</th>\n",
              "      <th>city_Seocho-gu</th>\n",
              "      <th>city_Seodaemun-gu</th>\n",
              "      <th>city_Seongbuk-gu</th>\n",
              "      <th>city_Seongdong-gu</th>\n",
              "      <th>city_Seongju-gun</th>\n",
              "      <th>city_Seongnam-si</th>\n",
              "      <th>city_Seosan-si</th>\n",
              "      <th>city_Siheung-si</th>\n",
              "      <th>city_Sokcho-si</th>\n",
              "      <th>city_Songpa-gu</th>\n",
              "      <th>city_Suncheon-si</th>\n",
              "      <th>city_Suseong-gu</th>\n",
              "      <th>city_Suwon-si</th>\n",
              "      <th>city_Suyeong-gu</th>\n",
              "      <th>city_Taean-gun</th>\n",
              "      <th>city_Taebaek-si</th>\n",
              "      <th>city_Uijeongbu-si</th>\n",
              "      <th>city_Uiseong-gun</th>\n",
              "      <th>city_Uiwang-si</th>\n",
              "      <th>city_Ulju-gun</th>\n",
              "      <th>city_Wonju-si</th>\n",
              "      <th>city_Yangcheon-gu</th>\n",
              "      <th>city_Yangju-si</th>\n",
              "      <th>city_Yangsan-si</th>\n",
              "      <th>city_Yecheon-gun</th>\n",
              "      <th>city_Yeongcheon-si</th>\n",
              "      <th>city_Yeongdeok-gun</th>\n",
              "      <th>city_Yeongdeungpo-gu</th>\n",
              "      <th>city_Yeongju-si</th>\n",
              "      <th>city_Yeongwol-gun</th>\n",
              "      <th>city_Yeongyang-gun</th>\n",
              "      <th>city_Yeonje-gu</th>\n",
              "      <th>city_Yeonsu-gu</th>\n",
              "      <th>city_Yeosu-si</th>\n",
              "      <th>city_Yongin-si</th>\n",
              "      <th>city_Yongsan-gu</th>\n",
              "      <th>city_Yuseong-gu</th>\n",
              "    </tr>\n",
              "  </thead>\n",
              "  <tbody>\n",
              "    <tr>\n",
              "      <th>0</th>\n",
              "      <td>80.0</td>\n",
              "      <td>13.0</td>\n",
              "      <td>17.0</td>\n",
              "      <td>3.0</td>\n",
              "      <td>1.71</td>\n",
              "      <td>18.27</td>\n",
              "      <td>6.8</td>\n",
              "      <td>668.0</td>\n",
              "      <td>1</td>\n",
              "      <td>0</td>\n",
              "      <td>0</td>\n",
              "      <td>0</td>\n",
              "      <td>0</td>\n",
              "      <td>0</td>\n",
              "      <td>0</td>\n",
              "      <td>0</td>\n",
              "      <td>0</td>\n",
              "      <td>0</td>\n",
              "      <td>0</td>\n",
              "      <td>0</td>\n",
              "      <td>0</td>\n",
              "      <td>0</td>\n",
              "      <td>0</td>\n",
              "      <td>0</td>\n",
              "      <td>0</td>\n",
              "      <td>0</td>\n",
              "      <td>0</td>\n",
              "      <td>0</td>\n",
              "      <td>0</td>\n",
              "      <td>0</td>\n",
              "      <td>0</td>\n",
              "      <td>0</td>\n",
              "      <td>0</td>\n",
              "      <td>0</td>\n",
              "      <td>0</td>\n",
              "      <td>0</td>\n",
              "      <td>1</td>\n",
              "      <td>0</td>\n",
              "      <td>0</td>\n",
              "      <td>0</td>\n",
              "      <td>...</td>\n",
              "      <td>0</td>\n",
              "      <td>0</td>\n",
              "      <td>0</td>\n",
              "      <td>0</td>\n",
              "      <td>0</td>\n",
              "      <td>0</td>\n",
              "      <td>0</td>\n",
              "      <td>0</td>\n",
              "      <td>0</td>\n",
              "      <td>0</td>\n",
              "      <td>0</td>\n",
              "      <td>0</td>\n",
              "      <td>0</td>\n",
              "      <td>0</td>\n",
              "      <td>0</td>\n",
              "      <td>0</td>\n",
              "      <td>0</td>\n",
              "      <td>0</td>\n",
              "      <td>0</td>\n",
              "      <td>0</td>\n",
              "      <td>0</td>\n",
              "      <td>0</td>\n",
              "      <td>0</td>\n",
              "      <td>0</td>\n",
              "      <td>0</td>\n",
              "      <td>0</td>\n",
              "      <td>0</td>\n",
              "      <td>0</td>\n",
              "      <td>0</td>\n",
              "      <td>0</td>\n",
              "      <td>0</td>\n",
              "      <td>0</td>\n",
              "      <td>0</td>\n",
              "      <td>0</td>\n",
              "      <td>0</td>\n",
              "      <td>0</td>\n",
              "      <td>0</td>\n",
              "      <td>0</td>\n",
              "      <td>0</td>\n",
              "      <td>0</td>\n",
              "    </tr>\n",
              "    <tr>\n",
              "      <th>1</th>\n",
              "      <td>40.0</td>\n",
              "      <td>22.0</td>\n",
              "      <td>24.0</td>\n",
              "      <td>2.0</td>\n",
              "      <td>1.83</td>\n",
              "      <td>14.05</td>\n",
              "      <td>4.9</td>\n",
              "      <td>929.0</td>\n",
              "      <td>1</td>\n",
              "      <td>0</td>\n",
              "      <td>0</td>\n",
              "      <td>0</td>\n",
              "      <td>0</td>\n",
              "      <td>0</td>\n",
              "      <td>0</td>\n",
              "      <td>0</td>\n",
              "      <td>0</td>\n",
              "      <td>1</td>\n",
              "      <td>0</td>\n",
              "      <td>0</td>\n",
              "      <td>0</td>\n",
              "      <td>0</td>\n",
              "      <td>0</td>\n",
              "      <td>0</td>\n",
              "      <td>0</td>\n",
              "      <td>0</td>\n",
              "      <td>0</td>\n",
              "      <td>0</td>\n",
              "      <td>0</td>\n",
              "      <td>0</td>\n",
              "      <td>0</td>\n",
              "      <td>0</td>\n",
              "      <td>0</td>\n",
              "      <td>0</td>\n",
              "      <td>0</td>\n",
              "      <td>0</td>\n",
              "      <td>0</td>\n",
              "      <td>0</td>\n",
              "      <td>0</td>\n",
              "      <td>0</td>\n",
              "      <td>...</td>\n",
              "      <td>0</td>\n",
              "      <td>0</td>\n",
              "      <td>0</td>\n",
              "      <td>0</td>\n",
              "      <td>0</td>\n",
              "      <td>0</td>\n",
              "      <td>0</td>\n",
              "      <td>0</td>\n",
              "      <td>0</td>\n",
              "      <td>0</td>\n",
              "      <td>0</td>\n",
              "      <td>0</td>\n",
              "      <td>0</td>\n",
              "      <td>0</td>\n",
              "      <td>0</td>\n",
              "      <td>0</td>\n",
              "      <td>0</td>\n",
              "      <td>0</td>\n",
              "      <td>0</td>\n",
              "      <td>0</td>\n",
              "      <td>0</td>\n",
              "      <td>0</td>\n",
              "      <td>0</td>\n",
              "      <td>0</td>\n",
              "      <td>0</td>\n",
              "      <td>0</td>\n",
              "      <td>0</td>\n",
              "      <td>0</td>\n",
              "      <td>0</td>\n",
              "      <td>0</td>\n",
              "      <td>0</td>\n",
              "      <td>0</td>\n",
              "      <td>0</td>\n",
              "      <td>0</td>\n",
              "      <td>0</td>\n",
              "      <td>0</td>\n",
              "      <td>0</td>\n",
              "      <td>0</td>\n",
              "      <td>0</td>\n",
              "      <td>0</td>\n",
              "    </tr>\n",
              "    <tr>\n",
              "      <th>2</th>\n",
              "      <td>70.0</td>\n",
              "      <td>32.0</td>\n",
              "      <td>43.0</td>\n",
              "      <td>3.0</td>\n",
              "      <td>1.62</td>\n",
              "      <td>19.01</td>\n",
              "      <td>8.7</td>\n",
              "      <td>986.0</td>\n",
              "      <td>1</td>\n",
              "      <td>0</td>\n",
              "      <td>0</td>\n",
              "      <td>0</td>\n",
              "      <td>0</td>\n",
              "      <td>0</td>\n",
              "      <td>0</td>\n",
              "      <td>0</td>\n",
              "      <td>0</td>\n",
              "      <td>0</td>\n",
              "      <td>0</td>\n",
              "      <td>0</td>\n",
              "      <td>0</td>\n",
              "      <td>0</td>\n",
              "      <td>0</td>\n",
              "      <td>0</td>\n",
              "      <td>0</td>\n",
              "      <td>0</td>\n",
              "      <td>0</td>\n",
              "      <td>0</td>\n",
              "      <td>0</td>\n",
              "      <td>0</td>\n",
              "      <td>0</td>\n",
              "      <td>0</td>\n",
              "      <td>0</td>\n",
              "      <td>0</td>\n",
              "      <td>0</td>\n",
              "      <td>0</td>\n",
              "      <td>0</td>\n",
              "      <td>1</td>\n",
              "      <td>0</td>\n",
              "      <td>0</td>\n",
              "      <td>...</td>\n",
              "      <td>0</td>\n",
              "      <td>0</td>\n",
              "      <td>0</td>\n",
              "      <td>0</td>\n",
              "      <td>0</td>\n",
              "      <td>0</td>\n",
              "      <td>0</td>\n",
              "      <td>0</td>\n",
              "      <td>0</td>\n",
              "      <td>0</td>\n",
              "      <td>0</td>\n",
              "      <td>0</td>\n",
              "      <td>0</td>\n",
              "      <td>0</td>\n",
              "      <td>0</td>\n",
              "      <td>0</td>\n",
              "      <td>0</td>\n",
              "      <td>0</td>\n",
              "      <td>0</td>\n",
              "      <td>0</td>\n",
              "      <td>0</td>\n",
              "      <td>0</td>\n",
              "      <td>0</td>\n",
              "      <td>0</td>\n",
              "      <td>0</td>\n",
              "      <td>0</td>\n",
              "      <td>0</td>\n",
              "      <td>0</td>\n",
              "      <td>0</td>\n",
              "      <td>0</td>\n",
              "      <td>0</td>\n",
              "      <td>0</td>\n",
              "      <td>0</td>\n",
              "      <td>0</td>\n",
              "      <td>0</td>\n",
              "      <td>0</td>\n",
              "      <td>0</td>\n",
              "      <td>0</td>\n",
              "      <td>0</td>\n",
              "      <td>0</td>\n",
              "    </tr>\n",
              "    <tr>\n",
              "      <th>3</th>\n",
              "      <td>70.0</td>\n",
              "      <td>32.0</td>\n",
              "      <td>43.0</td>\n",
              "      <td>3.0</td>\n",
              "      <td>1.62</td>\n",
              "      <td>19.01</td>\n",
              "      <td>8.7</td>\n",
              "      <td>986.0</td>\n",
              "      <td>1</td>\n",
              "      <td>0</td>\n",
              "      <td>0</td>\n",
              "      <td>0</td>\n",
              "      <td>0</td>\n",
              "      <td>0</td>\n",
              "      <td>0</td>\n",
              "      <td>0</td>\n",
              "      <td>0</td>\n",
              "      <td>0</td>\n",
              "      <td>0</td>\n",
              "      <td>0</td>\n",
              "      <td>0</td>\n",
              "      <td>0</td>\n",
              "      <td>0</td>\n",
              "      <td>0</td>\n",
              "      <td>0</td>\n",
              "      <td>0</td>\n",
              "      <td>0</td>\n",
              "      <td>0</td>\n",
              "      <td>0</td>\n",
              "      <td>0</td>\n",
              "      <td>0</td>\n",
              "      <td>0</td>\n",
              "      <td>0</td>\n",
              "      <td>0</td>\n",
              "      <td>0</td>\n",
              "      <td>0</td>\n",
              "      <td>0</td>\n",
              "      <td>1</td>\n",
              "      <td>0</td>\n",
              "      <td>0</td>\n",
              "      <td>...</td>\n",
              "      <td>0</td>\n",
              "      <td>0</td>\n",
              "      <td>0</td>\n",
              "      <td>0</td>\n",
              "      <td>0</td>\n",
              "      <td>0</td>\n",
              "      <td>0</td>\n",
              "      <td>0</td>\n",
              "      <td>0</td>\n",
              "      <td>0</td>\n",
              "      <td>0</td>\n",
              "      <td>0</td>\n",
              "      <td>0</td>\n",
              "      <td>0</td>\n",
              "      <td>0</td>\n",
              "      <td>0</td>\n",
              "      <td>0</td>\n",
              "      <td>0</td>\n",
              "      <td>0</td>\n",
              "      <td>0</td>\n",
              "      <td>0</td>\n",
              "      <td>0</td>\n",
              "      <td>0</td>\n",
              "      <td>0</td>\n",
              "      <td>0</td>\n",
              "      <td>0</td>\n",
              "      <td>0</td>\n",
              "      <td>0</td>\n",
              "      <td>0</td>\n",
              "      <td>0</td>\n",
              "      <td>0</td>\n",
              "      <td>0</td>\n",
              "      <td>0</td>\n",
              "      <td>0</td>\n",
              "      <td>0</td>\n",
              "      <td>0</td>\n",
              "      <td>0</td>\n",
              "      <td>0</td>\n",
              "      <td>0</td>\n",
              "      <td>0</td>\n",
              "    </tr>\n",
              "    <tr>\n",
              "      <th>4</th>\n",
              "      <td>70.0</td>\n",
              "      <td>39.0</td>\n",
              "      <td>78.0</td>\n",
              "      <td>3.0</td>\n",
              "      <td>1.81</td>\n",
              "      <td>12.05</td>\n",
              "      <td>4.9</td>\n",
              "      <td>1123.0</td>\n",
              "      <td>0</td>\n",
              "      <td>0</td>\n",
              "      <td>0</td>\n",
              "      <td>0</td>\n",
              "      <td>0</td>\n",
              "      <td>0</td>\n",
              "      <td>0</td>\n",
              "      <td>0</td>\n",
              "      <td>0</td>\n",
              "      <td>0</td>\n",
              "      <td>0</td>\n",
              "      <td>0</td>\n",
              "      <td>0</td>\n",
              "      <td>0</td>\n",
              "      <td>0</td>\n",
              "      <td>0</td>\n",
              "      <td>0</td>\n",
              "      <td>0</td>\n",
              "      <td>0</td>\n",
              "      <td>0</td>\n",
              "      <td>0</td>\n",
              "      <td>0</td>\n",
              "      <td>0</td>\n",
              "      <td>0</td>\n",
              "      <td>0</td>\n",
              "      <td>0</td>\n",
              "      <td>0</td>\n",
              "      <td>0</td>\n",
              "      <td>0</td>\n",
              "      <td>1</td>\n",
              "      <td>0</td>\n",
              "      <td>0</td>\n",
              "      <td>...</td>\n",
              "      <td>0</td>\n",
              "      <td>1</td>\n",
              "      <td>0</td>\n",
              "      <td>0</td>\n",
              "      <td>0</td>\n",
              "      <td>0</td>\n",
              "      <td>0</td>\n",
              "      <td>0</td>\n",
              "      <td>0</td>\n",
              "      <td>0</td>\n",
              "      <td>0</td>\n",
              "      <td>0</td>\n",
              "      <td>0</td>\n",
              "      <td>0</td>\n",
              "      <td>0</td>\n",
              "      <td>0</td>\n",
              "      <td>0</td>\n",
              "      <td>0</td>\n",
              "      <td>0</td>\n",
              "      <td>0</td>\n",
              "      <td>0</td>\n",
              "      <td>0</td>\n",
              "      <td>0</td>\n",
              "      <td>0</td>\n",
              "      <td>0</td>\n",
              "      <td>0</td>\n",
              "      <td>0</td>\n",
              "      <td>0</td>\n",
              "      <td>0</td>\n",
              "      <td>0</td>\n",
              "      <td>0</td>\n",
              "      <td>0</td>\n",
              "      <td>0</td>\n",
              "      <td>0</td>\n",
              "      <td>0</td>\n",
              "      <td>0</td>\n",
              "      <td>0</td>\n",
              "      <td>0</td>\n",
              "      <td>0</td>\n",
              "      <td>0</td>\n",
              "    </tr>\n",
              "  </tbody>\n",
              "</table>\n",
              "<p>5 rows × 222 columns</p>\n",
              "</div>"
            ],
            "text/plain": [
              "    age  elementary_school_count  ...  city_Yongsan-gu  city_Yuseong-gu\n",
              "0  80.0                     13.0  ...                0                0\n",
              "1  40.0                     22.0  ...                0                0\n",
              "2  70.0                     32.0  ...                0                0\n",
              "3  70.0                     32.0  ...                0                0\n",
              "4  70.0                     39.0  ...                0                0\n",
              "\n",
              "[5 rows x 222 columns]"
            ]
          },
          "metadata": {
            "tags": []
          },
          "execution_count": 952
        }
      ]
    },
    {
      "cell_type": "code",
      "metadata": {
        "id": "chPd9gEj2Lf6"
      },
      "source": [
        "# Set all columns incl dummy variables as features_x\n",
        "features_x = X.columns"
      ],
      "execution_count": 427,
      "outputs": []
    },
    {
      "cell_type": "code",
      "metadata": {
        "id": "YvbNHPS28K5O"
      },
      "source": [
        "# X = StandardScaler().fit_transform(X)\n",
        "\n",
        "y = full_df[['state_cat']]"
      ],
      "execution_count": 953,
      "outputs": []
    },
    {
      "cell_type": "code",
      "metadata": {
        "id": "PJLMu-Gp77PW"
      },
      "source": [
        "# Set train and test data\n",
        "X_train, X_test, y_train, y_test = train_test_split(X, y, test_size=0.2, random_state=1)\n",
        "\n",
        "# Fit linear regression\n",
        "model_lin = LinearRegression().fit(X_train,y_train)"
      ],
      "execution_count": 954,
      "outputs": []
    },
    {
      "cell_type": "code",
      "metadata": {
        "id": "-te9PW5J8gff"
      },
      "source": [
        "# Predictions\n",
        "predictions = model_lin.predict(X_test)"
      ],
      "execution_count": 955,
      "outputs": []
    },
    {
      "cell_type": "code",
      "metadata": {
        "id": "5SvrIPHZAnWA",
        "outputId": "378e9398-fb26-4065-e330-6e34dae8aef5",
        "colab": {
          "base_uri": "https://localhost:8080/"
        }
      },
      "source": [
        "r_sq = model_lin.score(X_test, y_test)\n",
        "print('coefficient of determination:', r_sq)"
      ],
      "execution_count": 966,
      "outputs": [
        {
          "output_type": "stream",
          "text": [
            "coefficient of determination: 0.6606278340437738\n"
          ],
          "name": "stdout"
        }
      ]
    },
    {
      "cell_type": "code",
      "metadata": {
        "id": "ztVvr01WAvFs",
        "outputId": "a37e5e80-850a-4be1-eed4-da3dddfbf04e",
        "colab": {
          "base_uri": "https://localhost:8080/"
        }
      },
      "source": [
        "r_sq_train = model_lin.score(X_train, y_train)\n",
        "print('coefficient of determination:', r_sq_train)"
      ],
      "execution_count": 967,
      "outputs": [
        {
          "output_type": "stream",
          "text": [
            "coefficient of determination: 0.6661345556527396\n"
          ],
          "name": "stdout"
        }
      ]
    },
    {
      "cell_type": "code",
      "metadata": {
        "colab": {
          "base_uri": "https://localhost:8080/"
        },
        "id": "QRJXTTQz85bD",
        "outputId": "d2fd67c3-6bf7-41ff-d136-6a0868eee641"
      },
      "source": [
        "# Get summary\n",
        "X_train_Sm= sm.add_constant(X_train)\n",
        "X_test_Sm= sm.add_constant(X_test)\n",
        "ls=sm.OLS(y_test,X_test_Sm).fit()\n",
        "print(ls.summary())"
      ],
      "execution_count": 956,
      "outputs": [
        {
          "output_type": "stream",
          "text": [
            "                            OLS Regression Results                            \n",
            "==============================================================================\n",
            "Dep. Variable:              state_cat   R-squared:                       0.762\n",
            "Model:                            OLS   Adj. R-squared:                  0.680\n",
            "Method:                 Least Squares   F-statistic:                     9.323\n",
            "Date:                Wed, 09 Dec 2020   Prob (F-statistic):           1.77e-78\n",
            "Time:                        14:55:13   Log-Likelihood:                -21.657\n",
            "No. Observations:                 616   AIC:                             359.3\n",
            "Df Residuals:                     458   BIC:                             1058.\n",
            "Df Model:                         157                                         \n",
            "Covariance Type:            nonrobust                                         \n",
            "========================================================================================================================\n",
            "                                                           coef    std err          t      P>|t|      [0.025      0.975]\n",
            "------------------------------------------------------------------------------------------------------------------------\n",
            "const                                                   -0.0699      0.674     -0.104      0.917      -1.395       1.255\n",
            "age                                                     -0.0019      0.001     -2.244      0.025      -0.003      -0.000\n",
            "elementary_school_count                                 -0.0057      0.011     -0.507      0.613      -0.028       0.016\n",
            "kindergarten_count                                       0.0154      0.011      1.451      0.148      -0.005       0.036\n",
            "university_count                                         0.0518      0.113      0.459      0.646      -0.170       0.273\n",
            "academy_ratio                                            0.2713      0.170      1.593      0.112      -0.063       0.606\n",
            "elderly_population_ratio                                 0.0509      0.083      0.613      0.540      -0.113       0.214\n",
            "elderly_alone_ratio                                     -0.0080      0.192     -0.042      0.967      -0.385       0.369\n",
            "nursing_home_count                                      -0.0010      0.000     -2.150      0.032      -0.002   -8.36e-05\n",
            "sex_male                                                -0.0305      0.027     -1.112      0.267      -0.084       0.023\n",
            "infection_case_Bonghwa Pureun Nursing Home              -0.4226      0.221     -1.916      0.056      -0.856       0.011\n",
            "infection_case_Changnyeong Coin Karaoke                  0.0690      0.583      0.118      0.906      -1.077       1.215\n",
            "infection_case_Cheongdo Daenam Hospital                 -0.2923      0.252     -1.160      0.247      -0.787       0.203\n",
            "infection_case_Coupang Logistics Center                 -0.0633      0.424     -0.149      0.881      -0.897       0.770\n",
            "infection_case_Dongan Church                             0.0614      0.450      0.136      0.892      -0.823       0.945\n",
            "infection_case_Dunsan Electronics Town                  -0.1253      0.514     -0.244      0.808      -1.136       0.885\n",
            "infection_case_Eunpyeong St. Mary's Hospital             0.0671      0.518      0.130      0.897      -0.951       1.085\n",
            "infection_case_Geochang Church                           0.0435      0.490      0.089      0.929      -0.919       1.006\n",
            "infection_case_Guro-gu Call Center                       0.1960      0.421      0.465      0.642      -0.632       1.023\n",
            "infection_case_Gyeongsan Cham Joeun Community Center     0.4280      0.466      0.918      0.359      -0.489       1.345\n",
            "infection_case_Gyeongsan Jeil Silver Town                0.4187      0.466      0.898      0.370      -0.498       1.335\n",
            "infection_case_Gyeongsan Seorin Nursing Home             0.4617      0.467      0.989      0.323      -0.456       1.379\n",
            "infection_case_Itaewon Clubs                             0.0304      0.447      0.068      0.946      -0.848       0.908\n",
            "infection_case_KB Life Insurance                         0.1065      0.519      0.205      0.838      -0.913       1.126\n",
            "infection_case_Milal Shelter                             0.2637      0.358      0.737      0.462      -0.440       0.967\n",
            "infection_case_Ministry of Oceans and Fisheries          0.1642      0.435      0.377      0.706      -0.691       1.019\n",
            "infection_case_Onchun Church                             0.7640      0.458      1.668      0.096      -0.136       1.664\n",
            "infection_case_Orange Town                           -1.155e-13   8.18e-14     -1.411      0.159   -2.76e-13    4.54e-14\n",
            "infection_case_Pilgrimage to Israel                      0.0534      0.531      0.100      0.920      -0.990       1.097\n",
            "infection_case_Richway                                1.778e-14    1.6e-14      1.113      0.266   -1.36e-14    4.92e-14\n",
            "infection_case_River of Grace Community Church        5.956e-14   4.46e-14      1.336      0.182    -2.8e-14    1.47e-13\n",
            "infection_case_SMR Newly Planted Churches Group          0.1315      0.520      0.253      0.800      -0.890       1.153\n",
            "infection_case_Samsung Fire & Marine Insurance        3.962e-14   4.19e-14      0.946      0.345   -4.27e-14    1.22e-13\n",
            "infection_case_Seongdong-gu APT                          0.1250      0.519      0.241      0.810      -0.895       1.145\n",
            "infection_case_Seoul City Hall Station safety worker  1.083e-15   9.18e-15      0.118      0.906    -1.7e-14    1.91e-14\n",
            "infection_case_Shincheonji Church                        0.1979      0.421      0.470      0.638      -0.629       1.025\n",
            "infection_case_Suyeong-gu Kindergarten                3.009e-15   1.41e-14      0.213      0.831   -2.47e-14    3.07e-14\n",
            "infection_case_contact with patient                      0.0370      0.411      0.090      0.928      -0.771       0.845\n",
            "infection_case_etc                                       0.0690      0.414      0.167      0.868      -0.744       0.882\n",
            "infection_case_gym facility in Cheonan                   0.0652      0.451      0.144      0.885      -0.821       0.952\n",
            "infection_case_gym facility in Sejong                    0.0978      0.517      0.189      0.850      -0.918       1.113\n",
            "infection_case_overseas inflow                           0.0624      0.413      0.151      0.880      -0.749       0.874\n",
            "country_Canada                                       -2.161e-13   1.79e-13     -1.206      0.229   -5.68e-13    1.36e-13\n",
            "country_China                                            0.3986      0.241      1.654      0.099      -0.075       0.872\n",
            "country_Foreign                                         -0.0533      0.171     -0.311      0.756      -0.390       0.284\n",
            "country_France                                           0.3330      0.291      1.144      0.253      -0.239       0.905\n",
            "country_Germany                                       9.234e-14   8.01e-14      1.152      0.250   -6.52e-14     2.5e-13\n",
            "country_Indonesia                                    -1.192e-13   9.01e-14     -1.323      0.186   -2.96e-13    5.78e-14\n",
            "country_Korea                                            0.3503      0.136      2.576      0.010       0.083       0.618\n",
            "country_Mongolia                                        -0.8493      0.305     -2.788      0.006      -1.448      -0.251\n",
            "country_Spain                                         8.787e-14   7.14e-14      1.230      0.219   -5.25e-14    2.28e-13\n",
            "country_Switzerland                                   3.054e-14   3.07e-14      0.995      0.320   -2.98e-14    9.09e-14\n",
            "country_Thailand                                     -3.124e-14   2.71e-14     -1.151      0.250   -8.46e-14    2.21e-14\n",
            "country_United Kingdom                                  -0.5746      0.306     -1.877      0.061      -1.176       0.027\n",
            "country_United States                                    0.3254      0.215      1.510      0.132      -0.098       0.749\n",
            "country_Vietnam                                      -7.375e-14   5.58e-14     -1.321      0.187   -1.83e-13    3.59e-14\n",
            "province_Chungcheongbuk-do                               0.1438      0.198      0.728      0.467      -0.244       0.532\n",
            "province_Chungcheongnam-do                               0.0158      0.241      0.065      0.948      -0.458       0.490\n",
            "province_Daegu                                          -0.4218      0.341     -1.235      0.217      -1.093       0.249\n",
            "province_Daejeon                                        -0.1783      0.278     -0.642      0.521      -0.724       0.367\n",
            "province_Gangwon-do                                     -0.1205      0.166     -0.724      0.469      -0.448       0.207\n",
            "province_Gyeonggi-do                                    -0.5023      0.143     -3.512      0.000      -0.783      -0.221\n",
            "province_Gyeongsangbuk-do                               -0.1851      0.516     -0.359      0.720      -1.199       0.829\n",
            "province_Gyeongsangnam-do                               -0.0070      0.549     -0.013      0.990      -1.086       1.072\n",
            "province_Incheon                                         0.2310      0.349      0.661      0.509      -0.455       0.917\n",
            "province_Jeju-do                                         0.1664      0.208      0.801      0.424      -0.242       0.575\n",
            "province_Jeollabuk-do                                   -0.1215      0.406     -0.299      0.765      -0.920       0.677\n",
            "province_Jeollanam-do                                    0.1159      0.311      0.373      0.709      -0.494       0.726\n",
            "province_Sejong                                          0.2151      0.107      2.010      0.045       0.005       0.425\n",
            "province_Seoul                                           0.9747      0.476      2.046      0.041       0.039       1.911\n",
            "province_Ulsan                                           0.7199      0.330      2.180      0.030       0.071       1.369\n",
            "city_Ansan-si                                            0.0214      0.280      0.076      0.939      -0.529       0.572\n",
            "city_Anseong-si                                         -0.3771      0.298     -1.265      0.207      -0.963       0.209\n",
            "city_Anyang-si                                           0.0331      0.339      0.098      0.922      -0.633       0.699\n",
            "city_Asan-si                                             0.3764      0.219      1.721      0.086      -0.053       0.806\n",
            "city_Bonghwa-gun                                        -0.4226      0.221     -1.916      0.056      -0.856       0.011\n",
            "city_Bucheon-si                                         -0.0889      0.261     -0.340      0.734      -0.602       0.424\n",
            "city_Buk-gu                                             -0.2568      0.145     -1.776      0.076      -0.541       0.027\n",
            "city_Bupyeong-gu                                        -0.1840      0.192     -0.957      0.339      -0.562       0.194\n",
            "city_Busanjin-gu                                        -0.2150      0.275     -0.782      0.434      -0.755       0.325\n",
            "city_Buyeo-gun                                          -0.2048      0.323     -0.635      0.526      -0.839       0.429\n",
            "city_Changnyeong-gun                                     0.0944      0.353      0.267      0.789      -0.600       0.789\n",
            "city_Changwon-si                                        -0.4648      0.336     -1.384      0.167      -1.125       0.195\n",
            "city_Cheonan-si                                          0.1399      0.201      0.696      0.487      -0.255       0.535\n",
            "city_Cheongdo-gun                                       -0.2923      0.252     -1.160      0.247      -0.787       0.203\n",
            "city_Cheongju-si                                        -0.0034      0.414     -0.008      0.993      -0.817       0.810\n",
            "city_Cheorwon-gun                                       -0.4243      0.287     -1.480      0.139      -0.988       0.139\n",
            "city_Chilgok-gun                                         0.2637      0.358      0.737      0.462      -0.440       0.967\n",
            "city_Chuncheon-si                                       -0.6450      0.208     -3.105      0.002      -1.053      -0.237\n",
            "city_Chungju-si                                          0.0962      0.200      0.482      0.630      -0.296       0.489\n",
            "city_Daedeok-gu                                          0.6992      0.298      2.347      0.019       0.114       1.285\n",
            "city_Dalseo-gu                                          -0.0810      0.451     -0.179      0.858      -0.968       0.806\n",
            "city_Danyang-gun                                     -5.106e-14   4.58e-14     -1.114      0.266   -1.41e-13     3.9e-14\n",
            "city_Dobong-gu                                          -0.1776      0.253     -0.701      0.483      -0.675       0.320\n",
            "city_Dong-gu                                            -0.0579      0.230     -0.252      0.801      -0.510       0.394\n",
            "city_Dongdaemun-gu                                      -0.0912      0.296     -0.308      0.758      -0.673       0.491\n",
            "city_Dongducheon-si                                  -4.131e-14   3.81e-14     -1.084      0.279   -1.16e-13    3.36e-14\n",
            "city_Dongjak-gu                                         -0.1397      0.160     -0.872      0.384      -0.455       0.175\n",
            "city_Dongnae-gu                                         -0.0154      0.382     -0.040      0.968      -0.766       0.735\n",
            "city_Eumseong-gun                                        0.1901      0.316      0.601      0.548      -0.431       0.812\n",
            "city_Eunpyeong-gu                                       -0.0631      0.175     -0.360      0.719      -0.407       0.281\n",
            "city_Gangbuk-gu                                         -0.0467      0.294     -0.159      0.874      -0.625       0.531\n",
            "city_Gangdong-gu                                         0.3365      0.409      0.822      0.412      -0.468       1.141\n",
            "city_Ganghwa-gun                                        -0.3352      0.410     -0.818      0.414      -1.140       0.470\n",
            "city_Gangnam-gu                                          1.5929      1.024      1.555      0.121      -0.420       3.606\n",
            "city_Gangneung-si                                        0.0913      0.224      0.408      0.684      -0.349       0.532\n",
            "city_Gangseo-gu                                          0.0580      0.134      0.431      0.666      -0.206       0.322\n",
            "city_Gapyeong-gun                                     2.933e-15   7.79e-15      0.377      0.707   -1.24e-14    1.82e-14\n",
            "city_Geochang-gun                                        0.0941      0.511      0.184      0.854      -0.909       1.098\n",
            "city_Geoje-si                                            0.3376      0.685      0.493      0.622      -1.008       1.684\n",
            "city_Geumcheon-gu                                       -0.0543      0.210     -0.259      0.796      -0.466       0.358\n",
            "city_Geumjeong-gu                                     1.685e-14   1.44e-14      1.171      0.242   -1.14e-14    4.51e-14\n",
            "city_Gijang-gun                                       -3.92e-14   3.07e-14     -1.276      0.202   -9.95e-14    2.11e-14\n",
            "city_Gimcheon-si                                         0.3367      0.181      1.857      0.064      -0.020       0.693\n",
            "city_Gimhae-si                                           0.0747      0.268      0.279      0.780      -0.452       0.601\n",
            "city_Gimje-si                                         6.042e-14   4.54e-14      1.330      0.184   -2.89e-14     1.5e-13\n",
            "city_Gimpo-si                                           -0.5013      0.214     -2.340      0.020      -0.922      -0.080\n",
            "city_Goesan-gun                                         -0.1390      0.223     -0.623      0.534      -0.578       0.299\n",
            "city_Gongju-si                                       -8.938e-15   1.61e-14     -0.555      0.579   -4.06e-14    2.27e-14\n",
            "city_Goryeong-gun                                       -0.6400      0.379     -1.689      0.092      -1.385       0.105\n",
            "city_Goseong-gun                                      -5.64e-15   7.03e-15     -0.802      0.423   -1.95e-14    8.18e-15\n",
            "city_Goyang-si                                          -0.5880      0.316     -1.859      0.064      -1.210       0.034\n",
            "city_Gumi-si                                             0.0922      0.195      0.472      0.637      -0.291       0.476\n",
            "city_Gunpo-si                                            0.0359      0.143      0.252      0.801      -0.245       0.317\n",
            "city_Gunsan-si                                          -0.0070      0.234     -0.030      0.976      -0.466       0.452\n",
            "city_Gunwi-gun                                          -0.1097      0.349     -0.315      0.753      -0.795       0.576\n",
            "city_Guri-si                                             0.1079      0.394      0.274      0.784      -0.666       0.881\n",
            "city_Guro-gu                                            -0.2142      0.170     -1.258      0.209      -0.549       0.120\n",
            "city_Gwacheon-si                                         0.5820      0.409      1.422      0.156      -0.222       1.386\n",
            "city_Gwanak-gu                                           0.2300      0.304      0.757      0.449      -0.367       0.827\n",
            "city_Gwangjin-gu                                        -0.0942      0.302     -0.312      0.755      -0.688       0.499\n",
            "city_Gwangju-si                                          0.7062      0.379      1.865      0.063      -0.038       1.450\n",
            "city_Gwangmyeong-si                                      0.0652      0.264      0.247      0.805      -0.453       0.583\n",
            "city_Gwangyang-si                                        0.2794      0.268      1.042      0.298      -0.247       0.806\n",
            "city_Gyeongju-si                                         0.0535      0.162      0.329      0.742      -0.265       0.372\n",
            "city_Gyeongsan-si                                       -0.4015      0.547     -0.735      0.463      -1.476       0.673\n",
            "city_Gyeryong-si                                     -1.072e-15   2.73e-15     -0.392      0.695   -6.44e-15    4.29e-15\n",
            "city_Gyeyang-gu                                         -0.3937      0.244     -1.611      0.108      -0.874       0.087\n",
            "city_Haeundae-gu                                         0.8235      0.409      2.012      0.045       0.019       1.628\n",
            "city_Haman-gun                                       -2.244e-14   1.78e-14     -1.264      0.207   -5.73e-14    1.25e-14\n",
            "city_Hamyang-gun                                      2.079e-14   1.75e-14      1.186      0.236   -1.37e-14    5.52e-14\n",
            "city_Hanam-si                                            0.3276      0.491      0.667      0.505      -0.638       1.293\n",
            "city_Hapcheon-gun                                    -1.118e-14   8.67e-15     -1.291      0.198   -2.82e-14    5.85e-15\n",
            "city_Hoengseong-gun                                   4.896e-15   5.72e-15      0.856      0.392   -6.34e-15    1.61e-14\n",
            "city_Hongseong-gun                                    8.237e-17   3.53e-15      0.023      0.981   -6.86e-15    7.03e-15\n",
            "city_Hwaseong-si                                        -1.0219      0.680     -1.502      0.134      -2.359       0.315\n",
            "city_Hwasun-gun                                       1.225e-14      1e-14      1.221      0.223   -7.46e-15     3.2e-14\n",
            "city_Icheon-si                                           0.7852      0.209      3.751      0.000       0.374       1.197\n",
            "city_Iksan-si                                         7.321e-15   5.42e-15      1.352      0.177   -3.32e-15     1.8e-14\n",
            "city_Inje-gun                                        -3.704e-15   4.76e-15     -0.778      0.437   -1.31e-14    5.65e-15\n",
            "city_Jangsu-gun                                       3.585e-15   3.52e-15      1.018      0.309   -3.33e-15    1.05e-14\n",
            "city_Jeju-do                                             0.1664      0.208      0.801      0.424      -0.242       0.575\n",
            "city_Jeonju-si                                          -0.1145      0.380     -0.302      0.763      -0.860       0.631\n",
            "city_Jeungpyeong-gun                                 -7.357e-15   6.38e-15     -1.153      0.250   -1.99e-14    5.19e-15\n",
            "city_Jincheon-gun                                    -8.648e-16   2.92e-15     -0.296      0.767    -6.6e-15    4.87e-15\n",
            "city_Jinju-si                                           -0.0728      0.257     -0.284      0.777      -0.577       0.432\n",
            "city_Jongno-gu                                          -0.2291      0.232     -0.989      0.323      -0.684       0.226\n",
            "city_Jung-gu                                            -0.3638      0.172     -2.116      0.035      -0.702      -0.026\n",
            "city_Jungnang-gu                                         0.0514      0.168      0.306      0.760      -0.279       0.382\n",
            "city_Mapo-gu                                             0.0995      0.181      0.550      0.582      -0.256       0.455\n",
            "city_Michuhol-gu                                        -0.2387      0.217     -1.099      0.273      -0.666       0.188\n",
            "city_Miryang-si                                         -0.0511      0.224     -0.228      0.820      -0.491       0.389\n",
            "city_Mokpo-si                                                 0          0        nan        nan           0           0\n",
            "city_Muan-gun                                           -0.0833      0.350     -0.238      0.812      -0.771       0.604\n",
            "city_Mungyeong-si                                        0.0168      0.391      0.043      0.966      -0.751       0.785\n",
            "city_Nam-gu                                             -0.2383      0.149     -1.596      0.111      -0.532       0.055\n",
            "city_Namdong-gu                                         -0.0095      0.198     -0.048      0.962      -0.398       0.379\n",
            "city_Namhae-gun                                         -0.2448      0.759     -0.323      0.747      -1.736       1.246\n",
            "city_Namyangju-si                                       -0.0779      0.289     -0.270      0.788      -0.646       0.490\n",
            "city_Nonsan-si                                          -0.3534      0.234     -1.513      0.131      -0.812       0.106\n",
            "city_Nowon-gu                                           -0.5427      0.839     -0.647      0.518      -2.191       1.106\n",
            "city_Okcheon-gun                                              0          0        nan        nan           0           0\n",
            "city_Osan-si                                             0.0658      0.300      0.219      0.827      -0.524       0.656\n",
            "city_Paju-si                                                  0          0        nan        nan           0           0\n",
            "city_Pocheon-si                                         -0.0879      0.178     -0.494      0.622      -0.438       0.262\n",
            "city_Pohang-si                                           0.0092      0.248      0.037      0.971      -0.479       0.497\n",
            "city_Pyeongtaek-si                                      -0.4263      0.326     -1.307      0.192      -1.067       0.215\n",
            "city_Sacheon-si                                               0          0        nan        nan           0           0\n",
            "city_Saha-gu                                             0.4288      0.228      1.884      0.060      -0.018       0.876\n",
            "city_Samcheok-si                                              0          0        nan        nan           0           0\n",
            "city_Sancheong-gun                                      -0.0545      0.335     -0.163      0.871      -0.712       0.603\n",
            "city_Sangju-si                                           0.1195      0.213      0.562      0.575      -0.299       0.538\n",
            "city_Sasang-gu                                          -0.0533      0.171     -0.311      0.756      -0.390       0.284\n",
            "city_Sejong                                              0.2151      0.107      2.010      0.045       0.005       0.425\n",
            "city_Seo-gu                                              0.0539      0.201      0.268      0.789      -0.342       0.450\n",
            "city_Seocheon-gun                                       -0.1926      0.432     -0.446      0.656      -1.042       0.656\n",
            "city_Seocho-gu                                           0.4907      0.498      0.985      0.325      -0.489       1.470\n",
            "city_Seodaemun-gu                                       -0.4067      0.485     -0.839      0.402      -1.359       0.546\n",
            "city_Seongbuk-gu                                        -0.4545      0.574     -0.791      0.429      -1.583       0.674\n",
            "city_Seongdong-gu                                        0.0311      0.341      0.091      0.927      -0.638       0.701\n",
            "city_Seongju-gun                                         0.1952      0.334      0.584      0.560      -0.462       0.852\n",
            "city_Seongnam-si                                         0.3934      0.223      1.767      0.078      -0.044       0.831\n",
            "city_Seosan-si                                           0.2935      0.314      0.935      0.350      -0.323       0.910\n",
            "city_Siheung-si                                          0.0881      0.292      0.301      0.763      -0.487       0.663\n",
            "city_Sokcho-si                                           0.6279      0.283      2.221      0.027       0.072       1.183\n",
            "city_Songpa-gu                                           0.5295      0.435      1.216      0.225      -0.326       1.385\n",
            "city_Suncheon-si                                        -0.0802      0.280     -0.286      0.775      -0.630       0.470\n",
            "city_Suseong-gu                                               0          0        nan        nan           0           0\n",
            "city_Suwon-si                                           -0.0038      0.363     -0.010      0.992      -0.717       0.710\n",
            "city_Suyeong-gu                                          0.4546      0.492      0.924      0.356      -0.512       1.421\n",
            "city_Taean-gun                                          -0.0431      0.415     -0.104      0.917      -0.859       0.773\n",
            "city_Taebaek-si                                               0          0        nan        nan           0           0\n",
            "city_Uijeongbu-si                                        0.0666      0.156      0.428      0.669      -0.239       0.372\n",
            "city_Uiseong-gun                                        -0.0152      0.522     -0.029      0.977      -1.041       1.011\n",
            "city_Uiwang-si                                           0.2135      0.355      0.601      0.548      -0.485       0.912\n",
            "city_Ulju-gun                                           -0.5770      0.413     -1.398      0.163      -1.388       0.234\n",
            "city_Wonju-si                                            0.2296      0.187      1.226      0.221      -0.138       0.598\n",
            "city_Yangcheon-gu                                       -0.1284      0.343     -0.375      0.708      -0.802       0.545\n",
            "city_Yangju-si                                          -0.1132      0.272     -0.416      0.678      -0.648       0.422\n",
            "city_Yangsan-si                                          0.2802      0.494      0.567      0.571      -0.690       1.250\n",
            "city_Yecheon-gun                                        -0.8405      0.463     -1.816      0.070      -1.750       0.069\n",
            "city_Yeongcheon-si                                       0.2742      0.154      1.782      0.075      -0.028       0.577\n",
            "city_Yeongdeok-gun                                            0          0        nan        nan           0           0\n",
            "city_Yeongdeungpo-gu                                     0.1858      0.250      0.742      0.458      -0.306       0.678\n",
            "city_Yeongju-si                                          0.0659      0.258      0.255      0.799      -0.441       0.573\n",
            "city_Yeongwol-gun                                             0          0        nan        nan           0           0\n",
            "city_Yeongyang-gun                                            0          0        nan        nan           0           0\n",
            "city_Yeonje-gu                                                0          0        nan        nan           0           0\n",
            "city_Yeonsu-gu                                          -0.3663      0.215     -1.704      0.089      -0.789       0.056\n",
            "city_Yeosu-si                                                 0          0        nan        nan           0           0\n",
            "city_Yongin-si                                          -0.7079      0.456     -1.551      0.121      -1.605       0.189\n",
            "city_Yongsan-gu                                          0.0117      0.216      0.054      0.957      -0.413       0.437\n",
            "city_Yuseong-gu                                          0.1607      0.307      0.523      0.601      -0.443       0.764\n",
            "==============================================================================\n",
            "Omnibus:                      202.353   Durbin-Watson:                   1.989\n",
            "Prob(Omnibus):                  0.000   Jarque-Bera (JB):             3959.484\n",
            "Skew:                          -0.941   Prob(JB):                         0.00\n",
            "Kurtosis:                      15.277   Cond. No.                     8.22e+18\n",
            "==============================================================================\n",
            "\n",
            "Warnings:\n",
            "[1] Standard Errors assume that the covariance matrix of the errors is correctly specified.\n",
            "[2] The smallest eigenvalue is 9.59e-30. This might indicate that there are\n",
            "strong multicollinearity problems or that the design matrix is singular.\n"
          ],
          "name": "stdout"
        },
        {
          "output_type": "stream",
          "text": [
            "/usr/local/lib/python3.6/dist-packages/statsmodels/base/model.py:1294: RuntimeWarning: invalid value encountered in true_divide\n",
            "  return self.params / self.bse\n",
            "/usr/local/lib/python3.6/dist-packages/scipy/stats/_distn_infrastructure.py:903: RuntimeWarning: invalid value encountered in greater\n",
            "  return (a < x) & (x < b)\n",
            "/usr/local/lib/python3.6/dist-packages/scipy/stats/_distn_infrastructure.py:903: RuntimeWarning: invalid value encountered in less\n",
            "  return (a < x) & (x < b)\n",
            "/usr/local/lib/python3.6/dist-packages/scipy/stats/_distn_infrastructure.py:1912: RuntimeWarning: invalid value encountered in less_equal\n",
            "  cond2 = cond0 & (x <= _a)\n"
          ],
          "name": "stderr"
        }
      ]
    },
    {
      "cell_type": "code",
      "metadata": {
        "id": "BP2q33f4-p50"
      },
      "source": [
        "# Map the states\n",
        "mapped_states = dict( enumerate(full_df['state'].astype('category').cat.categories))"
      ],
      "execution_count": 957,
      "outputs": []
    },
    {
      "cell_type": "code",
      "metadata": {
        "id": "mJjryeL_-p50"
      },
      "source": [
        "# Set prediction as dataframe\n",
        "predicted_df = pd.DataFrame(predictions.astype('int'), columns=['predicted'])"
      ],
      "execution_count": 958,
      "outputs": []
    },
    {
      "cell_type": "code",
      "metadata": {
        "colab": {
          "base_uri": "https://localhost:8080/",
          "height": 204
        },
        "id": "Cd_xxZWD-p50",
        "outputId": "bb863c6a-4738-48d1-8e0a-8fb9e3c4b51c"
      },
      "source": [
        "# Add the predicted state\n",
        "predicted_df['predicted_state'] = predicted_df['predicted'].map(mapped_states)\n",
        "predicted_df.head()"
      ],
      "execution_count": 959,
      "outputs": [
        {
          "output_type": "execute_result",
          "data": {
            "text/html": [
              "<div>\n",
              "<style scoped>\n",
              "    .dataframe tbody tr th:only-of-type {\n",
              "        vertical-align: middle;\n",
              "    }\n",
              "\n",
              "    .dataframe tbody tr th {\n",
              "        vertical-align: top;\n",
              "    }\n",
              "\n",
              "    .dataframe thead th {\n",
              "        text-align: right;\n",
              "    }\n",
              "</style>\n",
              "<table border=\"1\" class=\"dataframe\">\n",
              "  <thead>\n",
              "    <tr style=\"text-align: right;\">\n",
              "      <th></th>\n",
              "      <th>predicted</th>\n",
              "      <th>predicted_state</th>\n",
              "    </tr>\n",
              "  </thead>\n",
              "  <tbody>\n",
              "    <tr>\n",
              "      <th>0</th>\n",
              "      <td>1</td>\n",
              "      <td>isolated</td>\n",
              "    </tr>\n",
              "    <tr>\n",
              "      <th>1</th>\n",
              "      <td>1</td>\n",
              "      <td>isolated</td>\n",
              "    </tr>\n",
              "    <tr>\n",
              "      <th>2</th>\n",
              "      <td>1</td>\n",
              "      <td>isolated</td>\n",
              "    </tr>\n",
              "    <tr>\n",
              "      <th>3</th>\n",
              "      <td>1</td>\n",
              "      <td>isolated</td>\n",
              "    </tr>\n",
              "    <tr>\n",
              "      <th>4</th>\n",
              "      <td>1</td>\n",
              "      <td>isolated</td>\n",
              "    </tr>\n",
              "  </tbody>\n",
              "</table>\n",
              "</div>"
            ],
            "text/plain": [
              "   predicted predicted_state\n",
              "0          1        isolated\n",
              "1          1        isolated\n",
              "2          1        isolated\n",
              "3          1        isolated\n",
              "4          1        isolated"
            ]
          },
          "metadata": {
            "tags": []
          },
          "execution_count": 959
        }
      ]
    },
    {
      "cell_type": "code",
      "metadata": {
        "colab": {
          "base_uri": "https://localhost:8080/",
          "height": 204
        },
        "id": "J5QR6fvDDtzA",
        "outputId": "a1affb91-703e-4fb0-fdec-0e0c3ece4302"
      },
      "source": [
        "# Reset the index for y_test\n",
        "y_test = y_test.reset_index(drop=True)\n",
        "y_test.head()"
      ],
      "execution_count": 960,
      "outputs": [
        {
          "output_type": "execute_result",
          "data": {
            "text/html": [
              "<div>\n",
              "<style scoped>\n",
              "    .dataframe tbody tr th:only-of-type {\n",
              "        vertical-align: middle;\n",
              "    }\n",
              "\n",
              "    .dataframe tbody tr th {\n",
              "        vertical-align: top;\n",
              "    }\n",
              "\n",
              "    .dataframe thead th {\n",
              "        text-align: right;\n",
              "    }\n",
              "</style>\n",
              "<table border=\"1\" class=\"dataframe\">\n",
              "  <thead>\n",
              "    <tr style=\"text-align: right;\">\n",
              "      <th></th>\n",
              "      <th>state_cat</th>\n",
              "    </tr>\n",
              "  </thead>\n",
              "  <tbody>\n",
              "    <tr>\n",
              "      <th>0</th>\n",
              "      <td>2</td>\n",
              "    </tr>\n",
              "    <tr>\n",
              "      <th>1</th>\n",
              "      <td>2</td>\n",
              "    </tr>\n",
              "    <tr>\n",
              "      <th>2</th>\n",
              "      <td>2</td>\n",
              "    </tr>\n",
              "    <tr>\n",
              "      <th>3</th>\n",
              "      <td>2</td>\n",
              "    </tr>\n",
              "    <tr>\n",
              "      <th>4</th>\n",
              "      <td>2</td>\n",
              "    </tr>\n",
              "  </tbody>\n",
              "</table>\n",
              "</div>"
            ],
            "text/plain": [
              "   state_cat\n",
              "0          2\n",
              "1          2\n",
              "2          2\n",
              "3          2\n",
              "4          2"
            ]
          },
          "metadata": {
            "tags": []
          },
          "execution_count": 960
        }
      ]
    },
    {
      "cell_type": "code",
      "metadata": {
        "colab": {
          "base_uri": "https://localhost:8080/",
          "height": 204
        },
        "id": "ysQExK07-p50",
        "outputId": "1cb216c1-ed06-45ac-9f1a-5ff9423c0418"
      },
      "source": [
        "# Check with actual state\n",
        "predicted_final_df = pd.concat([predicted_df, y_test[['state_cat']]], axis=1)\n",
        "predicted_final_df.tail()"
      ],
      "execution_count": 961,
      "outputs": [
        {
          "output_type": "execute_result",
          "data": {
            "text/html": [
              "<div>\n",
              "<style scoped>\n",
              "    .dataframe tbody tr th:only-of-type {\n",
              "        vertical-align: middle;\n",
              "    }\n",
              "\n",
              "    .dataframe tbody tr th {\n",
              "        vertical-align: top;\n",
              "    }\n",
              "\n",
              "    .dataframe thead th {\n",
              "        text-align: right;\n",
              "    }\n",
              "</style>\n",
              "<table border=\"1\" class=\"dataframe\">\n",
              "  <thead>\n",
              "    <tr style=\"text-align: right;\">\n",
              "      <th></th>\n",
              "      <th>predicted</th>\n",
              "      <th>predicted_state</th>\n",
              "      <th>state_cat</th>\n",
              "    </tr>\n",
              "  </thead>\n",
              "  <tbody>\n",
              "    <tr>\n",
              "      <th>611</th>\n",
              "      <td>1</td>\n",
              "      <td>isolated</td>\n",
              "      <td>2</td>\n",
              "    </tr>\n",
              "    <tr>\n",
              "      <th>612</th>\n",
              "      <td>0</td>\n",
              "      <td>deceased</td>\n",
              "      <td>1</td>\n",
              "    </tr>\n",
              "    <tr>\n",
              "      <th>613</th>\n",
              "      <td>2</td>\n",
              "      <td>released</td>\n",
              "      <td>2</td>\n",
              "    </tr>\n",
              "    <tr>\n",
              "      <th>614</th>\n",
              "      <td>1</td>\n",
              "      <td>isolated</td>\n",
              "      <td>1</td>\n",
              "    </tr>\n",
              "    <tr>\n",
              "      <th>615</th>\n",
              "      <td>1</td>\n",
              "      <td>isolated</td>\n",
              "      <td>1</td>\n",
              "    </tr>\n",
              "  </tbody>\n",
              "</table>\n",
              "</div>"
            ],
            "text/plain": [
              "     predicted predicted_state  state_cat\n",
              "611          1        isolated          2\n",
              "612          0        deceased          1\n",
              "613          2        released          2\n",
              "614          1        isolated          1\n",
              "615          1        isolated          1"
            ]
          },
          "metadata": {
            "tags": []
          },
          "execution_count": 961
        }
      ]
    },
    {
      "cell_type": "code",
      "metadata": {
        "id": "1u9ycwF9Eh6O"
      },
      "source": [
        "# \n",
        "predicted_final_df['state'] = predicted_final_df['state_cat'].map(mapped_states)"
      ],
      "execution_count": 962,
      "outputs": []
    },
    {
      "cell_type": "code",
      "metadata": {
        "colab": {
          "base_uri": "https://localhost:8080/",
          "height": 204
        },
        "id": "gG0G_KmgEu0A",
        "outputId": "90325345-c688-4dfe-8ab6-ec270a0a7f28"
      },
      "source": [
        "# Check predicted_final_df\n",
        "predicted_final_df.tail()"
      ],
      "execution_count": 963,
      "outputs": [
        {
          "output_type": "execute_result",
          "data": {
            "text/html": [
              "<div>\n",
              "<style scoped>\n",
              "    .dataframe tbody tr th:only-of-type {\n",
              "        vertical-align: middle;\n",
              "    }\n",
              "\n",
              "    .dataframe tbody tr th {\n",
              "        vertical-align: top;\n",
              "    }\n",
              "\n",
              "    .dataframe thead th {\n",
              "        text-align: right;\n",
              "    }\n",
              "</style>\n",
              "<table border=\"1\" class=\"dataframe\">\n",
              "  <thead>\n",
              "    <tr style=\"text-align: right;\">\n",
              "      <th></th>\n",
              "      <th>predicted</th>\n",
              "      <th>predicted_state</th>\n",
              "      <th>state_cat</th>\n",
              "      <th>state</th>\n",
              "    </tr>\n",
              "  </thead>\n",
              "  <tbody>\n",
              "    <tr>\n",
              "      <th>611</th>\n",
              "      <td>1</td>\n",
              "      <td>isolated</td>\n",
              "      <td>2</td>\n",
              "      <td>released</td>\n",
              "    </tr>\n",
              "    <tr>\n",
              "      <th>612</th>\n",
              "      <td>0</td>\n",
              "      <td>deceased</td>\n",
              "      <td>1</td>\n",
              "      <td>isolated</td>\n",
              "    </tr>\n",
              "    <tr>\n",
              "      <th>613</th>\n",
              "      <td>2</td>\n",
              "      <td>released</td>\n",
              "      <td>2</td>\n",
              "      <td>released</td>\n",
              "    </tr>\n",
              "    <tr>\n",
              "      <th>614</th>\n",
              "      <td>1</td>\n",
              "      <td>isolated</td>\n",
              "      <td>1</td>\n",
              "      <td>isolated</td>\n",
              "    </tr>\n",
              "    <tr>\n",
              "      <th>615</th>\n",
              "      <td>1</td>\n",
              "      <td>isolated</td>\n",
              "      <td>1</td>\n",
              "      <td>isolated</td>\n",
              "    </tr>\n",
              "  </tbody>\n",
              "</table>\n",
              "</div>"
            ],
            "text/plain": [
              "     predicted predicted_state  state_cat     state\n",
              "611          1        isolated          2  released\n",
              "612          0        deceased          1  isolated\n",
              "613          2        released          2  released\n",
              "614          1        isolated          1  isolated\n",
              "615          1        isolated          1  isolated"
            ]
          },
          "metadata": {
            "tags": []
          },
          "execution_count": 963
        }
      ]
    },
    {
      "cell_type": "code",
      "metadata": {
        "colab": {
          "base_uri": "https://localhost:8080/",
          "height": 142
        },
        "id": "dI0XfKsL-p51",
        "outputId": "482075a5-3a51-4bd7-c085-5c9090f2ad81"
      },
      "source": [
        "# Count values\n",
        "predicted_counts = pd.DataFrame(predicted_final_df.state.value_counts())\n",
        "predicted_counts['predicted'] = predicted_final_df.predicted_state.value_counts()\n",
        "\n",
        "predicted_counts"
      ],
      "execution_count": 964,
      "outputs": [
        {
          "output_type": "execute_result",
          "data": {
            "text/html": [
              "<div>\n",
              "<style scoped>\n",
              "    .dataframe tbody tr th:only-of-type {\n",
              "        vertical-align: middle;\n",
              "    }\n",
              "\n",
              "    .dataframe tbody tr th {\n",
              "        vertical-align: top;\n",
              "    }\n",
              "\n",
              "    .dataframe thead th {\n",
              "        text-align: right;\n",
              "    }\n",
              "</style>\n",
              "<table border=\"1\" class=\"dataframe\">\n",
              "  <thead>\n",
              "    <tr style=\"text-align: right;\">\n",
              "      <th></th>\n",
              "      <th>state</th>\n",
              "      <th>predicted</th>\n",
              "    </tr>\n",
              "  </thead>\n",
              "  <tbody>\n",
              "    <tr>\n",
              "      <th>released</th>\n",
              "      <td>374</td>\n",
              "      <td>108</td>\n",
              "    </tr>\n",
              "    <tr>\n",
              "      <th>isolated</th>\n",
              "      <td>235</td>\n",
              "      <td>443</td>\n",
              "    </tr>\n",
              "    <tr>\n",
              "      <th>deceased</th>\n",
              "      <td>7</td>\n",
              "      <td>65</td>\n",
              "    </tr>\n",
              "  </tbody>\n",
              "</table>\n",
              "</div>"
            ],
            "text/plain": [
              "          state  predicted\n",
              "released    374        108\n",
              "isolated    235        443\n",
              "deceased      7         65"
            ]
          },
          "metadata": {
            "tags": []
          },
          "execution_count": 964
        }
      ]
    },
    {
      "cell_type": "code",
      "metadata": {
        "colab": {
          "base_uri": "https://localhost:8080/",
          "height": 268
        },
        "id": "lIcX3zQT-jFp",
        "outputId": "ee9f8383-e88a-42e5-b8d5-6143e0fe936d"
      },
      "source": [
        "# Categorical data: Country names\n",
        "countries = ['released', 'isolated', 'deceased']\n",
        "# Integer value interms of death counts\n",
        "actual = [374, 235, 7]\n",
        "predicted = [108, 443, 65]\n",
        "# Passing the parameters to the bar function, this is the main function which creates the bar plot\n",
        "plt.bar(countries, actual)\n",
        "# Displaying the bar plot\n",
        "plt.show()"
      ],
      "execution_count": 965,
      "outputs": [
        {
          "output_type": "display_data",
          "data": {
            "image/png": "[encoded data removed]",
            "text/plain": [
              "<Figure size 432x288 with 1 Axes>"
            ]
          },
          "metadata": {
            "tags": []
          }
        }
      ]
    },
    {
      "cell_type": "code",
      "metadata": {
        "colab": {
          "base_uri": "https://localhost:8080/",
          "height": 627
        },
        "id": "wodLXr1JH9ow",
        "outputId": "ab69da94-0df5-4562-c41a-7f274b579828"
      },
      "source": [
        "# Declaring the figure or the plot (y, x) or (width, height)\n",
        "plt.figure(figsize=[15, 10])\n",
        "\n",
        "# Using numpy to group 3 different data with bars\n",
        "X = np.arange(len(actual))\n",
        "# Passing the parameters to the bar function, this is the main function which creates the bar plot\n",
        "# Using X now to align the bars side by side\n",
        "plt.bar(X, actual, color = 'blue', width = 0.25)\n",
        "plt.bar(X + 0.25, predicted, color = 'orange', width = 0.25)\n",
        "\n",
        "# Creating the legend of the bars in the plot\n",
        "plt.legend(['Total actual', 'Total predicted'])\n",
        "# Overiding the x axis with the country names\n",
        "plt.xticks([i + 0.25 for i in range(3)], countries)\n",
        "# Giving the tilte for the plot\n",
        "plt.title(\"Bar plot representing the total predicted and total actual cases state wise\")\n",
        "# Namimg the x and y axis\n",
        "plt.xlabel('States')\n",
        "plt.ylabel('Cases')\n",
        "# Displaying the bar plot\n",
        "plt.show()"
      ],
      "execution_count": 384,
      "outputs": [
        {
          "output_type": "display_data",
          "data": {
            "image/png": "[encoded data removed]",
            "text/plain": [
              "<Figure size 1080x720 with 1 Axes>"
            ]
          },
          "metadata": {
            "tags": []
          }
        }
      ]
    },
    {
      "cell_type": "markdown",
      "metadata": {
        "id": "9HY6vtzhqewk"
      },
      "source": [
        "#### correlation"
      ]
    },
    {
      "cell_type": "code",
      "metadata": {
        "colab": {
          "base_uri": "https://localhost:8080/",
          "height": 286
        },
        "id": "Kh30IlkiqhY3",
        "outputId": "6d9c1d00-e8b7-4eeb-c9bd-3d29f61bd891"
      },
      "source": [
        "sns.heatmap(data=x)"
      ],
      "execution_count": null,
      "outputs": [
        {
          "output_type": "execute_result",
          "data": {
            "text/plain": [
              "<matplotlib.axes._subplots.AxesSubplot at 0x7fe699dc64a8>"
            ]
          },
          "metadata": {
            "tags": []
          },
          "execution_count": 367
        },
        {
          "output_type": "display_data",
          "data": {
            "image/png": "[encoded data removed]",
            "text/plain": [
              "<Figure size 432x288 with 2 Axes>"
            ]
          },
          "metadata": {
            "tags": [],
            "needs_background": "light"
          }
        }
      ]
    }
  ]
}